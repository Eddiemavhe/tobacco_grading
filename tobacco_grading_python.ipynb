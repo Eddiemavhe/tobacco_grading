{
 "cells": [
  {
   "cell_type": "code",
   "execution_count": 1,
   "id": "26bcbc2f",
   "metadata": {},
   "outputs": [],
   "source": [
    "import os\n",
    "import hashlib\n",
    "from pathlib import Path\n",
    "import pandas as pd\n",
    "import numpy as np\n",
    "import fastparquet as fp\n",
    "import scipy.stats\n",
    "import cv2\n",
    "from PIL import Image\n",
    "import matplotlib.pyplot as plt\n",
    "from sklearn.preprocessing import MinMaxScaler, StandardScaler\n",
    "from sklearn.model_selection import train_test_split, StratifiedKFold, GridSearchCV\n",
    "from sklearn.decomposition import PCA\n",
    "from imblearn.over_sampling import SMOTE\n",
    "from sklearn.neighbors import KNeighborsClassifier\n",
    "from sklearn.metrics import classification_report, ConfusionMatrixDisplay, accuracy_score, confusion_matrix\n",
    "import tensorflow as tf\n",
    "from tensorflow.keras.applications import ResNet50, EfficientNetB3, MobileNetV2\n",
    "from tensorflow.keras.models import Model, Sequential\n",
    "from tensorflow.keras.layers import (GlobalAveragePooling2D, Dense, Dropout,\n",
    "                                     concatenate, Input, BatchNormalization,\n",
    "                                     Activation)\n",
    "from tensorflow.keras.applications.resnet50 import preprocess_input as resnet_preprocess\n",
    "from tensorflow.keras.applications.efficientnet import preprocess_input as efficientnet_preprocess\n",
    "from tensorflow.keras.applications.mobilenet_v2 import preprocess_input as mobilenet_preprocess\n",
    "from tensorflow.keras.optimizers import Adam\n",
    "from tensorflow.keras.callbacks import EarlyStopping, ReduceLROnPlateau\n",
    "from tensorflow.keras.utils import to_categorical\n",
    "import joblib\n",
    "from tqdm import tqdm\n",
    "from IPython.display import display, HTML, clear_output\n",
    "from ipywidgets import FloatProgress"
   ]
  },
  {
   "cell_type": "code",
   "execution_count": 2,
   "id": "9d974461",
   "metadata": {},
   "outputs": [],
   "source": [
    "PROJECT_ROOT = Path('tobacco_grading')\n",
    "\n",
    "PATHS = {\n",
    "    'raw': PROJECT_ROOT / 'data/raw',\n",
    "    'processed_images': PROJECT_ROOT / 'data/processed/images',\n",
    "    'processed_data': PROJECT_ROOT / 'data/processed',  # Added parent directory\n",
    "    'metadata': PROJECT_ROOT / 'data/processed/metadata.csv',\n",
    "    'features': PROJECT_ROOT / 'data/processed/full_features.parquet',\n",
    "    'processors': PROJECT_ROOT / 'model/processors.pkl',\n",
    "    'model': PROJECT_ROOT / 'model'\n",
    "}\n",
    "\n",
    "# Create directories for all path components\n",
    "for path in PATHS.values():\n",
    "    if isinstance(path, Path):\n",
    "        if path.suffix:  # It's a file path\n",
    "            path.parent.mkdir(parents=True, exist_ok=True)\n",
    "        else:  # It's a directory path\n",
    "            path.mkdir(parents=True, exist_ok=True)"
   ]
  },
  {
   "cell_type": "code",
   "execution_count": 3,
   "id": "d2bc1950",
   "metadata": {},
   "outputs": [],
   "source": [
    "def show_status(message, status_type='info'):\n",
    "    status_config = {\n",
    "        'info': {\n",
    "            'color': '#004085',\n",
    "            'bg_color': 'rgba(0, 64, 133, 0.1)',\n",
    "            'icon': 'ℹ️'\n",
    "        },\n",
    "        'success': {\n",
    "            'color': '#155724',\n",
    "            'bg_color': 'rgba(40, 167, 69, 0.1)',\n",
    "            'icon': '✅'\n",
    "        },\n",
    "        'warning': {\n",
    "            'color': '#856404',\n",
    "            'bg_color': 'rgba(255, 193, 7, 0.1)',\n",
    "            'icon': '⚠️'\n",
    "        },\n",
    "        'error': {\n",
    "            'color': '#721c24',\n",
    "            'bg_color': 'rgba(220, 53, 69, 0.1)',\n",
    "            'icon': '❌'\n",
    "        }\n",
    "    }\n",
    "\n",
    "    config = status_config.get(status_type.lower(), status_config['info'])\n",
    "    safe_message = HTML(message).data.replace('\\n', '<br>')\n",
    "\n",
    "    html = f\"\"\"\n",
    "    <div style=\"\n",
    "        border: 1px solid {config['color']};\n",
    "        background-color: {config['bg_color']};\n",
    "        color: {config['color']};\n",
    "        padding: 12px 18px;\n",
    "        margin: 10px 0;\n",
    "        border-radius: 5px;\n",
    "        font-family: sans-serif;\n",
    "        font-size: 14px;\n",
    "        animation: fadeIn 0.5s ease-out;\n",
    "        line-height: 1.6;\n",
    "    \">\n",
    "        <span style=\"font-weight: bold; margin-right: 8px;\">{config['icon']} {status_type.upper()}:</span>\n",
    "        {safe_message}\n",
    "    </div>\n",
    "    <style>\n",
    "        @keyframes fadeIn {{\n",
    "            from {{ opacity: 0; transform: translateY(-10px); }}\n",
    "            to {{ opacity: 1; transform: translateY(0); }}\n",
    "        }}\n",
    "    </style>\n",
    "    \"\"\"\n",
    "    display(HTML(html))"
   ]
  },
  {
   "cell_type": "code",
   "execution_count": 4,
   "id": "feb5238a",
   "metadata": {},
   "outputs": [],
   "source": [
    "def enhanced_process_images():\n",
    "    clear_output(wait=True)\n",
    "    show_status(\"Starting enhanced image processing...\", 'info')\n",
    "    try:\n",
    "        raw_path = Path(PATHS['raw'])\n",
    "        if not raw_path.exists():\n",
    "            show_status(f\"Raw data directory not found: {raw_path}\", 'error')\n",
    "            return\n",
    "\n",
    "        supported_formats = ('.png', '.jpg', '.jpeg', '.webp')\n",
    "        image_paths = [\n",
    "            p for p in raw_path.rglob('*')\n",
    "            if p.suffix.lower() in supported_formats and p.is_file()\n",
    "        ]\n",
    "\n",
    "        if not image_paths:\n",
    "            show_status('No valid images found in raw directory.', 'error')\n",
    "            return\n",
    "        show_status(f\"Found {len(image_paths)} images to process.\", 'info')\n",
    "\n",
    "        progress = FloatProgress(min=0, max=len(image_paths)+3, description='Initializing:', bar_style='info')\n",
    "        display(progress)\n",
    "\n",
    "        processed_paths = []\n",
    "        original_sizes = []\n",
    "        failure_count = 0\n",
    "\n",
    "        progress.description = 'Processing images...'\n",
    "        processing_params = {\n",
    "            'target_size': (512, 512),\n",
    "            'bilateral_filter': {'d': 9, 'sigma_color': 75, 'sigma_space': 75},\n",
    "            'clahe': {'clip_limit': 3.0, 'tile_grid_size': (8, 8)},\n",
    "            'quality': 95,\n",
    "            'denoise_strength': 10,\n",
    "        }\n",
    "\n",
    "        for path in image_paths:\n",
    "            try:\n",
    "                original_sizes.append(path.stat().st_size)\n",
    "\n",
    "                img = cv2.imread(str(path), cv2.IMREAD_UNCHANGED)\n",
    "                if img is None or img.size == 0:\n",
    "                    raise ValueError(\"Invalid or corrupted image file\")\n",
    "\n",
    "                if len(img.shape) == 2:\n",
    "                    img = cv2.cvtColor(img, cv2.COLOR_GRAY2RGB)\n",
    "                elif img.shape[2] == 4:\n",
    "                    img = cv2.cvtColor(img, cv2.COLOR_RGBA2RGB)\n",
    "                elif img.shape[2] == 3:\n",
    "                    img = cv2.cvtColor(img, cv2.COLOR_BGR2RGB)\n",
    "                else:\n",
    "                    raise ValueError(f\"Unsupported number of channels: {img.shape[2]}\")\n",
    "\n",
    "                img = cv2.fastNlMeansDenoisingColored(\n",
    "                    img, None,\n",
    "                    processing_params['denoise_strength'], processing_params['denoise_strength'],\n",
    "                    7, 21\n",
    "                )\n",
    "\n",
    "                img = cv2.resize(\n",
    "                    img, processing_params['target_size'], interpolation=cv2.INTER_LANCZOS4\n",
    "                )\n",
    "\n",
    "                img = cv2.bilateralFilter(\n",
    "                    img,\n",
    "                    processing_params['bilateral_filter']['d'],\n",
    "                    processing_params['bilateral_filter']['sigma_color'],\n",
    "                    processing_params['bilateral_filter']['sigma_space']\n",
    "                )\n",
    "\n",
    "                lab = cv2.cvtColor(img, cv2.COLOR_RGB2LAB)\n",
    "                l, a, b = cv2.split(lab)\n",
    "                clahe = cv2.createCLAHE(\n",
    "                    clipLimit=processing_params['clahe']['clip_limit'],\n",
    "                    tileGridSize=processing_params['clahe']['tile_grid_size']\n",
    "                )\n",
    "                l = clahe.apply(l)\n",
    "                lab = cv2.merge((l, a, b))\n",
    "                img = cv2.cvtColor(lab, cv2.COLOR_LAB2RGB)\n",
    "\n",
    "                kernel = np.array([[-1, -1, -1],\n",
    "                                   [-1,  9, -1],\n",
    "                                   [-1, -1, -1]])\n",
    "                img = cv2.filter2D(img, -1, kernel)\n",
    "\n",
    "                rel_path = path.relative_to(raw_path)\n",
    "                dest_path = Path(PATHS['processed']) / rel_path\n",
    "                dest_path.parent.mkdir(parents=True, exist_ok=True)\n",
    "\n",
    "                cv2.imwrite(\n",
    "                    str(dest_path),\n",
    "                    cv2.cvtColor(img, cv2.COLOR_RGB2BGR),\n",
    "                    [int(cv2.IMWRITE_JPEG_QUALITY), processing_params['quality']]\n",
    "                )\n",
    "\n",
    "                processed_paths.append(str(dest_path))\n",
    "\n",
    "            except Exception as e:\n",
    "                failure_count += 1\n",
    "                show_status(f\"Skipped {path.name}: {str(e)}\", 'warning')\n",
    "                processed_paths.append(None)\n",
    "\n",
    "            progress.value += 1\n",
    "\n",
    "        progress.description = 'Creating metadata...'\n",
    "        metadata = pd.DataFrame({\n",
    "            'original_path': [str(p) for p in image_paths],\n",
    "            'processed_path': processed_paths,\n",
    "            'label': [p.parent.name for p in image_paths],\n",
    "            'original_size': original_sizes\n",
    "        })\n",
    "        metadata['processing_success'] = metadata['processed_path'].notnull()\n",
    "\n",
    "        valid_metadata = metadata.dropna(subset=['processed_path']).reset_index(drop=True)\n",
    "        if valid_metadata.empty:\n",
    "            show_status('No images were processed successfully. Cannot create metadata.', 'error')\n",
    "            return\n",
    "\n",
    "        progress.description = 'Calculating statistics...'\n",
    "        def get_image_stats(img_path_str):\n",
    "            try:\n",
    "                img_path = Path(img_path_str)\n",
    "                img = cv2.imread(img_path_str)\n",
    "                if img is None: return None\n",
    "                img = cv2.cvtColor(img, cv2.COLOR_BGR2RGB)\n",
    "\n",
    "                mean_rgb = np.mean(img, axis=(0, 1))\n",
    "                std_rgb = np.std(img, axis=(0, 1))\n",
    "\n",
    "                hsv = cv2.cvtColor(img, cv2.COLOR_RGB2HSV)\n",
    "                mean_hsv = np.mean(hsv, axis=(0, 1))\n",
    "\n",
    "                gray = cv2.cvtColor(img, cv2.COLOR_RGB2GRAY)\n",
    "                hist = cv2.calcHist([gray], [0], None, [256], [0, 256])\n",
    "                hist = hist / hist.sum()\n",
    "                entropy = -np.sum(hist * np.log2(hist + 1e-7))\n",
    "\n",
    "                return {\n",
    "                    'mean_r': mean_rgb[0], 'mean_g': mean_rgb[1], 'mean_b': mean_rgb[2],\n",
    "                    'std_r': std_rgb[0], 'std_g': std_rgb[1], 'std_b': std_rgb[2],\n",
    "                    'mean_hue': mean_hsv[0], 'mean_saturation': mean_hsv[1], 'mean_value': mean_hsv[2],\n",
    "                    'entropy': entropy,\n",
    "                    'processed_size': img_path.stat().st_size\n",
    "                }\n",
    "            except Exception as e:\n",
    "                return None\n",
    "\n",
    "        stats_list = [get_image_stats(p) for p in tqdm(valid_metadata['processed_path'], desc=\"Calculating image statistics\")]\n",
    "        stats_df = pd.DataFrame([s if s is not None else {} for s in stats_list])\n",
    "\n",
    "        valid_metadata = pd.concat([valid_metadata, stats_df], axis=1)\n",
    "        progress.value += 1\n",
    "\n",
    "        progress.description = 'Generating checksums...'\n",
    "        def calculate_checksum(p_str):\n",
    "            if pd.isna(p_str): return ''\n",
    "            try:\n",
    "                return hashlib.md5(Path(p_str).read_bytes()).hexdigest()\n",
    "            except FileNotFoundError:\n",
    "                return ''\n",
    "            except Exception:\n",
    "                return ''\n",
    "\n",
    "        valid_metadata['checksum'] = [calculate_checksum(p) for p in valid_metadata['processed_path']]\n",
    "        progress.value += 1\n",
    "\n",
    "        metadata_path = PATHS['metadata']\n",
    "        valid_metadata.to_csv(metadata_path, index=False)\n",
    "        show_status(f\"Metadata saved to {metadata_path}\", 'success')\n",
    "\n",
    "        clear_output(wait=True)\n",
    "        success_count = len(valid_metadata)\n",
    "        total_count = len(image_paths)\n",
    "        success_rate = success_count / total_count * 100 if total_count > 0 else 0\n",
    "        total_orig_size = sum(metadata['original_size'])\n",
    "        total_proc_size = valid_metadata['processed_size'].sum()\n",
    "        compression_ratio = total_proc_size / total_orig_size if total_orig_size > 0 else 0\n",
    "\n",
    "        summary = f\"\"\"\n",
    "        Processed {success_count}/{total_count} images successfully ({success_rate:.1f}%)\n",
    "        - Failures: {failure_count}\n",
    "        - Input size (Original): {total_orig_size / 1e6:.2f} MB\n",
    "        - Output size (Processed): {total_proc_size / 1e6:.2f} MB\n",
    "        - Effective Compression Ratio: {compression_ratio:.2f} (Processed/Original)\n",
    "        - Average Entropy: {valid_metadata['entropy'].mean():.2f} (Image Complexity)\n",
    "        - Color analysis completed with {valid_metadata.filter(like='mean_').shape[1]} metrics\n",
    "        - Checksums generated for processed files.\n",
    "        \"\"\"\n",
    "        show_status(summary, 'success')\n",
    "\n",
    "        if success_count > 0:\n",
    "            display(HTML(\"<h2>Enhanced Processing Report</h2>\"))\n",
    "\n",
    "            label_counts = valid_metadata['label'].value_counts()\n",
    "            num_labels_to_show = min(3, len(label_counts))\n",
    "            if num_labels_to_show > 0:\n",
    "                most_common_labels = label_counts.nlargest(num_labels_to_show).index\n",
    "                samples = pd.concat([\n",
    "                    valid_metadata[valid_metadata['label'] == label].sample(1, random_state=42)\n",
    "                    for label in most_common_labels if not valid_metadata[valid_metadata['label'] == label].empty\n",
    "                ])\n",
    "\n",
    "                if not samples.empty:\n",
    "                    fig, axes = plt.subplots(2, len(samples), figsize=(6 * len(samples), 10))\n",
    "                    if len(samples) == 1: axes = np.array([[axes[0]],[axes[1]]])\n",
    "\n",
    "                    for idx, (_, row) in enumerate(samples.iterrows()):\n",
    "                        try:\n",
    "                            orig_img = Image.open(row['original_path'])\n",
    "                            axes[0, idx].imshow(orig_img)\n",
    "                            axes[0, idx].set_title(f\"Original: {row['label']}\\n{Path(row['original_path']).name}\", fontsize=10)\n",
    "                        except FileNotFoundError:\n",
    "                            axes[0, idx].set_title(f\"Original: {row['label']}\\n(File not found)\", fontsize=10)\n",
    "                        except Exception as img_e:\n",
    "                            axes[0, idx].set_title(f\"Original: {row['label']}\\n(Error loading)\", fontsize=10)\n",
    "\n",
    "                        try:\n",
    "                            proc_img = Image.open(row['processed_path'])\n",
    "                            axes[1, idx].imshow(proc_img)\n",
    "                            axes[1, idx].set_title(\n",
    "                                f\"Processed: {row['processed_size']/1e3:.1f} KB | Entropy: {row['entropy']:.2f}\\n{Path(row['processed_path']).name}\",\n",
    "                                fontsize=10\n",
    "                            )\n",
    "                        except FileNotFoundError:\n",
    "                            axes[1, idx].set_title(f\"Processed:\\n(File not found)\", fontsize=10)\n",
    "                        except Exception as img_e:\n",
    "                            axes[1, idx].set_title(f\"Processed:\\n(Error loading)\", fontsize=10)\n",
    "\n",
    "                        for ax_row in range(2):\n",
    "                            axes[ax_row, idx].axis('off')\n",
    "\n",
    "                    plt.tight_layout(rect=[0, 0.03, 1, 0.95])\n",
    "                    fig.suptitle(\"Image Quality Comparison (Sample)\", fontsize=16)\n",
    "                    plt.show()\n",
    "\n",
    "            fig, axes = plt.subplots(2, 2, figsize=(16, 12))\n",
    "            fig.suptitle(\"Data Distribution Analysis\", fontsize=16)\n",
    "\n",
    "            axes[0, 0].hist(valid_metadata['original_size']/1e3, alpha=0.6, label='Original Size (Success only)', bins=30, color='blue')\n",
    "            axes[0, 0].hist(valid_metadata['processed_size']/1e3, alpha=0.6, label='Processed Size', bins=30, color='green')\n",
    "            axes[0, 0].set_xlabel('File Size (KB)')\n",
    "            axes[0, 0].set_ylabel('Count')\n",
    "            axes[0, 0].set_title('File Size Distribution')\n",
    "            axes[0, 0].legend()\n",
    "            axes[0, 0].ticklabel_format(style='sci', axis='x', scilimits=(0,0))\n",
    "\n",
    "            valid_metadata['label'].value_counts().plot(kind='bar', ax=axes[0, 1], color='skyblue')\n",
    "            axes[0, 1].set_title('Class Distribution (Processed Images)')\n",
    "            axes[0, 1].set_xlabel('Label')\n",
    "            axes[0, 1].set_ylabel('Count')\n",
    "            plt.setp(axes[0, 1].get_xticklabels(), rotation=45, ha=\"right\")\n",
    "\n",
    "            top_classes = valid_metadata['label'].value_counts().nlargest(5).index\n",
    "            colors = plt.cm.viridis(np.linspace(0, 1, len(top_classes)))\n",
    "            for i, label in enumerate(top_classes):\n",
    "                class_data = valid_metadata[valid_metadata['label'] == label]\n",
    "                axes[1, 0].scatter(\n",
    "                    class_data['mean_r'], class_data['mean_g'],\n",
    "                    label=label, alpha=0.7, color=colors[i]\n",
    "                )\n",
    "            axes[1, 0].set_title('Mean Red vs Green by Top 5 Classes')\n",
    "            axes[1, 0].set_xlabel('Mean Red Value')\n",
    "            axes[1, 0].set_ylabel('Mean Green Value')\n",
    "            axes[1, 0].legend()\n",
    "\n",
    "            entropy_by_class = [valid_metadata[valid_metadata['label'] == label]['entropy'].dropna() for label in top_classes]\n",
    "            axes[1, 1].boxplot(entropy_by_class, labels=top_classes)\n",
    "            axes[1, 1].set_title('Image Entropy by Top 5 Classes')\n",
    "            axes[1, 1].set_ylabel('Entropy (Complexity)')\n",
    "            plt.setp(axes[1, 1].get_xticklabels(), rotation=45, ha=\"right\")\n",
    "\n",
    "            plt.tight_layout(rect=[0, 0.03, 1, 0.95])\n",
    "            plt.show()\n",
    "\n",
    "    except Exception as e:\n",
    "        show_status(f'Critical processing failure: {str(e)}', 'error')"
   ]
  },
  {
   "cell_type": "code",
   "execution_count": 5,
   "id": "57b01757",
   "metadata": {},
   "outputs": [
    {
     "data": {
      "text/html": [
       "\n",
       "    <div style=\"\n",
       "        border: 1px solid #004085;\n",
       "        background-color: rgba(0, 64, 133, 0.1);\n",
       "        color: #004085;\n",
       "        padding: 12px 18px;\n",
       "        margin: 10px 0;\n",
       "        border-radius: 5px;\n",
       "        font-family: sans-serif;\n",
       "        font-size: 14px;\n",
       "        animation: fadeIn 0.5s ease-out;\n",
       "        line-height: 1.6;\n",
       "    \">\n",
       "        <span style=\"font-weight: bold; margin-right: 8px;\">ℹ️ INFO:</span>\n",
       "        Starting enhanced image processing...\n",
       "    </div>\n",
       "    <style>\n",
       "        @keyframes fadeIn {\n",
       "            from { opacity: 0; transform: translateY(-10px); }\n",
       "            to { opacity: 1; transform: translateY(0); }\n",
       "        }\n",
       "    </style>\n",
       "    "
      ],
      "text/plain": [
       "<IPython.core.display.HTML object>"
      ]
     },
     "metadata": {},
     "output_type": "display_data"
    },
    {
     "data": {
      "text/html": [
       "\n",
       "    <div style=\"\n",
       "        border: 1px solid #004085;\n",
       "        background-color: rgba(0, 64, 133, 0.1);\n",
       "        color: #004085;\n",
       "        padding: 12px 18px;\n",
       "        margin: 10px 0;\n",
       "        border-radius: 5px;\n",
       "        font-family: sans-serif;\n",
       "        font-size: 14px;\n",
       "        animation: fadeIn 0.5s ease-out;\n",
       "        line-height: 1.6;\n",
       "    \">\n",
       "        <span style=\"font-weight: bold; margin-right: 8px;\">ℹ️ INFO:</span>\n",
       "        Found 4226 images to process.\n",
       "    </div>\n",
       "    <style>\n",
       "        @keyframes fadeIn {\n",
       "            from { opacity: 0; transform: translateY(-10px); }\n",
       "            to { opacity: 1; transform: translateY(0); }\n",
       "        }\n",
       "    </style>\n",
       "    "
      ],
      "text/plain": [
       "<IPython.core.display.HTML object>"
      ]
     },
     "metadata": {},
     "output_type": "display_data"
    },
    {
     "data": {
      "application/vnd.jupyter.widget-view+json": {
       "model_id": "40eaae3b46c7484e81a8b5ae0e775ec0",
       "version_major": 2,
       "version_minor": 0
      },
      "text/plain": [
       "FloatProgress(value=0.0, bar_style='info', description='Initializing:', max=4229.0)"
      ]
     },
     "metadata": {},
     "output_type": "display_data"
    },
    {
     "data": {
      "text/html": [
       "\n",
       "    <div style=\"\n",
       "        border: 1px solid #856404;\n",
       "        background-color: rgba(255, 193, 7, 0.1);\n",
       "        color: #856404;\n",
       "        padding: 12px 18px;\n",
       "        margin: 10px 0;\n",
       "        border-radius: 5px;\n",
       "        font-family: sans-serif;\n",
       "        font-size: 14px;\n",
       "        animation: fadeIn 0.5s ease-out;\n",
       "        line-height: 1.6;\n",
       "    \">\n",
       "        <span style=\"font-weight: bold; margin-right: 8px;\">⚠️ WARNING:</span>\n",
       "        Skipped kaliua_1.jpg: 'processed'\n",
       "    </div>\n",
       "    <style>\n",
       "        @keyframes fadeIn {\n",
       "            from { opacity: 0; transform: translateY(-10px); }\n",
       "            to { opacity: 1; transform: translateY(0); }\n",
       "        }\n",
       "    </style>\n",
       "    "
      ],
      "text/plain": [
       "<IPython.core.display.HTML object>"
      ]
     },
     "metadata": {},
     "output_type": "display_data"
    },
    {
     "data": {
      "text/html": [
       "\n",
       "    <div style=\"\n",
       "        border: 1px solid #856404;\n",
       "        background-color: rgba(255, 193, 7, 0.1);\n",
       "        color: #856404;\n",
       "        padding: 12px 18px;\n",
       "        margin: 10px 0;\n",
       "        border-radius: 5px;\n",
       "        font-family: sans-serif;\n",
       "        font-size: 14px;\n",
       "        animation: fadeIn 0.5s ease-out;\n",
       "        line-height: 1.6;\n",
       "    \">\n",
       "        <span style=\"font-weight: bold; margin-right: 8px;\">⚠️ WARNING:</span>\n",
       "        Skipped kaliua_10.jpg: 'processed'\n",
       "    </div>\n",
       "    <style>\n",
       "        @keyframes fadeIn {\n",
       "            from { opacity: 0; transform: translateY(-10px); }\n",
       "            to { opacity: 1; transform: translateY(0); }\n",
       "        }\n",
       "    </style>\n",
       "    "
      ],
      "text/plain": [
       "<IPython.core.display.HTML object>"
      ]
     },
     "metadata": {},
     "output_type": "display_data"
    },
    {
     "data": {
      "text/html": [
       "\n",
       "    <div style=\"\n",
       "        border: 1px solid #856404;\n",
       "        background-color: rgba(255, 193, 7, 0.1);\n",
       "        color: #856404;\n",
       "        padding: 12px 18px;\n",
       "        margin: 10px 0;\n",
       "        border-radius: 5px;\n",
       "        font-family: sans-serif;\n",
       "        font-size: 14px;\n",
       "        animation: fadeIn 0.5s ease-out;\n",
       "        line-height: 1.6;\n",
       "    \">\n",
       "        <span style=\"font-weight: bold; margin-right: 8px;\">⚠️ WARNING:</span>\n",
       "        Skipped kaliua_100.jpg: 'processed'\n",
       "    </div>\n",
       "    <style>\n",
       "        @keyframes fadeIn {\n",
       "            from { opacity: 0; transform: translateY(-10px); }\n",
       "            to { opacity: 1; transform: translateY(0); }\n",
       "        }\n",
       "    </style>\n",
       "    "
      ],
      "text/plain": [
       "<IPython.core.display.HTML object>"
      ]
     },
     "metadata": {},
     "output_type": "display_data"
    },
    {
     "data": {
      "text/html": [
       "\n",
       "    <div style=\"\n",
       "        border: 1px solid #856404;\n",
       "        background-color: rgba(255, 193, 7, 0.1);\n",
       "        color: #856404;\n",
       "        padding: 12px 18px;\n",
       "        margin: 10px 0;\n",
       "        border-radius: 5px;\n",
       "        font-family: sans-serif;\n",
       "        font-size: 14px;\n",
       "        animation: fadeIn 0.5s ease-out;\n",
       "        line-height: 1.6;\n",
       "    \">\n",
       "        <span style=\"font-weight: bold; margin-right: 8px;\">⚠️ WARNING:</span>\n",
       "        Skipped kaliua_101.jpg: 'processed'\n",
       "    </div>\n",
       "    <style>\n",
       "        @keyframes fadeIn {\n",
       "            from { opacity: 0; transform: translateY(-10px); }\n",
       "            to { opacity: 1; transform: translateY(0); }\n",
       "        }\n",
       "    </style>\n",
       "    "
      ],
      "text/plain": [
       "<IPython.core.display.HTML object>"
      ]
     },
     "metadata": {},
     "output_type": "display_data"
    },
    {
     "data": {
      "text/html": [
       "\n",
       "    <div style=\"\n",
       "        border: 1px solid #856404;\n",
       "        background-color: rgba(255, 193, 7, 0.1);\n",
       "        color: #856404;\n",
       "        padding: 12px 18px;\n",
       "        margin: 10px 0;\n",
       "        border-radius: 5px;\n",
       "        font-family: sans-serif;\n",
       "        font-size: 14px;\n",
       "        animation: fadeIn 0.5s ease-out;\n",
       "        line-height: 1.6;\n",
       "    \">\n",
       "        <span style=\"font-weight: bold; margin-right: 8px;\">⚠️ WARNING:</span>\n",
       "        Skipped kaliua_102.jpg: 'processed'\n",
       "    </div>\n",
       "    <style>\n",
       "        @keyframes fadeIn {\n",
       "            from { opacity: 0; transform: translateY(-10px); }\n",
       "            to { opacity: 1; transform: translateY(0); }\n",
       "        }\n",
       "    </style>\n",
       "    "
      ],
      "text/plain": [
       "<IPython.core.display.HTML object>"
      ]
     },
     "metadata": {},
     "output_type": "display_data"
    },
    {
     "data": {
      "text/html": [
       "\n",
       "    <div style=\"\n",
       "        border: 1px solid #856404;\n",
       "        background-color: rgba(255, 193, 7, 0.1);\n",
       "        color: #856404;\n",
       "        padding: 12px 18px;\n",
       "        margin: 10px 0;\n",
       "        border-radius: 5px;\n",
       "        font-family: sans-serif;\n",
       "        font-size: 14px;\n",
       "        animation: fadeIn 0.5s ease-out;\n",
       "        line-height: 1.6;\n",
       "    \">\n",
       "        <span style=\"font-weight: bold; margin-right: 8px;\">⚠️ WARNING:</span>\n",
       "        Skipped kaliua_103.jpg: 'processed'\n",
       "    </div>\n",
       "    <style>\n",
       "        @keyframes fadeIn {\n",
       "            from { opacity: 0; transform: translateY(-10px); }\n",
       "            to { opacity: 1; transform: translateY(0); }\n",
       "        }\n",
       "    </style>\n",
       "    "
      ],
      "text/plain": [
       "<IPython.core.display.HTML object>"
      ]
     },
     "metadata": {},
     "output_type": "display_data"
    },
    {
     "data": {
      "text/html": [
       "\n",
       "    <div style=\"\n",
       "        border: 1px solid #856404;\n",
       "        background-color: rgba(255, 193, 7, 0.1);\n",
       "        color: #856404;\n",
       "        padding: 12px 18px;\n",
       "        margin: 10px 0;\n",
       "        border-radius: 5px;\n",
       "        font-family: sans-serif;\n",
       "        font-size: 14px;\n",
       "        animation: fadeIn 0.5s ease-out;\n",
       "        line-height: 1.6;\n",
       "    \">\n",
       "        <span style=\"font-weight: bold; margin-right: 8px;\">⚠️ WARNING:</span>\n",
       "        Skipped kaliua_104.jpg: 'processed'\n",
       "    </div>\n",
       "    <style>\n",
       "        @keyframes fadeIn {\n",
       "            from { opacity: 0; transform: translateY(-10px); }\n",
       "            to { opacity: 1; transform: translateY(0); }\n",
       "        }\n",
       "    </style>\n",
       "    "
      ],
      "text/plain": [
       "<IPython.core.display.HTML object>"
      ]
     },
     "metadata": {},
     "output_type": "display_data"
    },
    {
     "data": {
      "text/html": [
       "\n",
       "    <div style=\"\n",
       "        border: 1px solid #856404;\n",
       "        background-color: rgba(255, 193, 7, 0.1);\n",
       "        color: #856404;\n",
       "        padding: 12px 18px;\n",
       "        margin: 10px 0;\n",
       "        border-radius: 5px;\n",
       "        font-family: sans-serif;\n",
       "        font-size: 14px;\n",
       "        animation: fadeIn 0.5s ease-out;\n",
       "        line-height: 1.6;\n",
       "    \">\n",
       "        <span style=\"font-weight: bold; margin-right: 8px;\">⚠️ WARNING:</span>\n",
       "        Skipped kaliua_10471.jpg: 'processed'\n",
       "    </div>\n",
       "    <style>\n",
       "        @keyframes fadeIn {\n",
       "            from { opacity: 0; transform: translateY(-10px); }\n",
       "            to { opacity: 1; transform: translateY(0); }\n",
       "        }\n",
       "    </style>\n",
       "    "
      ],
      "text/plain": [
       "<IPython.core.display.HTML object>"
      ]
     },
     "metadata": {},
     "output_type": "display_data"
    },
    {
     "data": {
      "text/html": [
       "\n",
       "    <div style=\"\n",
       "        border: 1px solid #856404;\n",
       "        background-color: rgba(255, 193, 7, 0.1);\n",
       "        color: #856404;\n",
       "        padding: 12px 18px;\n",
       "        margin: 10px 0;\n",
       "        border-radius: 5px;\n",
       "        font-family: sans-serif;\n",
       "        font-size: 14px;\n",
       "        animation: fadeIn 0.5s ease-out;\n",
       "        line-height: 1.6;\n",
       "    \">\n",
       "        <span style=\"font-weight: bold; margin-right: 8px;\">⚠️ WARNING:</span>\n",
       "        Skipped kaliua_10472.jpg: 'processed'\n",
       "    </div>\n",
       "    <style>\n",
       "        @keyframes fadeIn {\n",
       "            from { opacity: 0; transform: translateY(-10px); }\n",
       "            to { opacity: 1; transform: translateY(0); }\n",
       "        }\n",
       "    </style>\n",
       "    "
      ],
      "text/plain": [
       "<IPython.core.display.HTML object>"
      ]
     },
     "metadata": {},
     "output_type": "display_data"
    },
    {
     "data": {
      "text/html": [
       "\n",
       "    <div style=\"\n",
       "        border: 1px solid #856404;\n",
       "        background-color: rgba(255, 193, 7, 0.1);\n",
       "        color: #856404;\n",
       "        padding: 12px 18px;\n",
       "        margin: 10px 0;\n",
       "        border-radius: 5px;\n",
       "        font-family: sans-serif;\n",
       "        font-size: 14px;\n",
       "        animation: fadeIn 0.5s ease-out;\n",
       "        line-height: 1.6;\n",
       "    \">\n",
       "        <span style=\"font-weight: bold; margin-right: 8px;\">⚠️ WARNING:</span>\n",
       "        Skipped kaliua_10473.jpg: 'processed'\n",
       "    </div>\n",
       "    <style>\n",
       "        @keyframes fadeIn {\n",
       "            from { opacity: 0; transform: translateY(-10px); }\n",
       "            to { opacity: 1; transform: translateY(0); }\n",
       "        }\n",
       "    </style>\n",
       "    "
      ],
      "text/plain": [
       "<IPython.core.display.HTML object>"
      ]
     },
     "metadata": {},
     "output_type": "display_data"
    },
    {
     "data": {
      "text/html": [
       "\n",
       "    <div style=\"\n",
       "        border: 1px solid #856404;\n",
       "        background-color: rgba(255, 193, 7, 0.1);\n",
       "        color: #856404;\n",
       "        padding: 12px 18px;\n",
       "        margin: 10px 0;\n",
       "        border-radius: 5px;\n",
       "        font-family: sans-serif;\n",
       "        font-size: 14px;\n",
       "        animation: fadeIn 0.5s ease-out;\n",
       "        line-height: 1.6;\n",
       "    \">\n",
       "        <span style=\"font-weight: bold; margin-right: 8px;\">⚠️ WARNING:</span>\n",
       "        Skipped kaliua_10474.jpg: 'processed'\n",
       "    </div>\n",
       "    <style>\n",
       "        @keyframes fadeIn {\n",
       "            from { opacity: 0; transform: translateY(-10px); }\n",
       "            to { opacity: 1; transform: translateY(0); }\n",
       "        }\n",
       "    </style>\n",
       "    "
      ],
      "text/plain": [
       "<IPython.core.display.HTML object>"
      ]
     },
     "metadata": {},
     "output_type": "display_data"
    },
    {
     "data": {
      "text/html": [
       "\n",
       "    <div style=\"\n",
       "        border: 1px solid #856404;\n",
       "        background-color: rgba(255, 193, 7, 0.1);\n",
       "        color: #856404;\n",
       "        padding: 12px 18px;\n",
       "        margin: 10px 0;\n",
       "        border-radius: 5px;\n",
       "        font-family: sans-serif;\n",
       "        font-size: 14px;\n",
       "        animation: fadeIn 0.5s ease-out;\n",
       "        line-height: 1.6;\n",
       "    \">\n",
       "        <span style=\"font-weight: bold; margin-right: 8px;\">⚠️ WARNING:</span>\n",
       "        Skipped kaliua_10475.jpg: 'processed'\n",
       "    </div>\n",
       "    <style>\n",
       "        @keyframes fadeIn {\n",
       "            from { opacity: 0; transform: translateY(-10px); }\n",
       "            to { opacity: 1; transform: translateY(0); }\n",
       "        }\n",
       "    </style>\n",
       "    "
      ],
      "text/plain": [
       "<IPython.core.display.HTML object>"
      ]
     },
     "metadata": {},
     "output_type": "display_data"
    },
    {
     "data": {
      "text/html": [
       "\n",
       "    <div style=\"\n",
       "        border: 1px solid #856404;\n",
       "        background-color: rgba(255, 193, 7, 0.1);\n",
       "        color: #856404;\n",
       "        padding: 12px 18px;\n",
       "        margin: 10px 0;\n",
       "        border-radius: 5px;\n",
       "        font-family: sans-serif;\n",
       "        font-size: 14px;\n",
       "        animation: fadeIn 0.5s ease-out;\n",
       "        line-height: 1.6;\n",
       "    \">\n",
       "        <span style=\"font-weight: bold; margin-right: 8px;\">⚠️ WARNING:</span>\n",
       "        Skipped kaliua_10476.jpg: 'processed'\n",
       "    </div>\n",
       "    <style>\n",
       "        @keyframes fadeIn {\n",
       "            from { opacity: 0; transform: translateY(-10px); }\n",
       "            to { opacity: 1; transform: translateY(0); }\n",
       "        }\n",
       "    </style>\n",
       "    "
      ],
      "text/plain": [
       "<IPython.core.display.HTML object>"
      ]
     },
     "metadata": {},
     "output_type": "display_data"
    },
    {
     "data": {
      "text/html": [
       "\n",
       "    <div style=\"\n",
       "        border: 1px solid #856404;\n",
       "        background-color: rgba(255, 193, 7, 0.1);\n",
       "        color: #856404;\n",
       "        padding: 12px 18px;\n",
       "        margin: 10px 0;\n",
       "        border-radius: 5px;\n",
       "        font-family: sans-serif;\n",
       "        font-size: 14px;\n",
       "        animation: fadeIn 0.5s ease-out;\n",
       "        line-height: 1.6;\n",
       "    \">\n",
       "        <span style=\"font-weight: bold; margin-right: 8px;\">⚠️ WARNING:</span>\n",
       "        Skipped kaliua_10477.jpg: 'processed'\n",
       "    </div>\n",
       "    <style>\n",
       "        @keyframes fadeIn {\n",
       "            from { opacity: 0; transform: translateY(-10px); }\n",
       "            to { opacity: 1; transform: translateY(0); }\n",
       "        }\n",
       "    </style>\n",
       "    "
      ],
      "text/plain": [
       "<IPython.core.display.HTML object>"
      ]
     },
     "metadata": {},
     "output_type": "display_data"
    },
    {
     "data": {
      "text/html": [
       "\n",
       "    <div style=\"\n",
       "        border: 1px solid #856404;\n",
       "        background-color: rgba(255, 193, 7, 0.1);\n",
       "        color: #856404;\n",
       "        padding: 12px 18px;\n",
       "        margin: 10px 0;\n",
       "        border-radius: 5px;\n",
       "        font-family: sans-serif;\n",
       "        font-size: 14px;\n",
       "        animation: fadeIn 0.5s ease-out;\n",
       "        line-height: 1.6;\n",
       "    \">\n",
       "        <span style=\"font-weight: bold; margin-right: 8px;\">⚠️ WARNING:</span>\n",
       "        Skipped kaliua_10479.jpg: 'processed'\n",
       "    </div>\n",
       "    <style>\n",
       "        @keyframes fadeIn {\n",
       "            from { opacity: 0; transform: translateY(-10px); }\n",
       "            to { opacity: 1; transform: translateY(0); }\n",
       "        }\n",
       "    </style>\n",
       "    "
      ],
      "text/plain": [
       "<IPython.core.display.HTML object>"
      ]
     },
     "metadata": {},
     "output_type": "display_data"
    },
    {
     "data": {
      "text/html": [
       "\n",
       "    <div style=\"\n",
       "        border: 1px solid #856404;\n",
       "        background-color: rgba(255, 193, 7, 0.1);\n",
       "        color: #856404;\n",
       "        padding: 12px 18px;\n",
       "        margin: 10px 0;\n",
       "        border-radius: 5px;\n",
       "        font-family: sans-serif;\n",
       "        font-size: 14px;\n",
       "        animation: fadeIn 0.5s ease-out;\n",
       "        line-height: 1.6;\n",
       "    \">\n",
       "        <span style=\"font-weight: bold; margin-right: 8px;\">⚠️ WARNING:</span>\n",
       "        Skipped kaliua_10480.jpg: 'processed'\n",
       "    </div>\n",
       "    <style>\n",
       "        @keyframes fadeIn {\n",
       "            from { opacity: 0; transform: translateY(-10px); }\n",
       "            to { opacity: 1; transform: translateY(0); }\n",
       "        }\n",
       "    </style>\n",
       "    "
      ],
      "text/plain": [
       "<IPython.core.display.HTML object>"
      ]
     },
     "metadata": {},
     "output_type": "display_data"
    },
    {
     "data": {
      "text/html": [
       "\n",
       "    <div style=\"\n",
       "        border: 1px solid #856404;\n",
       "        background-color: rgba(255, 193, 7, 0.1);\n",
       "        color: #856404;\n",
       "        padding: 12px 18px;\n",
       "        margin: 10px 0;\n",
       "        border-radius: 5px;\n",
       "        font-family: sans-serif;\n",
       "        font-size: 14px;\n",
       "        animation: fadeIn 0.5s ease-out;\n",
       "        line-height: 1.6;\n",
       "    \">\n",
       "        <span style=\"font-weight: bold; margin-right: 8px;\">⚠️ WARNING:</span>\n",
       "        Skipped kaliua_10481.jpg: 'processed'\n",
       "    </div>\n",
       "    <style>\n",
       "        @keyframes fadeIn {\n",
       "            from { opacity: 0; transform: translateY(-10px); }\n",
       "            to { opacity: 1; transform: translateY(0); }\n",
       "        }\n",
       "    </style>\n",
       "    "
      ],
      "text/plain": [
       "<IPython.core.display.HTML object>"
      ]
     },
     "metadata": {},
     "output_type": "display_data"
    },
    {
     "data": {
      "text/html": [
       "\n",
       "    <div style=\"\n",
       "        border: 1px solid #856404;\n",
       "        background-color: rgba(255, 193, 7, 0.1);\n",
       "        color: #856404;\n",
       "        padding: 12px 18px;\n",
       "        margin: 10px 0;\n",
       "        border-radius: 5px;\n",
       "        font-family: sans-serif;\n",
       "        font-size: 14px;\n",
       "        animation: fadeIn 0.5s ease-out;\n",
       "        line-height: 1.6;\n",
       "    \">\n",
       "        <span style=\"font-weight: bold; margin-right: 8px;\">⚠️ WARNING:</span>\n",
       "        Skipped kaliua_10482.jpg: 'processed'\n",
       "    </div>\n",
       "    <style>\n",
       "        @keyframes fadeIn {\n",
       "            from { opacity: 0; transform: translateY(-10px); }\n",
       "            to { opacity: 1; transform: translateY(0); }\n",
       "        }\n",
       "    </style>\n",
       "    "
      ],
      "text/plain": [
       "<IPython.core.display.HTML object>"
      ]
     },
     "metadata": {},
     "output_type": "display_data"
    },
    {
     "data": {
      "text/html": [
       "\n",
       "    <div style=\"\n",
       "        border: 1px solid #856404;\n",
       "        background-color: rgba(255, 193, 7, 0.1);\n",
       "        color: #856404;\n",
       "        padding: 12px 18px;\n",
       "        margin: 10px 0;\n",
       "        border-radius: 5px;\n",
       "        font-family: sans-serif;\n",
       "        font-size: 14px;\n",
       "        animation: fadeIn 0.5s ease-out;\n",
       "        line-height: 1.6;\n",
       "    \">\n",
       "        <span style=\"font-weight: bold; margin-right: 8px;\">⚠️ WARNING:</span>\n",
       "        Skipped kaliua_10483.jpg: 'processed'\n",
       "    </div>\n",
       "    <style>\n",
       "        @keyframes fadeIn {\n",
       "            from { opacity: 0; transform: translateY(-10px); }\n",
       "            to { opacity: 1; transform: translateY(0); }\n",
       "        }\n",
       "    </style>\n",
       "    "
      ],
      "text/plain": [
       "<IPython.core.display.HTML object>"
      ]
     },
     "metadata": {},
     "output_type": "display_data"
    },
    {
     "data": {
      "text/html": [
       "\n",
       "    <div style=\"\n",
       "        border: 1px solid #856404;\n",
       "        background-color: rgba(255, 193, 7, 0.1);\n",
       "        color: #856404;\n",
       "        padding: 12px 18px;\n",
       "        margin: 10px 0;\n",
       "        border-radius: 5px;\n",
       "        font-family: sans-serif;\n",
       "        font-size: 14px;\n",
       "        animation: fadeIn 0.5s ease-out;\n",
       "        line-height: 1.6;\n",
       "    \">\n",
       "        <span style=\"font-weight: bold; margin-right: 8px;\">⚠️ WARNING:</span>\n",
       "        Skipped kaliua_10484.jpg: 'processed'\n",
       "    </div>\n",
       "    <style>\n",
       "        @keyframes fadeIn {\n",
       "            from { opacity: 0; transform: translateY(-10px); }\n",
       "            to { opacity: 1; transform: translateY(0); }\n",
       "        }\n",
       "    </style>\n",
       "    "
      ],
      "text/plain": [
       "<IPython.core.display.HTML object>"
      ]
     },
     "metadata": {},
     "output_type": "display_data"
    },
    {
     "data": {
      "text/html": [
       "\n",
       "    <div style=\"\n",
       "        border: 1px solid #856404;\n",
       "        background-color: rgba(255, 193, 7, 0.1);\n",
       "        color: #856404;\n",
       "        padding: 12px 18px;\n",
       "        margin: 10px 0;\n",
       "        border-radius: 5px;\n",
       "        font-family: sans-serif;\n",
       "        font-size: 14px;\n",
       "        animation: fadeIn 0.5s ease-out;\n",
       "        line-height: 1.6;\n",
       "    \">\n",
       "        <span style=\"font-weight: bold; margin-right: 8px;\">⚠️ WARNING:</span>\n",
       "        Skipped kaliua_10485.jpg: 'processed'\n",
       "    </div>\n",
       "    <style>\n",
       "        @keyframes fadeIn {\n",
       "            from { opacity: 0; transform: translateY(-10px); }\n",
       "            to { opacity: 1; transform: translateY(0); }\n",
       "        }\n",
       "    </style>\n",
       "    "
      ],
      "text/plain": [
       "<IPython.core.display.HTML object>"
      ]
     },
     "metadata": {},
     "output_type": "display_data"
    },
    {
     "data": {
      "text/html": [
       "\n",
       "    <div style=\"\n",
       "        border: 1px solid #856404;\n",
       "        background-color: rgba(255, 193, 7, 0.1);\n",
       "        color: #856404;\n",
       "        padding: 12px 18px;\n",
       "        margin: 10px 0;\n",
       "        border-radius: 5px;\n",
       "        font-family: sans-serif;\n",
       "        font-size: 14px;\n",
       "        animation: fadeIn 0.5s ease-out;\n",
       "        line-height: 1.6;\n",
       "    \">\n",
       "        <span style=\"font-weight: bold; margin-right: 8px;\">⚠️ WARNING:</span>\n",
       "        Skipped kaliua_10486.jpg: 'processed'\n",
       "    </div>\n",
       "    <style>\n",
       "        @keyframes fadeIn {\n",
       "            from { opacity: 0; transform: translateY(-10px); }\n",
       "            to { opacity: 1; transform: translateY(0); }\n",
       "        }\n",
       "    </style>\n",
       "    "
      ],
      "text/plain": [
       "<IPython.core.display.HTML object>"
      ]
     },
     "metadata": {},
     "output_type": "display_data"
    },
    {
     "data": {
      "text/html": [
       "\n",
       "    <div style=\"\n",
       "        border: 1px solid #856404;\n",
       "        background-color: rgba(255, 193, 7, 0.1);\n",
       "        color: #856404;\n",
       "        padding: 12px 18px;\n",
       "        margin: 10px 0;\n",
       "        border-radius: 5px;\n",
       "        font-family: sans-serif;\n",
       "        font-size: 14px;\n",
       "        animation: fadeIn 0.5s ease-out;\n",
       "        line-height: 1.6;\n",
       "    \">\n",
       "        <span style=\"font-weight: bold; margin-right: 8px;\">⚠️ WARNING:</span>\n",
       "        Skipped kaliua_10487.jpg: 'processed'\n",
       "    </div>\n",
       "    <style>\n",
       "        @keyframes fadeIn {\n",
       "            from { opacity: 0; transform: translateY(-10px); }\n",
       "            to { opacity: 1; transform: translateY(0); }\n",
       "        }\n",
       "    </style>\n",
       "    "
      ],
      "text/plain": [
       "<IPython.core.display.HTML object>"
      ]
     },
     "metadata": {},
     "output_type": "display_data"
    },
    {
     "data": {
      "text/html": [
       "\n",
       "    <div style=\"\n",
       "        border: 1px solid #856404;\n",
       "        background-color: rgba(255, 193, 7, 0.1);\n",
       "        color: #856404;\n",
       "        padding: 12px 18px;\n",
       "        margin: 10px 0;\n",
       "        border-radius: 5px;\n",
       "        font-family: sans-serif;\n",
       "        font-size: 14px;\n",
       "        animation: fadeIn 0.5s ease-out;\n",
       "        line-height: 1.6;\n",
       "    \">\n",
       "        <span style=\"font-weight: bold; margin-right: 8px;\">⚠️ WARNING:</span>\n",
       "        Skipped kaliua_10488.jpg: 'processed'\n",
       "    </div>\n",
       "    <style>\n",
       "        @keyframes fadeIn {\n",
       "            from { opacity: 0; transform: translateY(-10px); }\n",
       "            to { opacity: 1; transform: translateY(0); }\n",
       "        }\n",
       "    </style>\n",
       "    "
      ],
      "text/plain": [
       "<IPython.core.display.HTML object>"
      ]
     },
     "metadata": {},
     "output_type": "display_data"
    },
    {
     "data": {
      "text/html": [
       "\n",
       "    <div style=\"\n",
       "        border: 1px solid #856404;\n",
       "        background-color: rgba(255, 193, 7, 0.1);\n",
       "        color: #856404;\n",
       "        padding: 12px 18px;\n",
       "        margin: 10px 0;\n",
       "        border-radius: 5px;\n",
       "        font-family: sans-serif;\n",
       "        font-size: 14px;\n",
       "        animation: fadeIn 0.5s ease-out;\n",
       "        line-height: 1.6;\n",
       "    \">\n",
       "        <span style=\"font-weight: bold; margin-right: 8px;\">⚠️ WARNING:</span>\n",
       "        Skipped kaliua_10489.jpg: 'processed'\n",
       "    </div>\n",
       "    <style>\n",
       "        @keyframes fadeIn {\n",
       "            from { opacity: 0; transform: translateY(-10px); }\n",
       "            to { opacity: 1; transform: translateY(0); }\n",
       "        }\n",
       "    </style>\n",
       "    "
      ],
      "text/plain": [
       "<IPython.core.display.HTML object>"
      ]
     },
     "metadata": {},
     "output_type": "display_data"
    },
    {
     "data": {
      "text/html": [
       "\n",
       "    <div style=\"\n",
       "        border: 1px solid #856404;\n",
       "        background-color: rgba(255, 193, 7, 0.1);\n",
       "        color: #856404;\n",
       "        padding: 12px 18px;\n",
       "        margin: 10px 0;\n",
       "        border-radius: 5px;\n",
       "        font-family: sans-serif;\n",
       "        font-size: 14px;\n",
       "        animation: fadeIn 0.5s ease-out;\n",
       "        line-height: 1.6;\n",
       "    \">\n",
       "        <span style=\"font-weight: bold; margin-right: 8px;\">⚠️ WARNING:</span>\n",
       "        Skipped kaliua_10490.jpg: 'processed'\n",
       "    </div>\n",
       "    <style>\n",
       "        @keyframes fadeIn {\n",
       "            from { opacity: 0; transform: translateY(-10px); }\n",
       "            to { opacity: 1; transform: translateY(0); }\n",
       "        }\n",
       "    </style>\n",
       "    "
      ],
      "text/plain": [
       "<IPython.core.display.HTML object>"
      ]
     },
     "metadata": {},
     "output_type": "display_data"
    },
    {
     "data": {
      "text/html": [
       "\n",
       "    <div style=\"\n",
       "        border: 1px solid #856404;\n",
       "        background-color: rgba(255, 193, 7, 0.1);\n",
       "        color: #856404;\n",
       "        padding: 12px 18px;\n",
       "        margin: 10px 0;\n",
       "        border-radius: 5px;\n",
       "        font-family: sans-serif;\n",
       "        font-size: 14px;\n",
       "        animation: fadeIn 0.5s ease-out;\n",
       "        line-height: 1.6;\n",
       "    \">\n",
       "        <span style=\"font-weight: bold; margin-right: 8px;\">⚠️ WARNING:</span>\n",
       "        Skipped kaliua_10491.jpg: 'processed'\n",
       "    </div>\n",
       "    <style>\n",
       "        @keyframes fadeIn {\n",
       "            from { opacity: 0; transform: translateY(-10px); }\n",
       "            to { opacity: 1; transform: translateY(0); }\n",
       "        }\n",
       "    </style>\n",
       "    "
      ],
      "text/plain": [
       "<IPython.core.display.HTML object>"
      ]
     },
     "metadata": {},
     "output_type": "display_data"
    },
    {
     "data": {
      "text/html": [
       "\n",
       "    <div style=\"\n",
       "        border: 1px solid #856404;\n",
       "        background-color: rgba(255, 193, 7, 0.1);\n",
       "        color: #856404;\n",
       "        padding: 12px 18px;\n",
       "        margin: 10px 0;\n",
       "        border-radius: 5px;\n",
       "        font-family: sans-serif;\n",
       "        font-size: 14px;\n",
       "        animation: fadeIn 0.5s ease-out;\n",
       "        line-height: 1.6;\n",
       "    \">\n",
       "        <span style=\"font-weight: bold; margin-right: 8px;\">⚠️ WARNING:</span>\n",
       "        Skipped kaliua_10492.jpg: 'processed'\n",
       "    </div>\n",
       "    <style>\n",
       "        @keyframes fadeIn {\n",
       "            from { opacity: 0; transform: translateY(-10px); }\n",
       "            to { opacity: 1; transform: translateY(0); }\n",
       "        }\n",
       "    </style>\n",
       "    "
      ],
      "text/plain": [
       "<IPython.core.display.HTML object>"
      ]
     },
     "metadata": {},
     "output_type": "display_data"
    },
    {
     "data": {
      "text/html": [
       "\n",
       "    <div style=\"\n",
       "        border: 1px solid #856404;\n",
       "        background-color: rgba(255, 193, 7, 0.1);\n",
       "        color: #856404;\n",
       "        padding: 12px 18px;\n",
       "        margin: 10px 0;\n",
       "        border-radius: 5px;\n",
       "        font-family: sans-serif;\n",
       "        font-size: 14px;\n",
       "        animation: fadeIn 0.5s ease-out;\n",
       "        line-height: 1.6;\n",
       "    \">\n",
       "        <span style=\"font-weight: bold; margin-right: 8px;\">⚠️ WARNING:</span>\n",
       "        Skipped kaliua_10493.jpg: 'processed'\n",
       "    </div>\n",
       "    <style>\n",
       "        @keyframes fadeIn {\n",
       "            from { opacity: 0; transform: translateY(-10px); }\n",
       "            to { opacity: 1; transform: translateY(0); }\n",
       "        }\n",
       "    </style>\n",
       "    "
      ],
      "text/plain": [
       "<IPython.core.display.HTML object>"
      ]
     },
     "metadata": {},
     "output_type": "display_data"
    },
    {
     "data": {
      "text/html": [
       "\n",
       "    <div style=\"\n",
       "        border: 1px solid #856404;\n",
       "        background-color: rgba(255, 193, 7, 0.1);\n",
       "        color: #856404;\n",
       "        padding: 12px 18px;\n",
       "        margin: 10px 0;\n",
       "        border-radius: 5px;\n",
       "        font-family: sans-serif;\n",
       "        font-size: 14px;\n",
       "        animation: fadeIn 0.5s ease-out;\n",
       "        line-height: 1.6;\n",
       "    \">\n",
       "        <span style=\"font-weight: bold; margin-right: 8px;\">⚠️ WARNING:</span>\n",
       "        Skipped kaliua_10494.jpg: 'processed'\n",
       "    </div>\n",
       "    <style>\n",
       "        @keyframes fadeIn {\n",
       "            from { opacity: 0; transform: translateY(-10px); }\n",
       "            to { opacity: 1; transform: translateY(0); }\n",
       "        }\n",
       "    </style>\n",
       "    "
      ],
      "text/plain": [
       "<IPython.core.display.HTML object>"
      ]
     },
     "metadata": {},
     "output_type": "display_data"
    },
    {
     "data": {
      "text/html": [
       "\n",
       "    <div style=\"\n",
       "        border: 1px solid #856404;\n",
       "        background-color: rgba(255, 193, 7, 0.1);\n",
       "        color: #856404;\n",
       "        padding: 12px 18px;\n",
       "        margin: 10px 0;\n",
       "        border-radius: 5px;\n",
       "        font-family: sans-serif;\n",
       "        font-size: 14px;\n",
       "        animation: fadeIn 0.5s ease-out;\n",
       "        line-height: 1.6;\n",
       "    \">\n",
       "        <span style=\"font-weight: bold; margin-right: 8px;\">⚠️ WARNING:</span>\n",
       "        Skipped kaliua_10495.jpg: 'processed'\n",
       "    </div>\n",
       "    <style>\n",
       "        @keyframes fadeIn {\n",
       "            from { opacity: 0; transform: translateY(-10px); }\n",
       "            to { opacity: 1; transform: translateY(0); }\n",
       "        }\n",
       "    </style>\n",
       "    "
      ],
      "text/plain": [
       "<IPython.core.display.HTML object>"
      ]
     },
     "metadata": {},
     "output_type": "display_data"
    },
    {
     "data": {
      "text/html": [
       "\n",
       "    <div style=\"\n",
       "        border: 1px solid #856404;\n",
       "        background-color: rgba(255, 193, 7, 0.1);\n",
       "        color: #856404;\n",
       "        padding: 12px 18px;\n",
       "        margin: 10px 0;\n",
       "        border-radius: 5px;\n",
       "        font-family: sans-serif;\n",
       "        font-size: 14px;\n",
       "        animation: fadeIn 0.5s ease-out;\n",
       "        line-height: 1.6;\n",
       "    \">\n",
       "        <span style=\"font-weight: bold; margin-right: 8px;\">⚠️ WARNING:</span>\n",
       "        Skipped kaliua_10496.jpg: 'processed'\n",
       "    </div>\n",
       "    <style>\n",
       "        @keyframes fadeIn {\n",
       "            from { opacity: 0; transform: translateY(-10px); }\n",
       "            to { opacity: 1; transform: translateY(0); }\n",
       "        }\n",
       "    </style>\n",
       "    "
      ],
      "text/plain": [
       "<IPython.core.display.HTML object>"
      ]
     },
     "metadata": {},
     "output_type": "display_data"
    },
    {
     "data": {
      "text/html": [
       "\n",
       "    <div style=\"\n",
       "        border: 1px solid #856404;\n",
       "        background-color: rgba(255, 193, 7, 0.1);\n",
       "        color: #856404;\n",
       "        padding: 12px 18px;\n",
       "        margin: 10px 0;\n",
       "        border-radius: 5px;\n",
       "        font-family: sans-serif;\n",
       "        font-size: 14px;\n",
       "        animation: fadeIn 0.5s ease-out;\n",
       "        line-height: 1.6;\n",
       "    \">\n",
       "        <span style=\"font-weight: bold; margin-right: 8px;\">⚠️ WARNING:</span>\n",
       "        Skipped kaliua_10497.jpg: 'processed'\n",
       "    </div>\n",
       "    <style>\n",
       "        @keyframes fadeIn {\n",
       "            from { opacity: 0; transform: translateY(-10px); }\n",
       "            to { opacity: 1; transform: translateY(0); }\n",
       "        }\n",
       "    </style>\n",
       "    "
      ],
      "text/plain": [
       "<IPython.core.display.HTML object>"
      ]
     },
     "metadata": {},
     "output_type": "display_data"
    },
    {
     "data": {
      "text/html": [
       "\n",
       "    <div style=\"\n",
       "        border: 1px solid #856404;\n",
       "        background-color: rgba(255, 193, 7, 0.1);\n",
       "        color: #856404;\n",
       "        padding: 12px 18px;\n",
       "        margin: 10px 0;\n",
       "        border-radius: 5px;\n",
       "        font-family: sans-serif;\n",
       "        font-size: 14px;\n",
       "        animation: fadeIn 0.5s ease-out;\n",
       "        line-height: 1.6;\n",
       "    \">\n",
       "        <span style=\"font-weight: bold; margin-right: 8px;\">⚠️ WARNING:</span>\n",
       "        Skipped kaliua_10498.jpg: 'processed'\n",
       "    </div>\n",
       "    <style>\n",
       "        @keyframes fadeIn {\n",
       "            from { opacity: 0; transform: translateY(-10px); }\n",
       "            to { opacity: 1; transform: translateY(0); }\n",
       "        }\n",
       "    </style>\n",
       "    "
      ],
      "text/plain": [
       "<IPython.core.display.HTML object>"
      ]
     },
     "metadata": {},
     "output_type": "display_data"
    },
    {
     "data": {
      "text/html": [
       "\n",
       "    <div style=\"\n",
       "        border: 1px solid #856404;\n",
       "        background-color: rgba(255, 193, 7, 0.1);\n",
       "        color: #856404;\n",
       "        padding: 12px 18px;\n",
       "        margin: 10px 0;\n",
       "        border-radius: 5px;\n",
       "        font-family: sans-serif;\n",
       "        font-size: 14px;\n",
       "        animation: fadeIn 0.5s ease-out;\n",
       "        line-height: 1.6;\n",
       "    \">\n",
       "        <span style=\"font-weight: bold; margin-right: 8px;\">⚠️ WARNING:</span>\n",
       "        Skipped kaliua_10499.jpg: 'processed'\n",
       "    </div>\n",
       "    <style>\n",
       "        @keyframes fadeIn {\n",
       "            from { opacity: 0; transform: translateY(-10px); }\n",
       "            to { opacity: 1; transform: translateY(0); }\n",
       "        }\n",
       "    </style>\n",
       "    "
      ],
      "text/plain": [
       "<IPython.core.display.HTML object>"
      ]
     },
     "metadata": {},
     "output_type": "display_data"
    },
    {
     "data": {
      "text/html": [
       "\n",
       "    <div style=\"\n",
       "        border: 1px solid #856404;\n",
       "        background-color: rgba(255, 193, 7, 0.1);\n",
       "        color: #856404;\n",
       "        padding: 12px 18px;\n",
       "        margin: 10px 0;\n",
       "        border-radius: 5px;\n",
       "        font-family: sans-serif;\n",
       "        font-size: 14px;\n",
       "        animation: fadeIn 0.5s ease-out;\n",
       "        line-height: 1.6;\n",
       "    \">\n",
       "        <span style=\"font-weight: bold; margin-right: 8px;\">⚠️ WARNING:</span>\n",
       "        Skipped kaliua_105.jpg: 'processed'\n",
       "    </div>\n",
       "    <style>\n",
       "        @keyframes fadeIn {\n",
       "            from { opacity: 0; transform: translateY(-10px); }\n",
       "            to { opacity: 1; transform: translateY(0); }\n",
       "        }\n",
       "    </style>\n",
       "    "
      ],
      "text/plain": [
       "<IPython.core.display.HTML object>"
      ]
     },
     "metadata": {},
     "output_type": "display_data"
    },
    {
     "data": {
      "text/html": [
       "\n",
       "    <div style=\"\n",
       "        border: 1px solid #856404;\n",
       "        background-color: rgba(255, 193, 7, 0.1);\n",
       "        color: #856404;\n",
       "        padding: 12px 18px;\n",
       "        margin: 10px 0;\n",
       "        border-radius: 5px;\n",
       "        font-family: sans-serif;\n",
       "        font-size: 14px;\n",
       "        animation: fadeIn 0.5s ease-out;\n",
       "        line-height: 1.6;\n",
       "    \">\n",
       "        <span style=\"font-weight: bold; margin-right: 8px;\">⚠️ WARNING:</span>\n",
       "        Skipped kaliua_10500.jpg: 'processed'\n",
       "    </div>\n",
       "    <style>\n",
       "        @keyframes fadeIn {\n",
       "            from { opacity: 0; transform: translateY(-10px); }\n",
       "            to { opacity: 1; transform: translateY(0); }\n",
       "        }\n",
       "    </style>\n",
       "    "
      ],
      "text/plain": [
       "<IPython.core.display.HTML object>"
      ]
     },
     "metadata": {},
     "output_type": "display_data"
    },
    {
     "data": {
      "text/html": [
       "\n",
       "    <div style=\"\n",
       "        border: 1px solid #856404;\n",
       "        background-color: rgba(255, 193, 7, 0.1);\n",
       "        color: #856404;\n",
       "        padding: 12px 18px;\n",
       "        margin: 10px 0;\n",
       "        border-radius: 5px;\n",
       "        font-family: sans-serif;\n",
       "        font-size: 14px;\n",
       "        animation: fadeIn 0.5s ease-out;\n",
       "        line-height: 1.6;\n",
       "    \">\n",
       "        <span style=\"font-weight: bold; margin-right: 8px;\">⚠️ WARNING:</span>\n",
       "        Skipped kaliua_10501.jpg: 'processed'\n",
       "    </div>\n",
       "    <style>\n",
       "        @keyframes fadeIn {\n",
       "            from { opacity: 0; transform: translateY(-10px); }\n",
       "            to { opacity: 1; transform: translateY(0); }\n",
       "        }\n",
       "    </style>\n",
       "    "
      ],
      "text/plain": [
       "<IPython.core.display.HTML object>"
      ]
     },
     "metadata": {},
     "output_type": "display_data"
    },
    {
     "data": {
      "text/html": [
       "\n",
       "    <div style=\"\n",
       "        border: 1px solid #856404;\n",
       "        background-color: rgba(255, 193, 7, 0.1);\n",
       "        color: #856404;\n",
       "        padding: 12px 18px;\n",
       "        margin: 10px 0;\n",
       "        border-radius: 5px;\n",
       "        font-family: sans-serif;\n",
       "        font-size: 14px;\n",
       "        animation: fadeIn 0.5s ease-out;\n",
       "        line-height: 1.6;\n",
       "    \">\n",
       "        <span style=\"font-weight: bold; margin-right: 8px;\">⚠️ WARNING:</span>\n",
       "        Skipped kaliua_10502.jpg: 'processed'\n",
       "    </div>\n",
       "    <style>\n",
       "        @keyframes fadeIn {\n",
       "            from { opacity: 0; transform: translateY(-10px); }\n",
       "            to { opacity: 1; transform: translateY(0); }\n",
       "        }\n",
       "    </style>\n",
       "    "
      ],
      "text/plain": [
       "<IPython.core.display.HTML object>"
      ]
     },
     "metadata": {},
     "output_type": "display_data"
    },
    {
     "data": {
      "text/html": [
       "\n",
       "    <div style=\"\n",
       "        border: 1px solid #856404;\n",
       "        background-color: rgba(255, 193, 7, 0.1);\n",
       "        color: #856404;\n",
       "        padding: 12px 18px;\n",
       "        margin: 10px 0;\n",
       "        border-radius: 5px;\n",
       "        font-family: sans-serif;\n",
       "        font-size: 14px;\n",
       "        animation: fadeIn 0.5s ease-out;\n",
       "        line-height: 1.6;\n",
       "    \">\n",
       "        <span style=\"font-weight: bold; margin-right: 8px;\">⚠️ WARNING:</span>\n",
       "        Skipped kaliua_10503.jpg: 'processed'\n",
       "    </div>\n",
       "    <style>\n",
       "        @keyframes fadeIn {\n",
       "            from { opacity: 0; transform: translateY(-10px); }\n",
       "            to { opacity: 1; transform: translateY(0); }\n",
       "        }\n",
       "    </style>\n",
       "    "
      ],
      "text/plain": [
       "<IPython.core.display.HTML object>"
      ]
     },
     "metadata": {},
     "output_type": "display_data"
    },
    {
     "data": {
      "text/html": [
       "\n",
       "    <div style=\"\n",
       "        border: 1px solid #856404;\n",
       "        background-color: rgba(255, 193, 7, 0.1);\n",
       "        color: #856404;\n",
       "        padding: 12px 18px;\n",
       "        margin: 10px 0;\n",
       "        border-radius: 5px;\n",
       "        font-family: sans-serif;\n",
       "        font-size: 14px;\n",
       "        animation: fadeIn 0.5s ease-out;\n",
       "        line-height: 1.6;\n",
       "    \">\n",
       "        <span style=\"font-weight: bold; margin-right: 8px;\">⚠️ WARNING:</span>\n",
       "        Skipped kaliua_10504.jpg: 'processed'\n",
       "    </div>\n",
       "    <style>\n",
       "        @keyframes fadeIn {\n",
       "            from { opacity: 0; transform: translateY(-10px); }\n",
       "            to { opacity: 1; transform: translateY(0); }\n",
       "        }\n",
       "    </style>\n",
       "    "
      ],
      "text/plain": [
       "<IPython.core.display.HTML object>"
      ]
     },
     "metadata": {},
     "output_type": "display_data"
    },
    {
     "data": {
      "text/html": [
       "\n",
       "    <div style=\"\n",
       "        border: 1px solid #856404;\n",
       "        background-color: rgba(255, 193, 7, 0.1);\n",
       "        color: #856404;\n",
       "        padding: 12px 18px;\n",
       "        margin: 10px 0;\n",
       "        border-radius: 5px;\n",
       "        font-family: sans-serif;\n",
       "        font-size: 14px;\n",
       "        animation: fadeIn 0.5s ease-out;\n",
       "        line-height: 1.6;\n",
       "    \">\n",
       "        <span style=\"font-weight: bold; margin-right: 8px;\">⚠️ WARNING:</span>\n",
       "        Skipped kaliua_10505.jpg: 'processed'\n",
       "    </div>\n",
       "    <style>\n",
       "        @keyframes fadeIn {\n",
       "            from { opacity: 0; transform: translateY(-10px); }\n",
       "            to { opacity: 1; transform: translateY(0); }\n",
       "        }\n",
       "    </style>\n",
       "    "
      ],
      "text/plain": [
       "<IPython.core.display.HTML object>"
      ]
     },
     "metadata": {},
     "output_type": "display_data"
    },
    {
     "data": {
      "text/html": [
       "\n",
       "    <div style=\"\n",
       "        border: 1px solid #856404;\n",
       "        background-color: rgba(255, 193, 7, 0.1);\n",
       "        color: #856404;\n",
       "        padding: 12px 18px;\n",
       "        margin: 10px 0;\n",
       "        border-radius: 5px;\n",
       "        font-family: sans-serif;\n",
       "        font-size: 14px;\n",
       "        animation: fadeIn 0.5s ease-out;\n",
       "        line-height: 1.6;\n",
       "    \">\n",
       "        <span style=\"font-weight: bold; margin-right: 8px;\">⚠️ WARNING:</span>\n",
       "        Skipped kaliua_10506.jpg: 'processed'\n",
       "    </div>\n",
       "    <style>\n",
       "        @keyframes fadeIn {\n",
       "            from { opacity: 0; transform: translateY(-10px); }\n",
       "            to { opacity: 1; transform: translateY(0); }\n",
       "        }\n",
       "    </style>\n",
       "    "
      ],
      "text/plain": [
       "<IPython.core.display.HTML object>"
      ]
     },
     "metadata": {},
     "output_type": "display_data"
    },
    {
     "data": {
      "text/html": [
       "\n",
       "    <div style=\"\n",
       "        border: 1px solid #856404;\n",
       "        background-color: rgba(255, 193, 7, 0.1);\n",
       "        color: #856404;\n",
       "        padding: 12px 18px;\n",
       "        margin: 10px 0;\n",
       "        border-radius: 5px;\n",
       "        font-family: sans-serif;\n",
       "        font-size: 14px;\n",
       "        animation: fadeIn 0.5s ease-out;\n",
       "        line-height: 1.6;\n",
       "    \">\n",
       "        <span style=\"font-weight: bold; margin-right: 8px;\">⚠️ WARNING:</span>\n",
       "        Skipped kaliua_10507.jpg: 'processed'\n",
       "    </div>\n",
       "    <style>\n",
       "        @keyframes fadeIn {\n",
       "            from { opacity: 0; transform: translateY(-10px); }\n",
       "            to { opacity: 1; transform: translateY(0); }\n",
       "        }\n",
       "    </style>\n",
       "    "
      ],
      "text/plain": [
       "<IPython.core.display.HTML object>"
      ]
     },
     "metadata": {},
     "output_type": "display_data"
    },
    {
     "data": {
      "text/html": [
       "\n",
       "    <div style=\"\n",
       "        border: 1px solid #856404;\n",
       "        background-color: rgba(255, 193, 7, 0.1);\n",
       "        color: #856404;\n",
       "        padding: 12px 18px;\n",
       "        margin: 10px 0;\n",
       "        border-radius: 5px;\n",
       "        font-family: sans-serif;\n",
       "        font-size: 14px;\n",
       "        animation: fadeIn 0.5s ease-out;\n",
       "        line-height: 1.6;\n",
       "    \">\n",
       "        <span style=\"font-weight: bold; margin-right: 8px;\">⚠️ WARNING:</span>\n",
       "        Skipped kaliua_10508.jpg: 'processed'\n",
       "    </div>\n",
       "    <style>\n",
       "        @keyframes fadeIn {\n",
       "            from { opacity: 0; transform: translateY(-10px); }\n",
       "            to { opacity: 1; transform: translateY(0); }\n",
       "        }\n",
       "    </style>\n",
       "    "
      ],
      "text/plain": [
       "<IPython.core.display.HTML object>"
      ]
     },
     "metadata": {},
     "output_type": "display_data"
    },
    {
     "data": {
      "text/html": [
       "\n",
       "    <div style=\"\n",
       "        border: 1px solid #856404;\n",
       "        background-color: rgba(255, 193, 7, 0.1);\n",
       "        color: #856404;\n",
       "        padding: 12px 18px;\n",
       "        margin: 10px 0;\n",
       "        border-radius: 5px;\n",
       "        font-family: sans-serif;\n",
       "        font-size: 14px;\n",
       "        animation: fadeIn 0.5s ease-out;\n",
       "        line-height: 1.6;\n",
       "    \">\n",
       "        <span style=\"font-weight: bold; margin-right: 8px;\">⚠️ WARNING:</span>\n",
       "        Skipped kaliua_10509.jpg: 'processed'\n",
       "    </div>\n",
       "    <style>\n",
       "        @keyframes fadeIn {\n",
       "            from { opacity: 0; transform: translateY(-10px); }\n",
       "            to { opacity: 1; transform: translateY(0); }\n",
       "        }\n",
       "    </style>\n",
       "    "
      ],
      "text/plain": [
       "<IPython.core.display.HTML object>"
      ]
     },
     "metadata": {},
     "output_type": "display_data"
    },
    {
     "data": {
      "text/html": [
       "\n",
       "    <div style=\"\n",
       "        border: 1px solid #856404;\n",
       "        background-color: rgba(255, 193, 7, 0.1);\n",
       "        color: #856404;\n",
       "        padding: 12px 18px;\n",
       "        margin: 10px 0;\n",
       "        border-radius: 5px;\n",
       "        font-family: sans-serif;\n",
       "        font-size: 14px;\n",
       "        animation: fadeIn 0.5s ease-out;\n",
       "        line-height: 1.6;\n",
       "    \">\n",
       "        <span style=\"font-weight: bold; margin-right: 8px;\">⚠️ WARNING:</span>\n",
       "        Skipped kaliua_10510.jpg: 'processed'\n",
       "    </div>\n",
       "    <style>\n",
       "        @keyframes fadeIn {\n",
       "            from { opacity: 0; transform: translateY(-10px); }\n",
       "            to { opacity: 1; transform: translateY(0); }\n",
       "        }\n",
       "    </style>\n",
       "    "
      ],
      "text/plain": [
       "<IPython.core.display.HTML object>"
      ]
     },
     "metadata": {},
     "output_type": "display_data"
    },
    {
     "data": {
      "text/html": [
       "\n",
       "    <div style=\"\n",
       "        border: 1px solid #856404;\n",
       "        background-color: rgba(255, 193, 7, 0.1);\n",
       "        color: #856404;\n",
       "        padding: 12px 18px;\n",
       "        margin: 10px 0;\n",
       "        border-radius: 5px;\n",
       "        font-family: sans-serif;\n",
       "        font-size: 14px;\n",
       "        animation: fadeIn 0.5s ease-out;\n",
       "        line-height: 1.6;\n",
       "    \">\n",
       "        <span style=\"font-weight: bold; margin-right: 8px;\">⚠️ WARNING:</span>\n",
       "        Skipped kaliua_10511.jpg: 'processed'\n",
       "    </div>\n",
       "    <style>\n",
       "        @keyframes fadeIn {\n",
       "            from { opacity: 0; transform: translateY(-10px); }\n",
       "            to { opacity: 1; transform: translateY(0); }\n",
       "        }\n",
       "    </style>\n",
       "    "
      ],
      "text/plain": [
       "<IPython.core.display.HTML object>"
      ]
     },
     "metadata": {},
     "output_type": "display_data"
    },
    {
     "data": {
      "text/html": [
       "\n",
       "    <div style=\"\n",
       "        border: 1px solid #856404;\n",
       "        background-color: rgba(255, 193, 7, 0.1);\n",
       "        color: #856404;\n",
       "        padding: 12px 18px;\n",
       "        margin: 10px 0;\n",
       "        border-radius: 5px;\n",
       "        font-family: sans-serif;\n",
       "        font-size: 14px;\n",
       "        animation: fadeIn 0.5s ease-out;\n",
       "        line-height: 1.6;\n",
       "    \">\n",
       "        <span style=\"font-weight: bold; margin-right: 8px;\">⚠️ WARNING:</span>\n",
       "        Skipped kaliua_10512.jpg: 'processed'\n",
       "    </div>\n",
       "    <style>\n",
       "        @keyframes fadeIn {\n",
       "            from { opacity: 0; transform: translateY(-10px); }\n",
       "            to { opacity: 1; transform: translateY(0); }\n",
       "        }\n",
       "    </style>\n",
       "    "
      ],
      "text/plain": [
       "<IPython.core.display.HTML object>"
      ]
     },
     "metadata": {},
     "output_type": "display_data"
    },
    {
     "data": {
      "text/html": [
       "\n",
       "    <div style=\"\n",
       "        border: 1px solid #856404;\n",
       "        background-color: rgba(255, 193, 7, 0.1);\n",
       "        color: #856404;\n",
       "        padding: 12px 18px;\n",
       "        margin: 10px 0;\n",
       "        border-radius: 5px;\n",
       "        font-family: sans-serif;\n",
       "        font-size: 14px;\n",
       "        animation: fadeIn 0.5s ease-out;\n",
       "        line-height: 1.6;\n",
       "    \">\n",
       "        <span style=\"font-weight: bold; margin-right: 8px;\">⚠️ WARNING:</span>\n",
       "        Skipped kaliua_10513.jpg: 'processed'\n",
       "    </div>\n",
       "    <style>\n",
       "        @keyframes fadeIn {\n",
       "            from { opacity: 0; transform: translateY(-10px); }\n",
       "            to { opacity: 1; transform: translateY(0); }\n",
       "        }\n",
       "    </style>\n",
       "    "
      ],
      "text/plain": [
       "<IPython.core.display.HTML object>"
      ]
     },
     "metadata": {},
     "output_type": "display_data"
    },
    {
     "data": {
      "text/html": [
       "\n",
       "    <div style=\"\n",
       "        border: 1px solid #856404;\n",
       "        background-color: rgba(255, 193, 7, 0.1);\n",
       "        color: #856404;\n",
       "        padding: 12px 18px;\n",
       "        margin: 10px 0;\n",
       "        border-radius: 5px;\n",
       "        font-family: sans-serif;\n",
       "        font-size: 14px;\n",
       "        animation: fadeIn 0.5s ease-out;\n",
       "        line-height: 1.6;\n",
       "    \">\n",
       "        <span style=\"font-weight: bold; margin-right: 8px;\">⚠️ WARNING:</span>\n",
       "        Skipped kaliua_10514.jpg: 'processed'\n",
       "    </div>\n",
       "    <style>\n",
       "        @keyframes fadeIn {\n",
       "            from { opacity: 0; transform: translateY(-10px); }\n",
       "            to { opacity: 1; transform: translateY(0); }\n",
       "        }\n",
       "    </style>\n",
       "    "
      ],
      "text/plain": [
       "<IPython.core.display.HTML object>"
      ]
     },
     "metadata": {},
     "output_type": "display_data"
    },
    {
     "data": {
      "text/html": [
       "\n",
       "    <div style=\"\n",
       "        border: 1px solid #856404;\n",
       "        background-color: rgba(255, 193, 7, 0.1);\n",
       "        color: #856404;\n",
       "        padding: 12px 18px;\n",
       "        margin: 10px 0;\n",
       "        border-radius: 5px;\n",
       "        font-family: sans-serif;\n",
       "        font-size: 14px;\n",
       "        animation: fadeIn 0.5s ease-out;\n",
       "        line-height: 1.6;\n",
       "    \">\n",
       "        <span style=\"font-weight: bold; margin-right: 8px;\">⚠️ WARNING:</span>\n",
       "        Skipped kaliua_10515.jpg: 'processed'\n",
       "    </div>\n",
       "    <style>\n",
       "        @keyframes fadeIn {\n",
       "            from { opacity: 0; transform: translateY(-10px); }\n",
       "            to { opacity: 1; transform: translateY(0); }\n",
       "        }\n",
       "    </style>\n",
       "    "
      ],
      "text/plain": [
       "<IPython.core.display.HTML object>"
      ]
     },
     "metadata": {},
     "output_type": "display_data"
    },
    {
     "data": {
      "text/html": [
       "\n",
       "    <div style=\"\n",
       "        border: 1px solid #856404;\n",
       "        background-color: rgba(255, 193, 7, 0.1);\n",
       "        color: #856404;\n",
       "        padding: 12px 18px;\n",
       "        margin: 10px 0;\n",
       "        border-radius: 5px;\n",
       "        font-family: sans-serif;\n",
       "        font-size: 14px;\n",
       "        animation: fadeIn 0.5s ease-out;\n",
       "        line-height: 1.6;\n",
       "    \">\n",
       "        <span style=\"font-weight: bold; margin-right: 8px;\">⚠️ WARNING:</span>\n",
       "        Skipped kaliua_10516.jpg: 'processed'\n",
       "    </div>\n",
       "    <style>\n",
       "        @keyframes fadeIn {\n",
       "            from { opacity: 0; transform: translateY(-10px); }\n",
       "            to { opacity: 1; transform: translateY(0); }\n",
       "        }\n",
       "    </style>\n",
       "    "
      ],
      "text/plain": [
       "<IPython.core.display.HTML object>"
      ]
     },
     "metadata": {},
     "output_type": "display_data"
    },
    {
     "data": {
      "text/html": [
       "\n",
       "    <div style=\"\n",
       "        border: 1px solid #856404;\n",
       "        background-color: rgba(255, 193, 7, 0.1);\n",
       "        color: #856404;\n",
       "        padding: 12px 18px;\n",
       "        margin: 10px 0;\n",
       "        border-radius: 5px;\n",
       "        font-family: sans-serif;\n",
       "        font-size: 14px;\n",
       "        animation: fadeIn 0.5s ease-out;\n",
       "        line-height: 1.6;\n",
       "    \">\n",
       "        <span style=\"font-weight: bold; margin-right: 8px;\">⚠️ WARNING:</span>\n",
       "        Skipped kaliua_10517.jpg: 'processed'\n",
       "    </div>\n",
       "    <style>\n",
       "        @keyframes fadeIn {\n",
       "            from { opacity: 0; transform: translateY(-10px); }\n",
       "            to { opacity: 1; transform: translateY(0); }\n",
       "        }\n",
       "    </style>\n",
       "    "
      ],
      "text/plain": [
       "<IPython.core.display.HTML object>"
      ]
     },
     "metadata": {},
     "output_type": "display_data"
    },
    {
     "data": {
      "text/html": [
       "\n",
       "    <div style=\"\n",
       "        border: 1px solid #856404;\n",
       "        background-color: rgba(255, 193, 7, 0.1);\n",
       "        color: #856404;\n",
       "        padding: 12px 18px;\n",
       "        margin: 10px 0;\n",
       "        border-radius: 5px;\n",
       "        font-family: sans-serif;\n",
       "        font-size: 14px;\n",
       "        animation: fadeIn 0.5s ease-out;\n",
       "        line-height: 1.6;\n",
       "    \">\n",
       "        <span style=\"font-weight: bold; margin-right: 8px;\">⚠️ WARNING:</span>\n",
       "        Skipped kaliua_10518.jpg: 'processed'\n",
       "    </div>\n",
       "    <style>\n",
       "        @keyframes fadeIn {\n",
       "            from { opacity: 0; transform: translateY(-10px); }\n",
       "            to { opacity: 1; transform: translateY(0); }\n",
       "        }\n",
       "    </style>\n",
       "    "
      ],
      "text/plain": [
       "<IPython.core.display.HTML object>"
      ]
     },
     "metadata": {},
     "output_type": "display_data"
    },
    {
     "data": {
      "text/html": [
       "\n",
       "    <div style=\"\n",
       "        border: 1px solid #856404;\n",
       "        background-color: rgba(255, 193, 7, 0.1);\n",
       "        color: #856404;\n",
       "        padding: 12px 18px;\n",
       "        margin: 10px 0;\n",
       "        border-radius: 5px;\n",
       "        font-family: sans-serif;\n",
       "        font-size: 14px;\n",
       "        animation: fadeIn 0.5s ease-out;\n",
       "        line-height: 1.6;\n",
       "    \">\n",
       "        <span style=\"font-weight: bold; margin-right: 8px;\">⚠️ WARNING:</span>\n",
       "        Skipped kaliua_10519.jpg: 'processed'\n",
       "    </div>\n",
       "    <style>\n",
       "        @keyframes fadeIn {\n",
       "            from { opacity: 0; transform: translateY(-10px); }\n",
       "            to { opacity: 1; transform: translateY(0); }\n",
       "        }\n",
       "    </style>\n",
       "    "
      ],
      "text/plain": [
       "<IPython.core.display.HTML object>"
      ]
     },
     "metadata": {},
     "output_type": "display_data"
    },
    {
     "data": {
      "text/html": [
       "\n",
       "    <div style=\"\n",
       "        border: 1px solid #856404;\n",
       "        background-color: rgba(255, 193, 7, 0.1);\n",
       "        color: #856404;\n",
       "        padding: 12px 18px;\n",
       "        margin: 10px 0;\n",
       "        border-radius: 5px;\n",
       "        font-family: sans-serif;\n",
       "        font-size: 14px;\n",
       "        animation: fadeIn 0.5s ease-out;\n",
       "        line-height: 1.6;\n",
       "    \">\n",
       "        <span style=\"font-weight: bold; margin-right: 8px;\">⚠️ WARNING:</span>\n",
       "        Skipped kaliua_10520.jpg: 'processed'\n",
       "    </div>\n",
       "    <style>\n",
       "        @keyframes fadeIn {\n",
       "            from { opacity: 0; transform: translateY(-10px); }\n",
       "            to { opacity: 1; transform: translateY(0); }\n",
       "        }\n",
       "    </style>\n",
       "    "
      ],
      "text/plain": [
       "<IPython.core.display.HTML object>"
      ]
     },
     "metadata": {},
     "output_type": "display_data"
    },
    {
     "data": {
      "text/html": [
       "\n",
       "    <div style=\"\n",
       "        border: 1px solid #856404;\n",
       "        background-color: rgba(255, 193, 7, 0.1);\n",
       "        color: #856404;\n",
       "        padding: 12px 18px;\n",
       "        margin: 10px 0;\n",
       "        border-radius: 5px;\n",
       "        font-family: sans-serif;\n",
       "        font-size: 14px;\n",
       "        animation: fadeIn 0.5s ease-out;\n",
       "        line-height: 1.6;\n",
       "    \">\n",
       "        <span style=\"font-weight: bold; margin-right: 8px;\">⚠️ WARNING:</span>\n",
       "        Skipped kaliua_10521.jpg: 'processed'\n",
       "    </div>\n",
       "    <style>\n",
       "        @keyframes fadeIn {\n",
       "            from { opacity: 0; transform: translateY(-10px); }\n",
       "            to { opacity: 1; transform: translateY(0); }\n",
       "        }\n",
       "    </style>\n",
       "    "
      ],
      "text/plain": [
       "<IPython.core.display.HTML object>"
      ]
     },
     "metadata": {},
     "output_type": "display_data"
    },
    {
     "data": {
      "text/html": [
       "\n",
       "    <div style=\"\n",
       "        border: 1px solid #856404;\n",
       "        background-color: rgba(255, 193, 7, 0.1);\n",
       "        color: #856404;\n",
       "        padding: 12px 18px;\n",
       "        margin: 10px 0;\n",
       "        border-radius: 5px;\n",
       "        font-family: sans-serif;\n",
       "        font-size: 14px;\n",
       "        animation: fadeIn 0.5s ease-out;\n",
       "        line-height: 1.6;\n",
       "    \">\n",
       "        <span style=\"font-weight: bold; margin-right: 8px;\">⚠️ WARNING:</span>\n",
       "        Skipped kaliua_10522.jpg: 'processed'\n",
       "    </div>\n",
       "    <style>\n",
       "        @keyframes fadeIn {\n",
       "            from { opacity: 0; transform: translateY(-10px); }\n",
       "            to { opacity: 1; transform: translateY(0); }\n",
       "        }\n",
       "    </style>\n",
       "    "
      ],
      "text/plain": [
       "<IPython.core.display.HTML object>"
      ]
     },
     "metadata": {},
     "output_type": "display_data"
    },
    {
     "data": {
      "text/html": [
       "\n",
       "    <div style=\"\n",
       "        border: 1px solid #856404;\n",
       "        background-color: rgba(255, 193, 7, 0.1);\n",
       "        color: #856404;\n",
       "        padding: 12px 18px;\n",
       "        margin: 10px 0;\n",
       "        border-radius: 5px;\n",
       "        font-family: sans-serif;\n",
       "        font-size: 14px;\n",
       "        animation: fadeIn 0.5s ease-out;\n",
       "        line-height: 1.6;\n",
       "    \">\n",
       "        <span style=\"font-weight: bold; margin-right: 8px;\">⚠️ WARNING:</span>\n",
       "        Skipped kaliua_10523.jpg: 'processed'\n",
       "    </div>\n",
       "    <style>\n",
       "        @keyframes fadeIn {\n",
       "            from { opacity: 0; transform: translateY(-10px); }\n",
       "            to { opacity: 1; transform: translateY(0); }\n",
       "        }\n",
       "    </style>\n",
       "    "
      ],
      "text/plain": [
       "<IPython.core.display.HTML object>"
      ]
     },
     "metadata": {},
     "output_type": "display_data"
    },
    {
     "data": {
      "text/html": [
       "\n",
       "    <div style=\"\n",
       "        border: 1px solid #856404;\n",
       "        background-color: rgba(255, 193, 7, 0.1);\n",
       "        color: #856404;\n",
       "        padding: 12px 18px;\n",
       "        margin: 10px 0;\n",
       "        border-radius: 5px;\n",
       "        font-family: sans-serif;\n",
       "        font-size: 14px;\n",
       "        animation: fadeIn 0.5s ease-out;\n",
       "        line-height: 1.6;\n",
       "    \">\n",
       "        <span style=\"font-weight: bold; margin-right: 8px;\">⚠️ WARNING:</span>\n",
       "        Skipped kaliua_10524.jpg: 'processed'\n",
       "    </div>\n",
       "    <style>\n",
       "        @keyframes fadeIn {\n",
       "            from { opacity: 0; transform: translateY(-10px); }\n",
       "            to { opacity: 1; transform: translateY(0); }\n",
       "        }\n",
       "    </style>\n",
       "    "
      ],
      "text/plain": [
       "<IPython.core.display.HTML object>"
      ]
     },
     "metadata": {},
     "output_type": "display_data"
    },
    {
     "data": {
      "text/html": [
       "\n",
       "    <div style=\"\n",
       "        border: 1px solid #856404;\n",
       "        background-color: rgba(255, 193, 7, 0.1);\n",
       "        color: #856404;\n",
       "        padding: 12px 18px;\n",
       "        margin: 10px 0;\n",
       "        border-radius: 5px;\n",
       "        font-family: sans-serif;\n",
       "        font-size: 14px;\n",
       "        animation: fadeIn 0.5s ease-out;\n",
       "        line-height: 1.6;\n",
       "    \">\n",
       "        <span style=\"font-weight: bold; margin-right: 8px;\">⚠️ WARNING:</span>\n",
       "        Skipped kaliua_10525.jpg: 'processed'\n",
       "    </div>\n",
       "    <style>\n",
       "        @keyframes fadeIn {\n",
       "            from { opacity: 0; transform: translateY(-10px); }\n",
       "            to { opacity: 1; transform: translateY(0); }\n",
       "        }\n",
       "    </style>\n",
       "    "
      ],
      "text/plain": [
       "<IPython.core.display.HTML object>"
      ]
     },
     "metadata": {},
     "output_type": "display_data"
    },
    {
     "data": {
      "text/html": [
       "\n",
       "    <div style=\"\n",
       "        border: 1px solid #856404;\n",
       "        background-color: rgba(255, 193, 7, 0.1);\n",
       "        color: #856404;\n",
       "        padding: 12px 18px;\n",
       "        margin: 10px 0;\n",
       "        border-radius: 5px;\n",
       "        font-family: sans-serif;\n",
       "        font-size: 14px;\n",
       "        animation: fadeIn 0.5s ease-out;\n",
       "        line-height: 1.6;\n",
       "    \">\n",
       "        <span style=\"font-weight: bold; margin-right: 8px;\">⚠️ WARNING:</span>\n",
       "        Skipped kaliua_10526.jpg: 'processed'\n",
       "    </div>\n",
       "    <style>\n",
       "        @keyframes fadeIn {\n",
       "            from { opacity: 0; transform: translateY(-10px); }\n",
       "            to { opacity: 1; transform: translateY(0); }\n",
       "        }\n",
       "    </style>\n",
       "    "
      ],
      "text/plain": [
       "<IPython.core.display.HTML object>"
      ]
     },
     "metadata": {},
     "output_type": "display_data"
    },
    {
     "data": {
      "text/html": [
       "\n",
       "    <div style=\"\n",
       "        border: 1px solid #856404;\n",
       "        background-color: rgba(255, 193, 7, 0.1);\n",
       "        color: #856404;\n",
       "        padding: 12px 18px;\n",
       "        margin: 10px 0;\n",
       "        border-radius: 5px;\n",
       "        font-family: sans-serif;\n",
       "        font-size: 14px;\n",
       "        animation: fadeIn 0.5s ease-out;\n",
       "        line-height: 1.6;\n",
       "    \">\n",
       "        <span style=\"font-weight: bold; margin-right: 8px;\">⚠️ WARNING:</span>\n",
       "        Skipped kaliua_10527.jpg: 'processed'\n",
       "    </div>\n",
       "    <style>\n",
       "        @keyframes fadeIn {\n",
       "            from { opacity: 0; transform: translateY(-10px); }\n",
       "            to { opacity: 1; transform: translateY(0); }\n",
       "        }\n",
       "    </style>\n",
       "    "
      ],
      "text/plain": [
       "<IPython.core.display.HTML object>"
      ]
     },
     "metadata": {},
     "output_type": "display_data"
    },
    {
     "data": {
      "text/html": [
       "\n",
       "    <div style=\"\n",
       "        border: 1px solid #856404;\n",
       "        background-color: rgba(255, 193, 7, 0.1);\n",
       "        color: #856404;\n",
       "        padding: 12px 18px;\n",
       "        margin: 10px 0;\n",
       "        border-radius: 5px;\n",
       "        font-family: sans-serif;\n",
       "        font-size: 14px;\n",
       "        animation: fadeIn 0.5s ease-out;\n",
       "        line-height: 1.6;\n",
       "    \">\n",
       "        <span style=\"font-weight: bold; margin-right: 8px;\">⚠️ WARNING:</span>\n",
       "        Skipped kaliua_10528.jpg: 'processed'\n",
       "    </div>\n",
       "    <style>\n",
       "        @keyframes fadeIn {\n",
       "            from { opacity: 0; transform: translateY(-10px); }\n",
       "            to { opacity: 1; transform: translateY(0); }\n",
       "        }\n",
       "    </style>\n",
       "    "
      ],
      "text/plain": [
       "<IPython.core.display.HTML object>"
      ]
     },
     "metadata": {},
     "output_type": "display_data"
    },
    {
     "data": {
      "text/html": [
       "\n",
       "    <div style=\"\n",
       "        border: 1px solid #856404;\n",
       "        background-color: rgba(255, 193, 7, 0.1);\n",
       "        color: #856404;\n",
       "        padding: 12px 18px;\n",
       "        margin: 10px 0;\n",
       "        border-radius: 5px;\n",
       "        font-family: sans-serif;\n",
       "        font-size: 14px;\n",
       "        animation: fadeIn 0.5s ease-out;\n",
       "        line-height: 1.6;\n",
       "    \">\n",
       "        <span style=\"font-weight: bold; margin-right: 8px;\">⚠️ WARNING:</span>\n",
       "        Skipped kaliua_10529.jpg: 'processed'\n",
       "    </div>\n",
       "    <style>\n",
       "        @keyframes fadeIn {\n",
       "            from { opacity: 0; transform: translateY(-10px); }\n",
       "            to { opacity: 1; transform: translateY(0); }\n",
       "        }\n",
       "    </style>\n",
       "    "
      ],
      "text/plain": [
       "<IPython.core.display.HTML object>"
      ]
     },
     "metadata": {},
     "output_type": "display_data"
    },
    {
     "data": {
      "text/html": [
       "\n",
       "    <div style=\"\n",
       "        border: 1px solid #856404;\n",
       "        background-color: rgba(255, 193, 7, 0.1);\n",
       "        color: #856404;\n",
       "        padding: 12px 18px;\n",
       "        margin: 10px 0;\n",
       "        border-radius: 5px;\n",
       "        font-family: sans-serif;\n",
       "        font-size: 14px;\n",
       "        animation: fadeIn 0.5s ease-out;\n",
       "        line-height: 1.6;\n",
       "    \">\n",
       "        <span style=\"font-weight: bold; margin-right: 8px;\">⚠️ WARNING:</span>\n",
       "        Skipped kaliua_10530.jpg: 'processed'\n",
       "    </div>\n",
       "    <style>\n",
       "        @keyframes fadeIn {\n",
       "            from { opacity: 0; transform: translateY(-10px); }\n",
       "            to { opacity: 1; transform: translateY(0); }\n",
       "        }\n",
       "    </style>\n",
       "    "
      ],
      "text/plain": [
       "<IPython.core.display.HTML object>"
      ]
     },
     "metadata": {},
     "output_type": "display_data"
    },
    {
     "data": {
      "text/html": [
       "\n",
       "    <div style=\"\n",
       "        border: 1px solid #856404;\n",
       "        background-color: rgba(255, 193, 7, 0.1);\n",
       "        color: #856404;\n",
       "        padding: 12px 18px;\n",
       "        margin: 10px 0;\n",
       "        border-radius: 5px;\n",
       "        font-family: sans-serif;\n",
       "        font-size: 14px;\n",
       "        animation: fadeIn 0.5s ease-out;\n",
       "        line-height: 1.6;\n",
       "    \">\n",
       "        <span style=\"font-weight: bold; margin-right: 8px;\">⚠️ WARNING:</span>\n",
       "        Skipped kaliua_10531.jpg: 'processed'\n",
       "    </div>\n",
       "    <style>\n",
       "        @keyframes fadeIn {\n",
       "            from { opacity: 0; transform: translateY(-10px); }\n",
       "            to { opacity: 1; transform: translateY(0); }\n",
       "        }\n",
       "    </style>\n",
       "    "
      ],
      "text/plain": [
       "<IPython.core.display.HTML object>"
      ]
     },
     "metadata": {},
     "output_type": "display_data"
    },
    {
     "data": {
      "text/html": [
       "\n",
       "    <div style=\"\n",
       "        border: 1px solid #856404;\n",
       "        background-color: rgba(255, 193, 7, 0.1);\n",
       "        color: #856404;\n",
       "        padding: 12px 18px;\n",
       "        margin: 10px 0;\n",
       "        border-radius: 5px;\n",
       "        font-family: sans-serif;\n",
       "        font-size: 14px;\n",
       "        animation: fadeIn 0.5s ease-out;\n",
       "        line-height: 1.6;\n",
       "    \">\n",
       "        <span style=\"font-weight: bold; margin-right: 8px;\">⚠️ WARNING:</span>\n",
       "        Skipped kaliua_10532.jpg: 'processed'\n",
       "    </div>\n",
       "    <style>\n",
       "        @keyframes fadeIn {\n",
       "            from { opacity: 0; transform: translateY(-10px); }\n",
       "            to { opacity: 1; transform: translateY(0); }\n",
       "        }\n",
       "    </style>\n",
       "    "
      ],
      "text/plain": [
       "<IPython.core.display.HTML object>"
      ]
     },
     "metadata": {},
     "output_type": "display_data"
    },
    {
     "data": {
      "text/html": [
       "\n",
       "    <div style=\"\n",
       "        border: 1px solid #856404;\n",
       "        background-color: rgba(255, 193, 7, 0.1);\n",
       "        color: #856404;\n",
       "        padding: 12px 18px;\n",
       "        margin: 10px 0;\n",
       "        border-radius: 5px;\n",
       "        font-family: sans-serif;\n",
       "        font-size: 14px;\n",
       "        animation: fadeIn 0.5s ease-out;\n",
       "        line-height: 1.6;\n",
       "    \">\n",
       "        <span style=\"font-weight: bold; margin-right: 8px;\">⚠️ WARNING:</span>\n",
       "        Skipped kaliua_10533.jpg: 'processed'\n",
       "    </div>\n",
       "    <style>\n",
       "        @keyframes fadeIn {\n",
       "            from { opacity: 0; transform: translateY(-10px); }\n",
       "            to { opacity: 1; transform: translateY(0); }\n",
       "        }\n",
       "    </style>\n",
       "    "
      ],
      "text/plain": [
       "<IPython.core.display.HTML object>"
      ]
     },
     "metadata": {},
     "output_type": "display_data"
    },
    {
     "data": {
      "text/html": [
       "\n",
       "    <div style=\"\n",
       "        border: 1px solid #856404;\n",
       "        background-color: rgba(255, 193, 7, 0.1);\n",
       "        color: #856404;\n",
       "        padding: 12px 18px;\n",
       "        margin: 10px 0;\n",
       "        border-radius: 5px;\n",
       "        font-family: sans-serif;\n",
       "        font-size: 14px;\n",
       "        animation: fadeIn 0.5s ease-out;\n",
       "        line-height: 1.6;\n",
       "    \">\n",
       "        <span style=\"font-weight: bold; margin-right: 8px;\">⚠️ WARNING:</span>\n",
       "        Skipped kaliua_10534.jpg: 'processed'\n",
       "    </div>\n",
       "    <style>\n",
       "        @keyframes fadeIn {\n",
       "            from { opacity: 0; transform: translateY(-10px); }\n",
       "            to { opacity: 1; transform: translateY(0); }\n",
       "        }\n",
       "    </style>\n",
       "    "
      ],
      "text/plain": [
       "<IPython.core.display.HTML object>"
      ]
     },
     "metadata": {},
     "output_type": "display_data"
    },
    {
     "data": {
      "text/html": [
       "\n",
       "    <div style=\"\n",
       "        border: 1px solid #856404;\n",
       "        background-color: rgba(255, 193, 7, 0.1);\n",
       "        color: #856404;\n",
       "        padding: 12px 18px;\n",
       "        margin: 10px 0;\n",
       "        border-radius: 5px;\n",
       "        font-family: sans-serif;\n",
       "        font-size: 14px;\n",
       "        animation: fadeIn 0.5s ease-out;\n",
       "        line-height: 1.6;\n",
       "    \">\n",
       "        <span style=\"font-weight: bold; margin-right: 8px;\">⚠️ WARNING:</span>\n",
       "        Skipped kaliua_10535.jpg: 'processed'\n",
       "    </div>\n",
       "    <style>\n",
       "        @keyframes fadeIn {\n",
       "            from { opacity: 0; transform: translateY(-10px); }\n",
       "            to { opacity: 1; transform: translateY(0); }\n",
       "        }\n",
       "    </style>\n",
       "    "
      ],
      "text/plain": [
       "<IPython.core.display.HTML object>"
      ]
     },
     "metadata": {},
     "output_type": "display_data"
    },
    {
     "data": {
      "text/html": [
       "\n",
       "    <div style=\"\n",
       "        border: 1px solid #856404;\n",
       "        background-color: rgba(255, 193, 7, 0.1);\n",
       "        color: #856404;\n",
       "        padding: 12px 18px;\n",
       "        margin: 10px 0;\n",
       "        border-radius: 5px;\n",
       "        font-family: sans-serif;\n",
       "        font-size: 14px;\n",
       "        animation: fadeIn 0.5s ease-out;\n",
       "        line-height: 1.6;\n",
       "    \">\n",
       "        <span style=\"font-weight: bold; margin-right: 8px;\">⚠️ WARNING:</span>\n",
       "        Skipped kaliua_10536.jpg: 'processed'\n",
       "    </div>\n",
       "    <style>\n",
       "        @keyframes fadeIn {\n",
       "            from { opacity: 0; transform: translateY(-10px); }\n",
       "            to { opacity: 1; transform: translateY(0); }\n",
       "        }\n",
       "    </style>\n",
       "    "
      ],
      "text/plain": [
       "<IPython.core.display.HTML object>"
      ]
     },
     "metadata": {},
     "output_type": "display_data"
    },
    {
     "data": {
      "text/html": [
       "\n",
       "    <div style=\"\n",
       "        border: 1px solid #856404;\n",
       "        background-color: rgba(255, 193, 7, 0.1);\n",
       "        color: #856404;\n",
       "        padding: 12px 18px;\n",
       "        margin: 10px 0;\n",
       "        border-radius: 5px;\n",
       "        font-family: sans-serif;\n",
       "        font-size: 14px;\n",
       "        animation: fadeIn 0.5s ease-out;\n",
       "        line-height: 1.6;\n",
       "    \">\n",
       "        <span style=\"font-weight: bold; margin-right: 8px;\">⚠️ WARNING:</span>\n",
       "        Skipped kaliua_10537.jpg: 'processed'\n",
       "    </div>\n",
       "    <style>\n",
       "        @keyframes fadeIn {\n",
       "            from { opacity: 0; transform: translateY(-10px); }\n",
       "            to { opacity: 1; transform: translateY(0); }\n",
       "        }\n",
       "    </style>\n",
       "    "
      ],
      "text/plain": [
       "<IPython.core.display.HTML object>"
      ]
     },
     "metadata": {},
     "output_type": "display_data"
    },
    {
     "data": {
      "text/html": [
       "\n",
       "    <div style=\"\n",
       "        border: 1px solid #856404;\n",
       "        background-color: rgba(255, 193, 7, 0.1);\n",
       "        color: #856404;\n",
       "        padding: 12px 18px;\n",
       "        margin: 10px 0;\n",
       "        border-radius: 5px;\n",
       "        font-family: sans-serif;\n",
       "        font-size: 14px;\n",
       "        animation: fadeIn 0.5s ease-out;\n",
       "        line-height: 1.6;\n",
       "    \">\n",
       "        <span style=\"font-weight: bold; margin-right: 8px;\">⚠️ WARNING:</span>\n",
       "        Skipped kaliua_10538.jpg: 'processed'\n",
       "    </div>\n",
       "    <style>\n",
       "        @keyframes fadeIn {\n",
       "            from { opacity: 0; transform: translateY(-10px); }\n",
       "            to { opacity: 1; transform: translateY(0); }\n",
       "        }\n",
       "    </style>\n",
       "    "
      ],
      "text/plain": [
       "<IPython.core.display.HTML object>"
      ]
     },
     "metadata": {},
     "output_type": "display_data"
    },
    {
     "data": {
      "text/html": [
       "\n",
       "    <div style=\"\n",
       "        border: 1px solid #856404;\n",
       "        background-color: rgba(255, 193, 7, 0.1);\n",
       "        color: #856404;\n",
       "        padding: 12px 18px;\n",
       "        margin: 10px 0;\n",
       "        border-radius: 5px;\n",
       "        font-family: sans-serif;\n",
       "        font-size: 14px;\n",
       "        animation: fadeIn 0.5s ease-out;\n",
       "        line-height: 1.6;\n",
       "    \">\n",
       "        <span style=\"font-weight: bold; margin-right: 8px;\">⚠️ WARNING:</span>\n",
       "        Skipped kaliua_10539.jpg: 'processed'\n",
       "    </div>\n",
       "    <style>\n",
       "        @keyframes fadeIn {\n",
       "            from { opacity: 0; transform: translateY(-10px); }\n",
       "            to { opacity: 1; transform: translateY(0); }\n",
       "        }\n",
       "    </style>\n",
       "    "
      ],
      "text/plain": [
       "<IPython.core.display.HTML object>"
      ]
     },
     "metadata": {},
     "output_type": "display_data"
    },
    {
     "data": {
      "text/html": [
       "\n",
       "    <div style=\"\n",
       "        border: 1px solid #856404;\n",
       "        background-color: rgba(255, 193, 7, 0.1);\n",
       "        color: #856404;\n",
       "        padding: 12px 18px;\n",
       "        margin: 10px 0;\n",
       "        border-radius: 5px;\n",
       "        font-family: sans-serif;\n",
       "        font-size: 14px;\n",
       "        animation: fadeIn 0.5s ease-out;\n",
       "        line-height: 1.6;\n",
       "    \">\n",
       "        <span style=\"font-weight: bold; margin-right: 8px;\">⚠️ WARNING:</span>\n",
       "        Skipped kaliua_10540.jpg: 'processed'\n",
       "    </div>\n",
       "    <style>\n",
       "        @keyframes fadeIn {\n",
       "            from { opacity: 0; transform: translateY(-10px); }\n",
       "            to { opacity: 1; transform: translateY(0); }\n",
       "        }\n",
       "    </style>\n",
       "    "
      ],
      "text/plain": [
       "<IPython.core.display.HTML object>"
      ]
     },
     "metadata": {},
     "output_type": "display_data"
    },
    {
     "data": {
      "text/html": [
       "\n",
       "    <div style=\"\n",
       "        border: 1px solid #856404;\n",
       "        background-color: rgba(255, 193, 7, 0.1);\n",
       "        color: #856404;\n",
       "        padding: 12px 18px;\n",
       "        margin: 10px 0;\n",
       "        border-radius: 5px;\n",
       "        font-family: sans-serif;\n",
       "        font-size: 14px;\n",
       "        animation: fadeIn 0.5s ease-out;\n",
       "        line-height: 1.6;\n",
       "    \">\n",
       "        <span style=\"font-weight: bold; margin-right: 8px;\">⚠️ WARNING:</span>\n",
       "        Skipped kaliua_10541.jpg: 'processed'\n",
       "    </div>\n",
       "    <style>\n",
       "        @keyframes fadeIn {\n",
       "            from { opacity: 0; transform: translateY(-10px); }\n",
       "            to { opacity: 1; transform: translateY(0); }\n",
       "        }\n",
       "    </style>\n",
       "    "
      ],
      "text/plain": [
       "<IPython.core.display.HTML object>"
      ]
     },
     "metadata": {},
     "output_type": "display_data"
    },
    {
     "data": {
      "text/html": [
       "\n",
       "    <div style=\"\n",
       "        border: 1px solid #856404;\n",
       "        background-color: rgba(255, 193, 7, 0.1);\n",
       "        color: #856404;\n",
       "        padding: 12px 18px;\n",
       "        margin: 10px 0;\n",
       "        border-radius: 5px;\n",
       "        font-family: sans-serif;\n",
       "        font-size: 14px;\n",
       "        animation: fadeIn 0.5s ease-out;\n",
       "        line-height: 1.6;\n",
       "    \">\n",
       "        <span style=\"font-weight: bold; margin-right: 8px;\">⚠️ WARNING:</span>\n",
       "        Skipped kaliua_10542.jpg: 'processed'\n",
       "    </div>\n",
       "    <style>\n",
       "        @keyframes fadeIn {\n",
       "            from { opacity: 0; transform: translateY(-10px); }\n",
       "            to { opacity: 1; transform: translateY(0); }\n",
       "        }\n",
       "    </style>\n",
       "    "
      ],
      "text/plain": [
       "<IPython.core.display.HTML object>"
      ]
     },
     "metadata": {},
     "output_type": "display_data"
    },
    {
     "data": {
      "text/html": [
       "\n",
       "    <div style=\"\n",
       "        border: 1px solid #856404;\n",
       "        background-color: rgba(255, 193, 7, 0.1);\n",
       "        color: #856404;\n",
       "        padding: 12px 18px;\n",
       "        margin: 10px 0;\n",
       "        border-radius: 5px;\n",
       "        font-family: sans-serif;\n",
       "        font-size: 14px;\n",
       "        animation: fadeIn 0.5s ease-out;\n",
       "        line-height: 1.6;\n",
       "    \">\n",
       "        <span style=\"font-weight: bold; margin-right: 8px;\">⚠️ WARNING:</span>\n",
       "        Skipped kaliua_10543.jpg: 'processed'\n",
       "    </div>\n",
       "    <style>\n",
       "        @keyframes fadeIn {\n",
       "            from { opacity: 0; transform: translateY(-10px); }\n",
       "            to { opacity: 1; transform: translateY(0); }\n",
       "        }\n",
       "    </style>\n",
       "    "
      ],
      "text/plain": [
       "<IPython.core.display.HTML object>"
      ]
     },
     "metadata": {},
     "output_type": "display_data"
    },
    {
     "data": {
      "text/html": [
       "\n",
       "    <div style=\"\n",
       "        border: 1px solid #856404;\n",
       "        background-color: rgba(255, 193, 7, 0.1);\n",
       "        color: #856404;\n",
       "        padding: 12px 18px;\n",
       "        margin: 10px 0;\n",
       "        border-radius: 5px;\n",
       "        font-family: sans-serif;\n",
       "        font-size: 14px;\n",
       "        animation: fadeIn 0.5s ease-out;\n",
       "        line-height: 1.6;\n",
       "    \">\n",
       "        <span style=\"font-weight: bold; margin-right: 8px;\">⚠️ WARNING:</span>\n",
       "        Skipped kaliua_10544.jpg: 'processed'\n",
       "    </div>\n",
       "    <style>\n",
       "        @keyframes fadeIn {\n",
       "            from { opacity: 0; transform: translateY(-10px); }\n",
       "            to { opacity: 1; transform: translateY(0); }\n",
       "        }\n",
       "    </style>\n",
       "    "
      ],
      "text/plain": [
       "<IPython.core.display.HTML object>"
      ]
     },
     "metadata": {},
     "output_type": "display_data"
    },
    {
     "data": {
      "text/html": [
       "\n",
       "    <div style=\"\n",
       "        border: 1px solid #856404;\n",
       "        background-color: rgba(255, 193, 7, 0.1);\n",
       "        color: #856404;\n",
       "        padding: 12px 18px;\n",
       "        margin: 10px 0;\n",
       "        border-radius: 5px;\n",
       "        font-family: sans-serif;\n",
       "        font-size: 14px;\n",
       "        animation: fadeIn 0.5s ease-out;\n",
       "        line-height: 1.6;\n",
       "    \">\n",
       "        <span style=\"font-weight: bold; margin-right: 8px;\">⚠️ WARNING:</span>\n",
       "        Skipped kaliua_10545.jpg: 'processed'\n",
       "    </div>\n",
       "    <style>\n",
       "        @keyframes fadeIn {\n",
       "            from { opacity: 0; transform: translateY(-10px); }\n",
       "            to { opacity: 1; transform: translateY(0); }\n",
       "        }\n",
       "    </style>\n",
       "    "
      ],
      "text/plain": [
       "<IPython.core.display.HTML object>"
      ]
     },
     "metadata": {},
     "output_type": "display_data"
    },
    {
     "data": {
      "text/html": [
       "\n",
       "    <div style=\"\n",
       "        border: 1px solid #856404;\n",
       "        background-color: rgba(255, 193, 7, 0.1);\n",
       "        color: #856404;\n",
       "        padding: 12px 18px;\n",
       "        margin: 10px 0;\n",
       "        border-radius: 5px;\n",
       "        font-family: sans-serif;\n",
       "        font-size: 14px;\n",
       "        animation: fadeIn 0.5s ease-out;\n",
       "        line-height: 1.6;\n",
       "    \">\n",
       "        <span style=\"font-weight: bold; margin-right: 8px;\">⚠️ WARNING:</span>\n",
       "        Skipped kaliua_10546.jpg: 'processed'\n",
       "    </div>\n",
       "    <style>\n",
       "        @keyframes fadeIn {\n",
       "            from { opacity: 0; transform: translateY(-10px); }\n",
       "            to { opacity: 1; transform: translateY(0); }\n",
       "        }\n",
       "    </style>\n",
       "    "
      ],
      "text/plain": [
       "<IPython.core.display.HTML object>"
      ]
     },
     "metadata": {},
     "output_type": "display_data"
    },
    {
     "data": {
      "text/html": [
       "\n",
       "    <div style=\"\n",
       "        border: 1px solid #856404;\n",
       "        background-color: rgba(255, 193, 7, 0.1);\n",
       "        color: #856404;\n",
       "        padding: 12px 18px;\n",
       "        margin: 10px 0;\n",
       "        border-radius: 5px;\n",
       "        font-family: sans-serif;\n",
       "        font-size: 14px;\n",
       "        animation: fadeIn 0.5s ease-out;\n",
       "        line-height: 1.6;\n",
       "    \">\n",
       "        <span style=\"font-weight: bold; margin-right: 8px;\">⚠️ WARNING:</span>\n",
       "        Skipped kaliua_10547.jpg: 'processed'\n",
       "    </div>\n",
       "    <style>\n",
       "        @keyframes fadeIn {\n",
       "            from { opacity: 0; transform: translateY(-10px); }\n",
       "            to { opacity: 1; transform: translateY(0); }\n",
       "        }\n",
       "    </style>\n",
       "    "
      ],
      "text/plain": [
       "<IPython.core.display.HTML object>"
      ]
     },
     "metadata": {},
     "output_type": "display_data"
    },
    {
     "data": {
      "text/html": [
       "\n",
       "    <div style=\"\n",
       "        border: 1px solid #856404;\n",
       "        background-color: rgba(255, 193, 7, 0.1);\n",
       "        color: #856404;\n",
       "        padding: 12px 18px;\n",
       "        margin: 10px 0;\n",
       "        border-radius: 5px;\n",
       "        font-family: sans-serif;\n",
       "        font-size: 14px;\n",
       "        animation: fadeIn 0.5s ease-out;\n",
       "        line-height: 1.6;\n",
       "    \">\n",
       "        <span style=\"font-weight: bold; margin-right: 8px;\">⚠️ WARNING:</span>\n",
       "        Skipped kaliua_10548.jpg: 'processed'\n",
       "    </div>\n",
       "    <style>\n",
       "        @keyframes fadeIn {\n",
       "            from { opacity: 0; transform: translateY(-10px); }\n",
       "            to { opacity: 1; transform: translateY(0); }\n",
       "        }\n",
       "    </style>\n",
       "    "
      ],
      "text/plain": [
       "<IPython.core.display.HTML object>"
      ]
     },
     "metadata": {},
     "output_type": "display_data"
    },
    {
     "data": {
      "text/html": [
       "\n",
       "    <div style=\"\n",
       "        border: 1px solid #856404;\n",
       "        background-color: rgba(255, 193, 7, 0.1);\n",
       "        color: #856404;\n",
       "        padding: 12px 18px;\n",
       "        margin: 10px 0;\n",
       "        border-radius: 5px;\n",
       "        font-family: sans-serif;\n",
       "        font-size: 14px;\n",
       "        animation: fadeIn 0.5s ease-out;\n",
       "        line-height: 1.6;\n",
       "    \">\n",
       "        <span style=\"font-weight: bold; margin-right: 8px;\">⚠️ WARNING:</span>\n",
       "        Skipped kaliua_10549.jpg: 'processed'\n",
       "    </div>\n",
       "    <style>\n",
       "        @keyframes fadeIn {\n",
       "            from { opacity: 0; transform: translateY(-10px); }\n",
       "            to { opacity: 1; transform: translateY(0); }\n",
       "        }\n",
       "    </style>\n",
       "    "
      ],
      "text/plain": [
       "<IPython.core.display.HTML object>"
      ]
     },
     "metadata": {},
     "output_type": "display_data"
    },
    {
     "data": {
      "text/html": [
       "\n",
       "    <div style=\"\n",
       "        border: 1px solid #856404;\n",
       "        background-color: rgba(255, 193, 7, 0.1);\n",
       "        color: #856404;\n",
       "        padding: 12px 18px;\n",
       "        margin: 10px 0;\n",
       "        border-radius: 5px;\n",
       "        font-family: sans-serif;\n",
       "        font-size: 14px;\n",
       "        animation: fadeIn 0.5s ease-out;\n",
       "        line-height: 1.6;\n",
       "    \">\n",
       "        <span style=\"font-weight: bold; margin-right: 8px;\">⚠️ WARNING:</span>\n",
       "        Skipped kaliua_10550.jpg: 'processed'\n",
       "    </div>\n",
       "    <style>\n",
       "        @keyframes fadeIn {\n",
       "            from { opacity: 0; transform: translateY(-10px); }\n",
       "            to { opacity: 1; transform: translateY(0); }\n",
       "        }\n",
       "    </style>\n",
       "    "
      ],
      "text/plain": [
       "<IPython.core.display.HTML object>"
      ]
     },
     "metadata": {},
     "output_type": "display_data"
    },
    {
     "data": {
      "text/html": [
       "\n",
       "    <div style=\"\n",
       "        border: 1px solid #856404;\n",
       "        background-color: rgba(255, 193, 7, 0.1);\n",
       "        color: #856404;\n",
       "        padding: 12px 18px;\n",
       "        margin: 10px 0;\n",
       "        border-radius: 5px;\n",
       "        font-family: sans-serif;\n",
       "        font-size: 14px;\n",
       "        animation: fadeIn 0.5s ease-out;\n",
       "        line-height: 1.6;\n",
       "    \">\n",
       "        <span style=\"font-weight: bold; margin-right: 8px;\">⚠️ WARNING:</span>\n",
       "        Skipped kaliua_10551.jpg: 'processed'\n",
       "    </div>\n",
       "    <style>\n",
       "        @keyframes fadeIn {\n",
       "            from { opacity: 0; transform: translateY(-10px); }\n",
       "            to { opacity: 1; transform: translateY(0); }\n",
       "        }\n",
       "    </style>\n",
       "    "
      ],
      "text/plain": [
       "<IPython.core.display.HTML object>"
      ]
     },
     "metadata": {},
     "output_type": "display_data"
    },
    {
     "data": {
      "text/html": [
       "\n",
       "    <div style=\"\n",
       "        border: 1px solid #856404;\n",
       "        background-color: rgba(255, 193, 7, 0.1);\n",
       "        color: #856404;\n",
       "        padding: 12px 18px;\n",
       "        margin: 10px 0;\n",
       "        border-radius: 5px;\n",
       "        font-family: sans-serif;\n",
       "        font-size: 14px;\n",
       "        animation: fadeIn 0.5s ease-out;\n",
       "        line-height: 1.6;\n",
       "    \">\n",
       "        <span style=\"font-weight: bold; margin-right: 8px;\">⚠️ WARNING:</span>\n",
       "        Skipped kaliua_10552.jpg: 'processed'\n",
       "    </div>\n",
       "    <style>\n",
       "        @keyframes fadeIn {\n",
       "            from { opacity: 0; transform: translateY(-10px); }\n",
       "            to { opacity: 1; transform: translateY(0); }\n",
       "        }\n",
       "    </style>\n",
       "    "
      ],
      "text/plain": [
       "<IPython.core.display.HTML object>"
      ]
     },
     "metadata": {},
     "output_type": "display_data"
    },
    {
     "data": {
      "text/html": [
       "\n",
       "    <div style=\"\n",
       "        border: 1px solid #856404;\n",
       "        background-color: rgba(255, 193, 7, 0.1);\n",
       "        color: #856404;\n",
       "        padding: 12px 18px;\n",
       "        margin: 10px 0;\n",
       "        border-radius: 5px;\n",
       "        font-family: sans-serif;\n",
       "        font-size: 14px;\n",
       "        animation: fadeIn 0.5s ease-out;\n",
       "        line-height: 1.6;\n",
       "    \">\n",
       "        <span style=\"font-weight: bold; margin-right: 8px;\">⚠️ WARNING:</span>\n",
       "        Skipped kaliua_10553.jpg: 'processed'\n",
       "    </div>\n",
       "    <style>\n",
       "        @keyframes fadeIn {\n",
       "            from { opacity: 0; transform: translateY(-10px); }\n",
       "            to { opacity: 1; transform: translateY(0); }\n",
       "        }\n",
       "    </style>\n",
       "    "
      ],
      "text/plain": [
       "<IPython.core.display.HTML object>"
      ]
     },
     "metadata": {},
     "output_type": "display_data"
    },
    {
     "data": {
      "text/html": [
       "\n",
       "    <div style=\"\n",
       "        border: 1px solid #856404;\n",
       "        background-color: rgba(255, 193, 7, 0.1);\n",
       "        color: #856404;\n",
       "        padding: 12px 18px;\n",
       "        margin: 10px 0;\n",
       "        border-radius: 5px;\n",
       "        font-family: sans-serif;\n",
       "        font-size: 14px;\n",
       "        animation: fadeIn 0.5s ease-out;\n",
       "        line-height: 1.6;\n",
       "    \">\n",
       "        <span style=\"font-weight: bold; margin-right: 8px;\">⚠️ WARNING:</span>\n",
       "        Skipped kaliua_10554.jpg: 'processed'\n",
       "    </div>\n",
       "    <style>\n",
       "        @keyframes fadeIn {\n",
       "            from { opacity: 0; transform: translateY(-10px); }\n",
       "            to { opacity: 1; transform: translateY(0); }\n",
       "        }\n",
       "    </style>\n",
       "    "
      ],
      "text/plain": [
       "<IPython.core.display.HTML object>"
      ]
     },
     "metadata": {},
     "output_type": "display_data"
    },
    {
     "data": {
      "text/html": [
       "\n",
       "    <div style=\"\n",
       "        border: 1px solid #856404;\n",
       "        background-color: rgba(255, 193, 7, 0.1);\n",
       "        color: #856404;\n",
       "        padding: 12px 18px;\n",
       "        margin: 10px 0;\n",
       "        border-radius: 5px;\n",
       "        font-family: sans-serif;\n",
       "        font-size: 14px;\n",
       "        animation: fadeIn 0.5s ease-out;\n",
       "        line-height: 1.6;\n",
       "    \">\n",
       "        <span style=\"font-weight: bold; margin-right: 8px;\">⚠️ WARNING:</span>\n",
       "        Skipped kaliua_10555.jpg: 'processed'\n",
       "    </div>\n",
       "    <style>\n",
       "        @keyframes fadeIn {\n",
       "            from { opacity: 0; transform: translateY(-10px); }\n",
       "            to { opacity: 1; transform: translateY(0); }\n",
       "        }\n",
       "    </style>\n",
       "    "
      ],
      "text/plain": [
       "<IPython.core.display.HTML object>"
      ]
     },
     "metadata": {},
     "output_type": "display_data"
    },
    {
     "data": {
      "text/html": [
       "\n",
       "    <div style=\"\n",
       "        border: 1px solid #856404;\n",
       "        background-color: rgba(255, 193, 7, 0.1);\n",
       "        color: #856404;\n",
       "        padding: 12px 18px;\n",
       "        margin: 10px 0;\n",
       "        border-radius: 5px;\n",
       "        font-family: sans-serif;\n",
       "        font-size: 14px;\n",
       "        animation: fadeIn 0.5s ease-out;\n",
       "        line-height: 1.6;\n",
       "    \">\n",
       "        <span style=\"font-weight: bold; margin-right: 8px;\">⚠️ WARNING:</span>\n",
       "        Skipped kaliua_10556.jpg: 'processed'\n",
       "    </div>\n",
       "    <style>\n",
       "        @keyframes fadeIn {\n",
       "            from { opacity: 0; transform: translateY(-10px); }\n",
       "            to { opacity: 1; transform: translateY(0); }\n",
       "        }\n",
       "    </style>\n",
       "    "
      ],
      "text/plain": [
       "<IPython.core.display.HTML object>"
      ]
     },
     "metadata": {},
     "output_type": "display_data"
    },
    {
     "data": {
      "text/html": [
       "\n",
       "    <div style=\"\n",
       "        border: 1px solid #856404;\n",
       "        background-color: rgba(255, 193, 7, 0.1);\n",
       "        color: #856404;\n",
       "        padding: 12px 18px;\n",
       "        margin: 10px 0;\n",
       "        border-radius: 5px;\n",
       "        font-family: sans-serif;\n",
       "        font-size: 14px;\n",
       "        animation: fadeIn 0.5s ease-out;\n",
       "        line-height: 1.6;\n",
       "    \">\n",
       "        <span style=\"font-weight: bold; margin-right: 8px;\">⚠️ WARNING:</span>\n",
       "        Skipped kaliua_10557.jpg: 'processed'\n",
       "    </div>\n",
       "    <style>\n",
       "        @keyframes fadeIn {\n",
       "            from { opacity: 0; transform: translateY(-10px); }\n",
       "            to { opacity: 1; transform: translateY(0); }\n",
       "        }\n",
       "    </style>\n",
       "    "
      ],
      "text/plain": [
       "<IPython.core.display.HTML object>"
      ]
     },
     "metadata": {},
     "output_type": "display_data"
    },
    {
     "data": {
      "text/html": [
       "\n",
       "    <div style=\"\n",
       "        border: 1px solid #856404;\n",
       "        background-color: rgba(255, 193, 7, 0.1);\n",
       "        color: #856404;\n",
       "        padding: 12px 18px;\n",
       "        margin: 10px 0;\n",
       "        border-radius: 5px;\n",
       "        font-family: sans-serif;\n",
       "        font-size: 14px;\n",
       "        animation: fadeIn 0.5s ease-out;\n",
       "        line-height: 1.6;\n",
       "    \">\n",
       "        <span style=\"font-weight: bold; margin-right: 8px;\">⚠️ WARNING:</span>\n",
       "        Skipped kaliua_10558.jpg: 'processed'\n",
       "    </div>\n",
       "    <style>\n",
       "        @keyframes fadeIn {\n",
       "            from { opacity: 0; transform: translateY(-10px); }\n",
       "            to { opacity: 1; transform: translateY(0); }\n",
       "        }\n",
       "    </style>\n",
       "    "
      ],
      "text/plain": [
       "<IPython.core.display.HTML object>"
      ]
     },
     "metadata": {},
     "output_type": "display_data"
    },
    {
     "data": {
      "text/html": [
       "\n",
       "    <div style=\"\n",
       "        border: 1px solid #856404;\n",
       "        background-color: rgba(255, 193, 7, 0.1);\n",
       "        color: #856404;\n",
       "        padding: 12px 18px;\n",
       "        margin: 10px 0;\n",
       "        border-radius: 5px;\n",
       "        font-family: sans-serif;\n",
       "        font-size: 14px;\n",
       "        animation: fadeIn 0.5s ease-out;\n",
       "        line-height: 1.6;\n",
       "    \">\n",
       "        <span style=\"font-weight: bold; margin-right: 8px;\">⚠️ WARNING:</span>\n",
       "        Skipped kaliua_10559.jpg: 'processed'\n",
       "    </div>\n",
       "    <style>\n",
       "        @keyframes fadeIn {\n",
       "            from { opacity: 0; transform: translateY(-10px); }\n",
       "            to { opacity: 1; transform: translateY(0); }\n",
       "        }\n",
       "    </style>\n",
       "    "
      ],
      "text/plain": [
       "<IPython.core.display.HTML object>"
      ]
     },
     "metadata": {},
     "output_type": "display_data"
    },
    {
     "data": {
      "text/html": [
       "\n",
       "    <div style=\"\n",
       "        border: 1px solid #856404;\n",
       "        background-color: rgba(255, 193, 7, 0.1);\n",
       "        color: #856404;\n",
       "        padding: 12px 18px;\n",
       "        margin: 10px 0;\n",
       "        border-radius: 5px;\n",
       "        font-family: sans-serif;\n",
       "        font-size: 14px;\n",
       "        animation: fadeIn 0.5s ease-out;\n",
       "        line-height: 1.6;\n",
       "    \">\n",
       "        <span style=\"font-weight: bold; margin-right: 8px;\">⚠️ WARNING:</span>\n",
       "        Skipped kaliua_10560.jpg: 'processed'\n",
       "    </div>\n",
       "    <style>\n",
       "        @keyframes fadeIn {\n",
       "            from { opacity: 0; transform: translateY(-10px); }\n",
       "            to { opacity: 1; transform: translateY(0); }\n",
       "        }\n",
       "    </style>\n",
       "    "
      ],
      "text/plain": [
       "<IPython.core.display.HTML object>"
      ]
     },
     "metadata": {},
     "output_type": "display_data"
    },
    {
     "data": {
      "text/html": [
       "\n",
       "    <div style=\"\n",
       "        border: 1px solid #856404;\n",
       "        background-color: rgba(255, 193, 7, 0.1);\n",
       "        color: #856404;\n",
       "        padding: 12px 18px;\n",
       "        margin: 10px 0;\n",
       "        border-radius: 5px;\n",
       "        font-family: sans-serif;\n",
       "        font-size: 14px;\n",
       "        animation: fadeIn 0.5s ease-out;\n",
       "        line-height: 1.6;\n",
       "    \">\n",
       "        <span style=\"font-weight: bold; margin-right: 8px;\">⚠️ WARNING:</span>\n",
       "        Skipped kaliua_10561.jpg: 'processed'\n",
       "    </div>\n",
       "    <style>\n",
       "        @keyframes fadeIn {\n",
       "            from { opacity: 0; transform: translateY(-10px); }\n",
       "            to { opacity: 1; transform: translateY(0); }\n",
       "        }\n",
       "    </style>\n",
       "    "
      ],
      "text/plain": [
       "<IPython.core.display.HTML object>"
      ]
     },
     "metadata": {},
     "output_type": "display_data"
    },
    {
     "data": {
      "text/html": [
       "\n",
       "    <div style=\"\n",
       "        border: 1px solid #856404;\n",
       "        background-color: rgba(255, 193, 7, 0.1);\n",
       "        color: #856404;\n",
       "        padding: 12px 18px;\n",
       "        margin: 10px 0;\n",
       "        border-radius: 5px;\n",
       "        font-family: sans-serif;\n",
       "        font-size: 14px;\n",
       "        animation: fadeIn 0.5s ease-out;\n",
       "        line-height: 1.6;\n",
       "    \">\n",
       "        <span style=\"font-weight: bold; margin-right: 8px;\">⚠️ WARNING:</span>\n",
       "        Skipped kaliua_10562.jpg: 'processed'\n",
       "    </div>\n",
       "    <style>\n",
       "        @keyframes fadeIn {\n",
       "            from { opacity: 0; transform: translateY(-10px); }\n",
       "            to { opacity: 1; transform: translateY(0); }\n",
       "        }\n",
       "    </style>\n",
       "    "
      ],
      "text/plain": [
       "<IPython.core.display.HTML object>"
      ]
     },
     "metadata": {},
     "output_type": "display_data"
    },
    {
     "data": {
      "text/html": [
       "\n",
       "    <div style=\"\n",
       "        border: 1px solid #856404;\n",
       "        background-color: rgba(255, 193, 7, 0.1);\n",
       "        color: #856404;\n",
       "        padding: 12px 18px;\n",
       "        margin: 10px 0;\n",
       "        border-radius: 5px;\n",
       "        font-family: sans-serif;\n",
       "        font-size: 14px;\n",
       "        animation: fadeIn 0.5s ease-out;\n",
       "        line-height: 1.6;\n",
       "    \">\n",
       "        <span style=\"font-weight: bold; margin-right: 8px;\">⚠️ WARNING:</span>\n",
       "        Skipped kaliua_10563.jpg: 'processed'\n",
       "    </div>\n",
       "    <style>\n",
       "        @keyframes fadeIn {\n",
       "            from { opacity: 0; transform: translateY(-10px); }\n",
       "            to { opacity: 1; transform: translateY(0); }\n",
       "        }\n",
       "    </style>\n",
       "    "
      ],
      "text/plain": [
       "<IPython.core.display.HTML object>"
      ]
     },
     "metadata": {},
     "output_type": "display_data"
    },
    {
     "data": {
      "text/html": [
       "\n",
       "    <div style=\"\n",
       "        border: 1px solid #856404;\n",
       "        background-color: rgba(255, 193, 7, 0.1);\n",
       "        color: #856404;\n",
       "        padding: 12px 18px;\n",
       "        margin: 10px 0;\n",
       "        border-radius: 5px;\n",
       "        font-family: sans-serif;\n",
       "        font-size: 14px;\n",
       "        animation: fadeIn 0.5s ease-out;\n",
       "        line-height: 1.6;\n",
       "    \">\n",
       "        <span style=\"font-weight: bold; margin-right: 8px;\">⚠️ WARNING:</span>\n",
       "        Skipped kaliua_10564.jpg: 'processed'\n",
       "    </div>\n",
       "    <style>\n",
       "        @keyframes fadeIn {\n",
       "            from { opacity: 0; transform: translateY(-10px); }\n",
       "            to { opacity: 1; transform: translateY(0); }\n",
       "        }\n",
       "    </style>\n",
       "    "
      ],
      "text/plain": [
       "<IPython.core.display.HTML object>"
      ]
     },
     "metadata": {},
     "output_type": "display_data"
    },
    {
     "data": {
      "text/html": [
       "\n",
       "    <div style=\"\n",
       "        border: 1px solid #856404;\n",
       "        background-color: rgba(255, 193, 7, 0.1);\n",
       "        color: #856404;\n",
       "        padding: 12px 18px;\n",
       "        margin: 10px 0;\n",
       "        border-radius: 5px;\n",
       "        font-family: sans-serif;\n",
       "        font-size: 14px;\n",
       "        animation: fadeIn 0.5s ease-out;\n",
       "        line-height: 1.6;\n",
       "    \">\n",
       "        <span style=\"font-weight: bold; margin-right: 8px;\">⚠️ WARNING:</span>\n",
       "        Skipped kaliua_10565.jpg: 'processed'\n",
       "    </div>\n",
       "    <style>\n",
       "        @keyframes fadeIn {\n",
       "            from { opacity: 0; transform: translateY(-10px); }\n",
       "            to { opacity: 1; transform: translateY(0); }\n",
       "        }\n",
       "    </style>\n",
       "    "
      ],
      "text/plain": [
       "<IPython.core.display.HTML object>"
      ]
     },
     "metadata": {},
     "output_type": "display_data"
    },
    {
     "data": {
      "text/html": [
       "\n",
       "    <div style=\"\n",
       "        border: 1px solid #856404;\n",
       "        background-color: rgba(255, 193, 7, 0.1);\n",
       "        color: #856404;\n",
       "        padding: 12px 18px;\n",
       "        margin: 10px 0;\n",
       "        border-radius: 5px;\n",
       "        font-family: sans-serif;\n",
       "        font-size: 14px;\n",
       "        animation: fadeIn 0.5s ease-out;\n",
       "        line-height: 1.6;\n",
       "    \">\n",
       "        <span style=\"font-weight: bold; margin-right: 8px;\">⚠️ WARNING:</span>\n",
       "        Skipped kaliua_10566.jpg: 'processed'\n",
       "    </div>\n",
       "    <style>\n",
       "        @keyframes fadeIn {\n",
       "            from { opacity: 0; transform: translateY(-10px); }\n",
       "            to { opacity: 1; transform: translateY(0); }\n",
       "        }\n",
       "    </style>\n",
       "    "
      ],
      "text/plain": [
       "<IPython.core.display.HTML object>"
      ]
     },
     "metadata": {},
     "output_type": "display_data"
    },
    {
     "data": {
      "text/html": [
       "\n",
       "    <div style=\"\n",
       "        border: 1px solid #856404;\n",
       "        background-color: rgba(255, 193, 7, 0.1);\n",
       "        color: #856404;\n",
       "        padding: 12px 18px;\n",
       "        margin: 10px 0;\n",
       "        border-radius: 5px;\n",
       "        font-family: sans-serif;\n",
       "        font-size: 14px;\n",
       "        animation: fadeIn 0.5s ease-out;\n",
       "        line-height: 1.6;\n",
       "    \">\n",
       "        <span style=\"font-weight: bold; margin-right: 8px;\">⚠️ WARNING:</span>\n",
       "        Skipped kaliua_10567.jpg: 'processed'\n",
       "    </div>\n",
       "    <style>\n",
       "        @keyframes fadeIn {\n",
       "            from { opacity: 0; transform: translateY(-10px); }\n",
       "            to { opacity: 1; transform: translateY(0); }\n",
       "        }\n",
       "    </style>\n",
       "    "
      ],
      "text/plain": [
       "<IPython.core.display.HTML object>"
      ]
     },
     "metadata": {},
     "output_type": "display_data"
    },
    {
     "data": {
      "text/html": [
       "\n",
       "    <div style=\"\n",
       "        border: 1px solid #856404;\n",
       "        background-color: rgba(255, 193, 7, 0.1);\n",
       "        color: #856404;\n",
       "        padding: 12px 18px;\n",
       "        margin: 10px 0;\n",
       "        border-radius: 5px;\n",
       "        font-family: sans-serif;\n",
       "        font-size: 14px;\n",
       "        animation: fadeIn 0.5s ease-out;\n",
       "        line-height: 1.6;\n",
       "    \">\n",
       "        <span style=\"font-weight: bold; margin-right: 8px;\">⚠️ WARNING:</span>\n",
       "        Skipped kaliua_10568.jpg: 'processed'\n",
       "    </div>\n",
       "    <style>\n",
       "        @keyframes fadeIn {\n",
       "            from { opacity: 0; transform: translateY(-10px); }\n",
       "            to { opacity: 1; transform: translateY(0); }\n",
       "        }\n",
       "    </style>\n",
       "    "
      ],
      "text/plain": [
       "<IPython.core.display.HTML object>"
      ]
     },
     "metadata": {},
     "output_type": "display_data"
    },
    {
     "data": {
      "text/html": [
       "\n",
       "    <div style=\"\n",
       "        border: 1px solid #856404;\n",
       "        background-color: rgba(255, 193, 7, 0.1);\n",
       "        color: #856404;\n",
       "        padding: 12px 18px;\n",
       "        margin: 10px 0;\n",
       "        border-radius: 5px;\n",
       "        font-family: sans-serif;\n",
       "        font-size: 14px;\n",
       "        animation: fadeIn 0.5s ease-out;\n",
       "        line-height: 1.6;\n",
       "    \">\n",
       "        <span style=\"font-weight: bold; margin-right: 8px;\">⚠️ WARNING:</span>\n",
       "        Skipped kaliua_10569.jpg: 'processed'\n",
       "    </div>\n",
       "    <style>\n",
       "        @keyframes fadeIn {\n",
       "            from { opacity: 0; transform: translateY(-10px); }\n",
       "            to { opacity: 1; transform: translateY(0); }\n",
       "        }\n",
       "    </style>\n",
       "    "
      ],
      "text/plain": [
       "<IPython.core.display.HTML object>"
      ]
     },
     "metadata": {},
     "output_type": "display_data"
    },
    {
     "data": {
      "text/html": [
       "\n",
       "    <div style=\"\n",
       "        border: 1px solid #856404;\n",
       "        background-color: rgba(255, 193, 7, 0.1);\n",
       "        color: #856404;\n",
       "        padding: 12px 18px;\n",
       "        margin: 10px 0;\n",
       "        border-radius: 5px;\n",
       "        font-family: sans-serif;\n",
       "        font-size: 14px;\n",
       "        animation: fadeIn 0.5s ease-out;\n",
       "        line-height: 1.6;\n",
       "    \">\n",
       "        <span style=\"font-weight: bold; margin-right: 8px;\">⚠️ WARNING:</span>\n",
       "        Skipped kaliua_10570.jpg: 'processed'\n",
       "    </div>\n",
       "    <style>\n",
       "        @keyframes fadeIn {\n",
       "            from { opacity: 0; transform: translateY(-10px); }\n",
       "            to { opacity: 1; transform: translateY(0); }\n",
       "        }\n",
       "    </style>\n",
       "    "
      ],
      "text/plain": [
       "<IPython.core.display.HTML object>"
      ]
     },
     "metadata": {},
     "output_type": "display_data"
    },
    {
     "data": {
      "text/html": [
       "\n",
       "    <div style=\"\n",
       "        border: 1px solid #856404;\n",
       "        background-color: rgba(255, 193, 7, 0.1);\n",
       "        color: #856404;\n",
       "        padding: 12px 18px;\n",
       "        margin: 10px 0;\n",
       "        border-radius: 5px;\n",
       "        font-family: sans-serif;\n",
       "        font-size: 14px;\n",
       "        animation: fadeIn 0.5s ease-out;\n",
       "        line-height: 1.6;\n",
       "    \">\n",
       "        <span style=\"font-weight: bold; margin-right: 8px;\">⚠️ WARNING:</span>\n",
       "        Skipped kaliua_10571.jpg: 'processed'\n",
       "    </div>\n",
       "    <style>\n",
       "        @keyframes fadeIn {\n",
       "            from { opacity: 0; transform: translateY(-10px); }\n",
       "            to { opacity: 1; transform: translateY(0); }\n",
       "        }\n",
       "    </style>\n",
       "    "
      ],
      "text/plain": [
       "<IPython.core.display.HTML object>"
      ]
     },
     "metadata": {},
     "output_type": "display_data"
    },
    {
     "data": {
      "text/html": [
       "\n",
       "    <div style=\"\n",
       "        border: 1px solid #856404;\n",
       "        background-color: rgba(255, 193, 7, 0.1);\n",
       "        color: #856404;\n",
       "        padding: 12px 18px;\n",
       "        margin: 10px 0;\n",
       "        border-radius: 5px;\n",
       "        font-family: sans-serif;\n",
       "        font-size: 14px;\n",
       "        animation: fadeIn 0.5s ease-out;\n",
       "        line-height: 1.6;\n",
       "    \">\n",
       "        <span style=\"font-weight: bold; margin-right: 8px;\">⚠️ WARNING:</span>\n",
       "        Skipped kaliua_10572.jpg: 'processed'\n",
       "    </div>\n",
       "    <style>\n",
       "        @keyframes fadeIn {\n",
       "            from { opacity: 0; transform: translateY(-10px); }\n",
       "            to { opacity: 1; transform: translateY(0); }\n",
       "        }\n",
       "    </style>\n",
       "    "
      ],
      "text/plain": [
       "<IPython.core.display.HTML object>"
      ]
     },
     "metadata": {},
     "output_type": "display_data"
    },
    {
     "data": {
      "text/html": [
       "\n",
       "    <div style=\"\n",
       "        border: 1px solid #856404;\n",
       "        background-color: rgba(255, 193, 7, 0.1);\n",
       "        color: #856404;\n",
       "        padding: 12px 18px;\n",
       "        margin: 10px 0;\n",
       "        border-radius: 5px;\n",
       "        font-family: sans-serif;\n",
       "        font-size: 14px;\n",
       "        animation: fadeIn 0.5s ease-out;\n",
       "        line-height: 1.6;\n",
       "    \">\n",
       "        <span style=\"font-weight: bold; margin-right: 8px;\">⚠️ WARNING:</span>\n",
       "        Skipped kaliua_10573.jpg: 'processed'\n",
       "    </div>\n",
       "    <style>\n",
       "        @keyframes fadeIn {\n",
       "            from { opacity: 0; transform: translateY(-10px); }\n",
       "            to { opacity: 1; transform: translateY(0); }\n",
       "        }\n",
       "    </style>\n",
       "    "
      ],
      "text/plain": [
       "<IPython.core.display.HTML object>"
      ]
     },
     "metadata": {},
     "output_type": "display_data"
    },
    {
     "data": {
      "text/html": [
       "\n",
       "    <div style=\"\n",
       "        border: 1px solid #856404;\n",
       "        background-color: rgba(255, 193, 7, 0.1);\n",
       "        color: #856404;\n",
       "        padding: 12px 18px;\n",
       "        margin: 10px 0;\n",
       "        border-radius: 5px;\n",
       "        font-family: sans-serif;\n",
       "        font-size: 14px;\n",
       "        animation: fadeIn 0.5s ease-out;\n",
       "        line-height: 1.6;\n",
       "    \">\n",
       "        <span style=\"font-weight: bold; margin-right: 8px;\">⚠️ WARNING:</span>\n",
       "        Skipped kaliua_10574.jpg: 'processed'\n",
       "    </div>\n",
       "    <style>\n",
       "        @keyframes fadeIn {\n",
       "            from { opacity: 0; transform: translateY(-10px); }\n",
       "            to { opacity: 1; transform: translateY(0); }\n",
       "        }\n",
       "    </style>\n",
       "    "
      ],
      "text/plain": [
       "<IPython.core.display.HTML object>"
      ]
     },
     "metadata": {},
     "output_type": "display_data"
    },
    {
     "data": {
      "text/html": [
       "\n",
       "    <div style=\"\n",
       "        border: 1px solid #856404;\n",
       "        background-color: rgba(255, 193, 7, 0.1);\n",
       "        color: #856404;\n",
       "        padding: 12px 18px;\n",
       "        margin: 10px 0;\n",
       "        border-radius: 5px;\n",
       "        font-family: sans-serif;\n",
       "        font-size: 14px;\n",
       "        animation: fadeIn 0.5s ease-out;\n",
       "        line-height: 1.6;\n",
       "    \">\n",
       "        <span style=\"font-weight: bold; margin-right: 8px;\">⚠️ WARNING:</span>\n",
       "        Skipped kaliua_10575.jpg: 'processed'\n",
       "    </div>\n",
       "    <style>\n",
       "        @keyframes fadeIn {\n",
       "            from { opacity: 0; transform: translateY(-10px); }\n",
       "            to { opacity: 1; transform: translateY(0); }\n",
       "        }\n",
       "    </style>\n",
       "    "
      ],
      "text/plain": [
       "<IPython.core.display.HTML object>"
      ]
     },
     "metadata": {},
     "output_type": "display_data"
    },
    {
     "data": {
      "text/html": [
       "\n",
       "    <div style=\"\n",
       "        border: 1px solid #856404;\n",
       "        background-color: rgba(255, 193, 7, 0.1);\n",
       "        color: #856404;\n",
       "        padding: 12px 18px;\n",
       "        margin: 10px 0;\n",
       "        border-radius: 5px;\n",
       "        font-family: sans-serif;\n",
       "        font-size: 14px;\n",
       "        animation: fadeIn 0.5s ease-out;\n",
       "        line-height: 1.6;\n",
       "    \">\n",
       "        <span style=\"font-weight: bold; margin-right: 8px;\">⚠️ WARNING:</span>\n",
       "        Skipped kaliua_10576.jpg: 'processed'\n",
       "    </div>\n",
       "    <style>\n",
       "        @keyframes fadeIn {\n",
       "            from { opacity: 0; transform: translateY(-10px); }\n",
       "            to { opacity: 1; transform: translateY(0); }\n",
       "        }\n",
       "    </style>\n",
       "    "
      ],
      "text/plain": [
       "<IPython.core.display.HTML object>"
      ]
     },
     "metadata": {},
     "output_type": "display_data"
    },
    {
     "data": {
      "text/html": [
       "\n",
       "    <div style=\"\n",
       "        border: 1px solid #856404;\n",
       "        background-color: rgba(255, 193, 7, 0.1);\n",
       "        color: #856404;\n",
       "        padding: 12px 18px;\n",
       "        margin: 10px 0;\n",
       "        border-radius: 5px;\n",
       "        font-family: sans-serif;\n",
       "        font-size: 14px;\n",
       "        animation: fadeIn 0.5s ease-out;\n",
       "        line-height: 1.6;\n",
       "    \">\n",
       "        <span style=\"font-weight: bold; margin-right: 8px;\">⚠️ WARNING:</span>\n",
       "        Skipped kaliua_10577.jpg: 'processed'\n",
       "    </div>\n",
       "    <style>\n",
       "        @keyframes fadeIn {\n",
       "            from { opacity: 0; transform: translateY(-10px); }\n",
       "            to { opacity: 1; transform: translateY(0); }\n",
       "        }\n",
       "    </style>\n",
       "    "
      ],
      "text/plain": [
       "<IPython.core.display.HTML object>"
      ]
     },
     "metadata": {},
     "output_type": "display_data"
    },
    {
     "data": {
      "text/html": [
       "\n",
       "    <div style=\"\n",
       "        border: 1px solid #856404;\n",
       "        background-color: rgba(255, 193, 7, 0.1);\n",
       "        color: #856404;\n",
       "        padding: 12px 18px;\n",
       "        margin: 10px 0;\n",
       "        border-radius: 5px;\n",
       "        font-family: sans-serif;\n",
       "        font-size: 14px;\n",
       "        animation: fadeIn 0.5s ease-out;\n",
       "        line-height: 1.6;\n",
       "    \">\n",
       "        <span style=\"font-weight: bold; margin-right: 8px;\">⚠️ WARNING:</span>\n",
       "        Skipped kaliua_10578.jpg: 'processed'\n",
       "    </div>\n",
       "    <style>\n",
       "        @keyframes fadeIn {\n",
       "            from { opacity: 0; transform: translateY(-10px); }\n",
       "            to { opacity: 1; transform: translateY(0); }\n",
       "        }\n",
       "    </style>\n",
       "    "
      ],
      "text/plain": [
       "<IPython.core.display.HTML object>"
      ]
     },
     "metadata": {},
     "output_type": "display_data"
    },
    {
     "data": {
      "text/html": [
       "\n",
       "    <div style=\"\n",
       "        border: 1px solid #856404;\n",
       "        background-color: rgba(255, 193, 7, 0.1);\n",
       "        color: #856404;\n",
       "        padding: 12px 18px;\n",
       "        margin: 10px 0;\n",
       "        border-radius: 5px;\n",
       "        font-family: sans-serif;\n",
       "        font-size: 14px;\n",
       "        animation: fadeIn 0.5s ease-out;\n",
       "        line-height: 1.6;\n",
       "    \">\n",
       "        <span style=\"font-weight: bold; margin-right: 8px;\">⚠️ WARNING:</span>\n",
       "        Skipped kaliua_10579.jpg: 'processed'\n",
       "    </div>\n",
       "    <style>\n",
       "        @keyframes fadeIn {\n",
       "            from { opacity: 0; transform: translateY(-10px); }\n",
       "            to { opacity: 1; transform: translateY(0); }\n",
       "        }\n",
       "    </style>\n",
       "    "
      ],
      "text/plain": [
       "<IPython.core.display.HTML object>"
      ]
     },
     "metadata": {},
     "output_type": "display_data"
    },
    {
     "data": {
      "text/html": [
       "\n",
       "    <div style=\"\n",
       "        border: 1px solid #856404;\n",
       "        background-color: rgba(255, 193, 7, 0.1);\n",
       "        color: #856404;\n",
       "        padding: 12px 18px;\n",
       "        margin: 10px 0;\n",
       "        border-radius: 5px;\n",
       "        font-family: sans-serif;\n",
       "        font-size: 14px;\n",
       "        animation: fadeIn 0.5s ease-out;\n",
       "        line-height: 1.6;\n",
       "    \">\n",
       "        <span style=\"font-weight: bold; margin-right: 8px;\">⚠️ WARNING:</span>\n",
       "        Skipped kaliua_10580.jpg: 'processed'\n",
       "    </div>\n",
       "    <style>\n",
       "        @keyframes fadeIn {\n",
       "            from { opacity: 0; transform: translateY(-10px); }\n",
       "            to { opacity: 1; transform: translateY(0); }\n",
       "        }\n",
       "    </style>\n",
       "    "
      ],
      "text/plain": [
       "<IPython.core.display.HTML object>"
      ]
     },
     "metadata": {},
     "output_type": "display_data"
    },
    {
     "data": {
      "text/html": [
       "\n",
       "    <div style=\"\n",
       "        border: 1px solid #856404;\n",
       "        background-color: rgba(255, 193, 7, 0.1);\n",
       "        color: #856404;\n",
       "        padding: 12px 18px;\n",
       "        margin: 10px 0;\n",
       "        border-radius: 5px;\n",
       "        font-family: sans-serif;\n",
       "        font-size: 14px;\n",
       "        animation: fadeIn 0.5s ease-out;\n",
       "        line-height: 1.6;\n",
       "    \">\n",
       "        <span style=\"font-weight: bold; margin-right: 8px;\">⚠️ WARNING:</span>\n",
       "        Skipped kaliua_10581.jpg: 'processed'\n",
       "    </div>\n",
       "    <style>\n",
       "        @keyframes fadeIn {\n",
       "            from { opacity: 0; transform: translateY(-10px); }\n",
       "            to { opacity: 1; transform: translateY(0); }\n",
       "        }\n",
       "    </style>\n",
       "    "
      ],
      "text/plain": [
       "<IPython.core.display.HTML object>"
      ]
     },
     "metadata": {},
     "output_type": "display_data"
    },
    {
     "data": {
      "text/html": [
       "\n",
       "    <div style=\"\n",
       "        border: 1px solid #856404;\n",
       "        background-color: rgba(255, 193, 7, 0.1);\n",
       "        color: #856404;\n",
       "        padding: 12px 18px;\n",
       "        margin: 10px 0;\n",
       "        border-radius: 5px;\n",
       "        font-family: sans-serif;\n",
       "        font-size: 14px;\n",
       "        animation: fadeIn 0.5s ease-out;\n",
       "        line-height: 1.6;\n",
       "    \">\n",
       "        <span style=\"font-weight: bold; margin-right: 8px;\">⚠️ WARNING:</span>\n",
       "        Skipped kaliua_10582.jpg: 'processed'\n",
       "    </div>\n",
       "    <style>\n",
       "        @keyframes fadeIn {\n",
       "            from { opacity: 0; transform: translateY(-10px); }\n",
       "            to { opacity: 1; transform: translateY(0); }\n",
       "        }\n",
       "    </style>\n",
       "    "
      ],
      "text/plain": [
       "<IPython.core.display.HTML object>"
      ]
     },
     "metadata": {},
     "output_type": "display_data"
    },
    {
     "data": {
      "text/html": [
       "\n",
       "    <div style=\"\n",
       "        border: 1px solid #856404;\n",
       "        background-color: rgba(255, 193, 7, 0.1);\n",
       "        color: #856404;\n",
       "        padding: 12px 18px;\n",
       "        margin: 10px 0;\n",
       "        border-radius: 5px;\n",
       "        font-family: sans-serif;\n",
       "        font-size: 14px;\n",
       "        animation: fadeIn 0.5s ease-out;\n",
       "        line-height: 1.6;\n",
       "    \">\n",
       "        <span style=\"font-weight: bold; margin-right: 8px;\">⚠️ WARNING:</span>\n",
       "        Skipped kaliua_10583.jpg: 'processed'\n",
       "    </div>\n",
       "    <style>\n",
       "        @keyframes fadeIn {\n",
       "            from { opacity: 0; transform: translateY(-10px); }\n",
       "            to { opacity: 1; transform: translateY(0); }\n",
       "        }\n",
       "    </style>\n",
       "    "
      ],
      "text/plain": [
       "<IPython.core.display.HTML object>"
      ]
     },
     "metadata": {},
     "output_type": "display_data"
    },
    {
     "data": {
      "text/html": [
       "\n",
       "    <div style=\"\n",
       "        border: 1px solid #856404;\n",
       "        background-color: rgba(255, 193, 7, 0.1);\n",
       "        color: #856404;\n",
       "        padding: 12px 18px;\n",
       "        margin: 10px 0;\n",
       "        border-radius: 5px;\n",
       "        font-family: sans-serif;\n",
       "        font-size: 14px;\n",
       "        animation: fadeIn 0.5s ease-out;\n",
       "        line-height: 1.6;\n",
       "    \">\n",
       "        <span style=\"font-weight: bold; margin-right: 8px;\">⚠️ WARNING:</span>\n",
       "        Skipped kaliua_10584.jpg: 'processed'\n",
       "    </div>\n",
       "    <style>\n",
       "        @keyframes fadeIn {\n",
       "            from { opacity: 0; transform: translateY(-10px); }\n",
       "            to { opacity: 1; transform: translateY(0); }\n",
       "        }\n",
       "    </style>\n",
       "    "
      ],
      "text/plain": [
       "<IPython.core.display.HTML object>"
      ]
     },
     "metadata": {},
     "output_type": "display_data"
    },
    {
     "data": {
      "text/html": [
       "\n",
       "    <div style=\"\n",
       "        border: 1px solid #856404;\n",
       "        background-color: rgba(255, 193, 7, 0.1);\n",
       "        color: #856404;\n",
       "        padding: 12px 18px;\n",
       "        margin: 10px 0;\n",
       "        border-radius: 5px;\n",
       "        font-family: sans-serif;\n",
       "        font-size: 14px;\n",
       "        animation: fadeIn 0.5s ease-out;\n",
       "        line-height: 1.6;\n",
       "    \">\n",
       "        <span style=\"font-weight: bold; margin-right: 8px;\">⚠️ WARNING:</span>\n",
       "        Skipped kaliua_10585.jpg: 'processed'\n",
       "    </div>\n",
       "    <style>\n",
       "        @keyframes fadeIn {\n",
       "            from { opacity: 0; transform: translateY(-10px); }\n",
       "            to { opacity: 1; transform: translateY(0); }\n",
       "        }\n",
       "    </style>\n",
       "    "
      ],
      "text/plain": [
       "<IPython.core.display.HTML object>"
      ]
     },
     "metadata": {},
     "output_type": "display_data"
    },
    {
     "data": {
      "text/html": [
       "\n",
       "    <div style=\"\n",
       "        border: 1px solid #856404;\n",
       "        background-color: rgba(255, 193, 7, 0.1);\n",
       "        color: #856404;\n",
       "        padding: 12px 18px;\n",
       "        margin: 10px 0;\n",
       "        border-radius: 5px;\n",
       "        font-family: sans-serif;\n",
       "        font-size: 14px;\n",
       "        animation: fadeIn 0.5s ease-out;\n",
       "        line-height: 1.6;\n",
       "    \">\n",
       "        <span style=\"font-weight: bold; margin-right: 8px;\">⚠️ WARNING:</span>\n",
       "        Skipped kaliua_10586.jpg: 'processed'\n",
       "    </div>\n",
       "    <style>\n",
       "        @keyframes fadeIn {\n",
       "            from { opacity: 0; transform: translateY(-10px); }\n",
       "            to { opacity: 1; transform: translateY(0); }\n",
       "        }\n",
       "    </style>\n",
       "    "
      ],
      "text/plain": [
       "<IPython.core.display.HTML object>"
      ]
     },
     "metadata": {},
     "output_type": "display_data"
    },
    {
     "data": {
      "text/html": [
       "\n",
       "    <div style=\"\n",
       "        border: 1px solid #856404;\n",
       "        background-color: rgba(255, 193, 7, 0.1);\n",
       "        color: #856404;\n",
       "        padding: 12px 18px;\n",
       "        margin: 10px 0;\n",
       "        border-radius: 5px;\n",
       "        font-family: sans-serif;\n",
       "        font-size: 14px;\n",
       "        animation: fadeIn 0.5s ease-out;\n",
       "        line-height: 1.6;\n",
       "    \">\n",
       "        <span style=\"font-weight: bold; margin-right: 8px;\">⚠️ WARNING:</span>\n",
       "        Skipped kaliua_10587.jpg: 'processed'\n",
       "    </div>\n",
       "    <style>\n",
       "        @keyframes fadeIn {\n",
       "            from { opacity: 0; transform: translateY(-10px); }\n",
       "            to { opacity: 1; transform: translateY(0); }\n",
       "        }\n",
       "    </style>\n",
       "    "
      ],
      "text/plain": [
       "<IPython.core.display.HTML object>"
      ]
     },
     "metadata": {},
     "output_type": "display_data"
    },
    {
     "data": {
      "text/html": [
       "\n",
       "    <div style=\"\n",
       "        border: 1px solid #856404;\n",
       "        background-color: rgba(255, 193, 7, 0.1);\n",
       "        color: #856404;\n",
       "        padding: 12px 18px;\n",
       "        margin: 10px 0;\n",
       "        border-radius: 5px;\n",
       "        font-family: sans-serif;\n",
       "        font-size: 14px;\n",
       "        animation: fadeIn 0.5s ease-out;\n",
       "        line-height: 1.6;\n",
       "    \">\n",
       "        <span style=\"font-weight: bold; margin-right: 8px;\">⚠️ WARNING:</span>\n",
       "        Skipped kaliua_10588.jpg: 'processed'\n",
       "    </div>\n",
       "    <style>\n",
       "        @keyframes fadeIn {\n",
       "            from { opacity: 0; transform: translateY(-10px); }\n",
       "            to { opacity: 1; transform: translateY(0); }\n",
       "        }\n",
       "    </style>\n",
       "    "
      ],
      "text/plain": [
       "<IPython.core.display.HTML object>"
      ]
     },
     "metadata": {},
     "output_type": "display_data"
    },
    {
     "data": {
      "text/html": [
       "\n",
       "    <div style=\"\n",
       "        border: 1px solid #856404;\n",
       "        background-color: rgba(255, 193, 7, 0.1);\n",
       "        color: #856404;\n",
       "        padding: 12px 18px;\n",
       "        margin: 10px 0;\n",
       "        border-radius: 5px;\n",
       "        font-family: sans-serif;\n",
       "        font-size: 14px;\n",
       "        animation: fadeIn 0.5s ease-out;\n",
       "        line-height: 1.6;\n",
       "    \">\n",
       "        <span style=\"font-weight: bold; margin-right: 8px;\">⚠️ WARNING:</span>\n",
       "        Skipped kaliua_10589.jpg: 'processed'\n",
       "    </div>\n",
       "    <style>\n",
       "        @keyframes fadeIn {\n",
       "            from { opacity: 0; transform: translateY(-10px); }\n",
       "            to { opacity: 1; transform: translateY(0); }\n",
       "        }\n",
       "    </style>\n",
       "    "
      ],
      "text/plain": [
       "<IPython.core.display.HTML object>"
      ]
     },
     "metadata": {},
     "output_type": "display_data"
    },
    {
     "data": {
      "text/html": [
       "\n",
       "    <div style=\"\n",
       "        border: 1px solid #856404;\n",
       "        background-color: rgba(255, 193, 7, 0.1);\n",
       "        color: #856404;\n",
       "        padding: 12px 18px;\n",
       "        margin: 10px 0;\n",
       "        border-radius: 5px;\n",
       "        font-family: sans-serif;\n",
       "        font-size: 14px;\n",
       "        animation: fadeIn 0.5s ease-out;\n",
       "        line-height: 1.6;\n",
       "    \">\n",
       "        <span style=\"font-weight: bold; margin-right: 8px;\">⚠️ WARNING:</span>\n",
       "        Skipped kaliua_10590.jpg: 'processed'\n",
       "    </div>\n",
       "    <style>\n",
       "        @keyframes fadeIn {\n",
       "            from { opacity: 0; transform: translateY(-10px); }\n",
       "            to { opacity: 1; transform: translateY(0); }\n",
       "        }\n",
       "    </style>\n",
       "    "
      ],
      "text/plain": [
       "<IPython.core.display.HTML object>"
      ]
     },
     "metadata": {},
     "output_type": "display_data"
    },
    {
     "data": {
      "text/html": [
       "\n",
       "    <div style=\"\n",
       "        border: 1px solid #856404;\n",
       "        background-color: rgba(255, 193, 7, 0.1);\n",
       "        color: #856404;\n",
       "        padding: 12px 18px;\n",
       "        margin: 10px 0;\n",
       "        border-radius: 5px;\n",
       "        font-family: sans-serif;\n",
       "        font-size: 14px;\n",
       "        animation: fadeIn 0.5s ease-out;\n",
       "        line-height: 1.6;\n",
       "    \">\n",
       "        <span style=\"font-weight: bold; margin-right: 8px;\">⚠️ WARNING:</span>\n",
       "        Skipped kaliua_10591.jpg: 'processed'\n",
       "    </div>\n",
       "    <style>\n",
       "        @keyframes fadeIn {\n",
       "            from { opacity: 0; transform: translateY(-10px); }\n",
       "            to { opacity: 1; transform: translateY(0); }\n",
       "        }\n",
       "    </style>\n",
       "    "
      ],
      "text/plain": [
       "<IPython.core.display.HTML object>"
      ]
     },
     "metadata": {},
     "output_type": "display_data"
    },
    {
     "data": {
      "text/html": [
       "\n",
       "    <div style=\"\n",
       "        border: 1px solid #856404;\n",
       "        background-color: rgba(255, 193, 7, 0.1);\n",
       "        color: #856404;\n",
       "        padding: 12px 18px;\n",
       "        margin: 10px 0;\n",
       "        border-radius: 5px;\n",
       "        font-family: sans-serif;\n",
       "        font-size: 14px;\n",
       "        animation: fadeIn 0.5s ease-out;\n",
       "        line-height: 1.6;\n",
       "    \">\n",
       "        <span style=\"font-weight: bold; margin-right: 8px;\">⚠️ WARNING:</span>\n",
       "        Skipped kaliua_10592.jpg: 'processed'\n",
       "    </div>\n",
       "    <style>\n",
       "        @keyframes fadeIn {\n",
       "            from { opacity: 0; transform: translateY(-10px); }\n",
       "            to { opacity: 1; transform: translateY(0); }\n",
       "        }\n",
       "    </style>\n",
       "    "
      ],
      "text/plain": [
       "<IPython.core.display.HTML object>"
      ]
     },
     "metadata": {},
     "output_type": "display_data"
    },
    {
     "data": {
      "text/html": [
       "\n",
       "    <div style=\"\n",
       "        border: 1px solid #856404;\n",
       "        background-color: rgba(255, 193, 7, 0.1);\n",
       "        color: #856404;\n",
       "        padding: 12px 18px;\n",
       "        margin: 10px 0;\n",
       "        border-radius: 5px;\n",
       "        font-family: sans-serif;\n",
       "        font-size: 14px;\n",
       "        animation: fadeIn 0.5s ease-out;\n",
       "        line-height: 1.6;\n",
       "    \">\n",
       "        <span style=\"font-weight: bold; margin-right: 8px;\">⚠️ WARNING:</span>\n",
       "        Skipped kaliua_10593.jpg: 'processed'\n",
       "    </div>\n",
       "    <style>\n",
       "        @keyframes fadeIn {\n",
       "            from { opacity: 0; transform: translateY(-10px); }\n",
       "            to { opacity: 1; transform: translateY(0); }\n",
       "        }\n",
       "    </style>\n",
       "    "
      ],
      "text/plain": [
       "<IPython.core.display.HTML object>"
      ]
     },
     "metadata": {},
     "output_type": "display_data"
    },
    {
     "data": {
      "text/html": [
       "\n",
       "    <div style=\"\n",
       "        border: 1px solid #856404;\n",
       "        background-color: rgba(255, 193, 7, 0.1);\n",
       "        color: #856404;\n",
       "        padding: 12px 18px;\n",
       "        margin: 10px 0;\n",
       "        border-radius: 5px;\n",
       "        font-family: sans-serif;\n",
       "        font-size: 14px;\n",
       "        animation: fadeIn 0.5s ease-out;\n",
       "        line-height: 1.6;\n",
       "    \">\n",
       "        <span style=\"font-weight: bold; margin-right: 8px;\">⚠️ WARNING:</span>\n",
       "        Skipped kaliua_10594.jpg: 'processed'\n",
       "    </div>\n",
       "    <style>\n",
       "        @keyframes fadeIn {\n",
       "            from { opacity: 0; transform: translateY(-10px); }\n",
       "            to { opacity: 1; transform: translateY(0); }\n",
       "        }\n",
       "    </style>\n",
       "    "
      ],
      "text/plain": [
       "<IPython.core.display.HTML object>"
      ]
     },
     "metadata": {},
     "output_type": "display_data"
    },
    {
     "data": {
      "text/html": [
       "\n",
       "    <div style=\"\n",
       "        border: 1px solid #856404;\n",
       "        background-color: rgba(255, 193, 7, 0.1);\n",
       "        color: #856404;\n",
       "        padding: 12px 18px;\n",
       "        margin: 10px 0;\n",
       "        border-radius: 5px;\n",
       "        font-family: sans-serif;\n",
       "        font-size: 14px;\n",
       "        animation: fadeIn 0.5s ease-out;\n",
       "        line-height: 1.6;\n",
       "    \">\n",
       "        <span style=\"font-weight: bold; margin-right: 8px;\">⚠️ WARNING:</span>\n",
       "        Skipped kaliua_10595.jpg: 'processed'\n",
       "    </div>\n",
       "    <style>\n",
       "        @keyframes fadeIn {\n",
       "            from { opacity: 0; transform: translateY(-10px); }\n",
       "            to { opacity: 1; transform: translateY(0); }\n",
       "        }\n",
       "    </style>\n",
       "    "
      ],
      "text/plain": [
       "<IPython.core.display.HTML object>"
      ]
     },
     "metadata": {},
     "output_type": "display_data"
    },
    {
     "data": {
      "text/html": [
       "\n",
       "    <div style=\"\n",
       "        border: 1px solid #856404;\n",
       "        background-color: rgba(255, 193, 7, 0.1);\n",
       "        color: #856404;\n",
       "        padding: 12px 18px;\n",
       "        margin: 10px 0;\n",
       "        border-radius: 5px;\n",
       "        font-family: sans-serif;\n",
       "        font-size: 14px;\n",
       "        animation: fadeIn 0.5s ease-out;\n",
       "        line-height: 1.6;\n",
       "    \">\n",
       "        <span style=\"font-weight: bold; margin-right: 8px;\">⚠️ WARNING:</span>\n",
       "        Skipped kaliua_10596.jpg: 'processed'\n",
       "    </div>\n",
       "    <style>\n",
       "        @keyframes fadeIn {\n",
       "            from { opacity: 0; transform: translateY(-10px); }\n",
       "            to { opacity: 1; transform: translateY(0); }\n",
       "        }\n",
       "    </style>\n",
       "    "
      ],
      "text/plain": [
       "<IPython.core.display.HTML object>"
      ]
     },
     "metadata": {},
     "output_type": "display_data"
    },
    {
     "data": {
      "text/html": [
       "\n",
       "    <div style=\"\n",
       "        border: 1px solid #856404;\n",
       "        background-color: rgba(255, 193, 7, 0.1);\n",
       "        color: #856404;\n",
       "        padding: 12px 18px;\n",
       "        margin: 10px 0;\n",
       "        border-radius: 5px;\n",
       "        font-family: sans-serif;\n",
       "        font-size: 14px;\n",
       "        animation: fadeIn 0.5s ease-out;\n",
       "        line-height: 1.6;\n",
       "    \">\n",
       "        <span style=\"font-weight: bold; margin-right: 8px;\">⚠️ WARNING:</span>\n",
       "        Skipped kaliua_10597.jpg: 'processed'\n",
       "    </div>\n",
       "    <style>\n",
       "        @keyframes fadeIn {\n",
       "            from { opacity: 0; transform: translateY(-10px); }\n",
       "            to { opacity: 1; transform: translateY(0); }\n",
       "        }\n",
       "    </style>\n",
       "    "
      ],
      "text/plain": [
       "<IPython.core.display.HTML object>"
      ]
     },
     "metadata": {},
     "output_type": "display_data"
    },
    {
     "data": {
      "text/html": [
       "\n",
       "    <div style=\"\n",
       "        border: 1px solid #856404;\n",
       "        background-color: rgba(255, 193, 7, 0.1);\n",
       "        color: #856404;\n",
       "        padding: 12px 18px;\n",
       "        margin: 10px 0;\n",
       "        border-radius: 5px;\n",
       "        font-family: sans-serif;\n",
       "        font-size: 14px;\n",
       "        animation: fadeIn 0.5s ease-out;\n",
       "        line-height: 1.6;\n",
       "    \">\n",
       "        <span style=\"font-weight: bold; margin-right: 8px;\">⚠️ WARNING:</span>\n",
       "        Skipped kaliua_10598.jpg: 'processed'\n",
       "    </div>\n",
       "    <style>\n",
       "        @keyframes fadeIn {\n",
       "            from { opacity: 0; transform: translateY(-10px); }\n",
       "            to { opacity: 1; transform: translateY(0); }\n",
       "        }\n",
       "    </style>\n",
       "    "
      ],
      "text/plain": [
       "<IPython.core.display.HTML object>"
      ]
     },
     "metadata": {},
     "output_type": "display_data"
    },
    {
     "data": {
      "text/html": [
       "\n",
       "    <div style=\"\n",
       "        border: 1px solid #856404;\n",
       "        background-color: rgba(255, 193, 7, 0.1);\n",
       "        color: #856404;\n",
       "        padding: 12px 18px;\n",
       "        margin: 10px 0;\n",
       "        border-radius: 5px;\n",
       "        font-family: sans-serif;\n",
       "        font-size: 14px;\n",
       "        animation: fadeIn 0.5s ease-out;\n",
       "        line-height: 1.6;\n",
       "    \">\n",
       "        <span style=\"font-weight: bold; margin-right: 8px;\">⚠️ WARNING:</span>\n",
       "        Skipped kaliua_10599.jpg: 'processed'\n",
       "    </div>\n",
       "    <style>\n",
       "        @keyframes fadeIn {\n",
       "            from { opacity: 0; transform: translateY(-10px); }\n",
       "            to { opacity: 1; transform: translateY(0); }\n",
       "        }\n",
       "    </style>\n",
       "    "
      ],
      "text/plain": [
       "<IPython.core.display.HTML object>"
      ]
     },
     "metadata": {},
     "output_type": "display_data"
    },
    {
     "data": {
      "text/html": [
       "\n",
       "    <div style=\"\n",
       "        border: 1px solid #856404;\n",
       "        background-color: rgba(255, 193, 7, 0.1);\n",
       "        color: #856404;\n",
       "        padding: 12px 18px;\n",
       "        margin: 10px 0;\n",
       "        border-radius: 5px;\n",
       "        font-family: sans-serif;\n",
       "        font-size: 14px;\n",
       "        animation: fadeIn 0.5s ease-out;\n",
       "        line-height: 1.6;\n",
       "    \">\n",
       "        <span style=\"font-weight: bold; margin-right: 8px;\">⚠️ WARNING:</span>\n",
       "        Skipped kaliua_106.jpg: 'processed'\n",
       "    </div>\n",
       "    <style>\n",
       "        @keyframes fadeIn {\n",
       "            from { opacity: 0; transform: translateY(-10px); }\n",
       "            to { opacity: 1; transform: translateY(0); }\n",
       "        }\n",
       "    </style>\n",
       "    "
      ],
      "text/plain": [
       "<IPython.core.display.HTML object>"
      ]
     },
     "metadata": {},
     "output_type": "display_data"
    },
    {
     "data": {
      "text/html": [
       "\n",
       "    <div style=\"\n",
       "        border: 1px solid #856404;\n",
       "        background-color: rgba(255, 193, 7, 0.1);\n",
       "        color: #856404;\n",
       "        padding: 12px 18px;\n",
       "        margin: 10px 0;\n",
       "        border-radius: 5px;\n",
       "        font-family: sans-serif;\n",
       "        font-size: 14px;\n",
       "        animation: fadeIn 0.5s ease-out;\n",
       "        line-height: 1.6;\n",
       "    \">\n",
       "        <span style=\"font-weight: bold; margin-right: 8px;\">⚠️ WARNING:</span>\n",
       "        Skipped kaliua_10600.jpg: 'processed'\n",
       "    </div>\n",
       "    <style>\n",
       "        @keyframes fadeIn {\n",
       "            from { opacity: 0; transform: translateY(-10px); }\n",
       "            to { opacity: 1; transform: translateY(0); }\n",
       "        }\n",
       "    </style>\n",
       "    "
      ],
      "text/plain": [
       "<IPython.core.display.HTML object>"
      ]
     },
     "metadata": {},
     "output_type": "display_data"
    },
    {
     "data": {
      "text/html": [
       "\n",
       "    <div style=\"\n",
       "        border: 1px solid #856404;\n",
       "        background-color: rgba(255, 193, 7, 0.1);\n",
       "        color: #856404;\n",
       "        padding: 12px 18px;\n",
       "        margin: 10px 0;\n",
       "        border-radius: 5px;\n",
       "        font-family: sans-serif;\n",
       "        font-size: 14px;\n",
       "        animation: fadeIn 0.5s ease-out;\n",
       "        line-height: 1.6;\n",
       "    \">\n",
       "        <span style=\"font-weight: bold; margin-right: 8px;\">⚠️ WARNING:</span>\n",
       "        Skipped kaliua_10601.jpg: 'processed'\n",
       "    </div>\n",
       "    <style>\n",
       "        @keyframes fadeIn {\n",
       "            from { opacity: 0; transform: translateY(-10px); }\n",
       "            to { opacity: 1; transform: translateY(0); }\n",
       "        }\n",
       "    </style>\n",
       "    "
      ],
      "text/plain": [
       "<IPython.core.display.HTML object>"
      ]
     },
     "metadata": {},
     "output_type": "display_data"
    },
    {
     "data": {
      "text/html": [
       "\n",
       "    <div style=\"\n",
       "        border: 1px solid #856404;\n",
       "        background-color: rgba(255, 193, 7, 0.1);\n",
       "        color: #856404;\n",
       "        padding: 12px 18px;\n",
       "        margin: 10px 0;\n",
       "        border-radius: 5px;\n",
       "        font-family: sans-serif;\n",
       "        font-size: 14px;\n",
       "        animation: fadeIn 0.5s ease-out;\n",
       "        line-height: 1.6;\n",
       "    \">\n",
       "        <span style=\"font-weight: bold; margin-right: 8px;\">⚠️ WARNING:</span>\n",
       "        Skipped kaliua_10602.jpg: 'processed'\n",
       "    </div>\n",
       "    <style>\n",
       "        @keyframes fadeIn {\n",
       "            from { opacity: 0; transform: translateY(-10px); }\n",
       "            to { opacity: 1; transform: translateY(0); }\n",
       "        }\n",
       "    </style>\n",
       "    "
      ],
      "text/plain": [
       "<IPython.core.display.HTML object>"
      ]
     },
     "metadata": {},
     "output_type": "display_data"
    },
    {
     "data": {
      "text/html": [
       "\n",
       "    <div style=\"\n",
       "        border: 1px solid #856404;\n",
       "        background-color: rgba(255, 193, 7, 0.1);\n",
       "        color: #856404;\n",
       "        padding: 12px 18px;\n",
       "        margin: 10px 0;\n",
       "        border-radius: 5px;\n",
       "        font-family: sans-serif;\n",
       "        font-size: 14px;\n",
       "        animation: fadeIn 0.5s ease-out;\n",
       "        line-height: 1.6;\n",
       "    \">\n",
       "        <span style=\"font-weight: bold; margin-right: 8px;\">⚠️ WARNING:</span>\n",
       "        Skipped kaliua_10603.jpg: 'processed'\n",
       "    </div>\n",
       "    <style>\n",
       "        @keyframes fadeIn {\n",
       "            from { opacity: 0; transform: translateY(-10px); }\n",
       "            to { opacity: 1; transform: translateY(0); }\n",
       "        }\n",
       "    </style>\n",
       "    "
      ],
      "text/plain": [
       "<IPython.core.display.HTML object>"
      ]
     },
     "metadata": {},
     "output_type": "display_data"
    },
    {
     "data": {
      "text/html": [
       "\n",
       "    <div style=\"\n",
       "        border: 1px solid #856404;\n",
       "        background-color: rgba(255, 193, 7, 0.1);\n",
       "        color: #856404;\n",
       "        padding: 12px 18px;\n",
       "        margin: 10px 0;\n",
       "        border-radius: 5px;\n",
       "        font-family: sans-serif;\n",
       "        font-size: 14px;\n",
       "        animation: fadeIn 0.5s ease-out;\n",
       "        line-height: 1.6;\n",
       "    \">\n",
       "        <span style=\"font-weight: bold; margin-right: 8px;\">⚠️ WARNING:</span>\n",
       "        Skipped kaliua_10604.jpg: 'processed'\n",
       "    </div>\n",
       "    <style>\n",
       "        @keyframes fadeIn {\n",
       "            from { opacity: 0; transform: translateY(-10px); }\n",
       "            to { opacity: 1; transform: translateY(0); }\n",
       "        }\n",
       "    </style>\n",
       "    "
      ],
      "text/plain": [
       "<IPython.core.display.HTML object>"
      ]
     },
     "metadata": {},
     "output_type": "display_data"
    },
    {
     "data": {
      "text/html": [
       "\n",
       "    <div style=\"\n",
       "        border: 1px solid #856404;\n",
       "        background-color: rgba(255, 193, 7, 0.1);\n",
       "        color: #856404;\n",
       "        padding: 12px 18px;\n",
       "        margin: 10px 0;\n",
       "        border-radius: 5px;\n",
       "        font-family: sans-serif;\n",
       "        font-size: 14px;\n",
       "        animation: fadeIn 0.5s ease-out;\n",
       "        line-height: 1.6;\n",
       "    \">\n",
       "        <span style=\"font-weight: bold; margin-right: 8px;\">⚠️ WARNING:</span>\n",
       "        Skipped kaliua_10605.jpg: 'processed'\n",
       "    </div>\n",
       "    <style>\n",
       "        @keyframes fadeIn {\n",
       "            from { opacity: 0; transform: translateY(-10px); }\n",
       "            to { opacity: 1; transform: translateY(0); }\n",
       "        }\n",
       "    </style>\n",
       "    "
      ],
      "text/plain": [
       "<IPython.core.display.HTML object>"
      ]
     },
     "metadata": {},
     "output_type": "display_data"
    },
    {
     "data": {
      "text/html": [
       "\n",
       "    <div style=\"\n",
       "        border: 1px solid #856404;\n",
       "        background-color: rgba(255, 193, 7, 0.1);\n",
       "        color: #856404;\n",
       "        padding: 12px 18px;\n",
       "        margin: 10px 0;\n",
       "        border-radius: 5px;\n",
       "        font-family: sans-serif;\n",
       "        font-size: 14px;\n",
       "        animation: fadeIn 0.5s ease-out;\n",
       "        line-height: 1.6;\n",
       "    \">\n",
       "        <span style=\"font-weight: bold; margin-right: 8px;\">⚠️ WARNING:</span>\n",
       "        Skipped kaliua_10606.jpg: 'processed'\n",
       "    </div>\n",
       "    <style>\n",
       "        @keyframes fadeIn {\n",
       "            from { opacity: 0; transform: translateY(-10px); }\n",
       "            to { opacity: 1; transform: translateY(0); }\n",
       "        }\n",
       "    </style>\n",
       "    "
      ],
      "text/plain": [
       "<IPython.core.display.HTML object>"
      ]
     },
     "metadata": {},
     "output_type": "display_data"
    },
    {
     "data": {
      "text/html": [
       "\n",
       "    <div style=\"\n",
       "        border: 1px solid #856404;\n",
       "        background-color: rgba(255, 193, 7, 0.1);\n",
       "        color: #856404;\n",
       "        padding: 12px 18px;\n",
       "        margin: 10px 0;\n",
       "        border-radius: 5px;\n",
       "        font-family: sans-serif;\n",
       "        font-size: 14px;\n",
       "        animation: fadeIn 0.5s ease-out;\n",
       "        line-height: 1.6;\n",
       "    \">\n",
       "        <span style=\"font-weight: bold; margin-right: 8px;\">⚠️ WARNING:</span>\n",
       "        Skipped kaliua_10607.jpg: 'processed'\n",
       "    </div>\n",
       "    <style>\n",
       "        @keyframes fadeIn {\n",
       "            from { opacity: 0; transform: translateY(-10px); }\n",
       "            to { opacity: 1; transform: translateY(0); }\n",
       "        }\n",
       "    </style>\n",
       "    "
      ],
      "text/plain": [
       "<IPython.core.display.HTML object>"
      ]
     },
     "metadata": {},
     "output_type": "display_data"
    },
    {
     "data": {
      "text/html": [
       "\n",
       "    <div style=\"\n",
       "        border: 1px solid #856404;\n",
       "        background-color: rgba(255, 193, 7, 0.1);\n",
       "        color: #856404;\n",
       "        padding: 12px 18px;\n",
       "        margin: 10px 0;\n",
       "        border-radius: 5px;\n",
       "        font-family: sans-serif;\n",
       "        font-size: 14px;\n",
       "        animation: fadeIn 0.5s ease-out;\n",
       "        line-height: 1.6;\n",
       "    \">\n",
       "        <span style=\"font-weight: bold; margin-right: 8px;\">⚠️ WARNING:</span>\n",
       "        Skipped kaliua_10608.jpg: 'processed'\n",
       "    </div>\n",
       "    <style>\n",
       "        @keyframes fadeIn {\n",
       "            from { opacity: 0; transform: translateY(-10px); }\n",
       "            to { opacity: 1; transform: translateY(0); }\n",
       "        }\n",
       "    </style>\n",
       "    "
      ],
      "text/plain": [
       "<IPython.core.display.HTML object>"
      ]
     },
     "metadata": {},
     "output_type": "display_data"
    },
    {
     "data": {
      "text/html": [
       "\n",
       "    <div style=\"\n",
       "        border: 1px solid #856404;\n",
       "        background-color: rgba(255, 193, 7, 0.1);\n",
       "        color: #856404;\n",
       "        padding: 12px 18px;\n",
       "        margin: 10px 0;\n",
       "        border-radius: 5px;\n",
       "        font-family: sans-serif;\n",
       "        font-size: 14px;\n",
       "        animation: fadeIn 0.5s ease-out;\n",
       "        line-height: 1.6;\n",
       "    \">\n",
       "        <span style=\"font-weight: bold; margin-right: 8px;\">⚠️ WARNING:</span>\n",
       "        Skipped kaliua_10609.jpg: 'processed'\n",
       "    </div>\n",
       "    <style>\n",
       "        @keyframes fadeIn {\n",
       "            from { opacity: 0; transform: translateY(-10px); }\n",
       "            to { opacity: 1; transform: translateY(0); }\n",
       "        }\n",
       "    </style>\n",
       "    "
      ],
      "text/plain": [
       "<IPython.core.display.HTML object>"
      ]
     },
     "metadata": {},
     "output_type": "display_data"
    },
    {
     "data": {
      "text/html": [
       "\n",
       "    <div style=\"\n",
       "        border: 1px solid #856404;\n",
       "        background-color: rgba(255, 193, 7, 0.1);\n",
       "        color: #856404;\n",
       "        padding: 12px 18px;\n",
       "        margin: 10px 0;\n",
       "        border-radius: 5px;\n",
       "        font-family: sans-serif;\n",
       "        font-size: 14px;\n",
       "        animation: fadeIn 0.5s ease-out;\n",
       "        line-height: 1.6;\n",
       "    \">\n",
       "        <span style=\"font-weight: bold; margin-right: 8px;\">⚠️ WARNING:</span>\n",
       "        Skipped kaliua_10610.jpg: 'processed'\n",
       "    </div>\n",
       "    <style>\n",
       "        @keyframes fadeIn {\n",
       "            from { opacity: 0; transform: translateY(-10px); }\n",
       "            to { opacity: 1; transform: translateY(0); }\n",
       "        }\n",
       "    </style>\n",
       "    "
      ],
      "text/plain": [
       "<IPython.core.display.HTML object>"
      ]
     },
     "metadata": {},
     "output_type": "display_data"
    },
    {
     "data": {
      "text/html": [
       "\n",
       "    <div style=\"\n",
       "        border: 1px solid #856404;\n",
       "        background-color: rgba(255, 193, 7, 0.1);\n",
       "        color: #856404;\n",
       "        padding: 12px 18px;\n",
       "        margin: 10px 0;\n",
       "        border-radius: 5px;\n",
       "        font-family: sans-serif;\n",
       "        font-size: 14px;\n",
       "        animation: fadeIn 0.5s ease-out;\n",
       "        line-height: 1.6;\n",
       "    \">\n",
       "        <span style=\"font-weight: bold; margin-right: 8px;\">⚠️ WARNING:</span>\n",
       "        Skipped kaliua_10611.jpg: 'processed'\n",
       "    </div>\n",
       "    <style>\n",
       "        @keyframes fadeIn {\n",
       "            from { opacity: 0; transform: translateY(-10px); }\n",
       "            to { opacity: 1; transform: translateY(0); }\n",
       "        }\n",
       "    </style>\n",
       "    "
      ],
      "text/plain": [
       "<IPython.core.display.HTML object>"
      ]
     },
     "metadata": {},
     "output_type": "display_data"
    },
    {
     "data": {
      "text/html": [
       "\n",
       "    <div style=\"\n",
       "        border: 1px solid #856404;\n",
       "        background-color: rgba(255, 193, 7, 0.1);\n",
       "        color: #856404;\n",
       "        padding: 12px 18px;\n",
       "        margin: 10px 0;\n",
       "        border-radius: 5px;\n",
       "        font-family: sans-serif;\n",
       "        font-size: 14px;\n",
       "        animation: fadeIn 0.5s ease-out;\n",
       "        line-height: 1.6;\n",
       "    \">\n",
       "        <span style=\"font-weight: bold; margin-right: 8px;\">⚠️ WARNING:</span>\n",
       "        Skipped kaliua_10612.jpg: 'processed'\n",
       "    </div>\n",
       "    <style>\n",
       "        @keyframes fadeIn {\n",
       "            from { opacity: 0; transform: translateY(-10px); }\n",
       "            to { opacity: 1; transform: translateY(0); }\n",
       "        }\n",
       "    </style>\n",
       "    "
      ],
      "text/plain": [
       "<IPython.core.display.HTML object>"
      ]
     },
     "metadata": {},
     "output_type": "display_data"
    },
    {
     "data": {
      "text/html": [
       "\n",
       "    <div style=\"\n",
       "        border: 1px solid #856404;\n",
       "        background-color: rgba(255, 193, 7, 0.1);\n",
       "        color: #856404;\n",
       "        padding: 12px 18px;\n",
       "        margin: 10px 0;\n",
       "        border-radius: 5px;\n",
       "        font-family: sans-serif;\n",
       "        font-size: 14px;\n",
       "        animation: fadeIn 0.5s ease-out;\n",
       "        line-height: 1.6;\n",
       "    \">\n",
       "        <span style=\"font-weight: bold; margin-right: 8px;\">⚠️ WARNING:</span>\n",
       "        Skipped kaliua_10613.jpg: 'processed'\n",
       "    </div>\n",
       "    <style>\n",
       "        @keyframes fadeIn {\n",
       "            from { opacity: 0; transform: translateY(-10px); }\n",
       "            to { opacity: 1; transform: translateY(0); }\n",
       "        }\n",
       "    </style>\n",
       "    "
      ],
      "text/plain": [
       "<IPython.core.display.HTML object>"
      ]
     },
     "metadata": {},
     "output_type": "display_data"
    },
    {
     "data": {
      "text/html": [
       "\n",
       "    <div style=\"\n",
       "        border: 1px solid #856404;\n",
       "        background-color: rgba(255, 193, 7, 0.1);\n",
       "        color: #856404;\n",
       "        padding: 12px 18px;\n",
       "        margin: 10px 0;\n",
       "        border-radius: 5px;\n",
       "        font-family: sans-serif;\n",
       "        font-size: 14px;\n",
       "        animation: fadeIn 0.5s ease-out;\n",
       "        line-height: 1.6;\n",
       "    \">\n",
       "        <span style=\"font-weight: bold; margin-right: 8px;\">⚠️ WARNING:</span>\n",
       "        Skipped kaliua_10614.jpg: 'processed'\n",
       "    </div>\n",
       "    <style>\n",
       "        @keyframes fadeIn {\n",
       "            from { opacity: 0; transform: translateY(-10px); }\n",
       "            to { opacity: 1; transform: translateY(0); }\n",
       "        }\n",
       "    </style>\n",
       "    "
      ],
      "text/plain": [
       "<IPython.core.display.HTML object>"
      ]
     },
     "metadata": {},
     "output_type": "display_data"
    },
    {
     "data": {
      "text/html": [
       "\n",
       "    <div style=\"\n",
       "        border: 1px solid #856404;\n",
       "        background-color: rgba(255, 193, 7, 0.1);\n",
       "        color: #856404;\n",
       "        padding: 12px 18px;\n",
       "        margin: 10px 0;\n",
       "        border-radius: 5px;\n",
       "        font-family: sans-serif;\n",
       "        font-size: 14px;\n",
       "        animation: fadeIn 0.5s ease-out;\n",
       "        line-height: 1.6;\n",
       "    \">\n",
       "        <span style=\"font-weight: bold; margin-right: 8px;\">⚠️ WARNING:</span>\n",
       "        Skipped kaliua_10615.jpg: 'processed'\n",
       "    </div>\n",
       "    <style>\n",
       "        @keyframes fadeIn {\n",
       "            from { opacity: 0; transform: translateY(-10px); }\n",
       "            to { opacity: 1; transform: translateY(0); }\n",
       "        }\n",
       "    </style>\n",
       "    "
      ],
      "text/plain": [
       "<IPython.core.display.HTML object>"
      ]
     },
     "metadata": {},
     "output_type": "display_data"
    },
    {
     "data": {
      "text/html": [
       "\n",
       "    <div style=\"\n",
       "        border: 1px solid #856404;\n",
       "        background-color: rgba(255, 193, 7, 0.1);\n",
       "        color: #856404;\n",
       "        padding: 12px 18px;\n",
       "        margin: 10px 0;\n",
       "        border-radius: 5px;\n",
       "        font-family: sans-serif;\n",
       "        font-size: 14px;\n",
       "        animation: fadeIn 0.5s ease-out;\n",
       "        line-height: 1.6;\n",
       "    \">\n",
       "        <span style=\"font-weight: bold; margin-right: 8px;\">⚠️ WARNING:</span>\n",
       "        Skipped kaliua_10616.jpg: 'processed'\n",
       "    </div>\n",
       "    <style>\n",
       "        @keyframes fadeIn {\n",
       "            from { opacity: 0; transform: translateY(-10px); }\n",
       "            to { opacity: 1; transform: translateY(0); }\n",
       "        }\n",
       "    </style>\n",
       "    "
      ],
      "text/plain": [
       "<IPython.core.display.HTML object>"
      ]
     },
     "metadata": {},
     "output_type": "display_data"
    },
    {
     "data": {
      "text/html": [
       "\n",
       "    <div style=\"\n",
       "        border: 1px solid #856404;\n",
       "        background-color: rgba(255, 193, 7, 0.1);\n",
       "        color: #856404;\n",
       "        padding: 12px 18px;\n",
       "        margin: 10px 0;\n",
       "        border-radius: 5px;\n",
       "        font-family: sans-serif;\n",
       "        font-size: 14px;\n",
       "        animation: fadeIn 0.5s ease-out;\n",
       "        line-height: 1.6;\n",
       "    \">\n",
       "        <span style=\"font-weight: bold; margin-right: 8px;\">⚠️ WARNING:</span>\n",
       "        Skipped kaliua_10617.jpg: 'processed'\n",
       "    </div>\n",
       "    <style>\n",
       "        @keyframes fadeIn {\n",
       "            from { opacity: 0; transform: translateY(-10px); }\n",
       "            to { opacity: 1; transform: translateY(0); }\n",
       "        }\n",
       "    </style>\n",
       "    "
      ],
      "text/plain": [
       "<IPython.core.display.HTML object>"
      ]
     },
     "metadata": {},
     "output_type": "display_data"
    },
    {
     "data": {
      "text/html": [
       "\n",
       "    <div style=\"\n",
       "        border: 1px solid #856404;\n",
       "        background-color: rgba(255, 193, 7, 0.1);\n",
       "        color: #856404;\n",
       "        padding: 12px 18px;\n",
       "        margin: 10px 0;\n",
       "        border-radius: 5px;\n",
       "        font-family: sans-serif;\n",
       "        font-size: 14px;\n",
       "        animation: fadeIn 0.5s ease-out;\n",
       "        line-height: 1.6;\n",
       "    \">\n",
       "        <span style=\"font-weight: bold; margin-right: 8px;\">⚠️ WARNING:</span>\n",
       "        Skipped kaliua_10618.jpg: 'processed'\n",
       "    </div>\n",
       "    <style>\n",
       "        @keyframes fadeIn {\n",
       "            from { opacity: 0; transform: translateY(-10px); }\n",
       "            to { opacity: 1; transform: translateY(0); }\n",
       "        }\n",
       "    </style>\n",
       "    "
      ],
      "text/plain": [
       "<IPython.core.display.HTML object>"
      ]
     },
     "metadata": {},
     "output_type": "display_data"
    },
    {
     "data": {
      "text/html": [
       "\n",
       "    <div style=\"\n",
       "        border: 1px solid #856404;\n",
       "        background-color: rgba(255, 193, 7, 0.1);\n",
       "        color: #856404;\n",
       "        padding: 12px 18px;\n",
       "        margin: 10px 0;\n",
       "        border-radius: 5px;\n",
       "        font-family: sans-serif;\n",
       "        font-size: 14px;\n",
       "        animation: fadeIn 0.5s ease-out;\n",
       "        line-height: 1.6;\n",
       "    \">\n",
       "        <span style=\"font-weight: bold; margin-right: 8px;\">⚠️ WARNING:</span>\n",
       "        Skipped kaliua_10619.jpg: 'processed'\n",
       "    </div>\n",
       "    <style>\n",
       "        @keyframes fadeIn {\n",
       "            from { opacity: 0; transform: translateY(-10px); }\n",
       "            to { opacity: 1; transform: translateY(0); }\n",
       "        }\n",
       "    </style>\n",
       "    "
      ],
      "text/plain": [
       "<IPython.core.display.HTML object>"
      ]
     },
     "metadata": {},
     "output_type": "display_data"
    },
    {
     "data": {
      "text/html": [
       "\n",
       "    <div style=\"\n",
       "        border: 1px solid #856404;\n",
       "        background-color: rgba(255, 193, 7, 0.1);\n",
       "        color: #856404;\n",
       "        padding: 12px 18px;\n",
       "        margin: 10px 0;\n",
       "        border-radius: 5px;\n",
       "        font-family: sans-serif;\n",
       "        font-size: 14px;\n",
       "        animation: fadeIn 0.5s ease-out;\n",
       "        line-height: 1.6;\n",
       "    \">\n",
       "        <span style=\"font-weight: bold; margin-right: 8px;\">⚠️ WARNING:</span>\n",
       "        Skipped kaliua_10620.jpg: 'processed'\n",
       "    </div>\n",
       "    <style>\n",
       "        @keyframes fadeIn {\n",
       "            from { opacity: 0; transform: translateY(-10px); }\n",
       "            to { opacity: 1; transform: translateY(0); }\n",
       "        }\n",
       "    </style>\n",
       "    "
      ],
      "text/plain": [
       "<IPython.core.display.HTML object>"
      ]
     },
     "metadata": {},
     "output_type": "display_data"
    },
    {
     "data": {
      "text/html": [
       "\n",
       "    <div style=\"\n",
       "        border: 1px solid #856404;\n",
       "        background-color: rgba(255, 193, 7, 0.1);\n",
       "        color: #856404;\n",
       "        padding: 12px 18px;\n",
       "        margin: 10px 0;\n",
       "        border-radius: 5px;\n",
       "        font-family: sans-serif;\n",
       "        font-size: 14px;\n",
       "        animation: fadeIn 0.5s ease-out;\n",
       "        line-height: 1.6;\n",
       "    \">\n",
       "        <span style=\"font-weight: bold; margin-right: 8px;\">⚠️ WARNING:</span>\n",
       "        Skipped kaliua_10621.jpg: 'processed'\n",
       "    </div>\n",
       "    <style>\n",
       "        @keyframes fadeIn {\n",
       "            from { opacity: 0; transform: translateY(-10px); }\n",
       "            to { opacity: 1; transform: translateY(0); }\n",
       "        }\n",
       "    </style>\n",
       "    "
      ],
      "text/plain": [
       "<IPython.core.display.HTML object>"
      ]
     },
     "metadata": {},
     "output_type": "display_data"
    },
    {
     "data": {
      "text/html": [
       "\n",
       "    <div style=\"\n",
       "        border: 1px solid #856404;\n",
       "        background-color: rgba(255, 193, 7, 0.1);\n",
       "        color: #856404;\n",
       "        padding: 12px 18px;\n",
       "        margin: 10px 0;\n",
       "        border-radius: 5px;\n",
       "        font-family: sans-serif;\n",
       "        font-size: 14px;\n",
       "        animation: fadeIn 0.5s ease-out;\n",
       "        line-height: 1.6;\n",
       "    \">\n",
       "        <span style=\"font-weight: bold; margin-right: 8px;\">⚠️ WARNING:</span>\n",
       "        Skipped kaliua_10622.jpg: 'processed'\n",
       "    </div>\n",
       "    <style>\n",
       "        @keyframes fadeIn {\n",
       "            from { opacity: 0; transform: translateY(-10px); }\n",
       "            to { opacity: 1; transform: translateY(0); }\n",
       "        }\n",
       "    </style>\n",
       "    "
      ],
      "text/plain": [
       "<IPython.core.display.HTML object>"
      ]
     },
     "metadata": {},
     "output_type": "display_data"
    },
    {
     "data": {
      "text/html": [
       "\n",
       "    <div style=\"\n",
       "        border: 1px solid #856404;\n",
       "        background-color: rgba(255, 193, 7, 0.1);\n",
       "        color: #856404;\n",
       "        padding: 12px 18px;\n",
       "        margin: 10px 0;\n",
       "        border-radius: 5px;\n",
       "        font-family: sans-serif;\n",
       "        font-size: 14px;\n",
       "        animation: fadeIn 0.5s ease-out;\n",
       "        line-height: 1.6;\n",
       "    \">\n",
       "        <span style=\"font-weight: bold; margin-right: 8px;\">⚠️ WARNING:</span>\n",
       "        Skipped kaliua_10623.jpg: 'processed'\n",
       "    </div>\n",
       "    <style>\n",
       "        @keyframes fadeIn {\n",
       "            from { opacity: 0; transform: translateY(-10px); }\n",
       "            to { opacity: 1; transform: translateY(0); }\n",
       "        }\n",
       "    </style>\n",
       "    "
      ],
      "text/plain": [
       "<IPython.core.display.HTML object>"
      ]
     },
     "metadata": {},
     "output_type": "display_data"
    },
    {
     "data": {
      "text/html": [
       "\n",
       "    <div style=\"\n",
       "        border: 1px solid #856404;\n",
       "        background-color: rgba(255, 193, 7, 0.1);\n",
       "        color: #856404;\n",
       "        padding: 12px 18px;\n",
       "        margin: 10px 0;\n",
       "        border-radius: 5px;\n",
       "        font-family: sans-serif;\n",
       "        font-size: 14px;\n",
       "        animation: fadeIn 0.5s ease-out;\n",
       "        line-height: 1.6;\n",
       "    \">\n",
       "        <span style=\"font-weight: bold; margin-right: 8px;\">⚠️ WARNING:</span>\n",
       "        Skipped kaliua_10624.jpg: 'processed'\n",
       "    </div>\n",
       "    <style>\n",
       "        @keyframes fadeIn {\n",
       "            from { opacity: 0; transform: translateY(-10px); }\n",
       "            to { opacity: 1; transform: translateY(0); }\n",
       "        }\n",
       "    </style>\n",
       "    "
      ],
      "text/plain": [
       "<IPython.core.display.HTML object>"
      ]
     },
     "metadata": {},
     "output_type": "display_data"
    },
    {
     "data": {
      "text/html": [
       "\n",
       "    <div style=\"\n",
       "        border: 1px solid #856404;\n",
       "        background-color: rgba(255, 193, 7, 0.1);\n",
       "        color: #856404;\n",
       "        padding: 12px 18px;\n",
       "        margin: 10px 0;\n",
       "        border-radius: 5px;\n",
       "        font-family: sans-serif;\n",
       "        font-size: 14px;\n",
       "        animation: fadeIn 0.5s ease-out;\n",
       "        line-height: 1.6;\n",
       "    \">\n",
       "        <span style=\"font-weight: bold; margin-right: 8px;\">⚠️ WARNING:</span>\n",
       "        Skipped kaliua_10625.jpg: 'processed'\n",
       "    </div>\n",
       "    <style>\n",
       "        @keyframes fadeIn {\n",
       "            from { opacity: 0; transform: translateY(-10px); }\n",
       "            to { opacity: 1; transform: translateY(0); }\n",
       "        }\n",
       "    </style>\n",
       "    "
      ],
      "text/plain": [
       "<IPython.core.display.HTML object>"
      ]
     },
     "metadata": {},
     "output_type": "display_data"
    },
    {
     "data": {
      "text/html": [
       "\n",
       "    <div style=\"\n",
       "        border: 1px solid #856404;\n",
       "        background-color: rgba(255, 193, 7, 0.1);\n",
       "        color: #856404;\n",
       "        padding: 12px 18px;\n",
       "        margin: 10px 0;\n",
       "        border-radius: 5px;\n",
       "        font-family: sans-serif;\n",
       "        font-size: 14px;\n",
       "        animation: fadeIn 0.5s ease-out;\n",
       "        line-height: 1.6;\n",
       "    \">\n",
       "        <span style=\"font-weight: bold; margin-right: 8px;\">⚠️ WARNING:</span>\n",
       "        Skipped kaliua_10626.jpg: 'processed'\n",
       "    </div>\n",
       "    <style>\n",
       "        @keyframes fadeIn {\n",
       "            from { opacity: 0; transform: translateY(-10px); }\n",
       "            to { opacity: 1; transform: translateY(0); }\n",
       "        }\n",
       "    </style>\n",
       "    "
      ],
      "text/plain": [
       "<IPython.core.display.HTML object>"
      ]
     },
     "metadata": {},
     "output_type": "display_data"
    },
    {
     "data": {
      "text/html": [
       "\n",
       "    <div style=\"\n",
       "        border: 1px solid #856404;\n",
       "        background-color: rgba(255, 193, 7, 0.1);\n",
       "        color: #856404;\n",
       "        padding: 12px 18px;\n",
       "        margin: 10px 0;\n",
       "        border-radius: 5px;\n",
       "        font-family: sans-serif;\n",
       "        font-size: 14px;\n",
       "        animation: fadeIn 0.5s ease-out;\n",
       "        line-height: 1.6;\n",
       "    \">\n",
       "        <span style=\"font-weight: bold; margin-right: 8px;\">⚠️ WARNING:</span>\n",
       "        Skipped kaliua_10627.jpg: 'processed'\n",
       "    </div>\n",
       "    <style>\n",
       "        @keyframes fadeIn {\n",
       "            from { opacity: 0; transform: translateY(-10px); }\n",
       "            to { opacity: 1; transform: translateY(0); }\n",
       "        }\n",
       "    </style>\n",
       "    "
      ],
      "text/plain": [
       "<IPython.core.display.HTML object>"
      ]
     },
     "metadata": {},
     "output_type": "display_data"
    },
    {
     "data": {
      "text/html": [
       "\n",
       "    <div style=\"\n",
       "        border: 1px solid #856404;\n",
       "        background-color: rgba(255, 193, 7, 0.1);\n",
       "        color: #856404;\n",
       "        padding: 12px 18px;\n",
       "        margin: 10px 0;\n",
       "        border-radius: 5px;\n",
       "        font-family: sans-serif;\n",
       "        font-size: 14px;\n",
       "        animation: fadeIn 0.5s ease-out;\n",
       "        line-height: 1.6;\n",
       "    \">\n",
       "        <span style=\"font-weight: bold; margin-right: 8px;\">⚠️ WARNING:</span>\n",
       "        Skipped kaliua_10628.jpg: 'processed'\n",
       "    </div>\n",
       "    <style>\n",
       "        @keyframes fadeIn {\n",
       "            from { opacity: 0; transform: translateY(-10px); }\n",
       "            to { opacity: 1; transform: translateY(0); }\n",
       "        }\n",
       "    </style>\n",
       "    "
      ],
      "text/plain": [
       "<IPython.core.display.HTML object>"
      ]
     },
     "metadata": {},
     "output_type": "display_data"
    },
    {
     "data": {
      "text/html": [
       "\n",
       "    <div style=\"\n",
       "        border: 1px solid #856404;\n",
       "        background-color: rgba(255, 193, 7, 0.1);\n",
       "        color: #856404;\n",
       "        padding: 12px 18px;\n",
       "        margin: 10px 0;\n",
       "        border-radius: 5px;\n",
       "        font-family: sans-serif;\n",
       "        font-size: 14px;\n",
       "        animation: fadeIn 0.5s ease-out;\n",
       "        line-height: 1.6;\n",
       "    \">\n",
       "        <span style=\"font-weight: bold; margin-right: 8px;\">⚠️ WARNING:</span>\n",
       "        Skipped kaliua_10629.jpg: 'processed'\n",
       "    </div>\n",
       "    <style>\n",
       "        @keyframes fadeIn {\n",
       "            from { opacity: 0; transform: translateY(-10px); }\n",
       "            to { opacity: 1; transform: translateY(0); }\n",
       "        }\n",
       "    </style>\n",
       "    "
      ],
      "text/plain": [
       "<IPython.core.display.HTML object>"
      ]
     },
     "metadata": {},
     "output_type": "display_data"
    },
    {
     "data": {
      "text/html": [
       "\n",
       "    <div style=\"\n",
       "        border: 1px solid #856404;\n",
       "        background-color: rgba(255, 193, 7, 0.1);\n",
       "        color: #856404;\n",
       "        padding: 12px 18px;\n",
       "        margin: 10px 0;\n",
       "        border-radius: 5px;\n",
       "        font-family: sans-serif;\n",
       "        font-size: 14px;\n",
       "        animation: fadeIn 0.5s ease-out;\n",
       "        line-height: 1.6;\n",
       "    \">\n",
       "        <span style=\"font-weight: bold; margin-right: 8px;\">⚠️ WARNING:</span>\n",
       "        Skipped kaliua_10630.jpg: 'processed'\n",
       "    </div>\n",
       "    <style>\n",
       "        @keyframes fadeIn {\n",
       "            from { opacity: 0; transform: translateY(-10px); }\n",
       "            to { opacity: 1; transform: translateY(0); }\n",
       "        }\n",
       "    </style>\n",
       "    "
      ],
      "text/plain": [
       "<IPython.core.display.HTML object>"
      ]
     },
     "metadata": {},
     "output_type": "display_data"
    },
    {
     "data": {
      "text/html": [
       "\n",
       "    <div style=\"\n",
       "        border: 1px solid #856404;\n",
       "        background-color: rgba(255, 193, 7, 0.1);\n",
       "        color: #856404;\n",
       "        padding: 12px 18px;\n",
       "        margin: 10px 0;\n",
       "        border-radius: 5px;\n",
       "        font-family: sans-serif;\n",
       "        font-size: 14px;\n",
       "        animation: fadeIn 0.5s ease-out;\n",
       "        line-height: 1.6;\n",
       "    \">\n",
       "        <span style=\"font-weight: bold; margin-right: 8px;\">⚠️ WARNING:</span>\n",
       "        Skipped kaliua_10631.jpg: 'processed'\n",
       "    </div>\n",
       "    <style>\n",
       "        @keyframes fadeIn {\n",
       "            from { opacity: 0; transform: translateY(-10px); }\n",
       "            to { opacity: 1; transform: translateY(0); }\n",
       "        }\n",
       "    </style>\n",
       "    "
      ],
      "text/plain": [
       "<IPython.core.display.HTML object>"
      ]
     },
     "metadata": {},
     "output_type": "display_data"
    },
    {
     "data": {
      "text/html": [
       "\n",
       "    <div style=\"\n",
       "        border: 1px solid #856404;\n",
       "        background-color: rgba(255, 193, 7, 0.1);\n",
       "        color: #856404;\n",
       "        padding: 12px 18px;\n",
       "        margin: 10px 0;\n",
       "        border-radius: 5px;\n",
       "        font-family: sans-serif;\n",
       "        font-size: 14px;\n",
       "        animation: fadeIn 0.5s ease-out;\n",
       "        line-height: 1.6;\n",
       "    \">\n",
       "        <span style=\"font-weight: bold; margin-right: 8px;\">⚠️ WARNING:</span>\n",
       "        Skipped kaliua_10632.jpg: 'processed'\n",
       "    </div>\n",
       "    <style>\n",
       "        @keyframes fadeIn {\n",
       "            from { opacity: 0; transform: translateY(-10px); }\n",
       "            to { opacity: 1; transform: translateY(0); }\n",
       "        }\n",
       "    </style>\n",
       "    "
      ],
      "text/plain": [
       "<IPython.core.display.HTML object>"
      ]
     },
     "metadata": {},
     "output_type": "display_data"
    },
    {
     "data": {
      "text/html": [
       "\n",
       "    <div style=\"\n",
       "        border: 1px solid #856404;\n",
       "        background-color: rgba(255, 193, 7, 0.1);\n",
       "        color: #856404;\n",
       "        padding: 12px 18px;\n",
       "        margin: 10px 0;\n",
       "        border-radius: 5px;\n",
       "        font-family: sans-serif;\n",
       "        font-size: 14px;\n",
       "        animation: fadeIn 0.5s ease-out;\n",
       "        line-height: 1.6;\n",
       "    \">\n",
       "        <span style=\"font-weight: bold; margin-right: 8px;\">⚠️ WARNING:</span>\n",
       "        Skipped kaliua_10633.jpg: 'processed'\n",
       "    </div>\n",
       "    <style>\n",
       "        @keyframes fadeIn {\n",
       "            from { opacity: 0; transform: translateY(-10px); }\n",
       "            to { opacity: 1; transform: translateY(0); }\n",
       "        }\n",
       "    </style>\n",
       "    "
      ],
      "text/plain": [
       "<IPython.core.display.HTML object>"
      ]
     },
     "metadata": {},
     "output_type": "display_data"
    },
    {
     "data": {
      "text/html": [
       "\n",
       "    <div style=\"\n",
       "        border: 1px solid #856404;\n",
       "        background-color: rgba(255, 193, 7, 0.1);\n",
       "        color: #856404;\n",
       "        padding: 12px 18px;\n",
       "        margin: 10px 0;\n",
       "        border-radius: 5px;\n",
       "        font-family: sans-serif;\n",
       "        font-size: 14px;\n",
       "        animation: fadeIn 0.5s ease-out;\n",
       "        line-height: 1.6;\n",
       "    \">\n",
       "        <span style=\"font-weight: bold; margin-right: 8px;\">⚠️ WARNING:</span>\n",
       "        Skipped kaliua_10634.jpg: 'processed'\n",
       "    </div>\n",
       "    <style>\n",
       "        @keyframes fadeIn {\n",
       "            from { opacity: 0; transform: translateY(-10px); }\n",
       "            to { opacity: 1; transform: translateY(0); }\n",
       "        }\n",
       "    </style>\n",
       "    "
      ],
      "text/plain": [
       "<IPython.core.display.HTML object>"
      ]
     },
     "metadata": {},
     "output_type": "display_data"
    },
    {
     "data": {
      "text/html": [
       "\n",
       "    <div style=\"\n",
       "        border: 1px solid #856404;\n",
       "        background-color: rgba(255, 193, 7, 0.1);\n",
       "        color: #856404;\n",
       "        padding: 12px 18px;\n",
       "        margin: 10px 0;\n",
       "        border-radius: 5px;\n",
       "        font-family: sans-serif;\n",
       "        font-size: 14px;\n",
       "        animation: fadeIn 0.5s ease-out;\n",
       "        line-height: 1.6;\n",
       "    \">\n",
       "        <span style=\"font-weight: bold; margin-right: 8px;\">⚠️ WARNING:</span>\n",
       "        Skipped kaliua_10635.jpg: 'processed'\n",
       "    </div>\n",
       "    <style>\n",
       "        @keyframes fadeIn {\n",
       "            from { opacity: 0; transform: translateY(-10px); }\n",
       "            to { opacity: 1; transform: translateY(0); }\n",
       "        }\n",
       "    </style>\n",
       "    "
      ],
      "text/plain": [
       "<IPython.core.display.HTML object>"
      ]
     },
     "metadata": {},
     "output_type": "display_data"
    },
    {
     "data": {
      "text/html": [
       "\n",
       "    <div style=\"\n",
       "        border: 1px solid #856404;\n",
       "        background-color: rgba(255, 193, 7, 0.1);\n",
       "        color: #856404;\n",
       "        padding: 12px 18px;\n",
       "        margin: 10px 0;\n",
       "        border-radius: 5px;\n",
       "        font-family: sans-serif;\n",
       "        font-size: 14px;\n",
       "        animation: fadeIn 0.5s ease-out;\n",
       "        line-height: 1.6;\n",
       "    \">\n",
       "        <span style=\"font-weight: bold; margin-right: 8px;\">⚠️ WARNING:</span>\n",
       "        Skipped kaliua_10636.jpg: 'processed'\n",
       "    </div>\n",
       "    <style>\n",
       "        @keyframes fadeIn {\n",
       "            from { opacity: 0; transform: translateY(-10px); }\n",
       "            to { opacity: 1; transform: translateY(0); }\n",
       "        }\n",
       "    </style>\n",
       "    "
      ],
      "text/plain": [
       "<IPython.core.display.HTML object>"
      ]
     },
     "metadata": {},
     "output_type": "display_data"
    },
    {
     "data": {
      "text/html": [
       "\n",
       "    <div style=\"\n",
       "        border: 1px solid #856404;\n",
       "        background-color: rgba(255, 193, 7, 0.1);\n",
       "        color: #856404;\n",
       "        padding: 12px 18px;\n",
       "        margin: 10px 0;\n",
       "        border-radius: 5px;\n",
       "        font-family: sans-serif;\n",
       "        font-size: 14px;\n",
       "        animation: fadeIn 0.5s ease-out;\n",
       "        line-height: 1.6;\n",
       "    \">\n",
       "        <span style=\"font-weight: bold; margin-right: 8px;\">⚠️ WARNING:</span>\n",
       "        Skipped kaliua_10637.jpg: 'processed'\n",
       "    </div>\n",
       "    <style>\n",
       "        @keyframes fadeIn {\n",
       "            from { opacity: 0; transform: translateY(-10px); }\n",
       "            to { opacity: 1; transform: translateY(0); }\n",
       "        }\n",
       "    </style>\n",
       "    "
      ],
      "text/plain": [
       "<IPython.core.display.HTML object>"
      ]
     },
     "metadata": {},
     "output_type": "display_data"
    },
    {
     "data": {
      "text/html": [
       "\n",
       "    <div style=\"\n",
       "        border: 1px solid #856404;\n",
       "        background-color: rgba(255, 193, 7, 0.1);\n",
       "        color: #856404;\n",
       "        padding: 12px 18px;\n",
       "        margin: 10px 0;\n",
       "        border-radius: 5px;\n",
       "        font-family: sans-serif;\n",
       "        font-size: 14px;\n",
       "        animation: fadeIn 0.5s ease-out;\n",
       "        line-height: 1.6;\n",
       "    \">\n",
       "        <span style=\"font-weight: bold; margin-right: 8px;\">⚠️ WARNING:</span>\n",
       "        Skipped kaliua_10638.jpg: 'processed'\n",
       "    </div>\n",
       "    <style>\n",
       "        @keyframes fadeIn {\n",
       "            from { opacity: 0; transform: translateY(-10px); }\n",
       "            to { opacity: 1; transform: translateY(0); }\n",
       "        }\n",
       "    </style>\n",
       "    "
      ],
      "text/plain": [
       "<IPython.core.display.HTML object>"
      ]
     },
     "metadata": {},
     "output_type": "display_data"
    },
    {
     "data": {
      "text/html": [
       "\n",
       "    <div style=\"\n",
       "        border: 1px solid #856404;\n",
       "        background-color: rgba(255, 193, 7, 0.1);\n",
       "        color: #856404;\n",
       "        padding: 12px 18px;\n",
       "        margin: 10px 0;\n",
       "        border-radius: 5px;\n",
       "        font-family: sans-serif;\n",
       "        font-size: 14px;\n",
       "        animation: fadeIn 0.5s ease-out;\n",
       "        line-height: 1.6;\n",
       "    \">\n",
       "        <span style=\"font-weight: bold; margin-right: 8px;\">⚠️ WARNING:</span>\n",
       "        Skipped kaliua_10639.jpg: 'processed'\n",
       "    </div>\n",
       "    <style>\n",
       "        @keyframes fadeIn {\n",
       "            from { opacity: 0; transform: translateY(-10px); }\n",
       "            to { opacity: 1; transform: translateY(0); }\n",
       "        }\n",
       "    </style>\n",
       "    "
      ],
      "text/plain": [
       "<IPython.core.display.HTML object>"
      ]
     },
     "metadata": {},
     "output_type": "display_data"
    },
    {
     "data": {
      "text/html": [
       "\n",
       "    <div style=\"\n",
       "        border: 1px solid #856404;\n",
       "        background-color: rgba(255, 193, 7, 0.1);\n",
       "        color: #856404;\n",
       "        padding: 12px 18px;\n",
       "        margin: 10px 0;\n",
       "        border-radius: 5px;\n",
       "        font-family: sans-serif;\n",
       "        font-size: 14px;\n",
       "        animation: fadeIn 0.5s ease-out;\n",
       "        line-height: 1.6;\n",
       "    \">\n",
       "        <span style=\"font-weight: bold; margin-right: 8px;\">⚠️ WARNING:</span>\n",
       "        Skipped kaliua_10640.jpg: 'processed'\n",
       "    </div>\n",
       "    <style>\n",
       "        @keyframes fadeIn {\n",
       "            from { opacity: 0; transform: translateY(-10px); }\n",
       "            to { opacity: 1; transform: translateY(0); }\n",
       "        }\n",
       "    </style>\n",
       "    "
      ],
      "text/plain": [
       "<IPython.core.display.HTML object>"
      ]
     },
     "metadata": {},
     "output_type": "display_data"
    },
    {
     "data": {
      "text/html": [
       "\n",
       "    <div style=\"\n",
       "        border: 1px solid #856404;\n",
       "        background-color: rgba(255, 193, 7, 0.1);\n",
       "        color: #856404;\n",
       "        padding: 12px 18px;\n",
       "        margin: 10px 0;\n",
       "        border-radius: 5px;\n",
       "        font-family: sans-serif;\n",
       "        font-size: 14px;\n",
       "        animation: fadeIn 0.5s ease-out;\n",
       "        line-height: 1.6;\n",
       "    \">\n",
       "        <span style=\"font-weight: bold; margin-right: 8px;\">⚠️ WARNING:</span>\n",
       "        Skipped kaliua_10641.jpg: 'processed'\n",
       "    </div>\n",
       "    <style>\n",
       "        @keyframes fadeIn {\n",
       "            from { opacity: 0; transform: translateY(-10px); }\n",
       "            to { opacity: 1; transform: translateY(0); }\n",
       "        }\n",
       "    </style>\n",
       "    "
      ],
      "text/plain": [
       "<IPython.core.display.HTML object>"
      ]
     },
     "metadata": {},
     "output_type": "display_data"
    },
    {
     "data": {
      "text/html": [
       "\n",
       "    <div style=\"\n",
       "        border: 1px solid #856404;\n",
       "        background-color: rgba(255, 193, 7, 0.1);\n",
       "        color: #856404;\n",
       "        padding: 12px 18px;\n",
       "        margin: 10px 0;\n",
       "        border-radius: 5px;\n",
       "        font-family: sans-serif;\n",
       "        font-size: 14px;\n",
       "        animation: fadeIn 0.5s ease-out;\n",
       "        line-height: 1.6;\n",
       "    \">\n",
       "        <span style=\"font-weight: bold; margin-right: 8px;\">⚠️ WARNING:</span>\n",
       "        Skipped kaliua_10642.jpg: 'processed'\n",
       "    </div>\n",
       "    <style>\n",
       "        @keyframes fadeIn {\n",
       "            from { opacity: 0; transform: translateY(-10px); }\n",
       "            to { opacity: 1; transform: translateY(0); }\n",
       "        }\n",
       "    </style>\n",
       "    "
      ],
      "text/plain": [
       "<IPython.core.display.HTML object>"
      ]
     },
     "metadata": {},
     "output_type": "display_data"
    },
    {
     "data": {
      "text/html": [
       "\n",
       "    <div style=\"\n",
       "        border: 1px solid #856404;\n",
       "        background-color: rgba(255, 193, 7, 0.1);\n",
       "        color: #856404;\n",
       "        padding: 12px 18px;\n",
       "        margin: 10px 0;\n",
       "        border-radius: 5px;\n",
       "        font-family: sans-serif;\n",
       "        font-size: 14px;\n",
       "        animation: fadeIn 0.5s ease-out;\n",
       "        line-height: 1.6;\n",
       "    \">\n",
       "        <span style=\"font-weight: bold; margin-right: 8px;\">⚠️ WARNING:</span>\n",
       "        Skipped kaliua_10643.jpg: 'processed'\n",
       "    </div>\n",
       "    <style>\n",
       "        @keyframes fadeIn {\n",
       "            from { opacity: 0; transform: translateY(-10px); }\n",
       "            to { opacity: 1; transform: translateY(0); }\n",
       "        }\n",
       "    </style>\n",
       "    "
      ],
      "text/plain": [
       "<IPython.core.display.HTML object>"
      ]
     },
     "metadata": {},
     "output_type": "display_data"
    },
    {
     "data": {
      "text/html": [
       "\n",
       "    <div style=\"\n",
       "        border: 1px solid #856404;\n",
       "        background-color: rgba(255, 193, 7, 0.1);\n",
       "        color: #856404;\n",
       "        padding: 12px 18px;\n",
       "        margin: 10px 0;\n",
       "        border-radius: 5px;\n",
       "        font-family: sans-serif;\n",
       "        font-size: 14px;\n",
       "        animation: fadeIn 0.5s ease-out;\n",
       "        line-height: 1.6;\n",
       "    \">\n",
       "        <span style=\"font-weight: bold; margin-right: 8px;\">⚠️ WARNING:</span>\n",
       "        Skipped kaliua_10644.jpg: 'processed'\n",
       "    </div>\n",
       "    <style>\n",
       "        @keyframes fadeIn {\n",
       "            from { opacity: 0; transform: translateY(-10px); }\n",
       "            to { opacity: 1; transform: translateY(0); }\n",
       "        }\n",
       "    </style>\n",
       "    "
      ],
      "text/plain": [
       "<IPython.core.display.HTML object>"
      ]
     },
     "metadata": {},
     "output_type": "display_data"
    },
    {
     "data": {
      "text/html": [
       "\n",
       "    <div style=\"\n",
       "        border: 1px solid #856404;\n",
       "        background-color: rgba(255, 193, 7, 0.1);\n",
       "        color: #856404;\n",
       "        padding: 12px 18px;\n",
       "        margin: 10px 0;\n",
       "        border-radius: 5px;\n",
       "        font-family: sans-serif;\n",
       "        font-size: 14px;\n",
       "        animation: fadeIn 0.5s ease-out;\n",
       "        line-height: 1.6;\n",
       "    \">\n",
       "        <span style=\"font-weight: bold; margin-right: 8px;\">⚠️ WARNING:</span>\n",
       "        Skipped kaliua_10645.jpg: 'processed'\n",
       "    </div>\n",
       "    <style>\n",
       "        @keyframes fadeIn {\n",
       "            from { opacity: 0; transform: translateY(-10px); }\n",
       "            to { opacity: 1; transform: translateY(0); }\n",
       "        }\n",
       "    </style>\n",
       "    "
      ],
      "text/plain": [
       "<IPython.core.display.HTML object>"
      ]
     },
     "metadata": {},
     "output_type": "display_data"
    },
    {
     "data": {
      "text/html": [
       "\n",
       "    <div style=\"\n",
       "        border: 1px solid #856404;\n",
       "        background-color: rgba(255, 193, 7, 0.1);\n",
       "        color: #856404;\n",
       "        padding: 12px 18px;\n",
       "        margin: 10px 0;\n",
       "        border-radius: 5px;\n",
       "        font-family: sans-serif;\n",
       "        font-size: 14px;\n",
       "        animation: fadeIn 0.5s ease-out;\n",
       "        line-height: 1.6;\n",
       "    \">\n",
       "        <span style=\"font-weight: bold; margin-right: 8px;\">⚠️ WARNING:</span>\n",
       "        Skipped kaliua_10646.jpg: 'processed'\n",
       "    </div>\n",
       "    <style>\n",
       "        @keyframes fadeIn {\n",
       "            from { opacity: 0; transform: translateY(-10px); }\n",
       "            to { opacity: 1; transform: translateY(0); }\n",
       "        }\n",
       "    </style>\n",
       "    "
      ],
      "text/plain": [
       "<IPython.core.display.HTML object>"
      ]
     },
     "metadata": {},
     "output_type": "display_data"
    },
    {
     "data": {
      "text/html": [
       "\n",
       "    <div style=\"\n",
       "        border: 1px solid #856404;\n",
       "        background-color: rgba(255, 193, 7, 0.1);\n",
       "        color: #856404;\n",
       "        padding: 12px 18px;\n",
       "        margin: 10px 0;\n",
       "        border-radius: 5px;\n",
       "        font-family: sans-serif;\n",
       "        font-size: 14px;\n",
       "        animation: fadeIn 0.5s ease-out;\n",
       "        line-height: 1.6;\n",
       "    \">\n",
       "        <span style=\"font-weight: bold; margin-right: 8px;\">⚠️ WARNING:</span>\n",
       "        Skipped kaliua_10647.jpg: 'processed'\n",
       "    </div>\n",
       "    <style>\n",
       "        @keyframes fadeIn {\n",
       "            from { opacity: 0; transform: translateY(-10px); }\n",
       "            to { opacity: 1; transform: translateY(0); }\n",
       "        }\n",
       "    </style>\n",
       "    "
      ],
      "text/plain": [
       "<IPython.core.display.HTML object>"
      ]
     },
     "metadata": {},
     "output_type": "display_data"
    },
    {
     "data": {
      "text/html": [
       "\n",
       "    <div style=\"\n",
       "        border: 1px solid #856404;\n",
       "        background-color: rgba(255, 193, 7, 0.1);\n",
       "        color: #856404;\n",
       "        padding: 12px 18px;\n",
       "        margin: 10px 0;\n",
       "        border-radius: 5px;\n",
       "        font-family: sans-serif;\n",
       "        font-size: 14px;\n",
       "        animation: fadeIn 0.5s ease-out;\n",
       "        line-height: 1.6;\n",
       "    \">\n",
       "        <span style=\"font-weight: bold; margin-right: 8px;\">⚠️ WARNING:</span>\n",
       "        Skipped kaliua_10648.jpg: 'processed'\n",
       "    </div>\n",
       "    <style>\n",
       "        @keyframes fadeIn {\n",
       "            from { opacity: 0; transform: translateY(-10px); }\n",
       "            to { opacity: 1; transform: translateY(0); }\n",
       "        }\n",
       "    </style>\n",
       "    "
      ],
      "text/plain": [
       "<IPython.core.display.HTML object>"
      ]
     },
     "metadata": {},
     "output_type": "display_data"
    },
    {
     "data": {
      "text/html": [
       "\n",
       "    <div style=\"\n",
       "        border: 1px solid #856404;\n",
       "        background-color: rgba(255, 193, 7, 0.1);\n",
       "        color: #856404;\n",
       "        padding: 12px 18px;\n",
       "        margin: 10px 0;\n",
       "        border-radius: 5px;\n",
       "        font-family: sans-serif;\n",
       "        font-size: 14px;\n",
       "        animation: fadeIn 0.5s ease-out;\n",
       "        line-height: 1.6;\n",
       "    \">\n",
       "        <span style=\"font-weight: bold; margin-right: 8px;\">⚠️ WARNING:</span>\n",
       "        Skipped kaliua_10649.jpg: 'processed'\n",
       "    </div>\n",
       "    <style>\n",
       "        @keyframes fadeIn {\n",
       "            from { opacity: 0; transform: translateY(-10px); }\n",
       "            to { opacity: 1; transform: translateY(0); }\n",
       "        }\n",
       "    </style>\n",
       "    "
      ],
      "text/plain": [
       "<IPython.core.display.HTML object>"
      ]
     },
     "metadata": {},
     "output_type": "display_data"
    },
    {
     "data": {
      "text/html": [
       "\n",
       "    <div style=\"\n",
       "        border: 1px solid #856404;\n",
       "        background-color: rgba(255, 193, 7, 0.1);\n",
       "        color: #856404;\n",
       "        padding: 12px 18px;\n",
       "        margin: 10px 0;\n",
       "        border-radius: 5px;\n",
       "        font-family: sans-serif;\n",
       "        font-size: 14px;\n",
       "        animation: fadeIn 0.5s ease-out;\n",
       "        line-height: 1.6;\n",
       "    \">\n",
       "        <span style=\"font-weight: bold; margin-right: 8px;\">⚠️ WARNING:</span>\n",
       "        Skipped kaliua_10650.jpg: 'processed'\n",
       "    </div>\n",
       "    <style>\n",
       "        @keyframes fadeIn {\n",
       "            from { opacity: 0; transform: translateY(-10px); }\n",
       "            to { opacity: 1; transform: translateY(0); }\n",
       "        }\n",
       "    </style>\n",
       "    "
      ],
      "text/plain": [
       "<IPython.core.display.HTML object>"
      ]
     },
     "metadata": {},
     "output_type": "display_data"
    },
    {
     "data": {
      "text/html": [
       "\n",
       "    <div style=\"\n",
       "        border: 1px solid #856404;\n",
       "        background-color: rgba(255, 193, 7, 0.1);\n",
       "        color: #856404;\n",
       "        padding: 12px 18px;\n",
       "        margin: 10px 0;\n",
       "        border-radius: 5px;\n",
       "        font-family: sans-serif;\n",
       "        font-size: 14px;\n",
       "        animation: fadeIn 0.5s ease-out;\n",
       "        line-height: 1.6;\n",
       "    \">\n",
       "        <span style=\"font-weight: bold; margin-right: 8px;\">⚠️ WARNING:</span>\n",
       "        Skipped kaliua_10651.jpg: 'processed'\n",
       "    </div>\n",
       "    <style>\n",
       "        @keyframes fadeIn {\n",
       "            from { opacity: 0; transform: translateY(-10px); }\n",
       "            to { opacity: 1; transform: translateY(0); }\n",
       "        }\n",
       "    </style>\n",
       "    "
      ],
      "text/plain": [
       "<IPython.core.display.HTML object>"
      ]
     },
     "metadata": {},
     "output_type": "display_data"
    },
    {
     "data": {
      "text/html": [
       "\n",
       "    <div style=\"\n",
       "        border: 1px solid #856404;\n",
       "        background-color: rgba(255, 193, 7, 0.1);\n",
       "        color: #856404;\n",
       "        padding: 12px 18px;\n",
       "        margin: 10px 0;\n",
       "        border-radius: 5px;\n",
       "        font-family: sans-serif;\n",
       "        font-size: 14px;\n",
       "        animation: fadeIn 0.5s ease-out;\n",
       "        line-height: 1.6;\n",
       "    \">\n",
       "        <span style=\"font-weight: bold; margin-right: 8px;\">⚠️ WARNING:</span>\n",
       "        Skipped kaliua_10655.jpg: 'processed'\n",
       "    </div>\n",
       "    <style>\n",
       "        @keyframes fadeIn {\n",
       "            from { opacity: 0; transform: translateY(-10px); }\n",
       "            to { opacity: 1; transform: translateY(0); }\n",
       "        }\n",
       "    </style>\n",
       "    "
      ],
      "text/plain": [
       "<IPython.core.display.HTML object>"
      ]
     },
     "metadata": {},
     "output_type": "display_data"
    },
    {
     "data": {
      "text/html": [
       "\n",
       "    <div style=\"\n",
       "        border: 1px solid #856404;\n",
       "        background-color: rgba(255, 193, 7, 0.1);\n",
       "        color: #856404;\n",
       "        padding: 12px 18px;\n",
       "        margin: 10px 0;\n",
       "        border-radius: 5px;\n",
       "        font-family: sans-serif;\n",
       "        font-size: 14px;\n",
       "        animation: fadeIn 0.5s ease-out;\n",
       "        line-height: 1.6;\n",
       "    \">\n",
       "        <span style=\"font-weight: bold; margin-right: 8px;\">⚠️ WARNING:</span>\n",
       "        Skipped kaliua_10656.jpg: 'processed'\n",
       "    </div>\n",
       "    <style>\n",
       "        @keyframes fadeIn {\n",
       "            from { opacity: 0; transform: translateY(-10px); }\n",
       "            to { opacity: 1; transform: translateY(0); }\n",
       "        }\n",
       "    </style>\n",
       "    "
      ],
      "text/plain": [
       "<IPython.core.display.HTML object>"
      ]
     },
     "metadata": {},
     "output_type": "display_data"
    },
    {
     "data": {
      "text/html": [
       "\n",
       "    <div style=\"\n",
       "        border: 1px solid #856404;\n",
       "        background-color: rgba(255, 193, 7, 0.1);\n",
       "        color: #856404;\n",
       "        padding: 12px 18px;\n",
       "        margin: 10px 0;\n",
       "        border-radius: 5px;\n",
       "        font-family: sans-serif;\n",
       "        font-size: 14px;\n",
       "        animation: fadeIn 0.5s ease-out;\n",
       "        line-height: 1.6;\n",
       "    \">\n",
       "        <span style=\"font-weight: bold; margin-right: 8px;\">⚠️ WARNING:</span>\n",
       "        Skipped kaliua_10657.jpg: 'processed'\n",
       "    </div>\n",
       "    <style>\n",
       "        @keyframes fadeIn {\n",
       "            from { opacity: 0; transform: translateY(-10px); }\n",
       "            to { opacity: 1; transform: translateY(0); }\n",
       "        }\n",
       "    </style>\n",
       "    "
      ],
      "text/plain": [
       "<IPython.core.display.HTML object>"
      ]
     },
     "metadata": {},
     "output_type": "display_data"
    },
    {
     "data": {
      "text/html": [
       "\n",
       "    <div style=\"\n",
       "        border: 1px solid #856404;\n",
       "        background-color: rgba(255, 193, 7, 0.1);\n",
       "        color: #856404;\n",
       "        padding: 12px 18px;\n",
       "        margin: 10px 0;\n",
       "        border-radius: 5px;\n",
       "        font-family: sans-serif;\n",
       "        font-size: 14px;\n",
       "        animation: fadeIn 0.5s ease-out;\n",
       "        line-height: 1.6;\n",
       "    \">\n",
       "        <span style=\"font-weight: bold; margin-right: 8px;\">⚠️ WARNING:</span>\n",
       "        Skipped kaliua_10658.jpg: 'processed'\n",
       "    </div>\n",
       "    <style>\n",
       "        @keyframes fadeIn {\n",
       "            from { opacity: 0; transform: translateY(-10px); }\n",
       "            to { opacity: 1; transform: translateY(0); }\n",
       "        }\n",
       "    </style>\n",
       "    "
      ],
      "text/plain": [
       "<IPython.core.display.HTML object>"
      ]
     },
     "metadata": {},
     "output_type": "display_data"
    },
    {
     "data": {
      "text/html": [
       "\n",
       "    <div style=\"\n",
       "        border: 1px solid #856404;\n",
       "        background-color: rgba(255, 193, 7, 0.1);\n",
       "        color: #856404;\n",
       "        padding: 12px 18px;\n",
       "        margin: 10px 0;\n",
       "        border-radius: 5px;\n",
       "        font-family: sans-serif;\n",
       "        font-size: 14px;\n",
       "        animation: fadeIn 0.5s ease-out;\n",
       "        line-height: 1.6;\n",
       "    \">\n",
       "        <span style=\"font-weight: bold; margin-right: 8px;\">⚠️ WARNING:</span>\n",
       "        Skipped kaliua_10659.jpg: 'processed'\n",
       "    </div>\n",
       "    <style>\n",
       "        @keyframes fadeIn {\n",
       "            from { opacity: 0; transform: translateY(-10px); }\n",
       "            to { opacity: 1; transform: translateY(0); }\n",
       "        }\n",
       "    </style>\n",
       "    "
      ],
      "text/plain": [
       "<IPython.core.display.HTML object>"
      ]
     },
     "metadata": {},
     "output_type": "display_data"
    },
    {
     "data": {
      "text/html": [
       "\n",
       "    <div style=\"\n",
       "        border: 1px solid #856404;\n",
       "        background-color: rgba(255, 193, 7, 0.1);\n",
       "        color: #856404;\n",
       "        padding: 12px 18px;\n",
       "        margin: 10px 0;\n",
       "        border-radius: 5px;\n",
       "        font-family: sans-serif;\n",
       "        font-size: 14px;\n",
       "        animation: fadeIn 0.5s ease-out;\n",
       "        line-height: 1.6;\n",
       "    \">\n",
       "        <span style=\"font-weight: bold; margin-right: 8px;\">⚠️ WARNING:</span>\n",
       "        Skipped kaliua_10660.jpg: 'processed'\n",
       "    </div>\n",
       "    <style>\n",
       "        @keyframes fadeIn {\n",
       "            from { opacity: 0; transform: translateY(-10px); }\n",
       "            to { opacity: 1; transform: translateY(0); }\n",
       "        }\n",
       "    </style>\n",
       "    "
      ],
      "text/plain": [
       "<IPython.core.display.HTML object>"
      ]
     },
     "metadata": {},
     "output_type": "display_data"
    },
    {
     "data": {
      "text/html": [
       "\n",
       "    <div style=\"\n",
       "        border: 1px solid #856404;\n",
       "        background-color: rgba(255, 193, 7, 0.1);\n",
       "        color: #856404;\n",
       "        padding: 12px 18px;\n",
       "        margin: 10px 0;\n",
       "        border-radius: 5px;\n",
       "        font-family: sans-serif;\n",
       "        font-size: 14px;\n",
       "        animation: fadeIn 0.5s ease-out;\n",
       "        line-height: 1.6;\n",
       "    \">\n",
       "        <span style=\"font-weight: bold; margin-right: 8px;\">⚠️ WARNING:</span>\n",
       "        Skipped kaliua_10661.jpg: 'processed'\n",
       "    </div>\n",
       "    <style>\n",
       "        @keyframes fadeIn {\n",
       "            from { opacity: 0; transform: translateY(-10px); }\n",
       "            to { opacity: 1; transform: translateY(0); }\n",
       "        }\n",
       "    </style>\n",
       "    "
      ],
      "text/plain": [
       "<IPython.core.display.HTML object>"
      ]
     },
     "metadata": {},
     "output_type": "display_data"
    },
    {
     "data": {
      "text/html": [
       "\n",
       "    <div style=\"\n",
       "        border: 1px solid #856404;\n",
       "        background-color: rgba(255, 193, 7, 0.1);\n",
       "        color: #856404;\n",
       "        padding: 12px 18px;\n",
       "        margin: 10px 0;\n",
       "        border-radius: 5px;\n",
       "        font-family: sans-serif;\n",
       "        font-size: 14px;\n",
       "        animation: fadeIn 0.5s ease-out;\n",
       "        line-height: 1.6;\n",
       "    \">\n",
       "        <span style=\"font-weight: bold; margin-right: 8px;\">⚠️ WARNING:</span>\n",
       "        Skipped kaliua_10662.jpg: 'processed'\n",
       "    </div>\n",
       "    <style>\n",
       "        @keyframes fadeIn {\n",
       "            from { opacity: 0; transform: translateY(-10px); }\n",
       "            to { opacity: 1; transform: translateY(0); }\n",
       "        }\n",
       "    </style>\n",
       "    "
      ],
      "text/plain": [
       "<IPython.core.display.HTML object>"
      ]
     },
     "metadata": {},
     "output_type": "display_data"
    },
    {
     "data": {
      "text/html": [
       "\n",
       "    <div style=\"\n",
       "        border: 1px solid #856404;\n",
       "        background-color: rgba(255, 193, 7, 0.1);\n",
       "        color: #856404;\n",
       "        padding: 12px 18px;\n",
       "        margin: 10px 0;\n",
       "        border-radius: 5px;\n",
       "        font-family: sans-serif;\n",
       "        font-size: 14px;\n",
       "        animation: fadeIn 0.5s ease-out;\n",
       "        line-height: 1.6;\n",
       "    \">\n",
       "        <span style=\"font-weight: bold; margin-right: 8px;\">⚠️ WARNING:</span>\n",
       "        Skipped kaliua_10663.jpg: 'processed'\n",
       "    </div>\n",
       "    <style>\n",
       "        @keyframes fadeIn {\n",
       "            from { opacity: 0; transform: translateY(-10px); }\n",
       "            to { opacity: 1; transform: translateY(0); }\n",
       "        }\n",
       "    </style>\n",
       "    "
      ],
      "text/plain": [
       "<IPython.core.display.HTML object>"
      ]
     },
     "metadata": {},
     "output_type": "display_data"
    },
    {
     "data": {
      "text/html": [
       "\n",
       "    <div style=\"\n",
       "        border: 1px solid #856404;\n",
       "        background-color: rgba(255, 193, 7, 0.1);\n",
       "        color: #856404;\n",
       "        padding: 12px 18px;\n",
       "        margin: 10px 0;\n",
       "        border-radius: 5px;\n",
       "        font-family: sans-serif;\n",
       "        font-size: 14px;\n",
       "        animation: fadeIn 0.5s ease-out;\n",
       "        line-height: 1.6;\n",
       "    \">\n",
       "        <span style=\"font-weight: bold; margin-right: 8px;\">⚠️ WARNING:</span>\n",
       "        Skipped kaliua_10664.jpg: 'processed'\n",
       "    </div>\n",
       "    <style>\n",
       "        @keyframes fadeIn {\n",
       "            from { opacity: 0; transform: translateY(-10px); }\n",
       "            to { opacity: 1; transform: translateY(0); }\n",
       "        }\n",
       "    </style>\n",
       "    "
      ],
      "text/plain": [
       "<IPython.core.display.HTML object>"
      ]
     },
     "metadata": {},
     "output_type": "display_data"
    },
    {
     "data": {
      "text/html": [
       "\n",
       "    <div style=\"\n",
       "        border: 1px solid #856404;\n",
       "        background-color: rgba(255, 193, 7, 0.1);\n",
       "        color: #856404;\n",
       "        padding: 12px 18px;\n",
       "        margin: 10px 0;\n",
       "        border-radius: 5px;\n",
       "        font-family: sans-serif;\n",
       "        font-size: 14px;\n",
       "        animation: fadeIn 0.5s ease-out;\n",
       "        line-height: 1.6;\n",
       "    \">\n",
       "        <span style=\"font-weight: bold; margin-right: 8px;\">⚠️ WARNING:</span>\n",
       "        Skipped kaliua_10665.jpg: 'processed'\n",
       "    </div>\n",
       "    <style>\n",
       "        @keyframes fadeIn {\n",
       "            from { opacity: 0; transform: translateY(-10px); }\n",
       "            to { opacity: 1; transform: translateY(0); }\n",
       "        }\n",
       "    </style>\n",
       "    "
      ],
      "text/plain": [
       "<IPython.core.display.HTML object>"
      ]
     },
     "metadata": {},
     "output_type": "display_data"
    },
    {
     "data": {
      "text/html": [
       "\n",
       "    <div style=\"\n",
       "        border: 1px solid #856404;\n",
       "        background-color: rgba(255, 193, 7, 0.1);\n",
       "        color: #856404;\n",
       "        padding: 12px 18px;\n",
       "        margin: 10px 0;\n",
       "        border-radius: 5px;\n",
       "        font-family: sans-serif;\n",
       "        font-size: 14px;\n",
       "        animation: fadeIn 0.5s ease-out;\n",
       "        line-height: 1.6;\n",
       "    \">\n",
       "        <span style=\"font-weight: bold; margin-right: 8px;\">⚠️ WARNING:</span>\n",
       "        Skipped kaliua_10666.jpg: 'processed'\n",
       "    </div>\n",
       "    <style>\n",
       "        @keyframes fadeIn {\n",
       "            from { opacity: 0; transform: translateY(-10px); }\n",
       "            to { opacity: 1; transform: translateY(0); }\n",
       "        }\n",
       "    </style>\n",
       "    "
      ],
      "text/plain": [
       "<IPython.core.display.HTML object>"
      ]
     },
     "metadata": {},
     "output_type": "display_data"
    },
    {
     "data": {
      "text/html": [
       "\n",
       "    <div style=\"\n",
       "        border: 1px solid #856404;\n",
       "        background-color: rgba(255, 193, 7, 0.1);\n",
       "        color: #856404;\n",
       "        padding: 12px 18px;\n",
       "        margin: 10px 0;\n",
       "        border-radius: 5px;\n",
       "        font-family: sans-serif;\n",
       "        font-size: 14px;\n",
       "        animation: fadeIn 0.5s ease-out;\n",
       "        line-height: 1.6;\n",
       "    \">\n",
       "        <span style=\"font-weight: bold; margin-right: 8px;\">⚠️ WARNING:</span>\n",
       "        Skipped kaliua_10667.jpg: 'processed'\n",
       "    </div>\n",
       "    <style>\n",
       "        @keyframes fadeIn {\n",
       "            from { opacity: 0; transform: translateY(-10px); }\n",
       "            to { opacity: 1; transform: translateY(0); }\n",
       "        }\n",
       "    </style>\n",
       "    "
      ],
      "text/plain": [
       "<IPython.core.display.HTML object>"
      ]
     },
     "metadata": {},
     "output_type": "display_data"
    },
    {
     "data": {
      "text/html": [
       "\n",
       "    <div style=\"\n",
       "        border: 1px solid #856404;\n",
       "        background-color: rgba(255, 193, 7, 0.1);\n",
       "        color: #856404;\n",
       "        padding: 12px 18px;\n",
       "        margin: 10px 0;\n",
       "        border-radius: 5px;\n",
       "        font-family: sans-serif;\n",
       "        font-size: 14px;\n",
       "        animation: fadeIn 0.5s ease-out;\n",
       "        line-height: 1.6;\n",
       "    \">\n",
       "        <span style=\"font-weight: bold; margin-right: 8px;\">⚠️ WARNING:</span>\n",
       "        Skipped kaliua_10668.jpg: 'processed'\n",
       "    </div>\n",
       "    <style>\n",
       "        @keyframes fadeIn {\n",
       "            from { opacity: 0; transform: translateY(-10px); }\n",
       "            to { opacity: 1; transform: translateY(0); }\n",
       "        }\n",
       "    </style>\n",
       "    "
      ],
      "text/plain": [
       "<IPython.core.display.HTML object>"
      ]
     },
     "metadata": {},
     "output_type": "display_data"
    },
    {
     "data": {
      "text/html": [
       "\n",
       "    <div style=\"\n",
       "        border: 1px solid #856404;\n",
       "        background-color: rgba(255, 193, 7, 0.1);\n",
       "        color: #856404;\n",
       "        padding: 12px 18px;\n",
       "        margin: 10px 0;\n",
       "        border-radius: 5px;\n",
       "        font-family: sans-serif;\n",
       "        font-size: 14px;\n",
       "        animation: fadeIn 0.5s ease-out;\n",
       "        line-height: 1.6;\n",
       "    \">\n",
       "        <span style=\"font-weight: bold; margin-right: 8px;\">⚠️ WARNING:</span>\n",
       "        Skipped kaliua_10669.jpg: 'processed'\n",
       "    </div>\n",
       "    <style>\n",
       "        @keyframes fadeIn {\n",
       "            from { opacity: 0; transform: translateY(-10px); }\n",
       "            to { opacity: 1; transform: translateY(0); }\n",
       "        }\n",
       "    </style>\n",
       "    "
      ],
      "text/plain": [
       "<IPython.core.display.HTML object>"
      ]
     },
     "metadata": {},
     "output_type": "display_data"
    },
    {
     "data": {
      "text/html": [
       "\n",
       "    <div style=\"\n",
       "        border: 1px solid #856404;\n",
       "        background-color: rgba(255, 193, 7, 0.1);\n",
       "        color: #856404;\n",
       "        padding: 12px 18px;\n",
       "        margin: 10px 0;\n",
       "        border-radius: 5px;\n",
       "        font-family: sans-serif;\n",
       "        font-size: 14px;\n",
       "        animation: fadeIn 0.5s ease-out;\n",
       "        line-height: 1.6;\n",
       "    \">\n",
       "        <span style=\"font-weight: bold; margin-right: 8px;\">⚠️ WARNING:</span>\n",
       "        Skipped kaliua_10670.jpg: 'processed'\n",
       "    </div>\n",
       "    <style>\n",
       "        @keyframes fadeIn {\n",
       "            from { opacity: 0; transform: translateY(-10px); }\n",
       "            to { opacity: 1; transform: translateY(0); }\n",
       "        }\n",
       "    </style>\n",
       "    "
      ],
      "text/plain": [
       "<IPython.core.display.HTML object>"
      ]
     },
     "metadata": {},
     "output_type": "display_data"
    },
    {
     "data": {
      "text/html": [
       "\n",
       "    <div style=\"\n",
       "        border: 1px solid #856404;\n",
       "        background-color: rgba(255, 193, 7, 0.1);\n",
       "        color: #856404;\n",
       "        padding: 12px 18px;\n",
       "        margin: 10px 0;\n",
       "        border-radius: 5px;\n",
       "        font-family: sans-serif;\n",
       "        font-size: 14px;\n",
       "        animation: fadeIn 0.5s ease-out;\n",
       "        line-height: 1.6;\n",
       "    \">\n",
       "        <span style=\"font-weight: bold; margin-right: 8px;\">⚠️ WARNING:</span>\n",
       "        Skipped kaliua_10671.jpg: 'processed'\n",
       "    </div>\n",
       "    <style>\n",
       "        @keyframes fadeIn {\n",
       "            from { opacity: 0; transform: translateY(-10px); }\n",
       "            to { opacity: 1; transform: translateY(0); }\n",
       "        }\n",
       "    </style>\n",
       "    "
      ],
      "text/plain": [
       "<IPython.core.display.HTML object>"
      ]
     },
     "metadata": {},
     "output_type": "display_data"
    },
    {
     "data": {
      "text/html": [
       "\n",
       "    <div style=\"\n",
       "        border: 1px solid #856404;\n",
       "        background-color: rgba(255, 193, 7, 0.1);\n",
       "        color: #856404;\n",
       "        padding: 12px 18px;\n",
       "        margin: 10px 0;\n",
       "        border-radius: 5px;\n",
       "        font-family: sans-serif;\n",
       "        font-size: 14px;\n",
       "        animation: fadeIn 0.5s ease-out;\n",
       "        line-height: 1.6;\n",
       "    \">\n",
       "        <span style=\"font-weight: bold; margin-right: 8px;\">⚠️ WARNING:</span>\n",
       "        Skipped kaliua_10672.jpg: 'processed'\n",
       "    </div>\n",
       "    <style>\n",
       "        @keyframes fadeIn {\n",
       "            from { opacity: 0; transform: translateY(-10px); }\n",
       "            to { opacity: 1; transform: translateY(0); }\n",
       "        }\n",
       "    </style>\n",
       "    "
      ],
      "text/plain": [
       "<IPython.core.display.HTML object>"
      ]
     },
     "metadata": {},
     "output_type": "display_data"
    },
    {
     "data": {
      "text/html": [
       "\n",
       "    <div style=\"\n",
       "        border: 1px solid #856404;\n",
       "        background-color: rgba(255, 193, 7, 0.1);\n",
       "        color: #856404;\n",
       "        padding: 12px 18px;\n",
       "        margin: 10px 0;\n",
       "        border-radius: 5px;\n",
       "        font-family: sans-serif;\n",
       "        font-size: 14px;\n",
       "        animation: fadeIn 0.5s ease-out;\n",
       "        line-height: 1.6;\n",
       "    \">\n",
       "        <span style=\"font-weight: bold; margin-right: 8px;\">⚠️ WARNING:</span>\n",
       "        Skipped kaliua_10673.jpg: 'processed'\n",
       "    </div>\n",
       "    <style>\n",
       "        @keyframes fadeIn {\n",
       "            from { opacity: 0; transform: translateY(-10px); }\n",
       "            to { opacity: 1; transform: translateY(0); }\n",
       "        }\n",
       "    </style>\n",
       "    "
      ],
      "text/plain": [
       "<IPython.core.display.HTML object>"
      ]
     },
     "metadata": {},
     "output_type": "display_data"
    },
    {
     "data": {
      "text/html": [
       "\n",
       "    <div style=\"\n",
       "        border: 1px solid #856404;\n",
       "        background-color: rgba(255, 193, 7, 0.1);\n",
       "        color: #856404;\n",
       "        padding: 12px 18px;\n",
       "        margin: 10px 0;\n",
       "        border-radius: 5px;\n",
       "        font-family: sans-serif;\n",
       "        font-size: 14px;\n",
       "        animation: fadeIn 0.5s ease-out;\n",
       "        line-height: 1.6;\n",
       "    \">\n",
       "        <span style=\"font-weight: bold; margin-right: 8px;\">⚠️ WARNING:</span>\n",
       "        Skipped kaliua_10674.jpg: 'processed'\n",
       "    </div>\n",
       "    <style>\n",
       "        @keyframes fadeIn {\n",
       "            from { opacity: 0; transform: translateY(-10px); }\n",
       "            to { opacity: 1; transform: translateY(0); }\n",
       "        }\n",
       "    </style>\n",
       "    "
      ],
      "text/plain": [
       "<IPython.core.display.HTML object>"
      ]
     },
     "metadata": {},
     "output_type": "display_data"
    },
    {
     "data": {
      "text/html": [
       "\n",
       "    <div style=\"\n",
       "        border: 1px solid #856404;\n",
       "        background-color: rgba(255, 193, 7, 0.1);\n",
       "        color: #856404;\n",
       "        padding: 12px 18px;\n",
       "        margin: 10px 0;\n",
       "        border-radius: 5px;\n",
       "        font-family: sans-serif;\n",
       "        font-size: 14px;\n",
       "        animation: fadeIn 0.5s ease-out;\n",
       "        line-height: 1.6;\n",
       "    \">\n",
       "        <span style=\"font-weight: bold; margin-right: 8px;\">⚠️ WARNING:</span>\n",
       "        Skipped kaliua_10675.jpg: 'processed'\n",
       "    </div>\n",
       "    <style>\n",
       "        @keyframes fadeIn {\n",
       "            from { opacity: 0; transform: translateY(-10px); }\n",
       "            to { opacity: 1; transform: translateY(0); }\n",
       "        }\n",
       "    </style>\n",
       "    "
      ],
      "text/plain": [
       "<IPython.core.display.HTML object>"
      ]
     },
     "metadata": {},
     "output_type": "display_data"
    },
    {
     "data": {
      "text/html": [
       "\n",
       "    <div style=\"\n",
       "        border: 1px solid #856404;\n",
       "        background-color: rgba(255, 193, 7, 0.1);\n",
       "        color: #856404;\n",
       "        padding: 12px 18px;\n",
       "        margin: 10px 0;\n",
       "        border-radius: 5px;\n",
       "        font-family: sans-serif;\n",
       "        font-size: 14px;\n",
       "        animation: fadeIn 0.5s ease-out;\n",
       "        line-height: 1.6;\n",
       "    \">\n",
       "        <span style=\"font-weight: bold; margin-right: 8px;\">⚠️ WARNING:</span>\n",
       "        Skipped kaliua_10676.jpg: 'processed'\n",
       "    </div>\n",
       "    <style>\n",
       "        @keyframes fadeIn {\n",
       "            from { opacity: 0; transform: translateY(-10px); }\n",
       "            to { opacity: 1; transform: translateY(0); }\n",
       "        }\n",
       "    </style>\n",
       "    "
      ],
      "text/plain": [
       "<IPython.core.display.HTML object>"
      ]
     },
     "metadata": {},
     "output_type": "display_data"
    },
    {
     "data": {
      "text/html": [
       "\n",
       "    <div style=\"\n",
       "        border: 1px solid #856404;\n",
       "        background-color: rgba(255, 193, 7, 0.1);\n",
       "        color: #856404;\n",
       "        padding: 12px 18px;\n",
       "        margin: 10px 0;\n",
       "        border-radius: 5px;\n",
       "        font-family: sans-serif;\n",
       "        font-size: 14px;\n",
       "        animation: fadeIn 0.5s ease-out;\n",
       "        line-height: 1.6;\n",
       "    \">\n",
       "        <span style=\"font-weight: bold; margin-right: 8px;\">⚠️ WARNING:</span>\n",
       "        Skipped kaliua_10677.jpg: 'processed'\n",
       "    </div>\n",
       "    <style>\n",
       "        @keyframes fadeIn {\n",
       "            from { opacity: 0; transform: translateY(-10px); }\n",
       "            to { opacity: 1; transform: translateY(0); }\n",
       "        }\n",
       "    </style>\n",
       "    "
      ],
      "text/plain": [
       "<IPython.core.display.HTML object>"
      ]
     },
     "metadata": {},
     "output_type": "display_data"
    },
    {
     "data": {
      "text/html": [
       "\n",
       "    <div style=\"\n",
       "        border: 1px solid #856404;\n",
       "        background-color: rgba(255, 193, 7, 0.1);\n",
       "        color: #856404;\n",
       "        padding: 12px 18px;\n",
       "        margin: 10px 0;\n",
       "        border-radius: 5px;\n",
       "        font-family: sans-serif;\n",
       "        font-size: 14px;\n",
       "        animation: fadeIn 0.5s ease-out;\n",
       "        line-height: 1.6;\n",
       "    \">\n",
       "        <span style=\"font-weight: bold; margin-right: 8px;\">⚠️ WARNING:</span>\n",
       "        Skipped kaliua_10678.jpg: 'processed'\n",
       "    </div>\n",
       "    <style>\n",
       "        @keyframes fadeIn {\n",
       "            from { opacity: 0; transform: translateY(-10px); }\n",
       "            to { opacity: 1; transform: translateY(0); }\n",
       "        }\n",
       "    </style>\n",
       "    "
      ],
      "text/plain": [
       "<IPython.core.display.HTML object>"
      ]
     },
     "metadata": {},
     "output_type": "display_data"
    },
    {
     "data": {
      "text/html": [
       "\n",
       "    <div style=\"\n",
       "        border: 1px solid #856404;\n",
       "        background-color: rgba(255, 193, 7, 0.1);\n",
       "        color: #856404;\n",
       "        padding: 12px 18px;\n",
       "        margin: 10px 0;\n",
       "        border-radius: 5px;\n",
       "        font-family: sans-serif;\n",
       "        font-size: 14px;\n",
       "        animation: fadeIn 0.5s ease-out;\n",
       "        line-height: 1.6;\n",
       "    \">\n",
       "        <span style=\"font-weight: bold; margin-right: 8px;\">⚠️ WARNING:</span>\n",
       "        Skipped kaliua_10679.jpg: 'processed'\n",
       "    </div>\n",
       "    <style>\n",
       "        @keyframes fadeIn {\n",
       "            from { opacity: 0; transform: translateY(-10px); }\n",
       "            to { opacity: 1; transform: translateY(0); }\n",
       "        }\n",
       "    </style>\n",
       "    "
      ],
      "text/plain": [
       "<IPython.core.display.HTML object>"
      ]
     },
     "metadata": {},
     "output_type": "display_data"
    },
    {
     "data": {
      "text/html": [
       "\n",
       "    <div style=\"\n",
       "        border: 1px solid #856404;\n",
       "        background-color: rgba(255, 193, 7, 0.1);\n",
       "        color: #856404;\n",
       "        padding: 12px 18px;\n",
       "        margin: 10px 0;\n",
       "        border-radius: 5px;\n",
       "        font-family: sans-serif;\n",
       "        font-size: 14px;\n",
       "        animation: fadeIn 0.5s ease-out;\n",
       "        line-height: 1.6;\n",
       "    \">\n",
       "        <span style=\"font-weight: bold; margin-right: 8px;\">⚠️ WARNING:</span>\n",
       "        Skipped kaliua_10680.jpg: 'processed'\n",
       "    </div>\n",
       "    <style>\n",
       "        @keyframes fadeIn {\n",
       "            from { opacity: 0; transform: translateY(-10px); }\n",
       "            to { opacity: 1; transform: translateY(0); }\n",
       "        }\n",
       "    </style>\n",
       "    "
      ],
      "text/plain": [
       "<IPython.core.display.HTML object>"
      ]
     },
     "metadata": {},
     "output_type": "display_data"
    },
    {
     "data": {
      "text/html": [
       "\n",
       "    <div style=\"\n",
       "        border: 1px solid #856404;\n",
       "        background-color: rgba(255, 193, 7, 0.1);\n",
       "        color: #856404;\n",
       "        padding: 12px 18px;\n",
       "        margin: 10px 0;\n",
       "        border-radius: 5px;\n",
       "        font-family: sans-serif;\n",
       "        font-size: 14px;\n",
       "        animation: fadeIn 0.5s ease-out;\n",
       "        line-height: 1.6;\n",
       "    \">\n",
       "        <span style=\"font-weight: bold; margin-right: 8px;\">⚠️ WARNING:</span>\n",
       "        Skipped kaliua_10681.jpg: 'processed'\n",
       "    </div>\n",
       "    <style>\n",
       "        @keyframes fadeIn {\n",
       "            from { opacity: 0; transform: translateY(-10px); }\n",
       "            to { opacity: 1; transform: translateY(0); }\n",
       "        }\n",
       "    </style>\n",
       "    "
      ],
      "text/plain": [
       "<IPython.core.display.HTML object>"
      ]
     },
     "metadata": {},
     "output_type": "display_data"
    },
    {
     "data": {
      "text/html": [
       "\n",
       "    <div style=\"\n",
       "        border: 1px solid #856404;\n",
       "        background-color: rgba(255, 193, 7, 0.1);\n",
       "        color: #856404;\n",
       "        padding: 12px 18px;\n",
       "        margin: 10px 0;\n",
       "        border-radius: 5px;\n",
       "        font-family: sans-serif;\n",
       "        font-size: 14px;\n",
       "        animation: fadeIn 0.5s ease-out;\n",
       "        line-height: 1.6;\n",
       "    \">\n",
       "        <span style=\"font-weight: bold; margin-right: 8px;\">⚠️ WARNING:</span>\n",
       "        Skipped kaliua_10682.jpg: 'processed'\n",
       "    </div>\n",
       "    <style>\n",
       "        @keyframes fadeIn {\n",
       "            from { opacity: 0; transform: translateY(-10px); }\n",
       "            to { opacity: 1; transform: translateY(0); }\n",
       "        }\n",
       "    </style>\n",
       "    "
      ],
      "text/plain": [
       "<IPython.core.display.HTML object>"
      ]
     },
     "metadata": {},
     "output_type": "display_data"
    },
    {
     "data": {
      "text/html": [
       "\n",
       "    <div style=\"\n",
       "        border: 1px solid #856404;\n",
       "        background-color: rgba(255, 193, 7, 0.1);\n",
       "        color: #856404;\n",
       "        padding: 12px 18px;\n",
       "        margin: 10px 0;\n",
       "        border-radius: 5px;\n",
       "        font-family: sans-serif;\n",
       "        font-size: 14px;\n",
       "        animation: fadeIn 0.5s ease-out;\n",
       "        line-height: 1.6;\n",
       "    \">\n",
       "        <span style=\"font-weight: bold; margin-right: 8px;\">⚠️ WARNING:</span>\n",
       "        Skipped kaliua_10683.jpg: 'processed'\n",
       "    </div>\n",
       "    <style>\n",
       "        @keyframes fadeIn {\n",
       "            from { opacity: 0; transform: translateY(-10px); }\n",
       "            to { opacity: 1; transform: translateY(0); }\n",
       "        }\n",
       "    </style>\n",
       "    "
      ],
      "text/plain": [
       "<IPython.core.display.HTML object>"
      ]
     },
     "metadata": {},
     "output_type": "display_data"
    },
    {
     "data": {
      "text/html": [
       "\n",
       "    <div style=\"\n",
       "        border: 1px solid #856404;\n",
       "        background-color: rgba(255, 193, 7, 0.1);\n",
       "        color: #856404;\n",
       "        padding: 12px 18px;\n",
       "        margin: 10px 0;\n",
       "        border-radius: 5px;\n",
       "        font-family: sans-serif;\n",
       "        font-size: 14px;\n",
       "        animation: fadeIn 0.5s ease-out;\n",
       "        line-height: 1.6;\n",
       "    \">\n",
       "        <span style=\"font-weight: bold; margin-right: 8px;\">⚠️ WARNING:</span>\n",
       "        Skipped kaliua_10684.jpg: 'processed'\n",
       "    </div>\n",
       "    <style>\n",
       "        @keyframes fadeIn {\n",
       "            from { opacity: 0; transform: translateY(-10px); }\n",
       "            to { opacity: 1; transform: translateY(0); }\n",
       "        }\n",
       "    </style>\n",
       "    "
      ],
      "text/plain": [
       "<IPython.core.display.HTML object>"
      ]
     },
     "metadata": {},
     "output_type": "display_data"
    },
    {
     "data": {
      "text/html": [
       "\n",
       "    <div style=\"\n",
       "        border: 1px solid #856404;\n",
       "        background-color: rgba(255, 193, 7, 0.1);\n",
       "        color: #856404;\n",
       "        padding: 12px 18px;\n",
       "        margin: 10px 0;\n",
       "        border-radius: 5px;\n",
       "        font-family: sans-serif;\n",
       "        font-size: 14px;\n",
       "        animation: fadeIn 0.5s ease-out;\n",
       "        line-height: 1.6;\n",
       "    \">\n",
       "        <span style=\"font-weight: bold; margin-right: 8px;\">⚠️ WARNING:</span>\n",
       "        Skipped kaliua_10685.jpg: 'processed'\n",
       "    </div>\n",
       "    <style>\n",
       "        @keyframes fadeIn {\n",
       "            from { opacity: 0; transform: translateY(-10px); }\n",
       "            to { opacity: 1; transform: translateY(0); }\n",
       "        }\n",
       "    </style>\n",
       "    "
      ],
      "text/plain": [
       "<IPython.core.display.HTML object>"
      ]
     },
     "metadata": {},
     "output_type": "display_data"
    },
    {
     "data": {
      "text/html": [
       "\n",
       "    <div style=\"\n",
       "        border: 1px solid #856404;\n",
       "        background-color: rgba(255, 193, 7, 0.1);\n",
       "        color: #856404;\n",
       "        padding: 12px 18px;\n",
       "        margin: 10px 0;\n",
       "        border-radius: 5px;\n",
       "        font-family: sans-serif;\n",
       "        font-size: 14px;\n",
       "        animation: fadeIn 0.5s ease-out;\n",
       "        line-height: 1.6;\n",
       "    \">\n",
       "        <span style=\"font-weight: bold; margin-right: 8px;\">⚠️ WARNING:</span>\n",
       "        Skipped kaliua_107.jpg: 'processed'\n",
       "    </div>\n",
       "    <style>\n",
       "        @keyframes fadeIn {\n",
       "            from { opacity: 0; transform: translateY(-10px); }\n",
       "            to { opacity: 1; transform: translateY(0); }\n",
       "        }\n",
       "    </style>\n",
       "    "
      ],
      "text/plain": [
       "<IPython.core.display.HTML object>"
      ]
     },
     "metadata": {},
     "output_type": "display_data"
    },
    {
     "data": {
      "text/html": [
       "\n",
       "    <div style=\"\n",
       "        border: 1px solid #856404;\n",
       "        background-color: rgba(255, 193, 7, 0.1);\n",
       "        color: #856404;\n",
       "        padding: 12px 18px;\n",
       "        margin: 10px 0;\n",
       "        border-radius: 5px;\n",
       "        font-family: sans-serif;\n",
       "        font-size: 14px;\n",
       "        animation: fadeIn 0.5s ease-out;\n",
       "        line-height: 1.6;\n",
       "    \">\n",
       "        <span style=\"font-weight: bold; margin-right: 8px;\">⚠️ WARNING:</span>\n",
       "        Skipped kaliua_108.jpg: 'processed'\n",
       "    </div>\n",
       "    <style>\n",
       "        @keyframes fadeIn {\n",
       "            from { opacity: 0; transform: translateY(-10px); }\n",
       "            to { opacity: 1; transform: translateY(0); }\n",
       "        }\n",
       "    </style>\n",
       "    "
      ],
      "text/plain": [
       "<IPython.core.display.HTML object>"
      ]
     },
     "metadata": {},
     "output_type": "display_data"
    },
    {
     "data": {
      "text/html": [
       "\n",
       "    <div style=\"\n",
       "        border: 1px solid #856404;\n",
       "        background-color: rgba(255, 193, 7, 0.1);\n",
       "        color: #856404;\n",
       "        padding: 12px 18px;\n",
       "        margin: 10px 0;\n",
       "        border-radius: 5px;\n",
       "        font-family: sans-serif;\n",
       "        font-size: 14px;\n",
       "        animation: fadeIn 0.5s ease-out;\n",
       "        line-height: 1.6;\n",
       "    \">\n",
       "        <span style=\"font-weight: bold; margin-right: 8px;\">⚠️ WARNING:</span>\n",
       "        Skipped kaliua_109.jpg: 'processed'\n",
       "    </div>\n",
       "    <style>\n",
       "        @keyframes fadeIn {\n",
       "            from { opacity: 0; transform: translateY(-10px); }\n",
       "            to { opacity: 1; transform: translateY(0); }\n",
       "        }\n",
       "    </style>\n",
       "    "
      ],
      "text/plain": [
       "<IPython.core.display.HTML object>"
      ]
     },
     "metadata": {},
     "output_type": "display_data"
    },
    {
     "data": {
      "text/html": [
       "\n",
       "    <div style=\"\n",
       "        border: 1px solid #856404;\n",
       "        background-color: rgba(255, 193, 7, 0.1);\n",
       "        color: #856404;\n",
       "        padding: 12px 18px;\n",
       "        margin: 10px 0;\n",
       "        border-radius: 5px;\n",
       "        font-family: sans-serif;\n",
       "        font-size: 14px;\n",
       "        animation: fadeIn 0.5s ease-out;\n",
       "        line-height: 1.6;\n",
       "    \">\n",
       "        <span style=\"font-weight: bold; margin-right: 8px;\">⚠️ WARNING:</span>\n",
       "        Skipped kaliua_11.jpg: 'processed'\n",
       "    </div>\n",
       "    <style>\n",
       "        @keyframes fadeIn {\n",
       "            from { opacity: 0; transform: translateY(-10px); }\n",
       "            to { opacity: 1; transform: translateY(0); }\n",
       "        }\n",
       "    </style>\n",
       "    "
      ],
      "text/plain": [
       "<IPython.core.display.HTML object>"
      ]
     },
     "metadata": {},
     "output_type": "display_data"
    },
    {
     "data": {
      "text/html": [
       "\n",
       "    <div style=\"\n",
       "        border: 1px solid #856404;\n",
       "        background-color: rgba(255, 193, 7, 0.1);\n",
       "        color: #856404;\n",
       "        padding: 12px 18px;\n",
       "        margin: 10px 0;\n",
       "        border-radius: 5px;\n",
       "        font-family: sans-serif;\n",
       "        font-size: 14px;\n",
       "        animation: fadeIn 0.5s ease-out;\n",
       "        line-height: 1.6;\n",
       "    \">\n",
       "        <span style=\"font-weight: bold; margin-right: 8px;\">⚠️ WARNING:</span>\n",
       "        Skipped kaliua_110.jpg: 'processed'\n",
       "    </div>\n",
       "    <style>\n",
       "        @keyframes fadeIn {\n",
       "            from { opacity: 0; transform: translateY(-10px); }\n",
       "            to { opacity: 1; transform: translateY(0); }\n",
       "        }\n",
       "    </style>\n",
       "    "
      ],
      "text/plain": [
       "<IPython.core.display.HTML object>"
      ]
     },
     "metadata": {},
     "output_type": "display_data"
    },
    {
     "data": {
      "text/html": [
       "\n",
       "    <div style=\"\n",
       "        border: 1px solid #856404;\n",
       "        background-color: rgba(255, 193, 7, 0.1);\n",
       "        color: #856404;\n",
       "        padding: 12px 18px;\n",
       "        margin: 10px 0;\n",
       "        border-radius: 5px;\n",
       "        font-family: sans-serif;\n",
       "        font-size: 14px;\n",
       "        animation: fadeIn 0.5s ease-out;\n",
       "        line-height: 1.6;\n",
       "    \">\n",
       "        <span style=\"font-weight: bold; margin-right: 8px;\">⚠️ WARNING:</span>\n",
       "        Skipped kaliua_111.jpg: 'processed'\n",
       "    </div>\n",
       "    <style>\n",
       "        @keyframes fadeIn {\n",
       "            from { opacity: 0; transform: translateY(-10px); }\n",
       "            to { opacity: 1; transform: translateY(0); }\n",
       "        }\n",
       "    </style>\n",
       "    "
      ],
      "text/plain": [
       "<IPython.core.display.HTML object>"
      ]
     },
     "metadata": {},
     "output_type": "display_data"
    },
    {
     "data": {
      "text/html": [
       "\n",
       "    <div style=\"\n",
       "        border: 1px solid #856404;\n",
       "        background-color: rgba(255, 193, 7, 0.1);\n",
       "        color: #856404;\n",
       "        padding: 12px 18px;\n",
       "        margin: 10px 0;\n",
       "        border-radius: 5px;\n",
       "        font-family: sans-serif;\n",
       "        font-size: 14px;\n",
       "        animation: fadeIn 0.5s ease-out;\n",
       "        line-height: 1.6;\n",
       "    \">\n",
       "        <span style=\"font-weight: bold; margin-right: 8px;\">⚠️ WARNING:</span>\n",
       "        Skipped kaliua_112.jpg: 'processed'\n",
       "    </div>\n",
       "    <style>\n",
       "        @keyframes fadeIn {\n",
       "            from { opacity: 0; transform: translateY(-10px); }\n",
       "            to { opacity: 1; transform: translateY(0); }\n",
       "        }\n",
       "    </style>\n",
       "    "
      ],
      "text/plain": [
       "<IPython.core.display.HTML object>"
      ]
     },
     "metadata": {},
     "output_type": "display_data"
    },
    {
     "data": {
      "text/html": [
       "\n",
       "    <div style=\"\n",
       "        border: 1px solid #856404;\n",
       "        background-color: rgba(255, 193, 7, 0.1);\n",
       "        color: #856404;\n",
       "        padding: 12px 18px;\n",
       "        margin: 10px 0;\n",
       "        border-radius: 5px;\n",
       "        font-family: sans-serif;\n",
       "        font-size: 14px;\n",
       "        animation: fadeIn 0.5s ease-out;\n",
       "        line-height: 1.6;\n",
       "    \">\n",
       "        <span style=\"font-weight: bold; margin-right: 8px;\">⚠️ WARNING:</span>\n",
       "        Skipped kaliua_113.jpg: 'processed'\n",
       "    </div>\n",
       "    <style>\n",
       "        @keyframes fadeIn {\n",
       "            from { opacity: 0; transform: translateY(-10px); }\n",
       "            to { opacity: 1; transform: translateY(0); }\n",
       "        }\n",
       "    </style>\n",
       "    "
      ],
      "text/plain": [
       "<IPython.core.display.HTML object>"
      ]
     },
     "metadata": {},
     "output_type": "display_data"
    },
    {
     "data": {
      "text/html": [
       "\n",
       "    <div style=\"\n",
       "        border: 1px solid #856404;\n",
       "        background-color: rgba(255, 193, 7, 0.1);\n",
       "        color: #856404;\n",
       "        padding: 12px 18px;\n",
       "        margin: 10px 0;\n",
       "        border-radius: 5px;\n",
       "        font-family: sans-serif;\n",
       "        font-size: 14px;\n",
       "        animation: fadeIn 0.5s ease-out;\n",
       "        line-height: 1.6;\n",
       "    \">\n",
       "        <span style=\"font-weight: bold; margin-right: 8px;\">⚠️ WARNING:</span>\n",
       "        Skipped kaliua_114.jpg: 'processed'\n",
       "    </div>\n",
       "    <style>\n",
       "        @keyframes fadeIn {\n",
       "            from { opacity: 0; transform: translateY(-10px); }\n",
       "            to { opacity: 1; transform: translateY(0); }\n",
       "        }\n",
       "    </style>\n",
       "    "
      ],
      "text/plain": [
       "<IPython.core.display.HTML object>"
      ]
     },
     "metadata": {},
     "output_type": "display_data"
    },
    {
     "data": {
      "text/html": [
       "\n",
       "    <div style=\"\n",
       "        border: 1px solid #856404;\n",
       "        background-color: rgba(255, 193, 7, 0.1);\n",
       "        color: #856404;\n",
       "        padding: 12px 18px;\n",
       "        margin: 10px 0;\n",
       "        border-radius: 5px;\n",
       "        font-family: sans-serif;\n",
       "        font-size: 14px;\n",
       "        animation: fadeIn 0.5s ease-out;\n",
       "        line-height: 1.6;\n",
       "    \">\n",
       "        <span style=\"font-weight: bold; margin-right: 8px;\">⚠️ WARNING:</span>\n",
       "        Skipped kaliua_115.jpg: 'processed'\n",
       "    </div>\n",
       "    <style>\n",
       "        @keyframes fadeIn {\n",
       "            from { opacity: 0; transform: translateY(-10px); }\n",
       "            to { opacity: 1; transform: translateY(0); }\n",
       "        }\n",
       "    </style>\n",
       "    "
      ],
      "text/plain": [
       "<IPython.core.display.HTML object>"
      ]
     },
     "metadata": {},
     "output_type": "display_data"
    },
    {
     "data": {
      "text/html": [
       "\n",
       "    <div style=\"\n",
       "        border: 1px solid #856404;\n",
       "        background-color: rgba(255, 193, 7, 0.1);\n",
       "        color: #856404;\n",
       "        padding: 12px 18px;\n",
       "        margin: 10px 0;\n",
       "        border-radius: 5px;\n",
       "        font-family: sans-serif;\n",
       "        font-size: 14px;\n",
       "        animation: fadeIn 0.5s ease-out;\n",
       "        line-height: 1.6;\n",
       "    \">\n",
       "        <span style=\"font-weight: bold; margin-right: 8px;\">⚠️ WARNING:</span>\n",
       "        Skipped kaliua_116.jpg: 'processed'\n",
       "    </div>\n",
       "    <style>\n",
       "        @keyframes fadeIn {\n",
       "            from { opacity: 0; transform: translateY(-10px); }\n",
       "            to { opacity: 1; transform: translateY(0); }\n",
       "        }\n",
       "    </style>\n",
       "    "
      ],
      "text/plain": [
       "<IPython.core.display.HTML object>"
      ]
     },
     "metadata": {},
     "output_type": "display_data"
    },
    {
     "data": {
      "text/html": [
       "\n",
       "    <div style=\"\n",
       "        border: 1px solid #856404;\n",
       "        background-color: rgba(255, 193, 7, 0.1);\n",
       "        color: #856404;\n",
       "        padding: 12px 18px;\n",
       "        margin: 10px 0;\n",
       "        border-radius: 5px;\n",
       "        font-family: sans-serif;\n",
       "        font-size: 14px;\n",
       "        animation: fadeIn 0.5s ease-out;\n",
       "        line-height: 1.6;\n",
       "    \">\n",
       "        <span style=\"font-weight: bold; margin-right: 8px;\">⚠️ WARNING:</span>\n",
       "        Skipped kaliua_117.jpg: 'processed'\n",
       "    </div>\n",
       "    <style>\n",
       "        @keyframes fadeIn {\n",
       "            from { opacity: 0; transform: translateY(-10px); }\n",
       "            to { opacity: 1; transform: translateY(0); }\n",
       "        }\n",
       "    </style>\n",
       "    "
      ],
      "text/plain": [
       "<IPython.core.display.HTML object>"
      ]
     },
     "metadata": {},
     "output_type": "display_data"
    },
    {
     "data": {
      "text/html": [
       "\n",
       "    <div style=\"\n",
       "        border: 1px solid #856404;\n",
       "        background-color: rgba(255, 193, 7, 0.1);\n",
       "        color: #856404;\n",
       "        padding: 12px 18px;\n",
       "        margin: 10px 0;\n",
       "        border-radius: 5px;\n",
       "        font-family: sans-serif;\n",
       "        font-size: 14px;\n",
       "        animation: fadeIn 0.5s ease-out;\n",
       "        line-height: 1.6;\n",
       "    \">\n",
       "        <span style=\"font-weight: bold; margin-right: 8px;\">⚠️ WARNING:</span>\n",
       "        Skipped kaliua_118.jpg: 'processed'\n",
       "    </div>\n",
       "    <style>\n",
       "        @keyframes fadeIn {\n",
       "            from { opacity: 0; transform: translateY(-10px); }\n",
       "            to { opacity: 1; transform: translateY(0); }\n",
       "        }\n",
       "    </style>\n",
       "    "
      ],
      "text/plain": [
       "<IPython.core.display.HTML object>"
      ]
     },
     "metadata": {},
     "output_type": "display_data"
    },
    {
     "data": {
      "text/html": [
       "\n",
       "    <div style=\"\n",
       "        border: 1px solid #856404;\n",
       "        background-color: rgba(255, 193, 7, 0.1);\n",
       "        color: #856404;\n",
       "        padding: 12px 18px;\n",
       "        margin: 10px 0;\n",
       "        border-radius: 5px;\n",
       "        font-family: sans-serif;\n",
       "        font-size: 14px;\n",
       "        animation: fadeIn 0.5s ease-out;\n",
       "        line-height: 1.6;\n",
       "    \">\n",
       "        <span style=\"font-weight: bold; margin-right: 8px;\">⚠️ WARNING:</span>\n",
       "        Skipped kaliua_119.jpg: 'processed'\n",
       "    </div>\n",
       "    <style>\n",
       "        @keyframes fadeIn {\n",
       "            from { opacity: 0; transform: translateY(-10px); }\n",
       "            to { opacity: 1; transform: translateY(0); }\n",
       "        }\n",
       "    </style>\n",
       "    "
      ],
      "text/plain": [
       "<IPython.core.display.HTML object>"
      ]
     },
     "metadata": {},
     "output_type": "display_data"
    },
    {
     "data": {
      "text/html": [
       "\n",
       "    <div style=\"\n",
       "        border: 1px solid #856404;\n",
       "        background-color: rgba(255, 193, 7, 0.1);\n",
       "        color: #856404;\n",
       "        padding: 12px 18px;\n",
       "        margin: 10px 0;\n",
       "        border-radius: 5px;\n",
       "        font-family: sans-serif;\n",
       "        font-size: 14px;\n",
       "        animation: fadeIn 0.5s ease-out;\n",
       "        line-height: 1.6;\n",
       "    \">\n",
       "        <span style=\"font-weight: bold; margin-right: 8px;\">⚠️ WARNING:</span>\n",
       "        Skipped kaliua_12.jpg: 'processed'\n",
       "    </div>\n",
       "    <style>\n",
       "        @keyframes fadeIn {\n",
       "            from { opacity: 0; transform: translateY(-10px); }\n",
       "            to { opacity: 1; transform: translateY(0); }\n",
       "        }\n",
       "    </style>\n",
       "    "
      ],
      "text/plain": [
       "<IPython.core.display.HTML object>"
      ]
     },
     "metadata": {},
     "output_type": "display_data"
    },
    {
     "data": {
      "text/html": [
       "\n",
       "    <div style=\"\n",
       "        border: 1px solid #856404;\n",
       "        background-color: rgba(255, 193, 7, 0.1);\n",
       "        color: #856404;\n",
       "        padding: 12px 18px;\n",
       "        margin: 10px 0;\n",
       "        border-radius: 5px;\n",
       "        font-family: sans-serif;\n",
       "        font-size: 14px;\n",
       "        animation: fadeIn 0.5s ease-out;\n",
       "        line-height: 1.6;\n",
       "    \">\n",
       "        <span style=\"font-weight: bold; margin-right: 8px;\">⚠️ WARNING:</span>\n",
       "        Skipped kaliua_120.jpg: 'processed'\n",
       "    </div>\n",
       "    <style>\n",
       "        @keyframes fadeIn {\n",
       "            from { opacity: 0; transform: translateY(-10px); }\n",
       "            to { opacity: 1; transform: translateY(0); }\n",
       "        }\n",
       "    </style>\n",
       "    "
      ],
      "text/plain": [
       "<IPython.core.display.HTML object>"
      ]
     },
     "metadata": {},
     "output_type": "display_data"
    },
    {
     "data": {
      "text/html": [
       "\n",
       "    <div style=\"\n",
       "        border: 1px solid #856404;\n",
       "        background-color: rgba(255, 193, 7, 0.1);\n",
       "        color: #856404;\n",
       "        padding: 12px 18px;\n",
       "        margin: 10px 0;\n",
       "        border-radius: 5px;\n",
       "        font-family: sans-serif;\n",
       "        font-size: 14px;\n",
       "        animation: fadeIn 0.5s ease-out;\n",
       "        line-height: 1.6;\n",
       "    \">\n",
       "        <span style=\"font-weight: bold; margin-right: 8px;\">⚠️ WARNING:</span>\n",
       "        Skipped kaliua_121.jpg: 'processed'\n",
       "    </div>\n",
       "    <style>\n",
       "        @keyframes fadeIn {\n",
       "            from { opacity: 0; transform: translateY(-10px); }\n",
       "            to { opacity: 1; transform: translateY(0); }\n",
       "        }\n",
       "    </style>\n",
       "    "
      ],
      "text/plain": [
       "<IPython.core.display.HTML object>"
      ]
     },
     "metadata": {},
     "output_type": "display_data"
    },
    {
     "data": {
      "text/html": [
       "\n",
       "    <div style=\"\n",
       "        border: 1px solid #856404;\n",
       "        background-color: rgba(255, 193, 7, 0.1);\n",
       "        color: #856404;\n",
       "        padding: 12px 18px;\n",
       "        margin: 10px 0;\n",
       "        border-radius: 5px;\n",
       "        font-family: sans-serif;\n",
       "        font-size: 14px;\n",
       "        animation: fadeIn 0.5s ease-out;\n",
       "        line-height: 1.6;\n",
       "    \">\n",
       "        <span style=\"font-weight: bold; margin-right: 8px;\">⚠️ WARNING:</span>\n",
       "        Skipped kaliua_122.jpg: 'processed'\n",
       "    </div>\n",
       "    <style>\n",
       "        @keyframes fadeIn {\n",
       "            from { opacity: 0; transform: translateY(-10px); }\n",
       "            to { opacity: 1; transform: translateY(0); }\n",
       "        }\n",
       "    </style>\n",
       "    "
      ],
      "text/plain": [
       "<IPython.core.display.HTML object>"
      ]
     },
     "metadata": {},
     "output_type": "display_data"
    },
    {
     "data": {
      "text/html": [
       "\n",
       "    <div style=\"\n",
       "        border: 1px solid #856404;\n",
       "        background-color: rgba(255, 193, 7, 0.1);\n",
       "        color: #856404;\n",
       "        padding: 12px 18px;\n",
       "        margin: 10px 0;\n",
       "        border-radius: 5px;\n",
       "        font-family: sans-serif;\n",
       "        font-size: 14px;\n",
       "        animation: fadeIn 0.5s ease-out;\n",
       "        line-height: 1.6;\n",
       "    \">\n",
       "        <span style=\"font-weight: bold; margin-right: 8px;\">⚠️ WARNING:</span>\n",
       "        Skipped kaliua_123.jpg: 'processed'\n",
       "    </div>\n",
       "    <style>\n",
       "        @keyframes fadeIn {\n",
       "            from { opacity: 0; transform: translateY(-10px); }\n",
       "            to { opacity: 1; transform: translateY(0); }\n",
       "        }\n",
       "    </style>\n",
       "    "
      ],
      "text/plain": [
       "<IPython.core.display.HTML object>"
      ]
     },
     "metadata": {},
     "output_type": "display_data"
    },
    {
     "data": {
      "text/html": [
       "\n",
       "    <div style=\"\n",
       "        border: 1px solid #856404;\n",
       "        background-color: rgba(255, 193, 7, 0.1);\n",
       "        color: #856404;\n",
       "        padding: 12px 18px;\n",
       "        margin: 10px 0;\n",
       "        border-radius: 5px;\n",
       "        font-family: sans-serif;\n",
       "        font-size: 14px;\n",
       "        animation: fadeIn 0.5s ease-out;\n",
       "        line-height: 1.6;\n",
       "    \">\n",
       "        <span style=\"font-weight: bold; margin-right: 8px;\">⚠️ WARNING:</span>\n",
       "        Skipped kaliua_124.jpg: 'processed'\n",
       "    </div>\n",
       "    <style>\n",
       "        @keyframes fadeIn {\n",
       "            from { opacity: 0; transform: translateY(-10px); }\n",
       "            to { opacity: 1; transform: translateY(0); }\n",
       "        }\n",
       "    </style>\n",
       "    "
      ],
      "text/plain": [
       "<IPython.core.display.HTML object>"
      ]
     },
     "metadata": {},
     "output_type": "display_data"
    },
    {
     "data": {
      "text/html": [
       "\n",
       "    <div style=\"\n",
       "        border: 1px solid #856404;\n",
       "        background-color: rgba(255, 193, 7, 0.1);\n",
       "        color: #856404;\n",
       "        padding: 12px 18px;\n",
       "        margin: 10px 0;\n",
       "        border-radius: 5px;\n",
       "        font-family: sans-serif;\n",
       "        font-size: 14px;\n",
       "        animation: fadeIn 0.5s ease-out;\n",
       "        line-height: 1.6;\n",
       "    \">\n",
       "        <span style=\"font-weight: bold; margin-right: 8px;\">⚠️ WARNING:</span>\n",
       "        Skipped kaliua_125.jpg: 'processed'\n",
       "    </div>\n",
       "    <style>\n",
       "        @keyframes fadeIn {\n",
       "            from { opacity: 0; transform: translateY(-10px); }\n",
       "            to { opacity: 1; transform: translateY(0); }\n",
       "        }\n",
       "    </style>\n",
       "    "
      ],
      "text/plain": [
       "<IPython.core.display.HTML object>"
      ]
     },
     "metadata": {},
     "output_type": "display_data"
    },
    {
     "data": {
      "text/html": [
       "\n",
       "    <div style=\"\n",
       "        border: 1px solid #856404;\n",
       "        background-color: rgba(255, 193, 7, 0.1);\n",
       "        color: #856404;\n",
       "        padding: 12px 18px;\n",
       "        margin: 10px 0;\n",
       "        border-radius: 5px;\n",
       "        font-family: sans-serif;\n",
       "        font-size: 14px;\n",
       "        animation: fadeIn 0.5s ease-out;\n",
       "        line-height: 1.6;\n",
       "    \">\n",
       "        <span style=\"font-weight: bold; margin-right: 8px;\">⚠️ WARNING:</span>\n",
       "        Skipped kaliua_126.jpg: 'processed'\n",
       "    </div>\n",
       "    <style>\n",
       "        @keyframes fadeIn {\n",
       "            from { opacity: 0; transform: translateY(-10px); }\n",
       "            to { opacity: 1; transform: translateY(0); }\n",
       "        }\n",
       "    </style>\n",
       "    "
      ],
      "text/plain": [
       "<IPython.core.display.HTML object>"
      ]
     },
     "metadata": {},
     "output_type": "display_data"
    },
    {
     "data": {
      "text/html": [
       "\n",
       "    <div style=\"\n",
       "        border: 1px solid #856404;\n",
       "        background-color: rgba(255, 193, 7, 0.1);\n",
       "        color: #856404;\n",
       "        padding: 12px 18px;\n",
       "        margin: 10px 0;\n",
       "        border-radius: 5px;\n",
       "        font-family: sans-serif;\n",
       "        font-size: 14px;\n",
       "        animation: fadeIn 0.5s ease-out;\n",
       "        line-height: 1.6;\n",
       "    \">\n",
       "        <span style=\"font-weight: bold; margin-right: 8px;\">⚠️ WARNING:</span>\n",
       "        Skipped kaliua_127.jpg: 'processed'\n",
       "    </div>\n",
       "    <style>\n",
       "        @keyframes fadeIn {\n",
       "            from { opacity: 0; transform: translateY(-10px); }\n",
       "            to { opacity: 1; transform: translateY(0); }\n",
       "        }\n",
       "    </style>\n",
       "    "
      ],
      "text/plain": [
       "<IPython.core.display.HTML object>"
      ]
     },
     "metadata": {},
     "output_type": "display_data"
    },
    {
     "data": {
      "text/html": [
       "\n",
       "    <div style=\"\n",
       "        border: 1px solid #856404;\n",
       "        background-color: rgba(255, 193, 7, 0.1);\n",
       "        color: #856404;\n",
       "        padding: 12px 18px;\n",
       "        margin: 10px 0;\n",
       "        border-radius: 5px;\n",
       "        font-family: sans-serif;\n",
       "        font-size: 14px;\n",
       "        animation: fadeIn 0.5s ease-out;\n",
       "        line-height: 1.6;\n",
       "    \">\n",
       "        <span style=\"font-weight: bold; margin-right: 8px;\">⚠️ WARNING:</span>\n",
       "        Skipped kaliua_128.jpg: 'processed'\n",
       "    </div>\n",
       "    <style>\n",
       "        @keyframes fadeIn {\n",
       "            from { opacity: 0; transform: translateY(-10px); }\n",
       "            to { opacity: 1; transform: translateY(0); }\n",
       "        }\n",
       "    </style>\n",
       "    "
      ],
      "text/plain": [
       "<IPython.core.display.HTML object>"
      ]
     },
     "metadata": {},
     "output_type": "display_data"
    },
    {
     "data": {
      "text/html": [
       "\n",
       "    <div style=\"\n",
       "        border: 1px solid #856404;\n",
       "        background-color: rgba(255, 193, 7, 0.1);\n",
       "        color: #856404;\n",
       "        padding: 12px 18px;\n",
       "        margin: 10px 0;\n",
       "        border-radius: 5px;\n",
       "        font-family: sans-serif;\n",
       "        font-size: 14px;\n",
       "        animation: fadeIn 0.5s ease-out;\n",
       "        line-height: 1.6;\n",
       "    \">\n",
       "        <span style=\"font-weight: bold; margin-right: 8px;\">⚠️ WARNING:</span>\n",
       "        Skipped kaliua_129.jpg: 'processed'\n",
       "    </div>\n",
       "    <style>\n",
       "        @keyframes fadeIn {\n",
       "            from { opacity: 0; transform: translateY(-10px); }\n",
       "            to { opacity: 1; transform: translateY(0); }\n",
       "        }\n",
       "    </style>\n",
       "    "
      ],
      "text/plain": [
       "<IPython.core.display.HTML object>"
      ]
     },
     "metadata": {},
     "output_type": "display_data"
    },
    {
     "data": {
      "text/html": [
       "\n",
       "    <div style=\"\n",
       "        border: 1px solid #856404;\n",
       "        background-color: rgba(255, 193, 7, 0.1);\n",
       "        color: #856404;\n",
       "        padding: 12px 18px;\n",
       "        margin: 10px 0;\n",
       "        border-radius: 5px;\n",
       "        font-family: sans-serif;\n",
       "        font-size: 14px;\n",
       "        animation: fadeIn 0.5s ease-out;\n",
       "        line-height: 1.6;\n",
       "    \">\n",
       "        <span style=\"font-weight: bold; margin-right: 8px;\">⚠️ WARNING:</span>\n",
       "        Skipped kaliua_13.jpg: 'processed'\n",
       "    </div>\n",
       "    <style>\n",
       "        @keyframes fadeIn {\n",
       "            from { opacity: 0; transform: translateY(-10px); }\n",
       "            to { opacity: 1; transform: translateY(0); }\n",
       "        }\n",
       "    </style>\n",
       "    "
      ],
      "text/plain": [
       "<IPython.core.display.HTML object>"
      ]
     },
     "metadata": {},
     "output_type": "display_data"
    },
    {
     "data": {
      "text/html": [
       "\n",
       "    <div style=\"\n",
       "        border: 1px solid #856404;\n",
       "        background-color: rgba(255, 193, 7, 0.1);\n",
       "        color: #856404;\n",
       "        padding: 12px 18px;\n",
       "        margin: 10px 0;\n",
       "        border-radius: 5px;\n",
       "        font-family: sans-serif;\n",
       "        font-size: 14px;\n",
       "        animation: fadeIn 0.5s ease-out;\n",
       "        line-height: 1.6;\n",
       "    \">\n",
       "        <span style=\"font-weight: bold; margin-right: 8px;\">⚠️ WARNING:</span>\n",
       "        Skipped kaliua_130.jpg: 'processed'\n",
       "    </div>\n",
       "    <style>\n",
       "        @keyframes fadeIn {\n",
       "            from { opacity: 0; transform: translateY(-10px); }\n",
       "            to { opacity: 1; transform: translateY(0); }\n",
       "        }\n",
       "    </style>\n",
       "    "
      ],
      "text/plain": [
       "<IPython.core.display.HTML object>"
      ]
     },
     "metadata": {},
     "output_type": "display_data"
    },
    {
     "data": {
      "text/html": [
       "\n",
       "    <div style=\"\n",
       "        border: 1px solid #856404;\n",
       "        background-color: rgba(255, 193, 7, 0.1);\n",
       "        color: #856404;\n",
       "        padding: 12px 18px;\n",
       "        margin: 10px 0;\n",
       "        border-radius: 5px;\n",
       "        font-family: sans-serif;\n",
       "        font-size: 14px;\n",
       "        animation: fadeIn 0.5s ease-out;\n",
       "        line-height: 1.6;\n",
       "    \">\n",
       "        <span style=\"font-weight: bold; margin-right: 8px;\">⚠️ WARNING:</span>\n",
       "        Skipped kaliua_131.jpg: 'processed'\n",
       "    </div>\n",
       "    <style>\n",
       "        @keyframes fadeIn {\n",
       "            from { opacity: 0; transform: translateY(-10px); }\n",
       "            to { opacity: 1; transform: translateY(0); }\n",
       "        }\n",
       "    </style>\n",
       "    "
      ],
      "text/plain": [
       "<IPython.core.display.HTML object>"
      ]
     },
     "metadata": {},
     "output_type": "display_data"
    },
    {
     "data": {
      "text/html": [
       "\n",
       "    <div style=\"\n",
       "        border: 1px solid #856404;\n",
       "        background-color: rgba(255, 193, 7, 0.1);\n",
       "        color: #856404;\n",
       "        padding: 12px 18px;\n",
       "        margin: 10px 0;\n",
       "        border-radius: 5px;\n",
       "        font-family: sans-serif;\n",
       "        font-size: 14px;\n",
       "        animation: fadeIn 0.5s ease-out;\n",
       "        line-height: 1.6;\n",
       "    \">\n",
       "        <span style=\"font-weight: bold; margin-right: 8px;\">⚠️ WARNING:</span>\n",
       "        Skipped kaliua_132.jpg: 'processed'\n",
       "    </div>\n",
       "    <style>\n",
       "        @keyframes fadeIn {\n",
       "            from { opacity: 0; transform: translateY(-10px); }\n",
       "            to { opacity: 1; transform: translateY(0); }\n",
       "        }\n",
       "    </style>\n",
       "    "
      ],
      "text/plain": [
       "<IPython.core.display.HTML object>"
      ]
     },
     "metadata": {},
     "output_type": "display_data"
    },
    {
     "data": {
      "text/html": [
       "\n",
       "    <div style=\"\n",
       "        border: 1px solid #856404;\n",
       "        background-color: rgba(255, 193, 7, 0.1);\n",
       "        color: #856404;\n",
       "        padding: 12px 18px;\n",
       "        margin: 10px 0;\n",
       "        border-radius: 5px;\n",
       "        font-family: sans-serif;\n",
       "        font-size: 14px;\n",
       "        animation: fadeIn 0.5s ease-out;\n",
       "        line-height: 1.6;\n",
       "    \">\n",
       "        <span style=\"font-weight: bold; margin-right: 8px;\">⚠️ WARNING:</span>\n",
       "        Skipped kaliua_133.jpg: 'processed'\n",
       "    </div>\n",
       "    <style>\n",
       "        @keyframes fadeIn {\n",
       "            from { opacity: 0; transform: translateY(-10px); }\n",
       "            to { opacity: 1; transform: translateY(0); }\n",
       "        }\n",
       "    </style>\n",
       "    "
      ],
      "text/plain": [
       "<IPython.core.display.HTML object>"
      ]
     },
     "metadata": {},
     "output_type": "display_data"
    },
    {
     "data": {
      "text/html": [
       "\n",
       "    <div style=\"\n",
       "        border: 1px solid #856404;\n",
       "        background-color: rgba(255, 193, 7, 0.1);\n",
       "        color: #856404;\n",
       "        padding: 12px 18px;\n",
       "        margin: 10px 0;\n",
       "        border-radius: 5px;\n",
       "        font-family: sans-serif;\n",
       "        font-size: 14px;\n",
       "        animation: fadeIn 0.5s ease-out;\n",
       "        line-height: 1.6;\n",
       "    \">\n",
       "        <span style=\"font-weight: bold; margin-right: 8px;\">⚠️ WARNING:</span>\n",
       "        Skipped kaliua_134.jpg: 'processed'\n",
       "    </div>\n",
       "    <style>\n",
       "        @keyframes fadeIn {\n",
       "            from { opacity: 0; transform: translateY(-10px); }\n",
       "            to { opacity: 1; transform: translateY(0); }\n",
       "        }\n",
       "    </style>\n",
       "    "
      ],
      "text/plain": [
       "<IPython.core.display.HTML object>"
      ]
     },
     "metadata": {},
     "output_type": "display_data"
    },
    {
     "data": {
      "text/html": [
       "\n",
       "    <div style=\"\n",
       "        border: 1px solid #856404;\n",
       "        background-color: rgba(255, 193, 7, 0.1);\n",
       "        color: #856404;\n",
       "        padding: 12px 18px;\n",
       "        margin: 10px 0;\n",
       "        border-radius: 5px;\n",
       "        font-family: sans-serif;\n",
       "        font-size: 14px;\n",
       "        animation: fadeIn 0.5s ease-out;\n",
       "        line-height: 1.6;\n",
       "    \">\n",
       "        <span style=\"font-weight: bold; margin-right: 8px;\">⚠️ WARNING:</span>\n",
       "        Skipped kaliua_135.jpg: 'processed'\n",
       "    </div>\n",
       "    <style>\n",
       "        @keyframes fadeIn {\n",
       "            from { opacity: 0; transform: translateY(-10px); }\n",
       "            to { opacity: 1; transform: translateY(0); }\n",
       "        }\n",
       "    </style>\n",
       "    "
      ],
      "text/plain": [
       "<IPython.core.display.HTML object>"
      ]
     },
     "metadata": {},
     "output_type": "display_data"
    },
    {
     "data": {
      "text/html": [
       "\n",
       "    <div style=\"\n",
       "        border: 1px solid #856404;\n",
       "        background-color: rgba(255, 193, 7, 0.1);\n",
       "        color: #856404;\n",
       "        padding: 12px 18px;\n",
       "        margin: 10px 0;\n",
       "        border-radius: 5px;\n",
       "        font-family: sans-serif;\n",
       "        font-size: 14px;\n",
       "        animation: fadeIn 0.5s ease-out;\n",
       "        line-height: 1.6;\n",
       "    \">\n",
       "        <span style=\"font-weight: bold; margin-right: 8px;\">⚠️ WARNING:</span>\n",
       "        Skipped kaliua_136.jpg: 'processed'\n",
       "    </div>\n",
       "    <style>\n",
       "        @keyframes fadeIn {\n",
       "            from { opacity: 0; transform: translateY(-10px); }\n",
       "            to { opacity: 1; transform: translateY(0); }\n",
       "        }\n",
       "    </style>\n",
       "    "
      ],
      "text/plain": [
       "<IPython.core.display.HTML object>"
      ]
     },
     "metadata": {},
     "output_type": "display_data"
    },
    {
     "data": {
      "text/html": [
       "\n",
       "    <div style=\"\n",
       "        border: 1px solid #856404;\n",
       "        background-color: rgba(255, 193, 7, 0.1);\n",
       "        color: #856404;\n",
       "        padding: 12px 18px;\n",
       "        margin: 10px 0;\n",
       "        border-radius: 5px;\n",
       "        font-family: sans-serif;\n",
       "        font-size: 14px;\n",
       "        animation: fadeIn 0.5s ease-out;\n",
       "        line-height: 1.6;\n",
       "    \">\n",
       "        <span style=\"font-weight: bold; margin-right: 8px;\">⚠️ WARNING:</span>\n",
       "        Skipped kaliua_137.jpg: 'processed'\n",
       "    </div>\n",
       "    <style>\n",
       "        @keyframes fadeIn {\n",
       "            from { opacity: 0; transform: translateY(-10px); }\n",
       "            to { opacity: 1; transform: translateY(0); }\n",
       "        }\n",
       "    </style>\n",
       "    "
      ],
      "text/plain": [
       "<IPython.core.display.HTML object>"
      ]
     },
     "metadata": {},
     "output_type": "display_data"
    },
    {
     "data": {
      "text/html": [
       "\n",
       "    <div style=\"\n",
       "        border: 1px solid #856404;\n",
       "        background-color: rgba(255, 193, 7, 0.1);\n",
       "        color: #856404;\n",
       "        padding: 12px 18px;\n",
       "        margin: 10px 0;\n",
       "        border-radius: 5px;\n",
       "        font-family: sans-serif;\n",
       "        font-size: 14px;\n",
       "        animation: fadeIn 0.5s ease-out;\n",
       "        line-height: 1.6;\n",
       "    \">\n",
       "        <span style=\"font-weight: bold; margin-right: 8px;\">⚠️ WARNING:</span>\n",
       "        Skipped kaliua_14.jpg: 'processed'\n",
       "    </div>\n",
       "    <style>\n",
       "        @keyframes fadeIn {\n",
       "            from { opacity: 0; transform: translateY(-10px); }\n",
       "            to { opacity: 1; transform: translateY(0); }\n",
       "        }\n",
       "    </style>\n",
       "    "
      ],
      "text/plain": [
       "<IPython.core.display.HTML object>"
      ]
     },
     "metadata": {},
     "output_type": "display_data"
    },
    {
     "data": {
      "text/html": [
       "\n",
       "    <div style=\"\n",
       "        border: 1px solid #856404;\n",
       "        background-color: rgba(255, 193, 7, 0.1);\n",
       "        color: #856404;\n",
       "        padding: 12px 18px;\n",
       "        margin: 10px 0;\n",
       "        border-radius: 5px;\n",
       "        font-family: sans-serif;\n",
       "        font-size: 14px;\n",
       "        animation: fadeIn 0.5s ease-out;\n",
       "        line-height: 1.6;\n",
       "    \">\n",
       "        <span style=\"font-weight: bold; margin-right: 8px;\">⚠️ WARNING:</span>\n",
       "        Skipped kaliua_15.jpg: 'processed'\n",
       "    </div>\n",
       "    <style>\n",
       "        @keyframes fadeIn {\n",
       "            from { opacity: 0; transform: translateY(-10px); }\n",
       "            to { opacity: 1; transform: translateY(0); }\n",
       "        }\n",
       "    </style>\n",
       "    "
      ],
      "text/plain": [
       "<IPython.core.display.HTML object>"
      ]
     },
     "metadata": {},
     "output_type": "display_data"
    },
    {
     "data": {
      "text/html": [
       "\n",
       "    <div style=\"\n",
       "        border: 1px solid #856404;\n",
       "        background-color: rgba(255, 193, 7, 0.1);\n",
       "        color: #856404;\n",
       "        padding: 12px 18px;\n",
       "        margin: 10px 0;\n",
       "        border-radius: 5px;\n",
       "        font-family: sans-serif;\n",
       "        font-size: 14px;\n",
       "        animation: fadeIn 0.5s ease-out;\n",
       "        line-height: 1.6;\n",
       "    \">\n",
       "        <span style=\"font-weight: bold; margin-right: 8px;\">⚠️ WARNING:</span>\n",
       "        Skipped kaliua_16.jpg: 'processed'\n",
       "    </div>\n",
       "    <style>\n",
       "        @keyframes fadeIn {\n",
       "            from { opacity: 0; transform: translateY(-10px); }\n",
       "            to { opacity: 1; transform: translateY(0); }\n",
       "        }\n",
       "    </style>\n",
       "    "
      ],
      "text/plain": [
       "<IPython.core.display.HTML object>"
      ]
     },
     "metadata": {},
     "output_type": "display_data"
    },
    {
     "data": {
      "text/html": [
       "\n",
       "    <div style=\"\n",
       "        border: 1px solid #856404;\n",
       "        background-color: rgba(255, 193, 7, 0.1);\n",
       "        color: #856404;\n",
       "        padding: 12px 18px;\n",
       "        margin: 10px 0;\n",
       "        border-radius: 5px;\n",
       "        font-family: sans-serif;\n",
       "        font-size: 14px;\n",
       "        animation: fadeIn 0.5s ease-out;\n",
       "        line-height: 1.6;\n",
       "    \">\n",
       "        <span style=\"font-weight: bold; margin-right: 8px;\">⚠️ WARNING:</span>\n",
       "        Skipped kaliua_17.jpg: 'processed'\n",
       "    </div>\n",
       "    <style>\n",
       "        @keyframes fadeIn {\n",
       "            from { opacity: 0; transform: translateY(-10px); }\n",
       "            to { opacity: 1; transform: translateY(0); }\n",
       "        }\n",
       "    </style>\n",
       "    "
      ],
      "text/plain": [
       "<IPython.core.display.HTML object>"
      ]
     },
     "metadata": {},
     "output_type": "display_data"
    },
    {
     "data": {
      "text/html": [
       "\n",
       "    <div style=\"\n",
       "        border: 1px solid #856404;\n",
       "        background-color: rgba(255, 193, 7, 0.1);\n",
       "        color: #856404;\n",
       "        padding: 12px 18px;\n",
       "        margin: 10px 0;\n",
       "        border-radius: 5px;\n",
       "        font-family: sans-serif;\n",
       "        font-size: 14px;\n",
       "        animation: fadeIn 0.5s ease-out;\n",
       "        line-height: 1.6;\n",
       "    \">\n",
       "        <span style=\"font-weight: bold; margin-right: 8px;\">⚠️ WARNING:</span>\n",
       "        Skipped kaliua_18.jpg: 'processed'\n",
       "    </div>\n",
       "    <style>\n",
       "        @keyframes fadeIn {\n",
       "            from { opacity: 0; transform: translateY(-10px); }\n",
       "            to { opacity: 1; transform: translateY(0); }\n",
       "        }\n",
       "    </style>\n",
       "    "
      ],
      "text/plain": [
       "<IPython.core.display.HTML object>"
      ]
     },
     "metadata": {},
     "output_type": "display_data"
    },
    {
     "data": {
      "text/html": [
       "\n",
       "    <div style=\"\n",
       "        border: 1px solid #856404;\n",
       "        background-color: rgba(255, 193, 7, 0.1);\n",
       "        color: #856404;\n",
       "        padding: 12px 18px;\n",
       "        margin: 10px 0;\n",
       "        border-radius: 5px;\n",
       "        font-family: sans-serif;\n",
       "        font-size: 14px;\n",
       "        animation: fadeIn 0.5s ease-out;\n",
       "        line-height: 1.6;\n",
       "    \">\n",
       "        <span style=\"font-weight: bold; margin-right: 8px;\">⚠️ WARNING:</span>\n",
       "        Skipped kaliua_19.jpg: 'processed'\n",
       "    </div>\n",
       "    <style>\n",
       "        @keyframes fadeIn {\n",
       "            from { opacity: 0; transform: translateY(-10px); }\n",
       "            to { opacity: 1; transform: translateY(0); }\n",
       "        }\n",
       "    </style>\n",
       "    "
      ],
      "text/plain": [
       "<IPython.core.display.HTML object>"
      ]
     },
     "metadata": {},
     "output_type": "display_data"
    },
    {
     "data": {
      "text/html": [
       "\n",
       "    <div style=\"\n",
       "        border: 1px solid #856404;\n",
       "        background-color: rgba(255, 193, 7, 0.1);\n",
       "        color: #856404;\n",
       "        padding: 12px 18px;\n",
       "        margin: 10px 0;\n",
       "        border-radius: 5px;\n",
       "        font-family: sans-serif;\n",
       "        font-size: 14px;\n",
       "        animation: fadeIn 0.5s ease-out;\n",
       "        line-height: 1.6;\n",
       "    \">\n",
       "        <span style=\"font-weight: bold; margin-right: 8px;\">⚠️ WARNING:</span>\n",
       "        Skipped kaliua_2.jpg: 'processed'\n",
       "    </div>\n",
       "    <style>\n",
       "        @keyframes fadeIn {\n",
       "            from { opacity: 0; transform: translateY(-10px); }\n",
       "            to { opacity: 1; transform: translateY(0); }\n",
       "        }\n",
       "    </style>\n",
       "    "
      ],
      "text/plain": [
       "<IPython.core.display.HTML object>"
      ]
     },
     "metadata": {},
     "output_type": "display_data"
    },
    {
     "data": {
      "text/html": [
       "\n",
       "    <div style=\"\n",
       "        border: 1px solid #856404;\n",
       "        background-color: rgba(255, 193, 7, 0.1);\n",
       "        color: #856404;\n",
       "        padding: 12px 18px;\n",
       "        margin: 10px 0;\n",
       "        border-radius: 5px;\n",
       "        font-family: sans-serif;\n",
       "        font-size: 14px;\n",
       "        animation: fadeIn 0.5s ease-out;\n",
       "        line-height: 1.6;\n",
       "    \">\n",
       "        <span style=\"font-weight: bold; margin-right: 8px;\">⚠️ WARNING:</span>\n",
       "        Skipped kaliua_20.jpg: 'processed'\n",
       "    </div>\n",
       "    <style>\n",
       "        @keyframes fadeIn {\n",
       "            from { opacity: 0; transform: translateY(-10px); }\n",
       "            to { opacity: 1; transform: translateY(0); }\n",
       "        }\n",
       "    </style>\n",
       "    "
      ],
      "text/plain": [
       "<IPython.core.display.HTML object>"
      ]
     },
     "metadata": {},
     "output_type": "display_data"
    },
    {
     "data": {
      "text/html": [
       "\n",
       "    <div style=\"\n",
       "        border: 1px solid #856404;\n",
       "        background-color: rgba(255, 193, 7, 0.1);\n",
       "        color: #856404;\n",
       "        padding: 12px 18px;\n",
       "        margin: 10px 0;\n",
       "        border-radius: 5px;\n",
       "        font-family: sans-serif;\n",
       "        font-size: 14px;\n",
       "        animation: fadeIn 0.5s ease-out;\n",
       "        line-height: 1.6;\n",
       "    \">\n",
       "        <span style=\"font-weight: bold; margin-right: 8px;\">⚠️ WARNING:</span>\n",
       "        Skipped kaliua_21.jpg: 'processed'\n",
       "    </div>\n",
       "    <style>\n",
       "        @keyframes fadeIn {\n",
       "            from { opacity: 0; transform: translateY(-10px); }\n",
       "            to { opacity: 1; transform: translateY(0); }\n",
       "        }\n",
       "    </style>\n",
       "    "
      ],
      "text/plain": [
       "<IPython.core.display.HTML object>"
      ]
     },
     "metadata": {},
     "output_type": "display_data"
    },
    {
     "data": {
      "text/html": [
       "\n",
       "    <div style=\"\n",
       "        border: 1px solid #856404;\n",
       "        background-color: rgba(255, 193, 7, 0.1);\n",
       "        color: #856404;\n",
       "        padding: 12px 18px;\n",
       "        margin: 10px 0;\n",
       "        border-radius: 5px;\n",
       "        font-family: sans-serif;\n",
       "        font-size: 14px;\n",
       "        animation: fadeIn 0.5s ease-out;\n",
       "        line-height: 1.6;\n",
       "    \">\n",
       "        <span style=\"font-weight: bold; margin-right: 8px;\">⚠️ WARNING:</span>\n",
       "        Skipped kaliua_22.jpg: 'processed'\n",
       "    </div>\n",
       "    <style>\n",
       "        @keyframes fadeIn {\n",
       "            from { opacity: 0; transform: translateY(-10px); }\n",
       "            to { opacity: 1; transform: translateY(0); }\n",
       "        }\n",
       "    </style>\n",
       "    "
      ],
      "text/plain": [
       "<IPython.core.display.HTML object>"
      ]
     },
     "metadata": {},
     "output_type": "display_data"
    },
    {
     "data": {
      "text/html": [
       "\n",
       "    <div style=\"\n",
       "        border: 1px solid #856404;\n",
       "        background-color: rgba(255, 193, 7, 0.1);\n",
       "        color: #856404;\n",
       "        padding: 12px 18px;\n",
       "        margin: 10px 0;\n",
       "        border-radius: 5px;\n",
       "        font-family: sans-serif;\n",
       "        font-size: 14px;\n",
       "        animation: fadeIn 0.5s ease-out;\n",
       "        line-height: 1.6;\n",
       "    \">\n",
       "        <span style=\"font-weight: bold; margin-right: 8px;\">⚠️ WARNING:</span>\n",
       "        Skipped kaliua_23.jpg: 'processed'\n",
       "    </div>\n",
       "    <style>\n",
       "        @keyframes fadeIn {\n",
       "            from { opacity: 0; transform: translateY(-10px); }\n",
       "            to { opacity: 1; transform: translateY(0); }\n",
       "        }\n",
       "    </style>\n",
       "    "
      ],
      "text/plain": [
       "<IPython.core.display.HTML object>"
      ]
     },
     "metadata": {},
     "output_type": "display_data"
    },
    {
     "data": {
      "text/html": [
       "\n",
       "    <div style=\"\n",
       "        border: 1px solid #856404;\n",
       "        background-color: rgba(255, 193, 7, 0.1);\n",
       "        color: #856404;\n",
       "        padding: 12px 18px;\n",
       "        margin: 10px 0;\n",
       "        border-radius: 5px;\n",
       "        font-family: sans-serif;\n",
       "        font-size: 14px;\n",
       "        animation: fadeIn 0.5s ease-out;\n",
       "        line-height: 1.6;\n",
       "    \">\n",
       "        <span style=\"font-weight: bold; margin-right: 8px;\">⚠️ WARNING:</span>\n",
       "        Skipped kaliua_24.jpg: 'processed'\n",
       "    </div>\n",
       "    <style>\n",
       "        @keyframes fadeIn {\n",
       "            from { opacity: 0; transform: translateY(-10px); }\n",
       "            to { opacity: 1; transform: translateY(0); }\n",
       "        }\n",
       "    </style>\n",
       "    "
      ],
      "text/plain": [
       "<IPython.core.display.HTML object>"
      ]
     },
     "metadata": {},
     "output_type": "display_data"
    },
    {
     "data": {
      "text/html": [
       "\n",
       "    <div style=\"\n",
       "        border: 1px solid #856404;\n",
       "        background-color: rgba(255, 193, 7, 0.1);\n",
       "        color: #856404;\n",
       "        padding: 12px 18px;\n",
       "        margin: 10px 0;\n",
       "        border-radius: 5px;\n",
       "        font-family: sans-serif;\n",
       "        font-size: 14px;\n",
       "        animation: fadeIn 0.5s ease-out;\n",
       "        line-height: 1.6;\n",
       "    \">\n",
       "        <span style=\"font-weight: bold; margin-right: 8px;\">⚠️ WARNING:</span>\n",
       "        Skipped kaliua_25.jpg: 'processed'\n",
       "    </div>\n",
       "    <style>\n",
       "        @keyframes fadeIn {\n",
       "            from { opacity: 0; transform: translateY(-10px); }\n",
       "            to { opacity: 1; transform: translateY(0); }\n",
       "        }\n",
       "    </style>\n",
       "    "
      ],
      "text/plain": [
       "<IPython.core.display.HTML object>"
      ]
     },
     "metadata": {},
     "output_type": "display_data"
    },
    {
     "data": {
      "text/html": [
       "\n",
       "    <div style=\"\n",
       "        border: 1px solid #856404;\n",
       "        background-color: rgba(255, 193, 7, 0.1);\n",
       "        color: #856404;\n",
       "        padding: 12px 18px;\n",
       "        margin: 10px 0;\n",
       "        border-radius: 5px;\n",
       "        font-family: sans-serif;\n",
       "        font-size: 14px;\n",
       "        animation: fadeIn 0.5s ease-out;\n",
       "        line-height: 1.6;\n",
       "    \">\n",
       "        <span style=\"font-weight: bold; margin-right: 8px;\">⚠️ WARNING:</span>\n",
       "        Skipped kaliua_26.jpg: 'processed'\n",
       "    </div>\n",
       "    <style>\n",
       "        @keyframes fadeIn {\n",
       "            from { opacity: 0; transform: translateY(-10px); }\n",
       "            to { opacity: 1; transform: translateY(0); }\n",
       "        }\n",
       "    </style>\n",
       "    "
      ],
      "text/plain": [
       "<IPython.core.display.HTML object>"
      ]
     },
     "metadata": {},
     "output_type": "display_data"
    },
    {
     "data": {
      "text/html": [
       "\n",
       "    <div style=\"\n",
       "        border: 1px solid #856404;\n",
       "        background-color: rgba(255, 193, 7, 0.1);\n",
       "        color: #856404;\n",
       "        padding: 12px 18px;\n",
       "        margin: 10px 0;\n",
       "        border-radius: 5px;\n",
       "        font-family: sans-serif;\n",
       "        font-size: 14px;\n",
       "        animation: fadeIn 0.5s ease-out;\n",
       "        line-height: 1.6;\n",
       "    \">\n",
       "        <span style=\"font-weight: bold; margin-right: 8px;\">⚠️ WARNING:</span>\n",
       "        Skipped kaliua_2682.jpg: 'processed'\n",
       "    </div>\n",
       "    <style>\n",
       "        @keyframes fadeIn {\n",
       "            from { opacity: 0; transform: translateY(-10px); }\n",
       "            to { opacity: 1; transform: translateY(0); }\n",
       "        }\n",
       "    </style>\n",
       "    "
      ],
      "text/plain": [
       "<IPython.core.display.HTML object>"
      ]
     },
     "metadata": {},
     "output_type": "display_data"
    },
    {
     "data": {
      "text/html": [
       "\n",
       "    <div style=\"\n",
       "        border: 1px solid #856404;\n",
       "        background-color: rgba(255, 193, 7, 0.1);\n",
       "        color: #856404;\n",
       "        padding: 12px 18px;\n",
       "        margin: 10px 0;\n",
       "        border-radius: 5px;\n",
       "        font-family: sans-serif;\n",
       "        font-size: 14px;\n",
       "        animation: fadeIn 0.5s ease-out;\n",
       "        line-height: 1.6;\n",
       "    \">\n",
       "        <span style=\"font-weight: bold; margin-right: 8px;\">⚠️ WARNING:</span>\n",
       "        Skipped kaliua_2683.jpg: 'processed'\n",
       "    </div>\n",
       "    <style>\n",
       "        @keyframes fadeIn {\n",
       "            from { opacity: 0; transform: translateY(-10px); }\n",
       "            to { opacity: 1; transform: translateY(0); }\n",
       "        }\n",
       "    </style>\n",
       "    "
      ],
      "text/plain": [
       "<IPython.core.display.HTML object>"
      ]
     },
     "metadata": {},
     "output_type": "display_data"
    },
    {
     "data": {
      "text/html": [
       "\n",
       "    <div style=\"\n",
       "        border: 1px solid #856404;\n",
       "        background-color: rgba(255, 193, 7, 0.1);\n",
       "        color: #856404;\n",
       "        padding: 12px 18px;\n",
       "        margin: 10px 0;\n",
       "        border-radius: 5px;\n",
       "        font-family: sans-serif;\n",
       "        font-size: 14px;\n",
       "        animation: fadeIn 0.5s ease-out;\n",
       "        line-height: 1.6;\n",
       "    \">\n",
       "        <span style=\"font-weight: bold; margin-right: 8px;\">⚠️ WARNING:</span>\n",
       "        Skipped kaliua_2684.jpg: 'processed'\n",
       "    </div>\n",
       "    <style>\n",
       "        @keyframes fadeIn {\n",
       "            from { opacity: 0; transform: translateY(-10px); }\n",
       "            to { opacity: 1; transform: translateY(0); }\n",
       "        }\n",
       "    </style>\n",
       "    "
      ],
      "text/plain": [
       "<IPython.core.display.HTML object>"
      ]
     },
     "metadata": {},
     "output_type": "display_data"
    },
    {
     "data": {
      "text/html": [
       "\n",
       "    <div style=\"\n",
       "        border: 1px solid #856404;\n",
       "        background-color: rgba(255, 193, 7, 0.1);\n",
       "        color: #856404;\n",
       "        padding: 12px 18px;\n",
       "        margin: 10px 0;\n",
       "        border-radius: 5px;\n",
       "        font-family: sans-serif;\n",
       "        font-size: 14px;\n",
       "        animation: fadeIn 0.5s ease-out;\n",
       "        line-height: 1.6;\n",
       "    \">\n",
       "        <span style=\"font-weight: bold; margin-right: 8px;\">⚠️ WARNING:</span>\n",
       "        Skipped kaliua_2685.jpg: 'processed'\n",
       "    </div>\n",
       "    <style>\n",
       "        @keyframes fadeIn {\n",
       "            from { opacity: 0; transform: translateY(-10px); }\n",
       "            to { opacity: 1; transform: translateY(0); }\n",
       "        }\n",
       "    </style>\n",
       "    "
      ],
      "text/plain": [
       "<IPython.core.display.HTML object>"
      ]
     },
     "metadata": {},
     "output_type": "display_data"
    },
    {
     "data": {
      "text/html": [
       "\n",
       "    <div style=\"\n",
       "        border: 1px solid #856404;\n",
       "        background-color: rgba(255, 193, 7, 0.1);\n",
       "        color: #856404;\n",
       "        padding: 12px 18px;\n",
       "        margin: 10px 0;\n",
       "        border-radius: 5px;\n",
       "        font-family: sans-serif;\n",
       "        font-size: 14px;\n",
       "        animation: fadeIn 0.5s ease-out;\n",
       "        line-height: 1.6;\n",
       "    \">\n",
       "        <span style=\"font-weight: bold; margin-right: 8px;\">⚠️ WARNING:</span>\n",
       "        Skipped kaliua_2686.jpg: 'processed'\n",
       "    </div>\n",
       "    <style>\n",
       "        @keyframes fadeIn {\n",
       "            from { opacity: 0; transform: translateY(-10px); }\n",
       "            to { opacity: 1; transform: translateY(0); }\n",
       "        }\n",
       "    </style>\n",
       "    "
      ],
      "text/plain": [
       "<IPython.core.display.HTML object>"
      ]
     },
     "metadata": {},
     "output_type": "display_data"
    },
    {
     "data": {
      "text/html": [
       "\n",
       "    <div style=\"\n",
       "        border: 1px solid #856404;\n",
       "        background-color: rgba(255, 193, 7, 0.1);\n",
       "        color: #856404;\n",
       "        padding: 12px 18px;\n",
       "        margin: 10px 0;\n",
       "        border-radius: 5px;\n",
       "        font-family: sans-serif;\n",
       "        font-size: 14px;\n",
       "        animation: fadeIn 0.5s ease-out;\n",
       "        line-height: 1.6;\n",
       "    \">\n",
       "        <span style=\"font-weight: bold; margin-right: 8px;\">⚠️ WARNING:</span>\n",
       "        Skipped kaliua_2687.jpg: 'processed'\n",
       "    </div>\n",
       "    <style>\n",
       "        @keyframes fadeIn {\n",
       "            from { opacity: 0; transform: translateY(-10px); }\n",
       "            to { opacity: 1; transform: translateY(0); }\n",
       "        }\n",
       "    </style>\n",
       "    "
      ],
      "text/plain": [
       "<IPython.core.display.HTML object>"
      ]
     },
     "metadata": {},
     "output_type": "display_data"
    },
    {
     "data": {
      "text/html": [
       "\n",
       "    <div style=\"\n",
       "        border: 1px solid #856404;\n",
       "        background-color: rgba(255, 193, 7, 0.1);\n",
       "        color: #856404;\n",
       "        padding: 12px 18px;\n",
       "        margin: 10px 0;\n",
       "        border-radius: 5px;\n",
       "        font-family: sans-serif;\n",
       "        font-size: 14px;\n",
       "        animation: fadeIn 0.5s ease-out;\n",
       "        line-height: 1.6;\n",
       "    \">\n",
       "        <span style=\"font-weight: bold; margin-right: 8px;\">⚠️ WARNING:</span>\n",
       "        Skipped kaliua_2688.jpg: 'processed'\n",
       "    </div>\n",
       "    <style>\n",
       "        @keyframes fadeIn {\n",
       "            from { opacity: 0; transform: translateY(-10px); }\n",
       "            to { opacity: 1; transform: translateY(0); }\n",
       "        }\n",
       "    </style>\n",
       "    "
      ],
      "text/plain": [
       "<IPython.core.display.HTML object>"
      ]
     },
     "metadata": {},
     "output_type": "display_data"
    },
    {
     "data": {
      "text/html": [
       "\n",
       "    <div style=\"\n",
       "        border: 1px solid #856404;\n",
       "        background-color: rgba(255, 193, 7, 0.1);\n",
       "        color: #856404;\n",
       "        padding: 12px 18px;\n",
       "        margin: 10px 0;\n",
       "        border-radius: 5px;\n",
       "        font-family: sans-serif;\n",
       "        font-size: 14px;\n",
       "        animation: fadeIn 0.5s ease-out;\n",
       "        line-height: 1.6;\n",
       "    \">\n",
       "        <span style=\"font-weight: bold; margin-right: 8px;\">⚠️ WARNING:</span>\n",
       "        Skipped kaliua_2689.jpg: 'processed'\n",
       "    </div>\n",
       "    <style>\n",
       "        @keyframes fadeIn {\n",
       "            from { opacity: 0; transform: translateY(-10px); }\n",
       "            to { opacity: 1; transform: translateY(0); }\n",
       "        }\n",
       "    </style>\n",
       "    "
      ],
      "text/plain": [
       "<IPython.core.display.HTML object>"
      ]
     },
     "metadata": {},
     "output_type": "display_data"
    },
    {
     "data": {
      "text/html": [
       "\n",
       "    <div style=\"\n",
       "        border: 1px solid #856404;\n",
       "        background-color: rgba(255, 193, 7, 0.1);\n",
       "        color: #856404;\n",
       "        padding: 12px 18px;\n",
       "        margin: 10px 0;\n",
       "        border-radius: 5px;\n",
       "        font-family: sans-serif;\n",
       "        font-size: 14px;\n",
       "        animation: fadeIn 0.5s ease-out;\n",
       "        line-height: 1.6;\n",
       "    \">\n",
       "        <span style=\"font-weight: bold; margin-right: 8px;\">⚠️ WARNING:</span>\n",
       "        Skipped kaliua_2690.jpg: 'processed'\n",
       "    </div>\n",
       "    <style>\n",
       "        @keyframes fadeIn {\n",
       "            from { opacity: 0; transform: translateY(-10px); }\n",
       "            to { opacity: 1; transform: translateY(0); }\n",
       "        }\n",
       "    </style>\n",
       "    "
      ],
      "text/plain": [
       "<IPython.core.display.HTML object>"
      ]
     },
     "metadata": {},
     "output_type": "display_data"
    },
    {
     "data": {
      "text/html": [
       "\n",
       "    <div style=\"\n",
       "        border: 1px solid #856404;\n",
       "        background-color: rgba(255, 193, 7, 0.1);\n",
       "        color: #856404;\n",
       "        padding: 12px 18px;\n",
       "        margin: 10px 0;\n",
       "        border-radius: 5px;\n",
       "        font-family: sans-serif;\n",
       "        font-size: 14px;\n",
       "        animation: fadeIn 0.5s ease-out;\n",
       "        line-height: 1.6;\n",
       "    \">\n",
       "        <span style=\"font-weight: bold; margin-right: 8px;\">⚠️ WARNING:</span>\n",
       "        Skipped kaliua_2691.jpg: 'processed'\n",
       "    </div>\n",
       "    <style>\n",
       "        @keyframes fadeIn {\n",
       "            from { opacity: 0; transform: translateY(-10px); }\n",
       "            to { opacity: 1; transform: translateY(0); }\n",
       "        }\n",
       "    </style>\n",
       "    "
      ],
      "text/plain": [
       "<IPython.core.display.HTML object>"
      ]
     },
     "metadata": {},
     "output_type": "display_data"
    },
    {
     "data": {
      "text/html": [
       "\n",
       "    <div style=\"\n",
       "        border: 1px solid #856404;\n",
       "        background-color: rgba(255, 193, 7, 0.1);\n",
       "        color: #856404;\n",
       "        padding: 12px 18px;\n",
       "        margin: 10px 0;\n",
       "        border-radius: 5px;\n",
       "        font-family: sans-serif;\n",
       "        font-size: 14px;\n",
       "        animation: fadeIn 0.5s ease-out;\n",
       "        line-height: 1.6;\n",
       "    \">\n",
       "        <span style=\"font-weight: bold; margin-right: 8px;\">⚠️ WARNING:</span>\n",
       "        Skipped kaliua_2692.jpg: 'processed'\n",
       "    </div>\n",
       "    <style>\n",
       "        @keyframes fadeIn {\n",
       "            from { opacity: 0; transform: translateY(-10px); }\n",
       "            to { opacity: 1; transform: translateY(0); }\n",
       "        }\n",
       "    </style>\n",
       "    "
      ],
      "text/plain": [
       "<IPython.core.display.HTML object>"
      ]
     },
     "metadata": {},
     "output_type": "display_data"
    },
    {
     "data": {
      "text/html": [
       "\n",
       "    <div style=\"\n",
       "        border: 1px solid #856404;\n",
       "        background-color: rgba(255, 193, 7, 0.1);\n",
       "        color: #856404;\n",
       "        padding: 12px 18px;\n",
       "        margin: 10px 0;\n",
       "        border-radius: 5px;\n",
       "        font-family: sans-serif;\n",
       "        font-size: 14px;\n",
       "        animation: fadeIn 0.5s ease-out;\n",
       "        line-height: 1.6;\n",
       "    \">\n",
       "        <span style=\"font-weight: bold; margin-right: 8px;\">⚠️ WARNING:</span>\n",
       "        Skipped kaliua_2693.jpg: 'processed'\n",
       "    </div>\n",
       "    <style>\n",
       "        @keyframes fadeIn {\n",
       "            from { opacity: 0; transform: translateY(-10px); }\n",
       "            to { opacity: 1; transform: translateY(0); }\n",
       "        }\n",
       "    </style>\n",
       "    "
      ],
      "text/plain": [
       "<IPython.core.display.HTML object>"
      ]
     },
     "metadata": {},
     "output_type": "display_data"
    },
    {
     "data": {
      "text/html": [
       "\n",
       "    <div style=\"\n",
       "        border: 1px solid #856404;\n",
       "        background-color: rgba(255, 193, 7, 0.1);\n",
       "        color: #856404;\n",
       "        padding: 12px 18px;\n",
       "        margin: 10px 0;\n",
       "        border-radius: 5px;\n",
       "        font-family: sans-serif;\n",
       "        font-size: 14px;\n",
       "        animation: fadeIn 0.5s ease-out;\n",
       "        line-height: 1.6;\n",
       "    \">\n",
       "        <span style=\"font-weight: bold; margin-right: 8px;\">⚠️ WARNING:</span>\n",
       "        Skipped kaliua_2694.jpg: 'processed'\n",
       "    </div>\n",
       "    <style>\n",
       "        @keyframes fadeIn {\n",
       "            from { opacity: 0; transform: translateY(-10px); }\n",
       "            to { opacity: 1; transform: translateY(0); }\n",
       "        }\n",
       "    </style>\n",
       "    "
      ],
      "text/plain": [
       "<IPython.core.display.HTML object>"
      ]
     },
     "metadata": {},
     "output_type": "display_data"
    },
    {
     "data": {
      "text/html": [
       "\n",
       "    <div style=\"\n",
       "        border: 1px solid #856404;\n",
       "        background-color: rgba(255, 193, 7, 0.1);\n",
       "        color: #856404;\n",
       "        padding: 12px 18px;\n",
       "        margin: 10px 0;\n",
       "        border-radius: 5px;\n",
       "        font-family: sans-serif;\n",
       "        font-size: 14px;\n",
       "        animation: fadeIn 0.5s ease-out;\n",
       "        line-height: 1.6;\n",
       "    \">\n",
       "        <span style=\"font-weight: bold; margin-right: 8px;\">⚠️ WARNING:</span>\n",
       "        Skipped kaliua_2695.jpg: 'processed'\n",
       "    </div>\n",
       "    <style>\n",
       "        @keyframes fadeIn {\n",
       "            from { opacity: 0; transform: translateY(-10px); }\n",
       "            to { opacity: 1; transform: translateY(0); }\n",
       "        }\n",
       "    </style>\n",
       "    "
      ],
      "text/plain": [
       "<IPython.core.display.HTML object>"
      ]
     },
     "metadata": {},
     "output_type": "display_data"
    },
    {
     "data": {
      "text/html": [
       "\n",
       "    <div style=\"\n",
       "        border: 1px solid #856404;\n",
       "        background-color: rgba(255, 193, 7, 0.1);\n",
       "        color: #856404;\n",
       "        padding: 12px 18px;\n",
       "        margin: 10px 0;\n",
       "        border-radius: 5px;\n",
       "        font-family: sans-serif;\n",
       "        font-size: 14px;\n",
       "        animation: fadeIn 0.5s ease-out;\n",
       "        line-height: 1.6;\n",
       "    \">\n",
       "        <span style=\"font-weight: bold; margin-right: 8px;\">⚠️ WARNING:</span>\n",
       "        Skipped kaliua_2696.jpg: 'processed'\n",
       "    </div>\n",
       "    <style>\n",
       "        @keyframes fadeIn {\n",
       "            from { opacity: 0; transform: translateY(-10px); }\n",
       "            to { opacity: 1; transform: translateY(0); }\n",
       "        }\n",
       "    </style>\n",
       "    "
      ],
      "text/plain": [
       "<IPython.core.display.HTML object>"
      ]
     },
     "metadata": {},
     "output_type": "display_data"
    },
    {
     "data": {
      "text/html": [
       "\n",
       "    <div style=\"\n",
       "        border: 1px solid #856404;\n",
       "        background-color: rgba(255, 193, 7, 0.1);\n",
       "        color: #856404;\n",
       "        padding: 12px 18px;\n",
       "        margin: 10px 0;\n",
       "        border-radius: 5px;\n",
       "        font-family: sans-serif;\n",
       "        font-size: 14px;\n",
       "        animation: fadeIn 0.5s ease-out;\n",
       "        line-height: 1.6;\n",
       "    \">\n",
       "        <span style=\"font-weight: bold; margin-right: 8px;\">⚠️ WARNING:</span>\n",
       "        Skipped kaliua_2697.jpg: 'processed'\n",
       "    </div>\n",
       "    <style>\n",
       "        @keyframes fadeIn {\n",
       "            from { opacity: 0; transform: translateY(-10px); }\n",
       "            to { opacity: 1; transform: translateY(0); }\n",
       "        }\n",
       "    </style>\n",
       "    "
      ],
      "text/plain": [
       "<IPython.core.display.HTML object>"
      ]
     },
     "metadata": {},
     "output_type": "display_data"
    },
    {
     "data": {
      "text/html": [
       "\n",
       "    <div style=\"\n",
       "        border: 1px solid #856404;\n",
       "        background-color: rgba(255, 193, 7, 0.1);\n",
       "        color: #856404;\n",
       "        padding: 12px 18px;\n",
       "        margin: 10px 0;\n",
       "        border-radius: 5px;\n",
       "        font-family: sans-serif;\n",
       "        font-size: 14px;\n",
       "        animation: fadeIn 0.5s ease-out;\n",
       "        line-height: 1.6;\n",
       "    \">\n",
       "        <span style=\"font-weight: bold; margin-right: 8px;\">⚠️ WARNING:</span>\n",
       "        Skipped kaliua_2698.jpg: 'processed'\n",
       "    </div>\n",
       "    <style>\n",
       "        @keyframes fadeIn {\n",
       "            from { opacity: 0; transform: translateY(-10px); }\n",
       "            to { opacity: 1; transform: translateY(0); }\n",
       "        }\n",
       "    </style>\n",
       "    "
      ],
      "text/plain": [
       "<IPython.core.display.HTML object>"
      ]
     },
     "metadata": {},
     "output_type": "display_data"
    },
    {
     "data": {
      "text/html": [
       "\n",
       "    <div style=\"\n",
       "        border: 1px solid #856404;\n",
       "        background-color: rgba(255, 193, 7, 0.1);\n",
       "        color: #856404;\n",
       "        padding: 12px 18px;\n",
       "        margin: 10px 0;\n",
       "        border-radius: 5px;\n",
       "        font-family: sans-serif;\n",
       "        font-size: 14px;\n",
       "        animation: fadeIn 0.5s ease-out;\n",
       "        line-height: 1.6;\n",
       "    \">\n",
       "        <span style=\"font-weight: bold; margin-right: 8px;\">⚠️ WARNING:</span>\n",
       "        Skipped kaliua_2699.jpg: 'processed'\n",
       "    </div>\n",
       "    <style>\n",
       "        @keyframes fadeIn {\n",
       "            from { opacity: 0; transform: translateY(-10px); }\n",
       "            to { opacity: 1; transform: translateY(0); }\n",
       "        }\n",
       "    </style>\n",
       "    "
      ],
      "text/plain": [
       "<IPython.core.display.HTML object>"
      ]
     },
     "metadata": {},
     "output_type": "display_data"
    },
    {
     "data": {
      "text/html": [
       "\n",
       "    <div style=\"\n",
       "        border: 1px solid #856404;\n",
       "        background-color: rgba(255, 193, 7, 0.1);\n",
       "        color: #856404;\n",
       "        padding: 12px 18px;\n",
       "        margin: 10px 0;\n",
       "        border-radius: 5px;\n",
       "        font-family: sans-serif;\n",
       "        font-size: 14px;\n",
       "        animation: fadeIn 0.5s ease-out;\n",
       "        line-height: 1.6;\n",
       "    \">\n",
       "        <span style=\"font-weight: bold; margin-right: 8px;\">⚠️ WARNING:</span>\n",
       "        Skipped kaliua_27.jpg: 'processed'\n",
       "    </div>\n",
       "    <style>\n",
       "        @keyframes fadeIn {\n",
       "            from { opacity: 0; transform: translateY(-10px); }\n",
       "            to { opacity: 1; transform: translateY(0); }\n",
       "        }\n",
       "    </style>\n",
       "    "
      ],
      "text/plain": [
       "<IPython.core.display.HTML object>"
      ]
     },
     "metadata": {},
     "output_type": "display_data"
    },
    {
     "data": {
      "text/html": [
       "\n",
       "    <div style=\"\n",
       "        border: 1px solid #856404;\n",
       "        background-color: rgba(255, 193, 7, 0.1);\n",
       "        color: #856404;\n",
       "        padding: 12px 18px;\n",
       "        margin: 10px 0;\n",
       "        border-radius: 5px;\n",
       "        font-family: sans-serif;\n",
       "        font-size: 14px;\n",
       "        animation: fadeIn 0.5s ease-out;\n",
       "        line-height: 1.6;\n",
       "    \">\n",
       "        <span style=\"font-weight: bold; margin-right: 8px;\">⚠️ WARNING:</span>\n",
       "        Skipped kaliua_2700.jpg: 'processed'\n",
       "    </div>\n",
       "    <style>\n",
       "        @keyframes fadeIn {\n",
       "            from { opacity: 0; transform: translateY(-10px); }\n",
       "            to { opacity: 1; transform: translateY(0); }\n",
       "        }\n",
       "    </style>\n",
       "    "
      ],
      "text/plain": [
       "<IPython.core.display.HTML object>"
      ]
     },
     "metadata": {},
     "output_type": "display_data"
    },
    {
     "data": {
      "text/html": [
       "\n",
       "    <div style=\"\n",
       "        border: 1px solid #856404;\n",
       "        background-color: rgba(255, 193, 7, 0.1);\n",
       "        color: #856404;\n",
       "        padding: 12px 18px;\n",
       "        margin: 10px 0;\n",
       "        border-radius: 5px;\n",
       "        font-family: sans-serif;\n",
       "        font-size: 14px;\n",
       "        animation: fadeIn 0.5s ease-out;\n",
       "        line-height: 1.6;\n",
       "    \">\n",
       "        <span style=\"font-weight: bold; margin-right: 8px;\">⚠️ WARNING:</span>\n",
       "        Skipped kaliua_2701.jpg: 'processed'\n",
       "    </div>\n",
       "    <style>\n",
       "        @keyframes fadeIn {\n",
       "            from { opacity: 0; transform: translateY(-10px); }\n",
       "            to { opacity: 1; transform: translateY(0); }\n",
       "        }\n",
       "    </style>\n",
       "    "
      ],
      "text/plain": [
       "<IPython.core.display.HTML object>"
      ]
     },
     "metadata": {},
     "output_type": "display_data"
    },
    {
     "data": {
      "text/html": [
       "\n",
       "    <div style=\"\n",
       "        border: 1px solid #856404;\n",
       "        background-color: rgba(255, 193, 7, 0.1);\n",
       "        color: #856404;\n",
       "        padding: 12px 18px;\n",
       "        margin: 10px 0;\n",
       "        border-radius: 5px;\n",
       "        font-family: sans-serif;\n",
       "        font-size: 14px;\n",
       "        animation: fadeIn 0.5s ease-out;\n",
       "        line-height: 1.6;\n",
       "    \">\n",
       "        <span style=\"font-weight: bold; margin-right: 8px;\">⚠️ WARNING:</span>\n",
       "        Skipped kaliua_2702.jpg: 'processed'\n",
       "    </div>\n",
       "    <style>\n",
       "        @keyframes fadeIn {\n",
       "            from { opacity: 0; transform: translateY(-10px); }\n",
       "            to { opacity: 1; transform: translateY(0); }\n",
       "        }\n",
       "    </style>\n",
       "    "
      ],
      "text/plain": [
       "<IPython.core.display.HTML object>"
      ]
     },
     "metadata": {},
     "output_type": "display_data"
    },
    {
     "data": {
      "text/html": [
       "\n",
       "    <div style=\"\n",
       "        border: 1px solid #856404;\n",
       "        background-color: rgba(255, 193, 7, 0.1);\n",
       "        color: #856404;\n",
       "        padding: 12px 18px;\n",
       "        margin: 10px 0;\n",
       "        border-radius: 5px;\n",
       "        font-family: sans-serif;\n",
       "        font-size: 14px;\n",
       "        animation: fadeIn 0.5s ease-out;\n",
       "        line-height: 1.6;\n",
       "    \">\n",
       "        <span style=\"font-weight: bold; margin-right: 8px;\">⚠️ WARNING:</span>\n",
       "        Skipped kaliua_2703.jpg: 'processed'\n",
       "    </div>\n",
       "    <style>\n",
       "        @keyframes fadeIn {\n",
       "            from { opacity: 0; transform: translateY(-10px); }\n",
       "            to { opacity: 1; transform: translateY(0); }\n",
       "        }\n",
       "    </style>\n",
       "    "
      ],
      "text/plain": [
       "<IPython.core.display.HTML object>"
      ]
     },
     "metadata": {},
     "output_type": "display_data"
    },
    {
     "data": {
      "text/html": [
       "\n",
       "    <div style=\"\n",
       "        border: 1px solid #856404;\n",
       "        background-color: rgba(255, 193, 7, 0.1);\n",
       "        color: #856404;\n",
       "        padding: 12px 18px;\n",
       "        margin: 10px 0;\n",
       "        border-radius: 5px;\n",
       "        font-family: sans-serif;\n",
       "        font-size: 14px;\n",
       "        animation: fadeIn 0.5s ease-out;\n",
       "        line-height: 1.6;\n",
       "    \">\n",
       "        <span style=\"font-weight: bold; margin-right: 8px;\">⚠️ WARNING:</span>\n",
       "        Skipped kaliua_2704.jpg: 'processed'\n",
       "    </div>\n",
       "    <style>\n",
       "        @keyframes fadeIn {\n",
       "            from { opacity: 0; transform: translateY(-10px); }\n",
       "            to { opacity: 1; transform: translateY(0); }\n",
       "        }\n",
       "    </style>\n",
       "    "
      ],
      "text/plain": [
       "<IPython.core.display.HTML object>"
      ]
     },
     "metadata": {},
     "output_type": "display_data"
    },
    {
     "data": {
      "text/html": [
       "\n",
       "    <div style=\"\n",
       "        border: 1px solid #856404;\n",
       "        background-color: rgba(255, 193, 7, 0.1);\n",
       "        color: #856404;\n",
       "        padding: 12px 18px;\n",
       "        margin: 10px 0;\n",
       "        border-radius: 5px;\n",
       "        font-family: sans-serif;\n",
       "        font-size: 14px;\n",
       "        animation: fadeIn 0.5s ease-out;\n",
       "        line-height: 1.6;\n",
       "    \">\n",
       "        <span style=\"font-weight: bold; margin-right: 8px;\">⚠️ WARNING:</span>\n",
       "        Skipped kaliua_2705.jpg: 'processed'\n",
       "    </div>\n",
       "    <style>\n",
       "        @keyframes fadeIn {\n",
       "            from { opacity: 0; transform: translateY(-10px); }\n",
       "            to { opacity: 1; transform: translateY(0); }\n",
       "        }\n",
       "    </style>\n",
       "    "
      ],
      "text/plain": [
       "<IPython.core.display.HTML object>"
      ]
     },
     "metadata": {},
     "output_type": "display_data"
    },
    {
     "data": {
      "text/html": [
       "\n",
       "    <div style=\"\n",
       "        border: 1px solid #856404;\n",
       "        background-color: rgba(255, 193, 7, 0.1);\n",
       "        color: #856404;\n",
       "        padding: 12px 18px;\n",
       "        margin: 10px 0;\n",
       "        border-radius: 5px;\n",
       "        font-family: sans-serif;\n",
       "        font-size: 14px;\n",
       "        animation: fadeIn 0.5s ease-out;\n",
       "        line-height: 1.6;\n",
       "    \">\n",
       "        <span style=\"font-weight: bold; margin-right: 8px;\">⚠️ WARNING:</span>\n",
       "        Skipped kaliua_2706.jpg: 'processed'\n",
       "    </div>\n",
       "    <style>\n",
       "        @keyframes fadeIn {\n",
       "            from { opacity: 0; transform: translateY(-10px); }\n",
       "            to { opacity: 1; transform: translateY(0); }\n",
       "        }\n",
       "    </style>\n",
       "    "
      ],
      "text/plain": [
       "<IPython.core.display.HTML object>"
      ]
     },
     "metadata": {},
     "output_type": "display_data"
    },
    {
     "data": {
      "text/html": [
       "\n",
       "    <div style=\"\n",
       "        border: 1px solid #856404;\n",
       "        background-color: rgba(255, 193, 7, 0.1);\n",
       "        color: #856404;\n",
       "        padding: 12px 18px;\n",
       "        margin: 10px 0;\n",
       "        border-radius: 5px;\n",
       "        font-family: sans-serif;\n",
       "        font-size: 14px;\n",
       "        animation: fadeIn 0.5s ease-out;\n",
       "        line-height: 1.6;\n",
       "    \">\n",
       "        <span style=\"font-weight: bold; margin-right: 8px;\">⚠️ WARNING:</span>\n",
       "        Skipped kaliua_2707.jpg: 'processed'\n",
       "    </div>\n",
       "    <style>\n",
       "        @keyframes fadeIn {\n",
       "            from { opacity: 0; transform: translateY(-10px); }\n",
       "            to { opacity: 1; transform: translateY(0); }\n",
       "        }\n",
       "    </style>\n",
       "    "
      ],
      "text/plain": [
       "<IPython.core.display.HTML object>"
      ]
     },
     "metadata": {},
     "output_type": "display_data"
    },
    {
     "data": {
      "text/html": [
       "\n",
       "    <div style=\"\n",
       "        border: 1px solid #856404;\n",
       "        background-color: rgba(255, 193, 7, 0.1);\n",
       "        color: #856404;\n",
       "        padding: 12px 18px;\n",
       "        margin: 10px 0;\n",
       "        border-radius: 5px;\n",
       "        font-family: sans-serif;\n",
       "        font-size: 14px;\n",
       "        animation: fadeIn 0.5s ease-out;\n",
       "        line-height: 1.6;\n",
       "    \">\n",
       "        <span style=\"font-weight: bold; margin-right: 8px;\">⚠️ WARNING:</span>\n",
       "        Skipped kaliua_2708.jpg: 'processed'\n",
       "    </div>\n",
       "    <style>\n",
       "        @keyframes fadeIn {\n",
       "            from { opacity: 0; transform: translateY(-10px); }\n",
       "            to { opacity: 1; transform: translateY(0); }\n",
       "        }\n",
       "    </style>\n",
       "    "
      ],
      "text/plain": [
       "<IPython.core.display.HTML object>"
      ]
     },
     "metadata": {},
     "output_type": "display_data"
    },
    {
     "data": {
      "text/html": [
       "\n",
       "    <div style=\"\n",
       "        border: 1px solid #856404;\n",
       "        background-color: rgba(255, 193, 7, 0.1);\n",
       "        color: #856404;\n",
       "        padding: 12px 18px;\n",
       "        margin: 10px 0;\n",
       "        border-radius: 5px;\n",
       "        font-family: sans-serif;\n",
       "        font-size: 14px;\n",
       "        animation: fadeIn 0.5s ease-out;\n",
       "        line-height: 1.6;\n",
       "    \">\n",
       "        <span style=\"font-weight: bold; margin-right: 8px;\">⚠️ WARNING:</span>\n",
       "        Skipped kaliua_2709.jpg: 'processed'\n",
       "    </div>\n",
       "    <style>\n",
       "        @keyframes fadeIn {\n",
       "            from { opacity: 0; transform: translateY(-10px); }\n",
       "            to { opacity: 1; transform: translateY(0); }\n",
       "        }\n",
       "    </style>\n",
       "    "
      ],
      "text/plain": [
       "<IPython.core.display.HTML object>"
      ]
     },
     "metadata": {},
     "output_type": "display_data"
    },
    {
     "data": {
      "text/html": [
       "\n",
       "    <div style=\"\n",
       "        border: 1px solid #856404;\n",
       "        background-color: rgba(255, 193, 7, 0.1);\n",
       "        color: #856404;\n",
       "        padding: 12px 18px;\n",
       "        margin: 10px 0;\n",
       "        border-radius: 5px;\n",
       "        font-family: sans-serif;\n",
       "        font-size: 14px;\n",
       "        animation: fadeIn 0.5s ease-out;\n",
       "        line-height: 1.6;\n",
       "    \">\n",
       "        <span style=\"font-weight: bold; margin-right: 8px;\">⚠️ WARNING:</span>\n",
       "        Skipped kaliua_2710.jpg: 'processed'\n",
       "    </div>\n",
       "    <style>\n",
       "        @keyframes fadeIn {\n",
       "            from { opacity: 0; transform: translateY(-10px); }\n",
       "            to { opacity: 1; transform: translateY(0); }\n",
       "        }\n",
       "    </style>\n",
       "    "
      ],
      "text/plain": [
       "<IPython.core.display.HTML object>"
      ]
     },
     "metadata": {},
     "output_type": "display_data"
    },
    {
     "data": {
      "text/html": [
       "\n",
       "    <div style=\"\n",
       "        border: 1px solid #856404;\n",
       "        background-color: rgba(255, 193, 7, 0.1);\n",
       "        color: #856404;\n",
       "        padding: 12px 18px;\n",
       "        margin: 10px 0;\n",
       "        border-radius: 5px;\n",
       "        font-family: sans-serif;\n",
       "        font-size: 14px;\n",
       "        animation: fadeIn 0.5s ease-out;\n",
       "        line-height: 1.6;\n",
       "    \">\n",
       "        <span style=\"font-weight: bold; margin-right: 8px;\">⚠️ WARNING:</span>\n",
       "        Skipped kaliua_2711.jpg: 'processed'\n",
       "    </div>\n",
       "    <style>\n",
       "        @keyframes fadeIn {\n",
       "            from { opacity: 0; transform: translateY(-10px); }\n",
       "            to { opacity: 1; transform: translateY(0); }\n",
       "        }\n",
       "    </style>\n",
       "    "
      ],
      "text/plain": [
       "<IPython.core.display.HTML object>"
      ]
     },
     "metadata": {},
     "output_type": "display_data"
    },
    {
     "data": {
      "text/html": [
       "\n",
       "    <div style=\"\n",
       "        border: 1px solid #856404;\n",
       "        background-color: rgba(255, 193, 7, 0.1);\n",
       "        color: #856404;\n",
       "        padding: 12px 18px;\n",
       "        margin: 10px 0;\n",
       "        border-radius: 5px;\n",
       "        font-family: sans-serif;\n",
       "        font-size: 14px;\n",
       "        animation: fadeIn 0.5s ease-out;\n",
       "        line-height: 1.6;\n",
       "    \">\n",
       "        <span style=\"font-weight: bold; margin-right: 8px;\">⚠️ WARNING:</span>\n",
       "        Skipped kaliua_2712.jpg: 'processed'\n",
       "    </div>\n",
       "    <style>\n",
       "        @keyframes fadeIn {\n",
       "            from { opacity: 0; transform: translateY(-10px); }\n",
       "            to { opacity: 1; transform: translateY(0); }\n",
       "        }\n",
       "    </style>\n",
       "    "
      ],
      "text/plain": [
       "<IPython.core.display.HTML object>"
      ]
     },
     "metadata": {},
     "output_type": "display_data"
    },
    {
     "data": {
      "text/html": [
       "\n",
       "    <div style=\"\n",
       "        border: 1px solid #856404;\n",
       "        background-color: rgba(255, 193, 7, 0.1);\n",
       "        color: #856404;\n",
       "        padding: 12px 18px;\n",
       "        margin: 10px 0;\n",
       "        border-radius: 5px;\n",
       "        font-family: sans-serif;\n",
       "        font-size: 14px;\n",
       "        animation: fadeIn 0.5s ease-out;\n",
       "        line-height: 1.6;\n",
       "    \">\n",
       "        <span style=\"font-weight: bold; margin-right: 8px;\">⚠️ WARNING:</span>\n",
       "        Skipped kaliua_2713.jpg: 'processed'\n",
       "    </div>\n",
       "    <style>\n",
       "        @keyframes fadeIn {\n",
       "            from { opacity: 0; transform: translateY(-10px); }\n",
       "            to { opacity: 1; transform: translateY(0); }\n",
       "        }\n",
       "    </style>\n",
       "    "
      ],
      "text/plain": [
       "<IPython.core.display.HTML object>"
      ]
     },
     "metadata": {},
     "output_type": "display_data"
    },
    {
     "data": {
      "text/html": [
       "\n",
       "    <div style=\"\n",
       "        border: 1px solid #856404;\n",
       "        background-color: rgba(255, 193, 7, 0.1);\n",
       "        color: #856404;\n",
       "        padding: 12px 18px;\n",
       "        margin: 10px 0;\n",
       "        border-radius: 5px;\n",
       "        font-family: sans-serif;\n",
       "        font-size: 14px;\n",
       "        animation: fadeIn 0.5s ease-out;\n",
       "        line-height: 1.6;\n",
       "    \">\n",
       "        <span style=\"font-weight: bold; margin-right: 8px;\">⚠️ WARNING:</span>\n",
       "        Skipped kaliua_2714.jpg: 'processed'\n",
       "    </div>\n",
       "    <style>\n",
       "        @keyframes fadeIn {\n",
       "            from { opacity: 0; transform: translateY(-10px); }\n",
       "            to { opacity: 1; transform: translateY(0); }\n",
       "        }\n",
       "    </style>\n",
       "    "
      ],
      "text/plain": [
       "<IPython.core.display.HTML object>"
      ]
     },
     "metadata": {},
     "output_type": "display_data"
    },
    {
     "data": {
      "text/html": [
       "\n",
       "    <div style=\"\n",
       "        border: 1px solid #856404;\n",
       "        background-color: rgba(255, 193, 7, 0.1);\n",
       "        color: #856404;\n",
       "        padding: 12px 18px;\n",
       "        margin: 10px 0;\n",
       "        border-radius: 5px;\n",
       "        font-family: sans-serif;\n",
       "        font-size: 14px;\n",
       "        animation: fadeIn 0.5s ease-out;\n",
       "        line-height: 1.6;\n",
       "    \">\n",
       "        <span style=\"font-weight: bold; margin-right: 8px;\">⚠️ WARNING:</span>\n",
       "        Skipped kaliua_2715.jpg: 'processed'\n",
       "    </div>\n",
       "    <style>\n",
       "        @keyframes fadeIn {\n",
       "            from { opacity: 0; transform: translateY(-10px); }\n",
       "            to { opacity: 1; transform: translateY(0); }\n",
       "        }\n",
       "    </style>\n",
       "    "
      ],
      "text/plain": [
       "<IPython.core.display.HTML object>"
      ]
     },
     "metadata": {},
     "output_type": "display_data"
    },
    {
     "data": {
      "text/html": [
       "\n",
       "    <div style=\"\n",
       "        border: 1px solid #856404;\n",
       "        background-color: rgba(255, 193, 7, 0.1);\n",
       "        color: #856404;\n",
       "        padding: 12px 18px;\n",
       "        margin: 10px 0;\n",
       "        border-radius: 5px;\n",
       "        font-family: sans-serif;\n",
       "        font-size: 14px;\n",
       "        animation: fadeIn 0.5s ease-out;\n",
       "        line-height: 1.6;\n",
       "    \">\n",
       "        <span style=\"font-weight: bold; margin-right: 8px;\">⚠️ WARNING:</span>\n",
       "        Skipped kaliua_2716.jpg: 'processed'\n",
       "    </div>\n",
       "    <style>\n",
       "        @keyframes fadeIn {\n",
       "            from { opacity: 0; transform: translateY(-10px); }\n",
       "            to { opacity: 1; transform: translateY(0); }\n",
       "        }\n",
       "    </style>\n",
       "    "
      ],
      "text/plain": [
       "<IPython.core.display.HTML object>"
      ]
     },
     "metadata": {},
     "output_type": "display_data"
    },
    {
     "data": {
      "text/html": [
       "\n",
       "    <div style=\"\n",
       "        border: 1px solid #856404;\n",
       "        background-color: rgba(255, 193, 7, 0.1);\n",
       "        color: #856404;\n",
       "        padding: 12px 18px;\n",
       "        margin: 10px 0;\n",
       "        border-radius: 5px;\n",
       "        font-family: sans-serif;\n",
       "        font-size: 14px;\n",
       "        animation: fadeIn 0.5s ease-out;\n",
       "        line-height: 1.6;\n",
       "    \">\n",
       "        <span style=\"font-weight: bold; margin-right: 8px;\">⚠️ WARNING:</span>\n",
       "        Skipped kaliua_2717.jpg: 'processed'\n",
       "    </div>\n",
       "    <style>\n",
       "        @keyframes fadeIn {\n",
       "            from { opacity: 0; transform: translateY(-10px); }\n",
       "            to { opacity: 1; transform: translateY(0); }\n",
       "        }\n",
       "    </style>\n",
       "    "
      ],
      "text/plain": [
       "<IPython.core.display.HTML object>"
      ]
     },
     "metadata": {},
     "output_type": "display_data"
    },
    {
     "data": {
      "text/html": [
       "\n",
       "    <div style=\"\n",
       "        border: 1px solid #856404;\n",
       "        background-color: rgba(255, 193, 7, 0.1);\n",
       "        color: #856404;\n",
       "        padding: 12px 18px;\n",
       "        margin: 10px 0;\n",
       "        border-radius: 5px;\n",
       "        font-family: sans-serif;\n",
       "        font-size: 14px;\n",
       "        animation: fadeIn 0.5s ease-out;\n",
       "        line-height: 1.6;\n",
       "    \">\n",
       "        <span style=\"font-weight: bold; margin-right: 8px;\">⚠️ WARNING:</span>\n",
       "        Skipped kaliua_2718.jpg: 'processed'\n",
       "    </div>\n",
       "    <style>\n",
       "        @keyframes fadeIn {\n",
       "            from { opacity: 0; transform: translateY(-10px); }\n",
       "            to { opacity: 1; transform: translateY(0); }\n",
       "        }\n",
       "    </style>\n",
       "    "
      ],
      "text/plain": [
       "<IPython.core.display.HTML object>"
      ]
     },
     "metadata": {},
     "output_type": "display_data"
    },
    {
     "data": {
      "text/html": [
       "\n",
       "    <div style=\"\n",
       "        border: 1px solid #856404;\n",
       "        background-color: rgba(255, 193, 7, 0.1);\n",
       "        color: #856404;\n",
       "        padding: 12px 18px;\n",
       "        margin: 10px 0;\n",
       "        border-radius: 5px;\n",
       "        font-family: sans-serif;\n",
       "        font-size: 14px;\n",
       "        animation: fadeIn 0.5s ease-out;\n",
       "        line-height: 1.6;\n",
       "    \">\n",
       "        <span style=\"font-weight: bold; margin-right: 8px;\">⚠️ WARNING:</span>\n",
       "        Skipped kaliua_2719.jpg: 'processed'\n",
       "    </div>\n",
       "    <style>\n",
       "        @keyframes fadeIn {\n",
       "            from { opacity: 0; transform: translateY(-10px); }\n",
       "            to { opacity: 1; transform: translateY(0); }\n",
       "        }\n",
       "    </style>\n",
       "    "
      ],
      "text/plain": [
       "<IPython.core.display.HTML object>"
      ]
     },
     "metadata": {},
     "output_type": "display_data"
    },
    {
     "data": {
      "text/html": [
       "\n",
       "    <div style=\"\n",
       "        border: 1px solid #856404;\n",
       "        background-color: rgba(255, 193, 7, 0.1);\n",
       "        color: #856404;\n",
       "        padding: 12px 18px;\n",
       "        margin: 10px 0;\n",
       "        border-radius: 5px;\n",
       "        font-family: sans-serif;\n",
       "        font-size: 14px;\n",
       "        animation: fadeIn 0.5s ease-out;\n",
       "        line-height: 1.6;\n",
       "    \">\n",
       "        <span style=\"font-weight: bold; margin-right: 8px;\">⚠️ WARNING:</span>\n",
       "        Skipped kaliua_2720.jpg: 'processed'\n",
       "    </div>\n",
       "    <style>\n",
       "        @keyframes fadeIn {\n",
       "            from { opacity: 0; transform: translateY(-10px); }\n",
       "            to { opacity: 1; transform: translateY(0); }\n",
       "        }\n",
       "    </style>\n",
       "    "
      ],
      "text/plain": [
       "<IPython.core.display.HTML object>"
      ]
     },
     "metadata": {},
     "output_type": "display_data"
    },
    {
     "data": {
      "text/html": [
       "\n",
       "    <div style=\"\n",
       "        border: 1px solid #856404;\n",
       "        background-color: rgba(255, 193, 7, 0.1);\n",
       "        color: #856404;\n",
       "        padding: 12px 18px;\n",
       "        margin: 10px 0;\n",
       "        border-radius: 5px;\n",
       "        font-family: sans-serif;\n",
       "        font-size: 14px;\n",
       "        animation: fadeIn 0.5s ease-out;\n",
       "        line-height: 1.6;\n",
       "    \">\n",
       "        <span style=\"font-weight: bold; margin-right: 8px;\">⚠️ WARNING:</span>\n",
       "        Skipped kaliua_2721.jpg: 'processed'\n",
       "    </div>\n",
       "    <style>\n",
       "        @keyframes fadeIn {\n",
       "            from { opacity: 0; transform: translateY(-10px); }\n",
       "            to { opacity: 1; transform: translateY(0); }\n",
       "        }\n",
       "    </style>\n",
       "    "
      ],
      "text/plain": [
       "<IPython.core.display.HTML object>"
      ]
     },
     "metadata": {},
     "output_type": "display_data"
    },
    {
     "data": {
      "text/html": [
       "\n",
       "    <div style=\"\n",
       "        border: 1px solid #856404;\n",
       "        background-color: rgba(255, 193, 7, 0.1);\n",
       "        color: #856404;\n",
       "        padding: 12px 18px;\n",
       "        margin: 10px 0;\n",
       "        border-radius: 5px;\n",
       "        font-family: sans-serif;\n",
       "        font-size: 14px;\n",
       "        animation: fadeIn 0.5s ease-out;\n",
       "        line-height: 1.6;\n",
       "    \">\n",
       "        <span style=\"font-weight: bold; margin-right: 8px;\">⚠️ WARNING:</span>\n",
       "        Skipped kaliua_2722.jpg: 'processed'\n",
       "    </div>\n",
       "    <style>\n",
       "        @keyframes fadeIn {\n",
       "            from { opacity: 0; transform: translateY(-10px); }\n",
       "            to { opacity: 1; transform: translateY(0); }\n",
       "        }\n",
       "    </style>\n",
       "    "
      ],
      "text/plain": [
       "<IPython.core.display.HTML object>"
      ]
     },
     "metadata": {},
     "output_type": "display_data"
    },
    {
     "data": {
      "text/html": [
       "\n",
       "    <div style=\"\n",
       "        border: 1px solid #856404;\n",
       "        background-color: rgba(255, 193, 7, 0.1);\n",
       "        color: #856404;\n",
       "        padding: 12px 18px;\n",
       "        margin: 10px 0;\n",
       "        border-radius: 5px;\n",
       "        font-family: sans-serif;\n",
       "        font-size: 14px;\n",
       "        animation: fadeIn 0.5s ease-out;\n",
       "        line-height: 1.6;\n",
       "    \">\n",
       "        <span style=\"font-weight: bold; margin-right: 8px;\">⚠️ WARNING:</span>\n",
       "        Skipped kaliua_2723.jpg: 'processed'\n",
       "    </div>\n",
       "    <style>\n",
       "        @keyframes fadeIn {\n",
       "            from { opacity: 0; transform: translateY(-10px); }\n",
       "            to { opacity: 1; transform: translateY(0); }\n",
       "        }\n",
       "    </style>\n",
       "    "
      ],
      "text/plain": [
       "<IPython.core.display.HTML object>"
      ]
     },
     "metadata": {},
     "output_type": "display_data"
    },
    {
     "data": {
      "text/html": [
       "\n",
       "    <div style=\"\n",
       "        border: 1px solid #856404;\n",
       "        background-color: rgba(255, 193, 7, 0.1);\n",
       "        color: #856404;\n",
       "        padding: 12px 18px;\n",
       "        margin: 10px 0;\n",
       "        border-radius: 5px;\n",
       "        font-family: sans-serif;\n",
       "        font-size: 14px;\n",
       "        animation: fadeIn 0.5s ease-out;\n",
       "        line-height: 1.6;\n",
       "    \">\n",
       "        <span style=\"font-weight: bold; margin-right: 8px;\">⚠️ WARNING:</span>\n",
       "        Skipped kaliua_2724.jpg: 'processed'\n",
       "    </div>\n",
       "    <style>\n",
       "        @keyframes fadeIn {\n",
       "            from { opacity: 0; transform: translateY(-10px); }\n",
       "            to { opacity: 1; transform: translateY(0); }\n",
       "        }\n",
       "    </style>\n",
       "    "
      ],
      "text/plain": [
       "<IPython.core.display.HTML object>"
      ]
     },
     "metadata": {},
     "output_type": "display_data"
    },
    {
     "data": {
      "text/html": [
       "\n",
       "    <div style=\"\n",
       "        border: 1px solid #856404;\n",
       "        background-color: rgba(255, 193, 7, 0.1);\n",
       "        color: #856404;\n",
       "        padding: 12px 18px;\n",
       "        margin: 10px 0;\n",
       "        border-radius: 5px;\n",
       "        font-family: sans-serif;\n",
       "        font-size: 14px;\n",
       "        animation: fadeIn 0.5s ease-out;\n",
       "        line-height: 1.6;\n",
       "    \">\n",
       "        <span style=\"font-weight: bold; margin-right: 8px;\">⚠️ WARNING:</span>\n",
       "        Skipped kaliua_2725.jpg: 'processed'\n",
       "    </div>\n",
       "    <style>\n",
       "        @keyframes fadeIn {\n",
       "            from { opacity: 0; transform: translateY(-10px); }\n",
       "            to { opacity: 1; transform: translateY(0); }\n",
       "        }\n",
       "    </style>\n",
       "    "
      ],
      "text/plain": [
       "<IPython.core.display.HTML object>"
      ]
     },
     "metadata": {},
     "output_type": "display_data"
    },
    {
     "data": {
      "text/html": [
       "\n",
       "    <div style=\"\n",
       "        border: 1px solid #856404;\n",
       "        background-color: rgba(255, 193, 7, 0.1);\n",
       "        color: #856404;\n",
       "        padding: 12px 18px;\n",
       "        margin: 10px 0;\n",
       "        border-radius: 5px;\n",
       "        font-family: sans-serif;\n",
       "        font-size: 14px;\n",
       "        animation: fadeIn 0.5s ease-out;\n",
       "        line-height: 1.6;\n",
       "    \">\n",
       "        <span style=\"font-weight: bold; margin-right: 8px;\">⚠️ WARNING:</span>\n",
       "        Skipped kaliua_2726.jpg: 'processed'\n",
       "    </div>\n",
       "    <style>\n",
       "        @keyframes fadeIn {\n",
       "            from { opacity: 0; transform: translateY(-10px); }\n",
       "            to { opacity: 1; transform: translateY(0); }\n",
       "        }\n",
       "    </style>\n",
       "    "
      ],
      "text/plain": [
       "<IPython.core.display.HTML object>"
      ]
     },
     "metadata": {},
     "output_type": "display_data"
    },
    {
     "data": {
      "text/html": [
       "\n",
       "    <div style=\"\n",
       "        border: 1px solid #856404;\n",
       "        background-color: rgba(255, 193, 7, 0.1);\n",
       "        color: #856404;\n",
       "        padding: 12px 18px;\n",
       "        margin: 10px 0;\n",
       "        border-radius: 5px;\n",
       "        font-family: sans-serif;\n",
       "        font-size: 14px;\n",
       "        animation: fadeIn 0.5s ease-out;\n",
       "        line-height: 1.6;\n",
       "    \">\n",
       "        <span style=\"font-weight: bold; margin-right: 8px;\">⚠️ WARNING:</span>\n",
       "        Skipped kaliua_2727.jpg: 'processed'\n",
       "    </div>\n",
       "    <style>\n",
       "        @keyframes fadeIn {\n",
       "            from { opacity: 0; transform: translateY(-10px); }\n",
       "            to { opacity: 1; transform: translateY(0); }\n",
       "        }\n",
       "    </style>\n",
       "    "
      ],
      "text/plain": [
       "<IPython.core.display.HTML object>"
      ]
     },
     "metadata": {},
     "output_type": "display_data"
    },
    {
     "data": {
      "text/html": [
       "\n",
       "    <div style=\"\n",
       "        border: 1px solid #856404;\n",
       "        background-color: rgba(255, 193, 7, 0.1);\n",
       "        color: #856404;\n",
       "        padding: 12px 18px;\n",
       "        margin: 10px 0;\n",
       "        border-radius: 5px;\n",
       "        font-family: sans-serif;\n",
       "        font-size: 14px;\n",
       "        animation: fadeIn 0.5s ease-out;\n",
       "        line-height: 1.6;\n",
       "    \">\n",
       "        <span style=\"font-weight: bold; margin-right: 8px;\">⚠️ WARNING:</span>\n",
       "        Skipped kaliua_2728.jpg: 'processed'\n",
       "    </div>\n",
       "    <style>\n",
       "        @keyframes fadeIn {\n",
       "            from { opacity: 0; transform: translateY(-10px); }\n",
       "            to { opacity: 1; transform: translateY(0); }\n",
       "        }\n",
       "    </style>\n",
       "    "
      ],
      "text/plain": [
       "<IPython.core.display.HTML object>"
      ]
     },
     "metadata": {},
     "output_type": "display_data"
    },
    {
     "data": {
      "text/html": [
       "\n",
       "    <div style=\"\n",
       "        border: 1px solid #856404;\n",
       "        background-color: rgba(255, 193, 7, 0.1);\n",
       "        color: #856404;\n",
       "        padding: 12px 18px;\n",
       "        margin: 10px 0;\n",
       "        border-radius: 5px;\n",
       "        font-family: sans-serif;\n",
       "        font-size: 14px;\n",
       "        animation: fadeIn 0.5s ease-out;\n",
       "        line-height: 1.6;\n",
       "    \">\n",
       "        <span style=\"font-weight: bold; margin-right: 8px;\">⚠️ WARNING:</span>\n",
       "        Skipped kaliua_2729.jpg: 'processed'\n",
       "    </div>\n",
       "    <style>\n",
       "        @keyframes fadeIn {\n",
       "            from { opacity: 0; transform: translateY(-10px); }\n",
       "            to { opacity: 1; transform: translateY(0); }\n",
       "        }\n",
       "    </style>\n",
       "    "
      ],
      "text/plain": [
       "<IPython.core.display.HTML object>"
      ]
     },
     "metadata": {},
     "output_type": "display_data"
    },
    {
     "data": {
      "text/html": [
       "\n",
       "    <div style=\"\n",
       "        border: 1px solid #856404;\n",
       "        background-color: rgba(255, 193, 7, 0.1);\n",
       "        color: #856404;\n",
       "        padding: 12px 18px;\n",
       "        margin: 10px 0;\n",
       "        border-radius: 5px;\n",
       "        font-family: sans-serif;\n",
       "        font-size: 14px;\n",
       "        animation: fadeIn 0.5s ease-out;\n",
       "        line-height: 1.6;\n",
       "    \">\n",
       "        <span style=\"font-weight: bold; margin-right: 8px;\">⚠️ WARNING:</span>\n",
       "        Skipped kaliua_2730.jpg: 'processed'\n",
       "    </div>\n",
       "    <style>\n",
       "        @keyframes fadeIn {\n",
       "            from { opacity: 0; transform: translateY(-10px); }\n",
       "            to { opacity: 1; transform: translateY(0); }\n",
       "        }\n",
       "    </style>\n",
       "    "
      ],
      "text/plain": [
       "<IPython.core.display.HTML object>"
      ]
     },
     "metadata": {},
     "output_type": "display_data"
    },
    {
     "data": {
      "text/html": [
       "\n",
       "    <div style=\"\n",
       "        border: 1px solid #856404;\n",
       "        background-color: rgba(255, 193, 7, 0.1);\n",
       "        color: #856404;\n",
       "        padding: 12px 18px;\n",
       "        margin: 10px 0;\n",
       "        border-radius: 5px;\n",
       "        font-family: sans-serif;\n",
       "        font-size: 14px;\n",
       "        animation: fadeIn 0.5s ease-out;\n",
       "        line-height: 1.6;\n",
       "    \">\n",
       "        <span style=\"font-weight: bold; margin-right: 8px;\">⚠️ WARNING:</span>\n",
       "        Skipped kaliua_2731.jpg: 'processed'\n",
       "    </div>\n",
       "    <style>\n",
       "        @keyframes fadeIn {\n",
       "            from { opacity: 0; transform: translateY(-10px); }\n",
       "            to { opacity: 1; transform: translateY(0); }\n",
       "        }\n",
       "    </style>\n",
       "    "
      ],
      "text/plain": [
       "<IPython.core.display.HTML object>"
      ]
     },
     "metadata": {},
     "output_type": "display_data"
    },
    {
     "data": {
      "text/html": [
       "\n",
       "    <div style=\"\n",
       "        border: 1px solid #856404;\n",
       "        background-color: rgba(255, 193, 7, 0.1);\n",
       "        color: #856404;\n",
       "        padding: 12px 18px;\n",
       "        margin: 10px 0;\n",
       "        border-radius: 5px;\n",
       "        font-family: sans-serif;\n",
       "        font-size: 14px;\n",
       "        animation: fadeIn 0.5s ease-out;\n",
       "        line-height: 1.6;\n",
       "    \">\n",
       "        <span style=\"font-weight: bold; margin-right: 8px;\">⚠️ WARNING:</span>\n",
       "        Skipped kaliua_2732.jpg: 'processed'\n",
       "    </div>\n",
       "    <style>\n",
       "        @keyframes fadeIn {\n",
       "            from { opacity: 0; transform: translateY(-10px); }\n",
       "            to { opacity: 1; transform: translateY(0); }\n",
       "        }\n",
       "    </style>\n",
       "    "
      ],
      "text/plain": [
       "<IPython.core.display.HTML object>"
      ]
     },
     "metadata": {},
     "output_type": "display_data"
    },
    {
     "data": {
      "text/html": [
       "\n",
       "    <div style=\"\n",
       "        border: 1px solid #856404;\n",
       "        background-color: rgba(255, 193, 7, 0.1);\n",
       "        color: #856404;\n",
       "        padding: 12px 18px;\n",
       "        margin: 10px 0;\n",
       "        border-radius: 5px;\n",
       "        font-family: sans-serif;\n",
       "        font-size: 14px;\n",
       "        animation: fadeIn 0.5s ease-out;\n",
       "        line-height: 1.6;\n",
       "    \">\n",
       "        <span style=\"font-weight: bold; margin-right: 8px;\">⚠️ WARNING:</span>\n",
       "        Skipped kaliua_2733.jpg: 'processed'\n",
       "    </div>\n",
       "    <style>\n",
       "        @keyframes fadeIn {\n",
       "            from { opacity: 0; transform: translateY(-10px); }\n",
       "            to { opacity: 1; transform: translateY(0); }\n",
       "        }\n",
       "    </style>\n",
       "    "
      ],
      "text/plain": [
       "<IPython.core.display.HTML object>"
      ]
     },
     "metadata": {},
     "output_type": "display_data"
    },
    {
     "data": {
      "text/html": [
       "\n",
       "    <div style=\"\n",
       "        border: 1px solid #856404;\n",
       "        background-color: rgba(255, 193, 7, 0.1);\n",
       "        color: #856404;\n",
       "        padding: 12px 18px;\n",
       "        margin: 10px 0;\n",
       "        border-radius: 5px;\n",
       "        font-family: sans-serif;\n",
       "        font-size: 14px;\n",
       "        animation: fadeIn 0.5s ease-out;\n",
       "        line-height: 1.6;\n",
       "    \">\n",
       "        <span style=\"font-weight: bold; margin-right: 8px;\">⚠️ WARNING:</span>\n",
       "        Skipped kaliua_2734.jpg: 'processed'\n",
       "    </div>\n",
       "    <style>\n",
       "        @keyframes fadeIn {\n",
       "            from { opacity: 0; transform: translateY(-10px); }\n",
       "            to { opacity: 1; transform: translateY(0); }\n",
       "        }\n",
       "    </style>\n",
       "    "
      ],
      "text/plain": [
       "<IPython.core.display.HTML object>"
      ]
     },
     "metadata": {},
     "output_type": "display_data"
    },
    {
     "data": {
      "text/html": [
       "\n",
       "    <div style=\"\n",
       "        border: 1px solid #856404;\n",
       "        background-color: rgba(255, 193, 7, 0.1);\n",
       "        color: #856404;\n",
       "        padding: 12px 18px;\n",
       "        margin: 10px 0;\n",
       "        border-radius: 5px;\n",
       "        font-family: sans-serif;\n",
       "        font-size: 14px;\n",
       "        animation: fadeIn 0.5s ease-out;\n",
       "        line-height: 1.6;\n",
       "    \">\n",
       "        <span style=\"font-weight: bold; margin-right: 8px;\">⚠️ WARNING:</span>\n",
       "        Skipped kaliua_2735.jpg: 'processed'\n",
       "    </div>\n",
       "    <style>\n",
       "        @keyframes fadeIn {\n",
       "            from { opacity: 0; transform: translateY(-10px); }\n",
       "            to { opacity: 1; transform: translateY(0); }\n",
       "        }\n",
       "    </style>\n",
       "    "
      ],
      "text/plain": [
       "<IPython.core.display.HTML object>"
      ]
     },
     "metadata": {},
     "output_type": "display_data"
    },
    {
     "data": {
      "text/html": [
       "\n",
       "    <div style=\"\n",
       "        border: 1px solid #856404;\n",
       "        background-color: rgba(255, 193, 7, 0.1);\n",
       "        color: #856404;\n",
       "        padding: 12px 18px;\n",
       "        margin: 10px 0;\n",
       "        border-radius: 5px;\n",
       "        font-family: sans-serif;\n",
       "        font-size: 14px;\n",
       "        animation: fadeIn 0.5s ease-out;\n",
       "        line-height: 1.6;\n",
       "    \">\n",
       "        <span style=\"font-weight: bold; margin-right: 8px;\">⚠️ WARNING:</span>\n",
       "        Skipped kaliua_2736.jpg: 'processed'\n",
       "    </div>\n",
       "    <style>\n",
       "        @keyframes fadeIn {\n",
       "            from { opacity: 0; transform: translateY(-10px); }\n",
       "            to { opacity: 1; transform: translateY(0); }\n",
       "        }\n",
       "    </style>\n",
       "    "
      ],
      "text/plain": [
       "<IPython.core.display.HTML object>"
      ]
     },
     "metadata": {},
     "output_type": "display_data"
    },
    {
     "data": {
      "text/html": [
       "\n",
       "    <div style=\"\n",
       "        border: 1px solid #856404;\n",
       "        background-color: rgba(255, 193, 7, 0.1);\n",
       "        color: #856404;\n",
       "        padding: 12px 18px;\n",
       "        margin: 10px 0;\n",
       "        border-radius: 5px;\n",
       "        font-family: sans-serif;\n",
       "        font-size: 14px;\n",
       "        animation: fadeIn 0.5s ease-out;\n",
       "        line-height: 1.6;\n",
       "    \">\n",
       "        <span style=\"font-weight: bold; margin-right: 8px;\">⚠️ WARNING:</span>\n",
       "        Skipped kaliua_2737.jpg: 'processed'\n",
       "    </div>\n",
       "    <style>\n",
       "        @keyframes fadeIn {\n",
       "            from { opacity: 0; transform: translateY(-10px); }\n",
       "            to { opacity: 1; transform: translateY(0); }\n",
       "        }\n",
       "    </style>\n",
       "    "
      ],
      "text/plain": [
       "<IPython.core.display.HTML object>"
      ]
     },
     "metadata": {},
     "output_type": "display_data"
    },
    {
     "data": {
      "text/html": [
       "\n",
       "    <div style=\"\n",
       "        border: 1px solid #856404;\n",
       "        background-color: rgba(255, 193, 7, 0.1);\n",
       "        color: #856404;\n",
       "        padding: 12px 18px;\n",
       "        margin: 10px 0;\n",
       "        border-radius: 5px;\n",
       "        font-family: sans-serif;\n",
       "        font-size: 14px;\n",
       "        animation: fadeIn 0.5s ease-out;\n",
       "        line-height: 1.6;\n",
       "    \">\n",
       "        <span style=\"font-weight: bold; margin-right: 8px;\">⚠️ WARNING:</span>\n",
       "        Skipped kaliua_2738.jpg: 'processed'\n",
       "    </div>\n",
       "    <style>\n",
       "        @keyframes fadeIn {\n",
       "            from { opacity: 0; transform: translateY(-10px); }\n",
       "            to { opacity: 1; transform: translateY(0); }\n",
       "        }\n",
       "    </style>\n",
       "    "
      ],
      "text/plain": [
       "<IPython.core.display.HTML object>"
      ]
     },
     "metadata": {},
     "output_type": "display_data"
    },
    {
     "data": {
      "text/html": [
       "\n",
       "    <div style=\"\n",
       "        border: 1px solid #856404;\n",
       "        background-color: rgba(255, 193, 7, 0.1);\n",
       "        color: #856404;\n",
       "        padding: 12px 18px;\n",
       "        margin: 10px 0;\n",
       "        border-radius: 5px;\n",
       "        font-family: sans-serif;\n",
       "        font-size: 14px;\n",
       "        animation: fadeIn 0.5s ease-out;\n",
       "        line-height: 1.6;\n",
       "    \">\n",
       "        <span style=\"font-weight: bold; margin-right: 8px;\">⚠️ WARNING:</span>\n",
       "        Skipped kaliua_2739.jpg: 'processed'\n",
       "    </div>\n",
       "    <style>\n",
       "        @keyframes fadeIn {\n",
       "            from { opacity: 0; transform: translateY(-10px); }\n",
       "            to { opacity: 1; transform: translateY(0); }\n",
       "        }\n",
       "    </style>\n",
       "    "
      ],
      "text/plain": [
       "<IPython.core.display.HTML object>"
      ]
     },
     "metadata": {},
     "output_type": "display_data"
    },
    {
     "data": {
      "text/html": [
       "\n",
       "    <div style=\"\n",
       "        border: 1px solid #856404;\n",
       "        background-color: rgba(255, 193, 7, 0.1);\n",
       "        color: #856404;\n",
       "        padding: 12px 18px;\n",
       "        margin: 10px 0;\n",
       "        border-radius: 5px;\n",
       "        font-family: sans-serif;\n",
       "        font-size: 14px;\n",
       "        animation: fadeIn 0.5s ease-out;\n",
       "        line-height: 1.6;\n",
       "    \">\n",
       "        <span style=\"font-weight: bold; margin-right: 8px;\">⚠️ WARNING:</span>\n",
       "        Skipped kaliua_2740.jpg: 'processed'\n",
       "    </div>\n",
       "    <style>\n",
       "        @keyframes fadeIn {\n",
       "            from { opacity: 0; transform: translateY(-10px); }\n",
       "            to { opacity: 1; transform: translateY(0); }\n",
       "        }\n",
       "    </style>\n",
       "    "
      ],
      "text/plain": [
       "<IPython.core.display.HTML object>"
      ]
     },
     "metadata": {},
     "output_type": "display_data"
    },
    {
     "data": {
      "text/html": [
       "\n",
       "    <div style=\"\n",
       "        border: 1px solid #856404;\n",
       "        background-color: rgba(255, 193, 7, 0.1);\n",
       "        color: #856404;\n",
       "        padding: 12px 18px;\n",
       "        margin: 10px 0;\n",
       "        border-radius: 5px;\n",
       "        font-family: sans-serif;\n",
       "        font-size: 14px;\n",
       "        animation: fadeIn 0.5s ease-out;\n",
       "        line-height: 1.6;\n",
       "    \">\n",
       "        <span style=\"font-weight: bold; margin-right: 8px;\">⚠️ WARNING:</span>\n",
       "        Skipped kaliua_2741.jpg: 'processed'\n",
       "    </div>\n",
       "    <style>\n",
       "        @keyframes fadeIn {\n",
       "            from { opacity: 0; transform: translateY(-10px); }\n",
       "            to { opacity: 1; transform: translateY(0); }\n",
       "        }\n",
       "    </style>\n",
       "    "
      ],
      "text/plain": [
       "<IPython.core.display.HTML object>"
      ]
     },
     "metadata": {},
     "output_type": "display_data"
    },
    {
     "data": {
      "text/html": [
       "\n",
       "    <div style=\"\n",
       "        border: 1px solid #856404;\n",
       "        background-color: rgba(255, 193, 7, 0.1);\n",
       "        color: #856404;\n",
       "        padding: 12px 18px;\n",
       "        margin: 10px 0;\n",
       "        border-radius: 5px;\n",
       "        font-family: sans-serif;\n",
       "        font-size: 14px;\n",
       "        animation: fadeIn 0.5s ease-out;\n",
       "        line-height: 1.6;\n",
       "    \">\n",
       "        <span style=\"font-weight: bold; margin-right: 8px;\">⚠️ WARNING:</span>\n",
       "        Skipped kaliua_2742.jpg: 'processed'\n",
       "    </div>\n",
       "    <style>\n",
       "        @keyframes fadeIn {\n",
       "            from { opacity: 0; transform: translateY(-10px); }\n",
       "            to { opacity: 1; transform: translateY(0); }\n",
       "        }\n",
       "    </style>\n",
       "    "
      ],
      "text/plain": [
       "<IPython.core.display.HTML object>"
      ]
     },
     "metadata": {},
     "output_type": "display_data"
    },
    {
     "data": {
      "text/html": [
       "\n",
       "    <div style=\"\n",
       "        border: 1px solid #856404;\n",
       "        background-color: rgba(255, 193, 7, 0.1);\n",
       "        color: #856404;\n",
       "        padding: 12px 18px;\n",
       "        margin: 10px 0;\n",
       "        border-radius: 5px;\n",
       "        font-family: sans-serif;\n",
       "        font-size: 14px;\n",
       "        animation: fadeIn 0.5s ease-out;\n",
       "        line-height: 1.6;\n",
       "    \">\n",
       "        <span style=\"font-weight: bold; margin-right: 8px;\">⚠️ WARNING:</span>\n",
       "        Skipped kaliua_2743.jpg: 'processed'\n",
       "    </div>\n",
       "    <style>\n",
       "        @keyframes fadeIn {\n",
       "            from { opacity: 0; transform: translateY(-10px); }\n",
       "            to { opacity: 1; transform: translateY(0); }\n",
       "        }\n",
       "    </style>\n",
       "    "
      ],
      "text/plain": [
       "<IPython.core.display.HTML object>"
      ]
     },
     "metadata": {},
     "output_type": "display_data"
    },
    {
     "data": {
      "text/html": [
       "\n",
       "    <div style=\"\n",
       "        border: 1px solid #856404;\n",
       "        background-color: rgba(255, 193, 7, 0.1);\n",
       "        color: #856404;\n",
       "        padding: 12px 18px;\n",
       "        margin: 10px 0;\n",
       "        border-radius: 5px;\n",
       "        font-family: sans-serif;\n",
       "        font-size: 14px;\n",
       "        animation: fadeIn 0.5s ease-out;\n",
       "        line-height: 1.6;\n",
       "    \">\n",
       "        <span style=\"font-weight: bold; margin-right: 8px;\">⚠️ WARNING:</span>\n",
       "        Skipped kaliua_2744.jpg: 'processed'\n",
       "    </div>\n",
       "    <style>\n",
       "        @keyframes fadeIn {\n",
       "            from { opacity: 0; transform: translateY(-10px); }\n",
       "            to { opacity: 1; transform: translateY(0); }\n",
       "        }\n",
       "    </style>\n",
       "    "
      ],
      "text/plain": [
       "<IPython.core.display.HTML object>"
      ]
     },
     "metadata": {},
     "output_type": "display_data"
    },
    {
     "data": {
      "text/html": [
       "\n",
       "    <div style=\"\n",
       "        border: 1px solid #856404;\n",
       "        background-color: rgba(255, 193, 7, 0.1);\n",
       "        color: #856404;\n",
       "        padding: 12px 18px;\n",
       "        margin: 10px 0;\n",
       "        border-radius: 5px;\n",
       "        font-family: sans-serif;\n",
       "        font-size: 14px;\n",
       "        animation: fadeIn 0.5s ease-out;\n",
       "        line-height: 1.6;\n",
       "    \">\n",
       "        <span style=\"font-weight: bold; margin-right: 8px;\">⚠️ WARNING:</span>\n",
       "        Skipped kaliua_2745.jpg: 'processed'\n",
       "    </div>\n",
       "    <style>\n",
       "        @keyframes fadeIn {\n",
       "            from { opacity: 0; transform: translateY(-10px); }\n",
       "            to { opacity: 1; transform: translateY(0); }\n",
       "        }\n",
       "    </style>\n",
       "    "
      ],
      "text/plain": [
       "<IPython.core.display.HTML object>"
      ]
     },
     "metadata": {},
     "output_type": "display_data"
    },
    {
     "data": {
      "text/html": [
       "\n",
       "    <div style=\"\n",
       "        border: 1px solid #856404;\n",
       "        background-color: rgba(255, 193, 7, 0.1);\n",
       "        color: #856404;\n",
       "        padding: 12px 18px;\n",
       "        margin: 10px 0;\n",
       "        border-radius: 5px;\n",
       "        font-family: sans-serif;\n",
       "        font-size: 14px;\n",
       "        animation: fadeIn 0.5s ease-out;\n",
       "        line-height: 1.6;\n",
       "    \">\n",
       "        <span style=\"font-weight: bold; margin-right: 8px;\">⚠️ WARNING:</span>\n",
       "        Skipped kaliua_2746.jpg: 'processed'\n",
       "    </div>\n",
       "    <style>\n",
       "        @keyframes fadeIn {\n",
       "            from { opacity: 0; transform: translateY(-10px); }\n",
       "            to { opacity: 1; transform: translateY(0); }\n",
       "        }\n",
       "    </style>\n",
       "    "
      ],
      "text/plain": [
       "<IPython.core.display.HTML object>"
      ]
     },
     "metadata": {},
     "output_type": "display_data"
    },
    {
     "data": {
      "text/html": [
       "\n",
       "    <div style=\"\n",
       "        border: 1px solid #856404;\n",
       "        background-color: rgba(255, 193, 7, 0.1);\n",
       "        color: #856404;\n",
       "        padding: 12px 18px;\n",
       "        margin: 10px 0;\n",
       "        border-radius: 5px;\n",
       "        font-family: sans-serif;\n",
       "        font-size: 14px;\n",
       "        animation: fadeIn 0.5s ease-out;\n",
       "        line-height: 1.6;\n",
       "    \">\n",
       "        <span style=\"font-weight: bold; margin-right: 8px;\">⚠️ WARNING:</span>\n",
       "        Skipped kaliua_2747.jpg: 'processed'\n",
       "    </div>\n",
       "    <style>\n",
       "        @keyframes fadeIn {\n",
       "            from { opacity: 0; transform: translateY(-10px); }\n",
       "            to { opacity: 1; transform: translateY(0); }\n",
       "        }\n",
       "    </style>\n",
       "    "
      ],
      "text/plain": [
       "<IPython.core.display.HTML object>"
      ]
     },
     "metadata": {},
     "output_type": "display_data"
    },
    {
     "data": {
      "text/html": [
       "\n",
       "    <div style=\"\n",
       "        border: 1px solid #856404;\n",
       "        background-color: rgba(255, 193, 7, 0.1);\n",
       "        color: #856404;\n",
       "        padding: 12px 18px;\n",
       "        margin: 10px 0;\n",
       "        border-radius: 5px;\n",
       "        font-family: sans-serif;\n",
       "        font-size: 14px;\n",
       "        animation: fadeIn 0.5s ease-out;\n",
       "        line-height: 1.6;\n",
       "    \">\n",
       "        <span style=\"font-weight: bold; margin-right: 8px;\">⚠️ WARNING:</span>\n",
       "        Skipped kaliua_2748.jpg: 'processed'\n",
       "    </div>\n",
       "    <style>\n",
       "        @keyframes fadeIn {\n",
       "            from { opacity: 0; transform: translateY(-10px); }\n",
       "            to { opacity: 1; transform: translateY(0); }\n",
       "        }\n",
       "    </style>\n",
       "    "
      ],
      "text/plain": [
       "<IPython.core.display.HTML object>"
      ]
     },
     "metadata": {},
     "output_type": "display_data"
    },
    {
     "data": {
      "text/html": [
       "\n",
       "    <div style=\"\n",
       "        border: 1px solid #856404;\n",
       "        background-color: rgba(255, 193, 7, 0.1);\n",
       "        color: #856404;\n",
       "        padding: 12px 18px;\n",
       "        margin: 10px 0;\n",
       "        border-radius: 5px;\n",
       "        font-family: sans-serif;\n",
       "        font-size: 14px;\n",
       "        animation: fadeIn 0.5s ease-out;\n",
       "        line-height: 1.6;\n",
       "    \">\n",
       "        <span style=\"font-weight: bold; margin-right: 8px;\">⚠️ WARNING:</span>\n",
       "        Skipped kaliua_2749.jpg: 'processed'\n",
       "    </div>\n",
       "    <style>\n",
       "        @keyframes fadeIn {\n",
       "            from { opacity: 0; transform: translateY(-10px); }\n",
       "            to { opacity: 1; transform: translateY(0); }\n",
       "        }\n",
       "    </style>\n",
       "    "
      ],
      "text/plain": [
       "<IPython.core.display.HTML object>"
      ]
     },
     "metadata": {},
     "output_type": "display_data"
    },
    {
     "data": {
      "text/html": [
       "\n",
       "    <div style=\"\n",
       "        border: 1px solid #856404;\n",
       "        background-color: rgba(255, 193, 7, 0.1);\n",
       "        color: #856404;\n",
       "        padding: 12px 18px;\n",
       "        margin: 10px 0;\n",
       "        border-radius: 5px;\n",
       "        font-family: sans-serif;\n",
       "        font-size: 14px;\n",
       "        animation: fadeIn 0.5s ease-out;\n",
       "        line-height: 1.6;\n",
       "    \">\n",
       "        <span style=\"font-weight: bold; margin-right: 8px;\">⚠️ WARNING:</span>\n",
       "        Skipped kaliua_2750.jpg: 'processed'\n",
       "    </div>\n",
       "    <style>\n",
       "        @keyframes fadeIn {\n",
       "            from { opacity: 0; transform: translateY(-10px); }\n",
       "            to { opacity: 1; transform: translateY(0); }\n",
       "        }\n",
       "    </style>\n",
       "    "
      ],
      "text/plain": [
       "<IPython.core.display.HTML object>"
      ]
     },
     "metadata": {},
     "output_type": "display_data"
    },
    {
     "data": {
      "text/html": [
       "\n",
       "    <div style=\"\n",
       "        border: 1px solid #856404;\n",
       "        background-color: rgba(255, 193, 7, 0.1);\n",
       "        color: #856404;\n",
       "        padding: 12px 18px;\n",
       "        margin: 10px 0;\n",
       "        border-radius: 5px;\n",
       "        font-family: sans-serif;\n",
       "        font-size: 14px;\n",
       "        animation: fadeIn 0.5s ease-out;\n",
       "        line-height: 1.6;\n",
       "    \">\n",
       "        <span style=\"font-weight: bold; margin-right: 8px;\">⚠️ WARNING:</span>\n",
       "        Skipped kaliua_2751.jpg: 'processed'\n",
       "    </div>\n",
       "    <style>\n",
       "        @keyframes fadeIn {\n",
       "            from { opacity: 0; transform: translateY(-10px); }\n",
       "            to { opacity: 1; transform: translateY(0); }\n",
       "        }\n",
       "    </style>\n",
       "    "
      ],
      "text/plain": [
       "<IPython.core.display.HTML object>"
      ]
     },
     "metadata": {},
     "output_type": "display_data"
    },
    {
     "data": {
      "text/html": [
       "\n",
       "    <div style=\"\n",
       "        border: 1px solid #856404;\n",
       "        background-color: rgba(255, 193, 7, 0.1);\n",
       "        color: #856404;\n",
       "        padding: 12px 18px;\n",
       "        margin: 10px 0;\n",
       "        border-radius: 5px;\n",
       "        font-family: sans-serif;\n",
       "        font-size: 14px;\n",
       "        animation: fadeIn 0.5s ease-out;\n",
       "        line-height: 1.6;\n",
       "    \">\n",
       "        <span style=\"font-weight: bold; margin-right: 8px;\">⚠️ WARNING:</span>\n",
       "        Skipped kaliua_2752.jpg: 'processed'\n",
       "    </div>\n",
       "    <style>\n",
       "        @keyframes fadeIn {\n",
       "            from { opacity: 0; transform: translateY(-10px); }\n",
       "            to { opacity: 1; transform: translateY(0); }\n",
       "        }\n",
       "    </style>\n",
       "    "
      ],
      "text/plain": [
       "<IPython.core.display.HTML object>"
      ]
     },
     "metadata": {},
     "output_type": "display_data"
    },
    {
     "data": {
      "text/html": [
       "\n",
       "    <div style=\"\n",
       "        border: 1px solid #856404;\n",
       "        background-color: rgba(255, 193, 7, 0.1);\n",
       "        color: #856404;\n",
       "        padding: 12px 18px;\n",
       "        margin: 10px 0;\n",
       "        border-radius: 5px;\n",
       "        font-family: sans-serif;\n",
       "        font-size: 14px;\n",
       "        animation: fadeIn 0.5s ease-out;\n",
       "        line-height: 1.6;\n",
       "    \">\n",
       "        <span style=\"font-weight: bold; margin-right: 8px;\">⚠️ WARNING:</span>\n",
       "        Skipped kaliua_2753.jpg: 'processed'\n",
       "    </div>\n",
       "    <style>\n",
       "        @keyframes fadeIn {\n",
       "            from { opacity: 0; transform: translateY(-10px); }\n",
       "            to { opacity: 1; transform: translateY(0); }\n",
       "        }\n",
       "    </style>\n",
       "    "
      ],
      "text/plain": [
       "<IPython.core.display.HTML object>"
      ]
     },
     "metadata": {},
     "output_type": "display_data"
    },
    {
     "data": {
      "text/html": [
       "\n",
       "    <div style=\"\n",
       "        border: 1px solid #856404;\n",
       "        background-color: rgba(255, 193, 7, 0.1);\n",
       "        color: #856404;\n",
       "        padding: 12px 18px;\n",
       "        margin: 10px 0;\n",
       "        border-radius: 5px;\n",
       "        font-family: sans-serif;\n",
       "        font-size: 14px;\n",
       "        animation: fadeIn 0.5s ease-out;\n",
       "        line-height: 1.6;\n",
       "    \">\n",
       "        <span style=\"font-weight: bold; margin-right: 8px;\">⚠️ WARNING:</span>\n",
       "        Skipped kaliua_2754.jpg: 'processed'\n",
       "    </div>\n",
       "    <style>\n",
       "        @keyframes fadeIn {\n",
       "            from { opacity: 0; transform: translateY(-10px); }\n",
       "            to { opacity: 1; transform: translateY(0); }\n",
       "        }\n",
       "    </style>\n",
       "    "
      ],
      "text/plain": [
       "<IPython.core.display.HTML object>"
      ]
     },
     "metadata": {},
     "output_type": "display_data"
    },
    {
     "data": {
      "text/html": [
       "\n",
       "    <div style=\"\n",
       "        border: 1px solid #856404;\n",
       "        background-color: rgba(255, 193, 7, 0.1);\n",
       "        color: #856404;\n",
       "        padding: 12px 18px;\n",
       "        margin: 10px 0;\n",
       "        border-radius: 5px;\n",
       "        font-family: sans-serif;\n",
       "        font-size: 14px;\n",
       "        animation: fadeIn 0.5s ease-out;\n",
       "        line-height: 1.6;\n",
       "    \">\n",
       "        <span style=\"font-weight: bold; margin-right: 8px;\">⚠️ WARNING:</span>\n",
       "        Skipped kaliua_2755.jpg: 'processed'\n",
       "    </div>\n",
       "    <style>\n",
       "        @keyframes fadeIn {\n",
       "            from { opacity: 0; transform: translateY(-10px); }\n",
       "            to { opacity: 1; transform: translateY(0); }\n",
       "        }\n",
       "    </style>\n",
       "    "
      ],
      "text/plain": [
       "<IPython.core.display.HTML object>"
      ]
     },
     "metadata": {},
     "output_type": "display_data"
    },
    {
     "data": {
      "text/html": [
       "\n",
       "    <div style=\"\n",
       "        border: 1px solid #856404;\n",
       "        background-color: rgba(255, 193, 7, 0.1);\n",
       "        color: #856404;\n",
       "        padding: 12px 18px;\n",
       "        margin: 10px 0;\n",
       "        border-radius: 5px;\n",
       "        font-family: sans-serif;\n",
       "        font-size: 14px;\n",
       "        animation: fadeIn 0.5s ease-out;\n",
       "        line-height: 1.6;\n",
       "    \">\n",
       "        <span style=\"font-weight: bold; margin-right: 8px;\">⚠️ WARNING:</span>\n",
       "        Skipped kaliua_2756.jpg: 'processed'\n",
       "    </div>\n",
       "    <style>\n",
       "        @keyframes fadeIn {\n",
       "            from { opacity: 0; transform: translateY(-10px); }\n",
       "            to { opacity: 1; transform: translateY(0); }\n",
       "        }\n",
       "    </style>\n",
       "    "
      ],
      "text/plain": [
       "<IPython.core.display.HTML object>"
      ]
     },
     "metadata": {},
     "output_type": "display_data"
    },
    {
     "data": {
      "text/html": [
       "\n",
       "    <div style=\"\n",
       "        border: 1px solid #856404;\n",
       "        background-color: rgba(255, 193, 7, 0.1);\n",
       "        color: #856404;\n",
       "        padding: 12px 18px;\n",
       "        margin: 10px 0;\n",
       "        border-radius: 5px;\n",
       "        font-family: sans-serif;\n",
       "        font-size: 14px;\n",
       "        animation: fadeIn 0.5s ease-out;\n",
       "        line-height: 1.6;\n",
       "    \">\n",
       "        <span style=\"font-weight: bold; margin-right: 8px;\">⚠️ WARNING:</span>\n",
       "        Skipped kaliua_2757.jpg: 'processed'\n",
       "    </div>\n",
       "    <style>\n",
       "        @keyframes fadeIn {\n",
       "            from { opacity: 0; transform: translateY(-10px); }\n",
       "            to { opacity: 1; transform: translateY(0); }\n",
       "        }\n",
       "    </style>\n",
       "    "
      ],
      "text/plain": [
       "<IPython.core.display.HTML object>"
      ]
     },
     "metadata": {},
     "output_type": "display_data"
    },
    {
     "data": {
      "text/html": [
       "\n",
       "    <div style=\"\n",
       "        border: 1px solid #856404;\n",
       "        background-color: rgba(255, 193, 7, 0.1);\n",
       "        color: #856404;\n",
       "        padding: 12px 18px;\n",
       "        margin: 10px 0;\n",
       "        border-radius: 5px;\n",
       "        font-family: sans-serif;\n",
       "        font-size: 14px;\n",
       "        animation: fadeIn 0.5s ease-out;\n",
       "        line-height: 1.6;\n",
       "    \">\n",
       "        <span style=\"font-weight: bold; margin-right: 8px;\">⚠️ WARNING:</span>\n",
       "        Skipped kaliua_2758.jpg: 'processed'\n",
       "    </div>\n",
       "    <style>\n",
       "        @keyframes fadeIn {\n",
       "            from { opacity: 0; transform: translateY(-10px); }\n",
       "            to { opacity: 1; transform: translateY(0); }\n",
       "        }\n",
       "    </style>\n",
       "    "
      ],
      "text/plain": [
       "<IPython.core.display.HTML object>"
      ]
     },
     "metadata": {},
     "output_type": "display_data"
    },
    {
     "data": {
      "text/html": [
       "\n",
       "    <div style=\"\n",
       "        border: 1px solid #856404;\n",
       "        background-color: rgba(255, 193, 7, 0.1);\n",
       "        color: #856404;\n",
       "        padding: 12px 18px;\n",
       "        margin: 10px 0;\n",
       "        border-radius: 5px;\n",
       "        font-family: sans-serif;\n",
       "        font-size: 14px;\n",
       "        animation: fadeIn 0.5s ease-out;\n",
       "        line-height: 1.6;\n",
       "    \">\n",
       "        <span style=\"font-weight: bold; margin-right: 8px;\">⚠️ WARNING:</span>\n",
       "        Skipped kaliua_2759.jpg: 'processed'\n",
       "    </div>\n",
       "    <style>\n",
       "        @keyframes fadeIn {\n",
       "            from { opacity: 0; transform: translateY(-10px); }\n",
       "            to { opacity: 1; transform: translateY(0); }\n",
       "        }\n",
       "    </style>\n",
       "    "
      ],
      "text/plain": [
       "<IPython.core.display.HTML object>"
      ]
     },
     "metadata": {},
     "output_type": "display_data"
    },
    {
     "data": {
      "text/html": [
       "\n",
       "    <div style=\"\n",
       "        border: 1px solid #856404;\n",
       "        background-color: rgba(255, 193, 7, 0.1);\n",
       "        color: #856404;\n",
       "        padding: 12px 18px;\n",
       "        margin: 10px 0;\n",
       "        border-radius: 5px;\n",
       "        font-family: sans-serif;\n",
       "        font-size: 14px;\n",
       "        animation: fadeIn 0.5s ease-out;\n",
       "        line-height: 1.6;\n",
       "    \">\n",
       "        <span style=\"font-weight: bold; margin-right: 8px;\">⚠️ WARNING:</span>\n",
       "        Skipped kaliua_2760.jpg: 'processed'\n",
       "    </div>\n",
       "    <style>\n",
       "        @keyframes fadeIn {\n",
       "            from { opacity: 0; transform: translateY(-10px); }\n",
       "            to { opacity: 1; transform: translateY(0); }\n",
       "        }\n",
       "    </style>\n",
       "    "
      ],
      "text/plain": [
       "<IPython.core.display.HTML object>"
      ]
     },
     "metadata": {},
     "output_type": "display_data"
    },
    {
     "data": {
      "text/html": [
       "\n",
       "    <div style=\"\n",
       "        border: 1px solid #856404;\n",
       "        background-color: rgba(255, 193, 7, 0.1);\n",
       "        color: #856404;\n",
       "        padding: 12px 18px;\n",
       "        margin: 10px 0;\n",
       "        border-radius: 5px;\n",
       "        font-family: sans-serif;\n",
       "        font-size: 14px;\n",
       "        animation: fadeIn 0.5s ease-out;\n",
       "        line-height: 1.6;\n",
       "    \">\n",
       "        <span style=\"font-weight: bold; margin-right: 8px;\">⚠️ WARNING:</span>\n",
       "        Skipped kaliua_2761.jpg: 'processed'\n",
       "    </div>\n",
       "    <style>\n",
       "        @keyframes fadeIn {\n",
       "            from { opacity: 0; transform: translateY(-10px); }\n",
       "            to { opacity: 1; transform: translateY(0); }\n",
       "        }\n",
       "    </style>\n",
       "    "
      ],
      "text/plain": [
       "<IPython.core.display.HTML object>"
      ]
     },
     "metadata": {},
     "output_type": "display_data"
    },
    {
     "data": {
      "text/html": [
       "\n",
       "    <div style=\"\n",
       "        border: 1px solid #856404;\n",
       "        background-color: rgba(255, 193, 7, 0.1);\n",
       "        color: #856404;\n",
       "        padding: 12px 18px;\n",
       "        margin: 10px 0;\n",
       "        border-radius: 5px;\n",
       "        font-family: sans-serif;\n",
       "        font-size: 14px;\n",
       "        animation: fadeIn 0.5s ease-out;\n",
       "        line-height: 1.6;\n",
       "    \">\n",
       "        <span style=\"font-weight: bold; margin-right: 8px;\">⚠️ WARNING:</span>\n",
       "        Skipped kaliua_2762.jpg: 'processed'\n",
       "    </div>\n",
       "    <style>\n",
       "        @keyframes fadeIn {\n",
       "            from { opacity: 0; transform: translateY(-10px); }\n",
       "            to { opacity: 1; transform: translateY(0); }\n",
       "        }\n",
       "    </style>\n",
       "    "
      ],
      "text/plain": [
       "<IPython.core.display.HTML object>"
      ]
     },
     "metadata": {},
     "output_type": "display_data"
    },
    {
     "data": {
      "text/html": [
       "\n",
       "    <div style=\"\n",
       "        border: 1px solid #856404;\n",
       "        background-color: rgba(255, 193, 7, 0.1);\n",
       "        color: #856404;\n",
       "        padding: 12px 18px;\n",
       "        margin: 10px 0;\n",
       "        border-radius: 5px;\n",
       "        font-family: sans-serif;\n",
       "        font-size: 14px;\n",
       "        animation: fadeIn 0.5s ease-out;\n",
       "        line-height: 1.6;\n",
       "    \">\n",
       "        <span style=\"font-weight: bold; margin-right: 8px;\">⚠️ WARNING:</span>\n",
       "        Skipped kaliua_2763.jpg: 'processed'\n",
       "    </div>\n",
       "    <style>\n",
       "        @keyframes fadeIn {\n",
       "            from { opacity: 0; transform: translateY(-10px); }\n",
       "            to { opacity: 1; transform: translateY(0); }\n",
       "        }\n",
       "    </style>\n",
       "    "
      ],
      "text/plain": [
       "<IPython.core.display.HTML object>"
      ]
     },
     "metadata": {},
     "output_type": "display_data"
    },
    {
     "data": {
      "text/html": [
       "\n",
       "    <div style=\"\n",
       "        border: 1px solid #856404;\n",
       "        background-color: rgba(255, 193, 7, 0.1);\n",
       "        color: #856404;\n",
       "        padding: 12px 18px;\n",
       "        margin: 10px 0;\n",
       "        border-radius: 5px;\n",
       "        font-family: sans-serif;\n",
       "        font-size: 14px;\n",
       "        animation: fadeIn 0.5s ease-out;\n",
       "        line-height: 1.6;\n",
       "    \">\n",
       "        <span style=\"font-weight: bold; margin-right: 8px;\">⚠️ WARNING:</span>\n",
       "        Skipped kaliua_2764.jpg: 'processed'\n",
       "    </div>\n",
       "    <style>\n",
       "        @keyframes fadeIn {\n",
       "            from { opacity: 0; transform: translateY(-10px); }\n",
       "            to { opacity: 1; transform: translateY(0); }\n",
       "        }\n",
       "    </style>\n",
       "    "
      ],
      "text/plain": [
       "<IPython.core.display.HTML object>"
      ]
     },
     "metadata": {},
     "output_type": "display_data"
    },
    {
     "data": {
      "text/html": [
       "\n",
       "    <div style=\"\n",
       "        border: 1px solid #856404;\n",
       "        background-color: rgba(255, 193, 7, 0.1);\n",
       "        color: #856404;\n",
       "        padding: 12px 18px;\n",
       "        margin: 10px 0;\n",
       "        border-radius: 5px;\n",
       "        font-family: sans-serif;\n",
       "        font-size: 14px;\n",
       "        animation: fadeIn 0.5s ease-out;\n",
       "        line-height: 1.6;\n",
       "    \">\n",
       "        <span style=\"font-weight: bold; margin-right: 8px;\">⚠️ WARNING:</span>\n",
       "        Skipped kaliua_2765.jpg: 'processed'\n",
       "    </div>\n",
       "    <style>\n",
       "        @keyframes fadeIn {\n",
       "            from { opacity: 0; transform: translateY(-10px); }\n",
       "            to { opacity: 1; transform: translateY(0); }\n",
       "        }\n",
       "    </style>\n",
       "    "
      ],
      "text/plain": [
       "<IPython.core.display.HTML object>"
      ]
     },
     "metadata": {},
     "output_type": "display_data"
    },
    {
     "data": {
      "text/html": [
       "\n",
       "    <div style=\"\n",
       "        border: 1px solid #856404;\n",
       "        background-color: rgba(255, 193, 7, 0.1);\n",
       "        color: #856404;\n",
       "        padding: 12px 18px;\n",
       "        margin: 10px 0;\n",
       "        border-radius: 5px;\n",
       "        font-family: sans-serif;\n",
       "        font-size: 14px;\n",
       "        animation: fadeIn 0.5s ease-out;\n",
       "        line-height: 1.6;\n",
       "    \">\n",
       "        <span style=\"font-weight: bold; margin-right: 8px;\">⚠️ WARNING:</span>\n",
       "        Skipped kaliua_2766.jpg: 'processed'\n",
       "    </div>\n",
       "    <style>\n",
       "        @keyframes fadeIn {\n",
       "            from { opacity: 0; transform: translateY(-10px); }\n",
       "            to { opacity: 1; transform: translateY(0); }\n",
       "        }\n",
       "    </style>\n",
       "    "
      ],
      "text/plain": [
       "<IPython.core.display.HTML object>"
      ]
     },
     "metadata": {},
     "output_type": "display_data"
    },
    {
     "data": {
      "text/html": [
       "\n",
       "    <div style=\"\n",
       "        border: 1px solid #856404;\n",
       "        background-color: rgba(255, 193, 7, 0.1);\n",
       "        color: #856404;\n",
       "        padding: 12px 18px;\n",
       "        margin: 10px 0;\n",
       "        border-radius: 5px;\n",
       "        font-family: sans-serif;\n",
       "        font-size: 14px;\n",
       "        animation: fadeIn 0.5s ease-out;\n",
       "        line-height: 1.6;\n",
       "    \">\n",
       "        <span style=\"font-weight: bold; margin-right: 8px;\">⚠️ WARNING:</span>\n",
       "        Skipped kaliua_2767.jpg: 'processed'\n",
       "    </div>\n",
       "    <style>\n",
       "        @keyframes fadeIn {\n",
       "            from { opacity: 0; transform: translateY(-10px); }\n",
       "            to { opacity: 1; transform: translateY(0); }\n",
       "        }\n",
       "    </style>\n",
       "    "
      ],
      "text/plain": [
       "<IPython.core.display.HTML object>"
      ]
     },
     "metadata": {},
     "output_type": "display_data"
    },
    {
     "data": {
      "text/html": [
       "\n",
       "    <div style=\"\n",
       "        border: 1px solid #856404;\n",
       "        background-color: rgba(255, 193, 7, 0.1);\n",
       "        color: #856404;\n",
       "        padding: 12px 18px;\n",
       "        margin: 10px 0;\n",
       "        border-radius: 5px;\n",
       "        font-family: sans-serif;\n",
       "        font-size: 14px;\n",
       "        animation: fadeIn 0.5s ease-out;\n",
       "        line-height: 1.6;\n",
       "    \">\n",
       "        <span style=\"font-weight: bold; margin-right: 8px;\">⚠️ WARNING:</span>\n",
       "        Skipped kaliua_2768.jpg: 'processed'\n",
       "    </div>\n",
       "    <style>\n",
       "        @keyframes fadeIn {\n",
       "            from { opacity: 0; transform: translateY(-10px); }\n",
       "            to { opacity: 1; transform: translateY(0); }\n",
       "        }\n",
       "    </style>\n",
       "    "
      ],
      "text/plain": [
       "<IPython.core.display.HTML object>"
      ]
     },
     "metadata": {},
     "output_type": "display_data"
    },
    {
     "data": {
      "text/html": [
       "\n",
       "    <div style=\"\n",
       "        border: 1px solid #856404;\n",
       "        background-color: rgba(255, 193, 7, 0.1);\n",
       "        color: #856404;\n",
       "        padding: 12px 18px;\n",
       "        margin: 10px 0;\n",
       "        border-radius: 5px;\n",
       "        font-family: sans-serif;\n",
       "        font-size: 14px;\n",
       "        animation: fadeIn 0.5s ease-out;\n",
       "        line-height: 1.6;\n",
       "    \">\n",
       "        <span style=\"font-weight: bold; margin-right: 8px;\">⚠️ WARNING:</span>\n",
       "        Skipped kaliua_2769.jpg: 'processed'\n",
       "    </div>\n",
       "    <style>\n",
       "        @keyframes fadeIn {\n",
       "            from { opacity: 0; transform: translateY(-10px); }\n",
       "            to { opacity: 1; transform: translateY(0); }\n",
       "        }\n",
       "    </style>\n",
       "    "
      ],
      "text/plain": [
       "<IPython.core.display.HTML object>"
      ]
     },
     "metadata": {},
     "output_type": "display_data"
    },
    {
     "data": {
      "text/html": [
       "\n",
       "    <div style=\"\n",
       "        border: 1px solid #856404;\n",
       "        background-color: rgba(255, 193, 7, 0.1);\n",
       "        color: #856404;\n",
       "        padding: 12px 18px;\n",
       "        margin: 10px 0;\n",
       "        border-radius: 5px;\n",
       "        font-family: sans-serif;\n",
       "        font-size: 14px;\n",
       "        animation: fadeIn 0.5s ease-out;\n",
       "        line-height: 1.6;\n",
       "    \">\n",
       "        <span style=\"font-weight: bold; margin-right: 8px;\">⚠️ WARNING:</span>\n",
       "        Skipped kaliua_2770.jpg: 'processed'\n",
       "    </div>\n",
       "    <style>\n",
       "        @keyframes fadeIn {\n",
       "            from { opacity: 0; transform: translateY(-10px); }\n",
       "            to { opacity: 1; transform: translateY(0); }\n",
       "        }\n",
       "    </style>\n",
       "    "
      ],
      "text/plain": [
       "<IPython.core.display.HTML object>"
      ]
     },
     "metadata": {},
     "output_type": "display_data"
    },
    {
     "data": {
      "text/html": [
       "\n",
       "    <div style=\"\n",
       "        border: 1px solid #856404;\n",
       "        background-color: rgba(255, 193, 7, 0.1);\n",
       "        color: #856404;\n",
       "        padding: 12px 18px;\n",
       "        margin: 10px 0;\n",
       "        border-radius: 5px;\n",
       "        font-family: sans-serif;\n",
       "        font-size: 14px;\n",
       "        animation: fadeIn 0.5s ease-out;\n",
       "        line-height: 1.6;\n",
       "    \">\n",
       "        <span style=\"font-weight: bold; margin-right: 8px;\">⚠️ WARNING:</span>\n",
       "        Skipped kaliua_2771.jpg: 'processed'\n",
       "    </div>\n",
       "    <style>\n",
       "        @keyframes fadeIn {\n",
       "            from { opacity: 0; transform: translateY(-10px); }\n",
       "            to { opacity: 1; transform: translateY(0); }\n",
       "        }\n",
       "    </style>\n",
       "    "
      ],
      "text/plain": [
       "<IPython.core.display.HTML object>"
      ]
     },
     "metadata": {},
     "output_type": "display_data"
    },
    {
     "data": {
      "text/html": [
       "\n",
       "    <div style=\"\n",
       "        border: 1px solid #856404;\n",
       "        background-color: rgba(255, 193, 7, 0.1);\n",
       "        color: #856404;\n",
       "        padding: 12px 18px;\n",
       "        margin: 10px 0;\n",
       "        border-radius: 5px;\n",
       "        font-family: sans-serif;\n",
       "        font-size: 14px;\n",
       "        animation: fadeIn 0.5s ease-out;\n",
       "        line-height: 1.6;\n",
       "    \">\n",
       "        <span style=\"font-weight: bold; margin-right: 8px;\">⚠️ WARNING:</span>\n",
       "        Skipped kaliua_2772.jpg: 'processed'\n",
       "    </div>\n",
       "    <style>\n",
       "        @keyframes fadeIn {\n",
       "            from { opacity: 0; transform: translateY(-10px); }\n",
       "            to { opacity: 1; transform: translateY(0); }\n",
       "        }\n",
       "    </style>\n",
       "    "
      ],
      "text/plain": [
       "<IPython.core.display.HTML object>"
      ]
     },
     "metadata": {},
     "output_type": "display_data"
    },
    {
     "data": {
      "text/html": [
       "\n",
       "    <div style=\"\n",
       "        border: 1px solid #856404;\n",
       "        background-color: rgba(255, 193, 7, 0.1);\n",
       "        color: #856404;\n",
       "        padding: 12px 18px;\n",
       "        margin: 10px 0;\n",
       "        border-radius: 5px;\n",
       "        font-family: sans-serif;\n",
       "        font-size: 14px;\n",
       "        animation: fadeIn 0.5s ease-out;\n",
       "        line-height: 1.6;\n",
       "    \">\n",
       "        <span style=\"font-weight: bold; margin-right: 8px;\">⚠️ WARNING:</span>\n",
       "        Skipped kaliua_2773.jpg: 'processed'\n",
       "    </div>\n",
       "    <style>\n",
       "        @keyframes fadeIn {\n",
       "            from { opacity: 0; transform: translateY(-10px); }\n",
       "            to { opacity: 1; transform: translateY(0); }\n",
       "        }\n",
       "    </style>\n",
       "    "
      ],
      "text/plain": [
       "<IPython.core.display.HTML object>"
      ]
     },
     "metadata": {},
     "output_type": "display_data"
    },
    {
     "data": {
      "text/html": [
       "\n",
       "    <div style=\"\n",
       "        border: 1px solid #856404;\n",
       "        background-color: rgba(255, 193, 7, 0.1);\n",
       "        color: #856404;\n",
       "        padding: 12px 18px;\n",
       "        margin: 10px 0;\n",
       "        border-radius: 5px;\n",
       "        font-family: sans-serif;\n",
       "        font-size: 14px;\n",
       "        animation: fadeIn 0.5s ease-out;\n",
       "        line-height: 1.6;\n",
       "    \">\n",
       "        <span style=\"font-weight: bold; margin-right: 8px;\">⚠️ WARNING:</span>\n",
       "        Skipped kaliua_2774.jpg: 'processed'\n",
       "    </div>\n",
       "    <style>\n",
       "        @keyframes fadeIn {\n",
       "            from { opacity: 0; transform: translateY(-10px); }\n",
       "            to { opacity: 1; transform: translateY(0); }\n",
       "        }\n",
       "    </style>\n",
       "    "
      ],
      "text/plain": [
       "<IPython.core.display.HTML object>"
      ]
     },
     "metadata": {},
     "output_type": "display_data"
    },
    {
     "data": {
      "text/html": [
       "\n",
       "    <div style=\"\n",
       "        border: 1px solid #856404;\n",
       "        background-color: rgba(255, 193, 7, 0.1);\n",
       "        color: #856404;\n",
       "        padding: 12px 18px;\n",
       "        margin: 10px 0;\n",
       "        border-radius: 5px;\n",
       "        font-family: sans-serif;\n",
       "        font-size: 14px;\n",
       "        animation: fadeIn 0.5s ease-out;\n",
       "        line-height: 1.6;\n",
       "    \">\n",
       "        <span style=\"font-weight: bold; margin-right: 8px;\">⚠️ WARNING:</span>\n",
       "        Skipped kaliua_2776.jpg: 'processed'\n",
       "    </div>\n",
       "    <style>\n",
       "        @keyframes fadeIn {\n",
       "            from { opacity: 0; transform: translateY(-10px); }\n",
       "            to { opacity: 1; transform: translateY(0); }\n",
       "        }\n",
       "    </style>\n",
       "    "
      ],
      "text/plain": [
       "<IPython.core.display.HTML object>"
      ]
     },
     "metadata": {},
     "output_type": "display_data"
    },
    {
     "data": {
      "text/html": [
       "\n",
       "    <div style=\"\n",
       "        border: 1px solid #856404;\n",
       "        background-color: rgba(255, 193, 7, 0.1);\n",
       "        color: #856404;\n",
       "        padding: 12px 18px;\n",
       "        margin: 10px 0;\n",
       "        border-radius: 5px;\n",
       "        font-family: sans-serif;\n",
       "        font-size: 14px;\n",
       "        animation: fadeIn 0.5s ease-out;\n",
       "        line-height: 1.6;\n",
       "    \">\n",
       "        <span style=\"font-weight: bold; margin-right: 8px;\">⚠️ WARNING:</span>\n",
       "        Skipped kaliua_2777.jpg: 'processed'\n",
       "    </div>\n",
       "    <style>\n",
       "        @keyframes fadeIn {\n",
       "            from { opacity: 0; transform: translateY(-10px); }\n",
       "            to { opacity: 1; transform: translateY(0); }\n",
       "        }\n",
       "    </style>\n",
       "    "
      ],
      "text/plain": [
       "<IPython.core.display.HTML object>"
      ]
     },
     "metadata": {},
     "output_type": "display_data"
    },
    {
     "data": {
      "text/html": [
       "\n",
       "    <div style=\"\n",
       "        border: 1px solid #856404;\n",
       "        background-color: rgba(255, 193, 7, 0.1);\n",
       "        color: #856404;\n",
       "        padding: 12px 18px;\n",
       "        margin: 10px 0;\n",
       "        border-radius: 5px;\n",
       "        font-family: sans-serif;\n",
       "        font-size: 14px;\n",
       "        animation: fadeIn 0.5s ease-out;\n",
       "        line-height: 1.6;\n",
       "    \">\n",
       "        <span style=\"font-weight: bold; margin-right: 8px;\">⚠️ WARNING:</span>\n",
       "        Skipped kaliua_2778.jpg: 'processed'\n",
       "    </div>\n",
       "    <style>\n",
       "        @keyframes fadeIn {\n",
       "            from { opacity: 0; transform: translateY(-10px); }\n",
       "            to { opacity: 1; transform: translateY(0); }\n",
       "        }\n",
       "    </style>\n",
       "    "
      ],
      "text/plain": [
       "<IPython.core.display.HTML object>"
      ]
     },
     "metadata": {},
     "output_type": "display_data"
    },
    {
     "data": {
      "text/html": [
       "\n",
       "    <div style=\"\n",
       "        border: 1px solid #856404;\n",
       "        background-color: rgba(255, 193, 7, 0.1);\n",
       "        color: #856404;\n",
       "        padding: 12px 18px;\n",
       "        margin: 10px 0;\n",
       "        border-radius: 5px;\n",
       "        font-family: sans-serif;\n",
       "        font-size: 14px;\n",
       "        animation: fadeIn 0.5s ease-out;\n",
       "        line-height: 1.6;\n",
       "    \">\n",
       "        <span style=\"font-weight: bold; margin-right: 8px;\">⚠️ WARNING:</span>\n",
       "        Skipped kaliua_2779.jpg: 'processed'\n",
       "    </div>\n",
       "    <style>\n",
       "        @keyframes fadeIn {\n",
       "            from { opacity: 0; transform: translateY(-10px); }\n",
       "            to { opacity: 1; transform: translateY(0); }\n",
       "        }\n",
       "    </style>\n",
       "    "
      ],
      "text/plain": [
       "<IPython.core.display.HTML object>"
      ]
     },
     "metadata": {},
     "output_type": "display_data"
    },
    {
     "data": {
      "text/html": [
       "\n",
       "    <div style=\"\n",
       "        border: 1px solid #856404;\n",
       "        background-color: rgba(255, 193, 7, 0.1);\n",
       "        color: #856404;\n",
       "        padding: 12px 18px;\n",
       "        margin: 10px 0;\n",
       "        border-radius: 5px;\n",
       "        font-family: sans-serif;\n",
       "        font-size: 14px;\n",
       "        animation: fadeIn 0.5s ease-out;\n",
       "        line-height: 1.6;\n",
       "    \">\n",
       "        <span style=\"font-weight: bold; margin-right: 8px;\">⚠️ WARNING:</span>\n",
       "        Skipped kaliua_2780.jpg: 'processed'\n",
       "    </div>\n",
       "    <style>\n",
       "        @keyframes fadeIn {\n",
       "            from { opacity: 0; transform: translateY(-10px); }\n",
       "            to { opacity: 1; transform: translateY(0); }\n",
       "        }\n",
       "    </style>\n",
       "    "
      ],
      "text/plain": [
       "<IPython.core.display.HTML object>"
      ]
     },
     "metadata": {},
     "output_type": "display_data"
    },
    {
     "data": {
      "text/html": [
       "\n",
       "    <div style=\"\n",
       "        border: 1px solid #856404;\n",
       "        background-color: rgba(255, 193, 7, 0.1);\n",
       "        color: #856404;\n",
       "        padding: 12px 18px;\n",
       "        margin: 10px 0;\n",
       "        border-radius: 5px;\n",
       "        font-family: sans-serif;\n",
       "        font-size: 14px;\n",
       "        animation: fadeIn 0.5s ease-out;\n",
       "        line-height: 1.6;\n",
       "    \">\n",
       "        <span style=\"font-weight: bold; margin-right: 8px;\">⚠️ WARNING:</span>\n",
       "        Skipped kaliua_2781.jpg: 'processed'\n",
       "    </div>\n",
       "    <style>\n",
       "        @keyframes fadeIn {\n",
       "            from { opacity: 0; transform: translateY(-10px); }\n",
       "            to { opacity: 1; transform: translateY(0); }\n",
       "        }\n",
       "    </style>\n",
       "    "
      ],
      "text/plain": [
       "<IPython.core.display.HTML object>"
      ]
     },
     "metadata": {},
     "output_type": "display_data"
    },
    {
     "data": {
      "text/html": [
       "\n",
       "    <div style=\"\n",
       "        border: 1px solid #856404;\n",
       "        background-color: rgba(255, 193, 7, 0.1);\n",
       "        color: #856404;\n",
       "        padding: 12px 18px;\n",
       "        margin: 10px 0;\n",
       "        border-radius: 5px;\n",
       "        font-family: sans-serif;\n",
       "        font-size: 14px;\n",
       "        animation: fadeIn 0.5s ease-out;\n",
       "        line-height: 1.6;\n",
       "    \">\n",
       "        <span style=\"font-weight: bold; margin-right: 8px;\">⚠️ WARNING:</span>\n",
       "        Skipped kaliua_2782.jpg: 'processed'\n",
       "    </div>\n",
       "    <style>\n",
       "        @keyframes fadeIn {\n",
       "            from { opacity: 0; transform: translateY(-10px); }\n",
       "            to { opacity: 1; transform: translateY(0); }\n",
       "        }\n",
       "    </style>\n",
       "    "
      ],
      "text/plain": [
       "<IPython.core.display.HTML object>"
      ]
     },
     "metadata": {},
     "output_type": "display_data"
    },
    {
     "data": {
      "text/html": [
       "\n",
       "    <div style=\"\n",
       "        border: 1px solid #856404;\n",
       "        background-color: rgba(255, 193, 7, 0.1);\n",
       "        color: #856404;\n",
       "        padding: 12px 18px;\n",
       "        margin: 10px 0;\n",
       "        border-radius: 5px;\n",
       "        font-family: sans-serif;\n",
       "        font-size: 14px;\n",
       "        animation: fadeIn 0.5s ease-out;\n",
       "        line-height: 1.6;\n",
       "    \">\n",
       "        <span style=\"font-weight: bold; margin-right: 8px;\">⚠️ WARNING:</span>\n",
       "        Skipped kaliua_2784.jpg: 'processed'\n",
       "    </div>\n",
       "    <style>\n",
       "        @keyframes fadeIn {\n",
       "            from { opacity: 0; transform: translateY(-10px); }\n",
       "            to { opacity: 1; transform: translateY(0); }\n",
       "        }\n",
       "    </style>\n",
       "    "
      ],
      "text/plain": [
       "<IPython.core.display.HTML object>"
      ]
     },
     "metadata": {},
     "output_type": "display_data"
    },
    {
     "data": {
      "text/html": [
       "\n",
       "    <div style=\"\n",
       "        border: 1px solid #856404;\n",
       "        background-color: rgba(255, 193, 7, 0.1);\n",
       "        color: #856404;\n",
       "        padding: 12px 18px;\n",
       "        margin: 10px 0;\n",
       "        border-radius: 5px;\n",
       "        font-family: sans-serif;\n",
       "        font-size: 14px;\n",
       "        animation: fadeIn 0.5s ease-out;\n",
       "        line-height: 1.6;\n",
       "    \">\n",
       "        <span style=\"font-weight: bold; margin-right: 8px;\">⚠️ WARNING:</span>\n",
       "        Skipped kaliua_2785.jpg: 'processed'\n",
       "    </div>\n",
       "    <style>\n",
       "        @keyframes fadeIn {\n",
       "            from { opacity: 0; transform: translateY(-10px); }\n",
       "            to { opacity: 1; transform: translateY(0); }\n",
       "        }\n",
       "    </style>\n",
       "    "
      ],
      "text/plain": [
       "<IPython.core.display.HTML object>"
      ]
     },
     "metadata": {},
     "output_type": "display_data"
    },
    {
     "data": {
      "text/html": [
       "\n",
       "    <div style=\"\n",
       "        border: 1px solid #856404;\n",
       "        background-color: rgba(255, 193, 7, 0.1);\n",
       "        color: #856404;\n",
       "        padding: 12px 18px;\n",
       "        margin: 10px 0;\n",
       "        border-radius: 5px;\n",
       "        font-family: sans-serif;\n",
       "        font-size: 14px;\n",
       "        animation: fadeIn 0.5s ease-out;\n",
       "        line-height: 1.6;\n",
       "    \">\n",
       "        <span style=\"font-weight: bold; margin-right: 8px;\">⚠️ WARNING:</span>\n",
       "        Skipped kaliua_2786.jpg: 'processed'\n",
       "    </div>\n",
       "    <style>\n",
       "        @keyframes fadeIn {\n",
       "            from { opacity: 0; transform: translateY(-10px); }\n",
       "            to { opacity: 1; transform: translateY(0); }\n",
       "        }\n",
       "    </style>\n",
       "    "
      ],
      "text/plain": [
       "<IPython.core.display.HTML object>"
      ]
     },
     "metadata": {},
     "output_type": "display_data"
    },
    {
     "data": {
      "text/html": [
       "\n",
       "    <div style=\"\n",
       "        border: 1px solid #856404;\n",
       "        background-color: rgba(255, 193, 7, 0.1);\n",
       "        color: #856404;\n",
       "        padding: 12px 18px;\n",
       "        margin: 10px 0;\n",
       "        border-radius: 5px;\n",
       "        font-family: sans-serif;\n",
       "        font-size: 14px;\n",
       "        animation: fadeIn 0.5s ease-out;\n",
       "        line-height: 1.6;\n",
       "    \">\n",
       "        <span style=\"font-weight: bold; margin-right: 8px;\">⚠️ WARNING:</span>\n",
       "        Skipped kaliua_2787.jpg: 'processed'\n",
       "    </div>\n",
       "    <style>\n",
       "        @keyframes fadeIn {\n",
       "            from { opacity: 0; transform: translateY(-10px); }\n",
       "            to { opacity: 1; transform: translateY(0); }\n",
       "        }\n",
       "    </style>\n",
       "    "
      ],
      "text/plain": [
       "<IPython.core.display.HTML object>"
      ]
     },
     "metadata": {},
     "output_type": "display_data"
    },
    {
     "data": {
      "text/html": [
       "\n",
       "    <div style=\"\n",
       "        border: 1px solid #856404;\n",
       "        background-color: rgba(255, 193, 7, 0.1);\n",
       "        color: #856404;\n",
       "        padding: 12px 18px;\n",
       "        margin: 10px 0;\n",
       "        border-radius: 5px;\n",
       "        font-family: sans-serif;\n",
       "        font-size: 14px;\n",
       "        animation: fadeIn 0.5s ease-out;\n",
       "        line-height: 1.6;\n",
       "    \">\n",
       "        <span style=\"font-weight: bold; margin-right: 8px;\">⚠️ WARNING:</span>\n",
       "        Skipped kaliua_2788.jpg: 'processed'\n",
       "    </div>\n",
       "    <style>\n",
       "        @keyframes fadeIn {\n",
       "            from { opacity: 0; transform: translateY(-10px); }\n",
       "            to { opacity: 1; transform: translateY(0); }\n",
       "        }\n",
       "    </style>\n",
       "    "
      ],
      "text/plain": [
       "<IPython.core.display.HTML object>"
      ]
     },
     "metadata": {},
     "output_type": "display_data"
    },
    {
     "data": {
      "text/html": [
       "\n",
       "    <div style=\"\n",
       "        border: 1px solid #856404;\n",
       "        background-color: rgba(255, 193, 7, 0.1);\n",
       "        color: #856404;\n",
       "        padding: 12px 18px;\n",
       "        margin: 10px 0;\n",
       "        border-radius: 5px;\n",
       "        font-family: sans-serif;\n",
       "        font-size: 14px;\n",
       "        animation: fadeIn 0.5s ease-out;\n",
       "        line-height: 1.6;\n",
       "    \">\n",
       "        <span style=\"font-weight: bold; margin-right: 8px;\">⚠️ WARNING:</span>\n",
       "        Skipped kaliua_2789.jpg: 'processed'\n",
       "    </div>\n",
       "    <style>\n",
       "        @keyframes fadeIn {\n",
       "            from { opacity: 0; transform: translateY(-10px); }\n",
       "            to { opacity: 1; transform: translateY(0); }\n",
       "        }\n",
       "    </style>\n",
       "    "
      ],
      "text/plain": [
       "<IPython.core.display.HTML object>"
      ]
     },
     "metadata": {},
     "output_type": "display_data"
    },
    {
     "data": {
      "text/html": [
       "\n",
       "    <div style=\"\n",
       "        border: 1px solid #856404;\n",
       "        background-color: rgba(255, 193, 7, 0.1);\n",
       "        color: #856404;\n",
       "        padding: 12px 18px;\n",
       "        margin: 10px 0;\n",
       "        border-radius: 5px;\n",
       "        font-family: sans-serif;\n",
       "        font-size: 14px;\n",
       "        animation: fadeIn 0.5s ease-out;\n",
       "        line-height: 1.6;\n",
       "    \">\n",
       "        <span style=\"font-weight: bold; margin-right: 8px;\">⚠️ WARNING:</span>\n",
       "        Skipped kaliua_2790.jpg: 'processed'\n",
       "    </div>\n",
       "    <style>\n",
       "        @keyframes fadeIn {\n",
       "            from { opacity: 0; transform: translateY(-10px); }\n",
       "            to { opacity: 1; transform: translateY(0); }\n",
       "        }\n",
       "    </style>\n",
       "    "
      ],
      "text/plain": [
       "<IPython.core.display.HTML object>"
      ]
     },
     "metadata": {},
     "output_type": "display_data"
    },
    {
     "data": {
      "text/html": [
       "\n",
       "    <div style=\"\n",
       "        border: 1px solid #856404;\n",
       "        background-color: rgba(255, 193, 7, 0.1);\n",
       "        color: #856404;\n",
       "        padding: 12px 18px;\n",
       "        margin: 10px 0;\n",
       "        border-radius: 5px;\n",
       "        font-family: sans-serif;\n",
       "        font-size: 14px;\n",
       "        animation: fadeIn 0.5s ease-out;\n",
       "        line-height: 1.6;\n",
       "    \">\n",
       "        <span style=\"font-weight: bold; margin-right: 8px;\">⚠️ WARNING:</span>\n",
       "        Skipped kaliua_2791.jpg: 'processed'\n",
       "    </div>\n",
       "    <style>\n",
       "        @keyframes fadeIn {\n",
       "            from { opacity: 0; transform: translateY(-10px); }\n",
       "            to { opacity: 1; transform: translateY(0); }\n",
       "        }\n",
       "    </style>\n",
       "    "
      ],
      "text/plain": [
       "<IPython.core.display.HTML object>"
      ]
     },
     "metadata": {},
     "output_type": "display_data"
    },
    {
     "data": {
      "text/html": [
       "\n",
       "    <div style=\"\n",
       "        border: 1px solid #856404;\n",
       "        background-color: rgba(255, 193, 7, 0.1);\n",
       "        color: #856404;\n",
       "        padding: 12px 18px;\n",
       "        margin: 10px 0;\n",
       "        border-radius: 5px;\n",
       "        font-family: sans-serif;\n",
       "        font-size: 14px;\n",
       "        animation: fadeIn 0.5s ease-out;\n",
       "        line-height: 1.6;\n",
       "    \">\n",
       "        <span style=\"font-weight: bold; margin-right: 8px;\">⚠️ WARNING:</span>\n",
       "        Skipped kaliua_2792.jpg: 'processed'\n",
       "    </div>\n",
       "    <style>\n",
       "        @keyframes fadeIn {\n",
       "            from { opacity: 0; transform: translateY(-10px); }\n",
       "            to { opacity: 1; transform: translateY(0); }\n",
       "        }\n",
       "    </style>\n",
       "    "
      ],
      "text/plain": [
       "<IPython.core.display.HTML object>"
      ]
     },
     "metadata": {},
     "output_type": "display_data"
    },
    {
     "data": {
      "text/html": [
       "\n",
       "    <div style=\"\n",
       "        border: 1px solid #856404;\n",
       "        background-color: rgba(255, 193, 7, 0.1);\n",
       "        color: #856404;\n",
       "        padding: 12px 18px;\n",
       "        margin: 10px 0;\n",
       "        border-radius: 5px;\n",
       "        font-family: sans-serif;\n",
       "        font-size: 14px;\n",
       "        animation: fadeIn 0.5s ease-out;\n",
       "        line-height: 1.6;\n",
       "    \">\n",
       "        <span style=\"font-weight: bold; margin-right: 8px;\">⚠️ WARNING:</span>\n",
       "        Skipped kaliua_2793.jpg: 'processed'\n",
       "    </div>\n",
       "    <style>\n",
       "        @keyframes fadeIn {\n",
       "            from { opacity: 0; transform: translateY(-10px); }\n",
       "            to { opacity: 1; transform: translateY(0); }\n",
       "        }\n",
       "    </style>\n",
       "    "
      ],
      "text/plain": [
       "<IPython.core.display.HTML object>"
      ]
     },
     "metadata": {},
     "output_type": "display_data"
    },
    {
     "data": {
      "text/html": [
       "\n",
       "    <div style=\"\n",
       "        border: 1px solid #856404;\n",
       "        background-color: rgba(255, 193, 7, 0.1);\n",
       "        color: #856404;\n",
       "        padding: 12px 18px;\n",
       "        margin: 10px 0;\n",
       "        border-radius: 5px;\n",
       "        font-family: sans-serif;\n",
       "        font-size: 14px;\n",
       "        animation: fadeIn 0.5s ease-out;\n",
       "        line-height: 1.6;\n",
       "    \">\n",
       "        <span style=\"font-weight: bold; margin-right: 8px;\">⚠️ WARNING:</span>\n",
       "        Skipped kaliua_2794.jpg: 'processed'\n",
       "    </div>\n",
       "    <style>\n",
       "        @keyframes fadeIn {\n",
       "            from { opacity: 0; transform: translateY(-10px); }\n",
       "            to { opacity: 1; transform: translateY(0); }\n",
       "        }\n",
       "    </style>\n",
       "    "
      ],
      "text/plain": [
       "<IPython.core.display.HTML object>"
      ]
     },
     "metadata": {},
     "output_type": "display_data"
    },
    {
     "data": {
      "text/html": [
       "\n",
       "    <div style=\"\n",
       "        border: 1px solid #856404;\n",
       "        background-color: rgba(255, 193, 7, 0.1);\n",
       "        color: #856404;\n",
       "        padding: 12px 18px;\n",
       "        margin: 10px 0;\n",
       "        border-radius: 5px;\n",
       "        font-family: sans-serif;\n",
       "        font-size: 14px;\n",
       "        animation: fadeIn 0.5s ease-out;\n",
       "        line-height: 1.6;\n",
       "    \">\n",
       "        <span style=\"font-weight: bold; margin-right: 8px;\">⚠️ WARNING:</span>\n",
       "        Skipped kaliua_2795.jpg: 'processed'\n",
       "    </div>\n",
       "    <style>\n",
       "        @keyframes fadeIn {\n",
       "            from { opacity: 0; transform: translateY(-10px); }\n",
       "            to { opacity: 1; transform: translateY(0); }\n",
       "        }\n",
       "    </style>\n",
       "    "
      ],
      "text/plain": [
       "<IPython.core.display.HTML object>"
      ]
     },
     "metadata": {},
     "output_type": "display_data"
    },
    {
     "data": {
      "text/html": [
       "\n",
       "    <div style=\"\n",
       "        border: 1px solid #856404;\n",
       "        background-color: rgba(255, 193, 7, 0.1);\n",
       "        color: #856404;\n",
       "        padding: 12px 18px;\n",
       "        margin: 10px 0;\n",
       "        border-radius: 5px;\n",
       "        font-family: sans-serif;\n",
       "        font-size: 14px;\n",
       "        animation: fadeIn 0.5s ease-out;\n",
       "        line-height: 1.6;\n",
       "    \">\n",
       "        <span style=\"font-weight: bold; margin-right: 8px;\">⚠️ WARNING:</span>\n",
       "        Skipped kaliua_2796.jpg: 'processed'\n",
       "    </div>\n",
       "    <style>\n",
       "        @keyframes fadeIn {\n",
       "            from { opacity: 0; transform: translateY(-10px); }\n",
       "            to { opacity: 1; transform: translateY(0); }\n",
       "        }\n",
       "    </style>\n",
       "    "
      ],
      "text/plain": [
       "<IPython.core.display.HTML object>"
      ]
     },
     "metadata": {},
     "output_type": "display_data"
    },
    {
     "data": {
      "text/html": [
       "\n",
       "    <div style=\"\n",
       "        border: 1px solid #856404;\n",
       "        background-color: rgba(255, 193, 7, 0.1);\n",
       "        color: #856404;\n",
       "        padding: 12px 18px;\n",
       "        margin: 10px 0;\n",
       "        border-radius: 5px;\n",
       "        font-family: sans-serif;\n",
       "        font-size: 14px;\n",
       "        animation: fadeIn 0.5s ease-out;\n",
       "        line-height: 1.6;\n",
       "    \">\n",
       "        <span style=\"font-weight: bold; margin-right: 8px;\">⚠️ WARNING:</span>\n",
       "        Skipped kaliua_2797.jpg: 'processed'\n",
       "    </div>\n",
       "    <style>\n",
       "        @keyframes fadeIn {\n",
       "            from { opacity: 0; transform: translateY(-10px); }\n",
       "            to { opacity: 1; transform: translateY(0); }\n",
       "        }\n",
       "    </style>\n",
       "    "
      ],
      "text/plain": [
       "<IPython.core.display.HTML object>"
      ]
     },
     "metadata": {},
     "output_type": "display_data"
    },
    {
     "data": {
      "text/html": [
       "\n",
       "    <div style=\"\n",
       "        border: 1px solid #856404;\n",
       "        background-color: rgba(255, 193, 7, 0.1);\n",
       "        color: #856404;\n",
       "        padding: 12px 18px;\n",
       "        margin: 10px 0;\n",
       "        border-radius: 5px;\n",
       "        font-family: sans-serif;\n",
       "        font-size: 14px;\n",
       "        animation: fadeIn 0.5s ease-out;\n",
       "        line-height: 1.6;\n",
       "    \">\n",
       "        <span style=\"font-weight: bold; margin-right: 8px;\">⚠️ WARNING:</span>\n",
       "        Skipped kaliua_2798.jpg: 'processed'\n",
       "    </div>\n",
       "    <style>\n",
       "        @keyframes fadeIn {\n",
       "            from { opacity: 0; transform: translateY(-10px); }\n",
       "            to { opacity: 1; transform: translateY(0); }\n",
       "        }\n",
       "    </style>\n",
       "    "
      ],
      "text/plain": [
       "<IPython.core.display.HTML object>"
      ]
     },
     "metadata": {},
     "output_type": "display_data"
    },
    {
     "data": {
      "text/html": [
       "\n",
       "    <div style=\"\n",
       "        border: 1px solid #856404;\n",
       "        background-color: rgba(255, 193, 7, 0.1);\n",
       "        color: #856404;\n",
       "        padding: 12px 18px;\n",
       "        margin: 10px 0;\n",
       "        border-radius: 5px;\n",
       "        font-family: sans-serif;\n",
       "        font-size: 14px;\n",
       "        animation: fadeIn 0.5s ease-out;\n",
       "        line-height: 1.6;\n",
       "    \">\n",
       "        <span style=\"font-weight: bold; margin-right: 8px;\">⚠️ WARNING:</span>\n",
       "        Skipped kaliua_2799.jpg: 'processed'\n",
       "    </div>\n",
       "    <style>\n",
       "        @keyframes fadeIn {\n",
       "            from { opacity: 0; transform: translateY(-10px); }\n",
       "            to { opacity: 1; transform: translateY(0); }\n",
       "        }\n",
       "    </style>\n",
       "    "
      ],
      "text/plain": [
       "<IPython.core.display.HTML object>"
      ]
     },
     "metadata": {},
     "output_type": "display_data"
    },
    {
     "data": {
      "text/html": [
       "\n",
       "    <div style=\"\n",
       "        border: 1px solid #856404;\n",
       "        background-color: rgba(255, 193, 7, 0.1);\n",
       "        color: #856404;\n",
       "        padding: 12px 18px;\n",
       "        margin: 10px 0;\n",
       "        border-radius: 5px;\n",
       "        font-family: sans-serif;\n",
       "        font-size: 14px;\n",
       "        animation: fadeIn 0.5s ease-out;\n",
       "        line-height: 1.6;\n",
       "    \">\n",
       "        <span style=\"font-weight: bold; margin-right: 8px;\">⚠️ WARNING:</span>\n",
       "        Skipped kaliua_28.jpg: 'processed'\n",
       "    </div>\n",
       "    <style>\n",
       "        @keyframes fadeIn {\n",
       "            from { opacity: 0; transform: translateY(-10px); }\n",
       "            to { opacity: 1; transform: translateY(0); }\n",
       "        }\n",
       "    </style>\n",
       "    "
      ],
      "text/plain": [
       "<IPython.core.display.HTML object>"
      ]
     },
     "metadata": {},
     "output_type": "display_data"
    },
    {
     "data": {
      "text/html": [
       "\n",
       "    <div style=\"\n",
       "        border: 1px solid #856404;\n",
       "        background-color: rgba(255, 193, 7, 0.1);\n",
       "        color: #856404;\n",
       "        padding: 12px 18px;\n",
       "        margin: 10px 0;\n",
       "        border-radius: 5px;\n",
       "        font-family: sans-serif;\n",
       "        font-size: 14px;\n",
       "        animation: fadeIn 0.5s ease-out;\n",
       "        line-height: 1.6;\n",
       "    \">\n",
       "        <span style=\"font-weight: bold; margin-right: 8px;\">⚠️ WARNING:</span>\n",
       "        Skipped kaliua_2800.jpg: 'processed'\n",
       "    </div>\n",
       "    <style>\n",
       "        @keyframes fadeIn {\n",
       "            from { opacity: 0; transform: translateY(-10px); }\n",
       "            to { opacity: 1; transform: translateY(0); }\n",
       "        }\n",
       "    </style>\n",
       "    "
      ],
      "text/plain": [
       "<IPython.core.display.HTML object>"
      ]
     },
     "metadata": {},
     "output_type": "display_data"
    },
    {
     "data": {
      "text/html": [
       "\n",
       "    <div style=\"\n",
       "        border: 1px solid #856404;\n",
       "        background-color: rgba(255, 193, 7, 0.1);\n",
       "        color: #856404;\n",
       "        padding: 12px 18px;\n",
       "        margin: 10px 0;\n",
       "        border-radius: 5px;\n",
       "        font-family: sans-serif;\n",
       "        font-size: 14px;\n",
       "        animation: fadeIn 0.5s ease-out;\n",
       "        line-height: 1.6;\n",
       "    \">\n",
       "        <span style=\"font-weight: bold; margin-right: 8px;\">⚠️ WARNING:</span>\n",
       "        Skipped kaliua_2801.jpg: 'processed'\n",
       "    </div>\n",
       "    <style>\n",
       "        @keyframes fadeIn {\n",
       "            from { opacity: 0; transform: translateY(-10px); }\n",
       "            to { opacity: 1; transform: translateY(0); }\n",
       "        }\n",
       "    </style>\n",
       "    "
      ],
      "text/plain": [
       "<IPython.core.display.HTML object>"
      ]
     },
     "metadata": {},
     "output_type": "display_data"
    },
    {
     "data": {
      "text/html": [
       "\n",
       "    <div style=\"\n",
       "        border: 1px solid #856404;\n",
       "        background-color: rgba(255, 193, 7, 0.1);\n",
       "        color: #856404;\n",
       "        padding: 12px 18px;\n",
       "        margin: 10px 0;\n",
       "        border-radius: 5px;\n",
       "        font-family: sans-serif;\n",
       "        font-size: 14px;\n",
       "        animation: fadeIn 0.5s ease-out;\n",
       "        line-height: 1.6;\n",
       "    \">\n",
       "        <span style=\"font-weight: bold; margin-right: 8px;\">⚠️ WARNING:</span>\n",
       "        Skipped kaliua_2802.jpg: 'processed'\n",
       "    </div>\n",
       "    <style>\n",
       "        @keyframes fadeIn {\n",
       "            from { opacity: 0; transform: translateY(-10px); }\n",
       "            to { opacity: 1; transform: translateY(0); }\n",
       "        }\n",
       "    </style>\n",
       "    "
      ],
      "text/plain": [
       "<IPython.core.display.HTML object>"
      ]
     },
     "metadata": {},
     "output_type": "display_data"
    },
    {
     "data": {
      "text/html": [
       "\n",
       "    <div style=\"\n",
       "        border: 1px solid #856404;\n",
       "        background-color: rgba(255, 193, 7, 0.1);\n",
       "        color: #856404;\n",
       "        padding: 12px 18px;\n",
       "        margin: 10px 0;\n",
       "        border-radius: 5px;\n",
       "        font-family: sans-serif;\n",
       "        font-size: 14px;\n",
       "        animation: fadeIn 0.5s ease-out;\n",
       "        line-height: 1.6;\n",
       "    \">\n",
       "        <span style=\"font-weight: bold; margin-right: 8px;\">⚠️ WARNING:</span>\n",
       "        Skipped kaliua_2803.jpg: 'processed'\n",
       "    </div>\n",
       "    <style>\n",
       "        @keyframes fadeIn {\n",
       "            from { opacity: 0; transform: translateY(-10px); }\n",
       "            to { opacity: 1; transform: translateY(0); }\n",
       "        }\n",
       "    </style>\n",
       "    "
      ],
      "text/plain": [
       "<IPython.core.display.HTML object>"
      ]
     },
     "metadata": {},
     "output_type": "display_data"
    },
    {
     "data": {
      "text/html": [
       "\n",
       "    <div style=\"\n",
       "        border: 1px solid #856404;\n",
       "        background-color: rgba(255, 193, 7, 0.1);\n",
       "        color: #856404;\n",
       "        padding: 12px 18px;\n",
       "        margin: 10px 0;\n",
       "        border-radius: 5px;\n",
       "        font-family: sans-serif;\n",
       "        font-size: 14px;\n",
       "        animation: fadeIn 0.5s ease-out;\n",
       "        line-height: 1.6;\n",
       "    \">\n",
       "        <span style=\"font-weight: bold; margin-right: 8px;\">⚠️ WARNING:</span>\n",
       "        Skipped kaliua_2804.jpg: 'processed'\n",
       "    </div>\n",
       "    <style>\n",
       "        @keyframes fadeIn {\n",
       "            from { opacity: 0; transform: translateY(-10px); }\n",
       "            to { opacity: 1; transform: translateY(0); }\n",
       "        }\n",
       "    </style>\n",
       "    "
      ],
      "text/plain": [
       "<IPython.core.display.HTML object>"
      ]
     },
     "metadata": {},
     "output_type": "display_data"
    },
    {
     "data": {
      "text/html": [
       "\n",
       "    <div style=\"\n",
       "        border: 1px solid #856404;\n",
       "        background-color: rgba(255, 193, 7, 0.1);\n",
       "        color: #856404;\n",
       "        padding: 12px 18px;\n",
       "        margin: 10px 0;\n",
       "        border-radius: 5px;\n",
       "        font-family: sans-serif;\n",
       "        font-size: 14px;\n",
       "        animation: fadeIn 0.5s ease-out;\n",
       "        line-height: 1.6;\n",
       "    \">\n",
       "        <span style=\"font-weight: bold; margin-right: 8px;\">⚠️ WARNING:</span>\n",
       "        Skipped kaliua_2805.jpg: 'processed'\n",
       "    </div>\n",
       "    <style>\n",
       "        @keyframes fadeIn {\n",
       "            from { opacity: 0; transform: translateY(-10px); }\n",
       "            to { opacity: 1; transform: translateY(0); }\n",
       "        }\n",
       "    </style>\n",
       "    "
      ],
      "text/plain": [
       "<IPython.core.display.HTML object>"
      ]
     },
     "metadata": {},
     "output_type": "display_data"
    },
    {
     "data": {
      "text/html": [
       "\n",
       "    <div style=\"\n",
       "        border: 1px solid #856404;\n",
       "        background-color: rgba(255, 193, 7, 0.1);\n",
       "        color: #856404;\n",
       "        padding: 12px 18px;\n",
       "        margin: 10px 0;\n",
       "        border-radius: 5px;\n",
       "        font-family: sans-serif;\n",
       "        font-size: 14px;\n",
       "        animation: fadeIn 0.5s ease-out;\n",
       "        line-height: 1.6;\n",
       "    \">\n",
       "        <span style=\"font-weight: bold; margin-right: 8px;\">⚠️ WARNING:</span>\n",
       "        Skipped kaliua_2806.jpg: 'processed'\n",
       "    </div>\n",
       "    <style>\n",
       "        @keyframes fadeIn {\n",
       "            from { opacity: 0; transform: translateY(-10px); }\n",
       "            to { opacity: 1; transform: translateY(0); }\n",
       "        }\n",
       "    </style>\n",
       "    "
      ],
      "text/plain": [
       "<IPython.core.display.HTML object>"
      ]
     },
     "metadata": {},
     "output_type": "display_data"
    },
    {
     "data": {
      "text/html": [
       "\n",
       "    <div style=\"\n",
       "        border: 1px solid #856404;\n",
       "        background-color: rgba(255, 193, 7, 0.1);\n",
       "        color: #856404;\n",
       "        padding: 12px 18px;\n",
       "        margin: 10px 0;\n",
       "        border-radius: 5px;\n",
       "        font-family: sans-serif;\n",
       "        font-size: 14px;\n",
       "        animation: fadeIn 0.5s ease-out;\n",
       "        line-height: 1.6;\n",
       "    \">\n",
       "        <span style=\"font-weight: bold; margin-right: 8px;\">⚠️ WARNING:</span>\n",
       "        Skipped kaliua_2807.jpg: 'processed'\n",
       "    </div>\n",
       "    <style>\n",
       "        @keyframes fadeIn {\n",
       "            from { opacity: 0; transform: translateY(-10px); }\n",
       "            to { opacity: 1; transform: translateY(0); }\n",
       "        }\n",
       "    </style>\n",
       "    "
      ],
      "text/plain": [
       "<IPython.core.display.HTML object>"
      ]
     },
     "metadata": {},
     "output_type": "display_data"
    },
    {
     "data": {
      "text/html": [
       "\n",
       "    <div style=\"\n",
       "        border: 1px solid #856404;\n",
       "        background-color: rgba(255, 193, 7, 0.1);\n",
       "        color: #856404;\n",
       "        padding: 12px 18px;\n",
       "        margin: 10px 0;\n",
       "        border-radius: 5px;\n",
       "        font-family: sans-serif;\n",
       "        font-size: 14px;\n",
       "        animation: fadeIn 0.5s ease-out;\n",
       "        line-height: 1.6;\n",
       "    \">\n",
       "        <span style=\"font-weight: bold; margin-right: 8px;\">⚠️ WARNING:</span>\n",
       "        Skipped kaliua_2808.jpg: 'processed'\n",
       "    </div>\n",
       "    <style>\n",
       "        @keyframes fadeIn {\n",
       "            from { opacity: 0; transform: translateY(-10px); }\n",
       "            to { opacity: 1; transform: translateY(0); }\n",
       "        }\n",
       "    </style>\n",
       "    "
      ],
      "text/plain": [
       "<IPython.core.display.HTML object>"
      ]
     },
     "metadata": {},
     "output_type": "display_data"
    },
    {
     "data": {
      "text/html": [
       "\n",
       "    <div style=\"\n",
       "        border: 1px solid #856404;\n",
       "        background-color: rgba(255, 193, 7, 0.1);\n",
       "        color: #856404;\n",
       "        padding: 12px 18px;\n",
       "        margin: 10px 0;\n",
       "        border-radius: 5px;\n",
       "        font-family: sans-serif;\n",
       "        font-size: 14px;\n",
       "        animation: fadeIn 0.5s ease-out;\n",
       "        line-height: 1.6;\n",
       "    \">\n",
       "        <span style=\"font-weight: bold; margin-right: 8px;\">⚠️ WARNING:</span>\n",
       "        Skipped kaliua_2809.jpg: 'processed'\n",
       "    </div>\n",
       "    <style>\n",
       "        @keyframes fadeIn {\n",
       "            from { opacity: 0; transform: translateY(-10px); }\n",
       "            to { opacity: 1; transform: translateY(0); }\n",
       "        }\n",
       "    </style>\n",
       "    "
      ],
      "text/plain": [
       "<IPython.core.display.HTML object>"
      ]
     },
     "metadata": {},
     "output_type": "display_data"
    },
    {
     "data": {
      "text/html": [
       "\n",
       "    <div style=\"\n",
       "        border: 1px solid #856404;\n",
       "        background-color: rgba(255, 193, 7, 0.1);\n",
       "        color: #856404;\n",
       "        padding: 12px 18px;\n",
       "        margin: 10px 0;\n",
       "        border-radius: 5px;\n",
       "        font-family: sans-serif;\n",
       "        font-size: 14px;\n",
       "        animation: fadeIn 0.5s ease-out;\n",
       "        line-height: 1.6;\n",
       "    \">\n",
       "        <span style=\"font-weight: bold; margin-right: 8px;\">⚠️ WARNING:</span>\n",
       "        Skipped kaliua_2810.jpg: 'processed'\n",
       "    </div>\n",
       "    <style>\n",
       "        @keyframes fadeIn {\n",
       "            from { opacity: 0; transform: translateY(-10px); }\n",
       "            to { opacity: 1; transform: translateY(0); }\n",
       "        }\n",
       "    </style>\n",
       "    "
      ],
      "text/plain": [
       "<IPython.core.display.HTML object>"
      ]
     },
     "metadata": {},
     "output_type": "display_data"
    },
    {
     "data": {
      "text/html": [
       "\n",
       "    <div style=\"\n",
       "        border: 1px solid #856404;\n",
       "        background-color: rgba(255, 193, 7, 0.1);\n",
       "        color: #856404;\n",
       "        padding: 12px 18px;\n",
       "        margin: 10px 0;\n",
       "        border-radius: 5px;\n",
       "        font-family: sans-serif;\n",
       "        font-size: 14px;\n",
       "        animation: fadeIn 0.5s ease-out;\n",
       "        line-height: 1.6;\n",
       "    \">\n",
       "        <span style=\"font-weight: bold; margin-right: 8px;\">⚠️ WARNING:</span>\n",
       "        Skipped kaliua_2811.jpg: 'processed'\n",
       "    </div>\n",
       "    <style>\n",
       "        @keyframes fadeIn {\n",
       "            from { opacity: 0; transform: translateY(-10px); }\n",
       "            to { opacity: 1; transform: translateY(0); }\n",
       "        }\n",
       "    </style>\n",
       "    "
      ],
      "text/plain": [
       "<IPython.core.display.HTML object>"
      ]
     },
     "metadata": {},
     "output_type": "display_data"
    },
    {
     "data": {
      "text/html": [
       "\n",
       "    <div style=\"\n",
       "        border: 1px solid #856404;\n",
       "        background-color: rgba(255, 193, 7, 0.1);\n",
       "        color: #856404;\n",
       "        padding: 12px 18px;\n",
       "        margin: 10px 0;\n",
       "        border-radius: 5px;\n",
       "        font-family: sans-serif;\n",
       "        font-size: 14px;\n",
       "        animation: fadeIn 0.5s ease-out;\n",
       "        line-height: 1.6;\n",
       "    \">\n",
       "        <span style=\"font-weight: bold; margin-right: 8px;\">⚠️ WARNING:</span>\n",
       "        Skipped kaliua_2812.jpg: 'processed'\n",
       "    </div>\n",
       "    <style>\n",
       "        @keyframes fadeIn {\n",
       "            from { opacity: 0; transform: translateY(-10px); }\n",
       "            to { opacity: 1; transform: translateY(0); }\n",
       "        }\n",
       "    </style>\n",
       "    "
      ],
      "text/plain": [
       "<IPython.core.display.HTML object>"
      ]
     },
     "metadata": {},
     "output_type": "display_data"
    },
    {
     "data": {
      "text/html": [
       "\n",
       "    <div style=\"\n",
       "        border: 1px solid #856404;\n",
       "        background-color: rgba(255, 193, 7, 0.1);\n",
       "        color: #856404;\n",
       "        padding: 12px 18px;\n",
       "        margin: 10px 0;\n",
       "        border-radius: 5px;\n",
       "        font-family: sans-serif;\n",
       "        font-size: 14px;\n",
       "        animation: fadeIn 0.5s ease-out;\n",
       "        line-height: 1.6;\n",
       "    \">\n",
       "        <span style=\"font-weight: bold; margin-right: 8px;\">⚠️ WARNING:</span>\n",
       "        Skipped kaliua_2813.jpg: 'processed'\n",
       "    </div>\n",
       "    <style>\n",
       "        @keyframes fadeIn {\n",
       "            from { opacity: 0; transform: translateY(-10px); }\n",
       "            to { opacity: 1; transform: translateY(0); }\n",
       "        }\n",
       "    </style>\n",
       "    "
      ],
      "text/plain": [
       "<IPython.core.display.HTML object>"
      ]
     },
     "metadata": {},
     "output_type": "display_data"
    },
    {
     "data": {
      "text/html": [
       "\n",
       "    <div style=\"\n",
       "        border: 1px solid #856404;\n",
       "        background-color: rgba(255, 193, 7, 0.1);\n",
       "        color: #856404;\n",
       "        padding: 12px 18px;\n",
       "        margin: 10px 0;\n",
       "        border-radius: 5px;\n",
       "        font-family: sans-serif;\n",
       "        font-size: 14px;\n",
       "        animation: fadeIn 0.5s ease-out;\n",
       "        line-height: 1.6;\n",
       "    \">\n",
       "        <span style=\"font-weight: bold; margin-right: 8px;\">⚠️ WARNING:</span>\n",
       "        Skipped kaliua_2814.jpg: 'processed'\n",
       "    </div>\n",
       "    <style>\n",
       "        @keyframes fadeIn {\n",
       "            from { opacity: 0; transform: translateY(-10px); }\n",
       "            to { opacity: 1; transform: translateY(0); }\n",
       "        }\n",
       "    </style>\n",
       "    "
      ],
      "text/plain": [
       "<IPython.core.display.HTML object>"
      ]
     },
     "metadata": {},
     "output_type": "display_data"
    },
    {
     "data": {
      "text/html": [
       "\n",
       "    <div style=\"\n",
       "        border: 1px solid #856404;\n",
       "        background-color: rgba(255, 193, 7, 0.1);\n",
       "        color: #856404;\n",
       "        padding: 12px 18px;\n",
       "        margin: 10px 0;\n",
       "        border-radius: 5px;\n",
       "        font-family: sans-serif;\n",
       "        font-size: 14px;\n",
       "        animation: fadeIn 0.5s ease-out;\n",
       "        line-height: 1.6;\n",
       "    \">\n",
       "        <span style=\"font-weight: bold; margin-right: 8px;\">⚠️ WARNING:</span>\n",
       "        Skipped kaliua_2815.jpg: 'processed'\n",
       "    </div>\n",
       "    <style>\n",
       "        @keyframes fadeIn {\n",
       "            from { opacity: 0; transform: translateY(-10px); }\n",
       "            to { opacity: 1; transform: translateY(0); }\n",
       "        }\n",
       "    </style>\n",
       "    "
      ],
      "text/plain": [
       "<IPython.core.display.HTML object>"
      ]
     },
     "metadata": {},
     "output_type": "display_data"
    },
    {
     "data": {
      "text/html": [
       "\n",
       "    <div style=\"\n",
       "        border: 1px solid #856404;\n",
       "        background-color: rgba(255, 193, 7, 0.1);\n",
       "        color: #856404;\n",
       "        padding: 12px 18px;\n",
       "        margin: 10px 0;\n",
       "        border-radius: 5px;\n",
       "        font-family: sans-serif;\n",
       "        font-size: 14px;\n",
       "        animation: fadeIn 0.5s ease-out;\n",
       "        line-height: 1.6;\n",
       "    \">\n",
       "        <span style=\"font-weight: bold; margin-right: 8px;\">⚠️ WARNING:</span>\n",
       "        Skipped kaliua_2816.jpg: 'processed'\n",
       "    </div>\n",
       "    <style>\n",
       "        @keyframes fadeIn {\n",
       "            from { opacity: 0; transform: translateY(-10px); }\n",
       "            to { opacity: 1; transform: translateY(0); }\n",
       "        }\n",
       "    </style>\n",
       "    "
      ],
      "text/plain": [
       "<IPython.core.display.HTML object>"
      ]
     },
     "metadata": {},
     "output_type": "display_data"
    },
    {
     "data": {
      "text/html": [
       "\n",
       "    <div style=\"\n",
       "        border: 1px solid #856404;\n",
       "        background-color: rgba(255, 193, 7, 0.1);\n",
       "        color: #856404;\n",
       "        padding: 12px 18px;\n",
       "        margin: 10px 0;\n",
       "        border-radius: 5px;\n",
       "        font-family: sans-serif;\n",
       "        font-size: 14px;\n",
       "        animation: fadeIn 0.5s ease-out;\n",
       "        line-height: 1.6;\n",
       "    \">\n",
       "        <span style=\"font-weight: bold; margin-right: 8px;\">⚠️ WARNING:</span>\n",
       "        Skipped kaliua_2817.jpg: 'processed'\n",
       "    </div>\n",
       "    <style>\n",
       "        @keyframes fadeIn {\n",
       "            from { opacity: 0; transform: translateY(-10px); }\n",
       "            to { opacity: 1; transform: translateY(0); }\n",
       "        }\n",
       "    </style>\n",
       "    "
      ],
      "text/plain": [
       "<IPython.core.display.HTML object>"
      ]
     },
     "metadata": {},
     "output_type": "display_data"
    },
    {
     "data": {
      "text/html": [
       "\n",
       "    <div style=\"\n",
       "        border: 1px solid #856404;\n",
       "        background-color: rgba(255, 193, 7, 0.1);\n",
       "        color: #856404;\n",
       "        padding: 12px 18px;\n",
       "        margin: 10px 0;\n",
       "        border-radius: 5px;\n",
       "        font-family: sans-serif;\n",
       "        font-size: 14px;\n",
       "        animation: fadeIn 0.5s ease-out;\n",
       "        line-height: 1.6;\n",
       "    \">\n",
       "        <span style=\"font-weight: bold; margin-right: 8px;\">⚠️ WARNING:</span>\n",
       "        Skipped kaliua_2818.jpg: 'processed'\n",
       "    </div>\n",
       "    <style>\n",
       "        @keyframes fadeIn {\n",
       "            from { opacity: 0; transform: translateY(-10px); }\n",
       "            to { opacity: 1; transform: translateY(0); }\n",
       "        }\n",
       "    </style>\n",
       "    "
      ],
      "text/plain": [
       "<IPython.core.display.HTML object>"
      ]
     },
     "metadata": {},
     "output_type": "display_data"
    },
    {
     "data": {
      "text/html": [
       "\n",
       "    <div style=\"\n",
       "        border: 1px solid #856404;\n",
       "        background-color: rgba(255, 193, 7, 0.1);\n",
       "        color: #856404;\n",
       "        padding: 12px 18px;\n",
       "        margin: 10px 0;\n",
       "        border-radius: 5px;\n",
       "        font-family: sans-serif;\n",
       "        font-size: 14px;\n",
       "        animation: fadeIn 0.5s ease-out;\n",
       "        line-height: 1.6;\n",
       "    \">\n",
       "        <span style=\"font-weight: bold; margin-right: 8px;\">⚠️ WARNING:</span>\n",
       "        Skipped kaliua_2819.jpg: 'processed'\n",
       "    </div>\n",
       "    <style>\n",
       "        @keyframes fadeIn {\n",
       "            from { opacity: 0; transform: translateY(-10px); }\n",
       "            to { opacity: 1; transform: translateY(0); }\n",
       "        }\n",
       "    </style>\n",
       "    "
      ],
      "text/plain": [
       "<IPython.core.display.HTML object>"
      ]
     },
     "metadata": {},
     "output_type": "display_data"
    },
    {
     "data": {
      "text/html": [
       "\n",
       "    <div style=\"\n",
       "        border: 1px solid #856404;\n",
       "        background-color: rgba(255, 193, 7, 0.1);\n",
       "        color: #856404;\n",
       "        padding: 12px 18px;\n",
       "        margin: 10px 0;\n",
       "        border-radius: 5px;\n",
       "        font-family: sans-serif;\n",
       "        font-size: 14px;\n",
       "        animation: fadeIn 0.5s ease-out;\n",
       "        line-height: 1.6;\n",
       "    \">\n",
       "        <span style=\"font-weight: bold; margin-right: 8px;\">⚠️ WARNING:</span>\n",
       "        Skipped kaliua_2820.jpg: 'processed'\n",
       "    </div>\n",
       "    <style>\n",
       "        @keyframes fadeIn {\n",
       "            from { opacity: 0; transform: translateY(-10px); }\n",
       "            to { opacity: 1; transform: translateY(0); }\n",
       "        }\n",
       "    </style>\n",
       "    "
      ],
      "text/plain": [
       "<IPython.core.display.HTML object>"
      ]
     },
     "metadata": {},
     "output_type": "display_data"
    },
    {
     "data": {
      "text/html": [
       "\n",
       "    <div style=\"\n",
       "        border: 1px solid #856404;\n",
       "        background-color: rgba(255, 193, 7, 0.1);\n",
       "        color: #856404;\n",
       "        padding: 12px 18px;\n",
       "        margin: 10px 0;\n",
       "        border-radius: 5px;\n",
       "        font-family: sans-serif;\n",
       "        font-size: 14px;\n",
       "        animation: fadeIn 0.5s ease-out;\n",
       "        line-height: 1.6;\n",
       "    \">\n",
       "        <span style=\"font-weight: bold; margin-right: 8px;\">⚠️ WARNING:</span>\n",
       "        Skipped kaliua_2821.jpg: 'processed'\n",
       "    </div>\n",
       "    <style>\n",
       "        @keyframes fadeIn {\n",
       "            from { opacity: 0; transform: translateY(-10px); }\n",
       "            to { opacity: 1; transform: translateY(0); }\n",
       "        }\n",
       "    </style>\n",
       "    "
      ],
      "text/plain": [
       "<IPython.core.display.HTML object>"
      ]
     },
     "metadata": {},
     "output_type": "display_data"
    },
    {
     "data": {
      "text/html": [
       "\n",
       "    <div style=\"\n",
       "        border: 1px solid #856404;\n",
       "        background-color: rgba(255, 193, 7, 0.1);\n",
       "        color: #856404;\n",
       "        padding: 12px 18px;\n",
       "        margin: 10px 0;\n",
       "        border-radius: 5px;\n",
       "        font-family: sans-serif;\n",
       "        font-size: 14px;\n",
       "        animation: fadeIn 0.5s ease-out;\n",
       "        line-height: 1.6;\n",
       "    \">\n",
       "        <span style=\"font-weight: bold; margin-right: 8px;\">⚠️ WARNING:</span>\n",
       "        Skipped kaliua_2822.jpg: 'processed'\n",
       "    </div>\n",
       "    <style>\n",
       "        @keyframes fadeIn {\n",
       "            from { opacity: 0; transform: translateY(-10px); }\n",
       "            to { opacity: 1; transform: translateY(0); }\n",
       "        }\n",
       "    </style>\n",
       "    "
      ],
      "text/plain": [
       "<IPython.core.display.HTML object>"
      ]
     },
     "metadata": {},
     "output_type": "display_data"
    },
    {
     "data": {
      "text/html": [
       "\n",
       "    <div style=\"\n",
       "        border: 1px solid #856404;\n",
       "        background-color: rgba(255, 193, 7, 0.1);\n",
       "        color: #856404;\n",
       "        padding: 12px 18px;\n",
       "        margin: 10px 0;\n",
       "        border-radius: 5px;\n",
       "        font-family: sans-serif;\n",
       "        font-size: 14px;\n",
       "        animation: fadeIn 0.5s ease-out;\n",
       "        line-height: 1.6;\n",
       "    \">\n",
       "        <span style=\"font-weight: bold; margin-right: 8px;\">⚠️ WARNING:</span>\n",
       "        Skipped kaliua_2823.jpg: 'processed'\n",
       "    </div>\n",
       "    <style>\n",
       "        @keyframes fadeIn {\n",
       "            from { opacity: 0; transform: translateY(-10px); }\n",
       "            to { opacity: 1; transform: translateY(0); }\n",
       "        }\n",
       "    </style>\n",
       "    "
      ],
      "text/plain": [
       "<IPython.core.display.HTML object>"
      ]
     },
     "metadata": {},
     "output_type": "display_data"
    },
    {
     "data": {
      "text/html": [
       "\n",
       "    <div style=\"\n",
       "        border: 1px solid #856404;\n",
       "        background-color: rgba(255, 193, 7, 0.1);\n",
       "        color: #856404;\n",
       "        padding: 12px 18px;\n",
       "        margin: 10px 0;\n",
       "        border-radius: 5px;\n",
       "        font-family: sans-serif;\n",
       "        font-size: 14px;\n",
       "        animation: fadeIn 0.5s ease-out;\n",
       "        line-height: 1.6;\n",
       "    \">\n",
       "        <span style=\"font-weight: bold; margin-right: 8px;\">⚠️ WARNING:</span>\n",
       "        Skipped kaliua_2824.jpg: 'processed'\n",
       "    </div>\n",
       "    <style>\n",
       "        @keyframes fadeIn {\n",
       "            from { opacity: 0; transform: translateY(-10px); }\n",
       "            to { opacity: 1; transform: translateY(0); }\n",
       "        }\n",
       "    </style>\n",
       "    "
      ],
      "text/plain": [
       "<IPython.core.display.HTML object>"
      ]
     },
     "metadata": {},
     "output_type": "display_data"
    },
    {
     "data": {
      "text/html": [
       "\n",
       "    <div style=\"\n",
       "        border: 1px solid #856404;\n",
       "        background-color: rgba(255, 193, 7, 0.1);\n",
       "        color: #856404;\n",
       "        padding: 12px 18px;\n",
       "        margin: 10px 0;\n",
       "        border-radius: 5px;\n",
       "        font-family: sans-serif;\n",
       "        font-size: 14px;\n",
       "        animation: fadeIn 0.5s ease-out;\n",
       "        line-height: 1.6;\n",
       "    \">\n",
       "        <span style=\"font-weight: bold; margin-right: 8px;\">⚠️ WARNING:</span>\n",
       "        Skipped kaliua_2825.jpg: 'processed'\n",
       "    </div>\n",
       "    <style>\n",
       "        @keyframes fadeIn {\n",
       "            from { opacity: 0; transform: translateY(-10px); }\n",
       "            to { opacity: 1; transform: translateY(0); }\n",
       "        }\n",
       "    </style>\n",
       "    "
      ],
      "text/plain": [
       "<IPython.core.display.HTML object>"
      ]
     },
     "metadata": {},
     "output_type": "display_data"
    },
    {
     "data": {
      "text/html": [
       "\n",
       "    <div style=\"\n",
       "        border: 1px solid #856404;\n",
       "        background-color: rgba(255, 193, 7, 0.1);\n",
       "        color: #856404;\n",
       "        padding: 12px 18px;\n",
       "        margin: 10px 0;\n",
       "        border-radius: 5px;\n",
       "        font-family: sans-serif;\n",
       "        font-size: 14px;\n",
       "        animation: fadeIn 0.5s ease-out;\n",
       "        line-height: 1.6;\n",
       "    \">\n",
       "        <span style=\"font-weight: bold; margin-right: 8px;\">⚠️ WARNING:</span>\n",
       "        Skipped kaliua_2826.jpg: 'processed'\n",
       "    </div>\n",
       "    <style>\n",
       "        @keyframes fadeIn {\n",
       "            from { opacity: 0; transform: translateY(-10px); }\n",
       "            to { opacity: 1; transform: translateY(0); }\n",
       "        }\n",
       "    </style>\n",
       "    "
      ],
      "text/plain": [
       "<IPython.core.display.HTML object>"
      ]
     },
     "metadata": {},
     "output_type": "display_data"
    },
    {
     "data": {
      "text/html": [
       "\n",
       "    <div style=\"\n",
       "        border: 1px solid #856404;\n",
       "        background-color: rgba(255, 193, 7, 0.1);\n",
       "        color: #856404;\n",
       "        padding: 12px 18px;\n",
       "        margin: 10px 0;\n",
       "        border-radius: 5px;\n",
       "        font-family: sans-serif;\n",
       "        font-size: 14px;\n",
       "        animation: fadeIn 0.5s ease-out;\n",
       "        line-height: 1.6;\n",
       "    \">\n",
       "        <span style=\"font-weight: bold; margin-right: 8px;\">⚠️ WARNING:</span>\n",
       "        Skipped kaliua_2827.jpg: 'processed'\n",
       "    </div>\n",
       "    <style>\n",
       "        @keyframes fadeIn {\n",
       "            from { opacity: 0; transform: translateY(-10px); }\n",
       "            to { opacity: 1; transform: translateY(0); }\n",
       "        }\n",
       "    </style>\n",
       "    "
      ],
      "text/plain": [
       "<IPython.core.display.HTML object>"
      ]
     },
     "metadata": {},
     "output_type": "display_data"
    },
    {
     "data": {
      "text/html": [
       "\n",
       "    <div style=\"\n",
       "        border: 1px solid #856404;\n",
       "        background-color: rgba(255, 193, 7, 0.1);\n",
       "        color: #856404;\n",
       "        padding: 12px 18px;\n",
       "        margin: 10px 0;\n",
       "        border-radius: 5px;\n",
       "        font-family: sans-serif;\n",
       "        font-size: 14px;\n",
       "        animation: fadeIn 0.5s ease-out;\n",
       "        line-height: 1.6;\n",
       "    \">\n",
       "        <span style=\"font-weight: bold; margin-right: 8px;\">⚠️ WARNING:</span>\n",
       "        Skipped kaliua_2828.jpg: 'processed'\n",
       "    </div>\n",
       "    <style>\n",
       "        @keyframes fadeIn {\n",
       "            from { opacity: 0; transform: translateY(-10px); }\n",
       "            to { opacity: 1; transform: translateY(0); }\n",
       "        }\n",
       "    </style>\n",
       "    "
      ],
      "text/plain": [
       "<IPython.core.display.HTML object>"
      ]
     },
     "metadata": {},
     "output_type": "display_data"
    },
    {
     "data": {
      "text/html": [
       "\n",
       "    <div style=\"\n",
       "        border: 1px solid #856404;\n",
       "        background-color: rgba(255, 193, 7, 0.1);\n",
       "        color: #856404;\n",
       "        padding: 12px 18px;\n",
       "        margin: 10px 0;\n",
       "        border-radius: 5px;\n",
       "        font-family: sans-serif;\n",
       "        font-size: 14px;\n",
       "        animation: fadeIn 0.5s ease-out;\n",
       "        line-height: 1.6;\n",
       "    \">\n",
       "        <span style=\"font-weight: bold; margin-right: 8px;\">⚠️ WARNING:</span>\n",
       "        Skipped kaliua_2829.jpg: 'processed'\n",
       "    </div>\n",
       "    <style>\n",
       "        @keyframes fadeIn {\n",
       "            from { opacity: 0; transform: translateY(-10px); }\n",
       "            to { opacity: 1; transform: translateY(0); }\n",
       "        }\n",
       "    </style>\n",
       "    "
      ],
      "text/plain": [
       "<IPython.core.display.HTML object>"
      ]
     },
     "metadata": {},
     "output_type": "display_data"
    },
    {
     "data": {
      "text/html": [
       "\n",
       "    <div style=\"\n",
       "        border: 1px solid #856404;\n",
       "        background-color: rgba(255, 193, 7, 0.1);\n",
       "        color: #856404;\n",
       "        padding: 12px 18px;\n",
       "        margin: 10px 0;\n",
       "        border-radius: 5px;\n",
       "        font-family: sans-serif;\n",
       "        font-size: 14px;\n",
       "        animation: fadeIn 0.5s ease-out;\n",
       "        line-height: 1.6;\n",
       "    \">\n",
       "        <span style=\"font-weight: bold; margin-right: 8px;\">⚠️ WARNING:</span>\n",
       "        Skipped kaliua_2830.jpg: 'processed'\n",
       "    </div>\n",
       "    <style>\n",
       "        @keyframes fadeIn {\n",
       "            from { opacity: 0; transform: translateY(-10px); }\n",
       "            to { opacity: 1; transform: translateY(0); }\n",
       "        }\n",
       "    </style>\n",
       "    "
      ],
      "text/plain": [
       "<IPython.core.display.HTML object>"
      ]
     },
     "metadata": {},
     "output_type": "display_data"
    },
    {
     "data": {
      "text/html": [
       "\n",
       "    <div style=\"\n",
       "        border: 1px solid #856404;\n",
       "        background-color: rgba(255, 193, 7, 0.1);\n",
       "        color: #856404;\n",
       "        padding: 12px 18px;\n",
       "        margin: 10px 0;\n",
       "        border-radius: 5px;\n",
       "        font-family: sans-serif;\n",
       "        font-size: 14px;\n",
       "        animation: fadeIn 0.5s ease-out;\n",
       "        line-height: 1.6;\n",
       "    \">\n",
       "        <span style=\"font-weight: bold; margin-right: 8px;\">⚠️ WARNING:</span>\n",
       "        Skipped kaliua_2831.jpg: 'processed'\n",
       "    </div>\n",
       "    <style>\n",
       "        @keyframes fadeIn {\n",
       "            from { opacity: 0; transform: translateY(-10px); }\n",
       "            to { opacity: 1; transform: translateY(0); }\n",
       "        }\n",
       "    </style>\n",
       "    "
      ],
      "text/plain": [
       "<IPython.core.display.HTML object>"
      ]
     },
     "metadata": {},
     "output_type": "display_data"
    },
    {
     "data": {
      "text/html": [
       "\n",
       "    <div style=\"\n",
       "        border: 1px solid #856404;\n",
       "        background-color: rgba(255, 193, 7, 0.1);\n",
       "        color: #856404;\n",
       "        padding: 12px 18px;\n",
       "        margin: 10px 0;\n",
       "        border-radius: 5px;\n",
       "        font-family: sans-serif;\n",
       "        font-size: 14px;\n",
       "        animation: fadeIn 0.5s ease-out;\n",
       "        line-height: 1.6;\n",
       "    \">\n",
       "        <span style=\"font-weight: bold; margin-right: 8px;\">⚠️ WARNING:</span>\n",
       "        Skipped kaliua_2832.jpg: 'processed'\n",
       "    </div>\n",
       "    <style>\n",
       "        @keyframes fadeIn {\n",
       "            from { opacity: 0; transform: translateY(-10px); }\n",
       "            to { opacity: 1; transform: translateY(0); }\n",
       "        }\n",
       "    </style>\n",
       "    "
      ],
      "text/plain": [
       "<IPython.core.display.HTML object>"
      ]
     },
     "metadata": {},
     "output_type": "display_data"
    },
    {
     "data": {
      "text/html": [
       "\n",
       "    <div style=\"\n",
       "        border: 1px solid #856404;\n",
       "        background-color: rgba(255, 193, 7, 0.1);\n",
       "        color: #856404;\n",
       "        padding: 12px 18px;\n",
       "        margin: 10px 0;\n",
       "        border-radius: 5px;\n",
       "        font-family: sans-serif;\n",
       "        font-size: 14px;\n",
       "        animation: fadeIn 0.5s ease-out;\n",
       "        line-height: 1.6;\n",
       "    \">\n",
       "        <span style=\"font-weight: bold; margin-right: 8px;\">⚠️ WARNING:</span>\n",
       "        Skipped kaliua_2833.jpg: 'processed'\n",
       "    </div>\n",
       "    <style>\n",
       "        @keyframes fadeIn {\n",
       "            from { opacity: 0; transform: translateY(-10px); }\n",
       "            to { opacity: 1; transform: translateY(0); }\n",
       "        }\n",
       "    </style>\n",
       "    "
      ],
      "text/plain": [
       "<IPython.core.display.HTML object>"
      ]
     },
     "metadata": {},
     "output_type": "display_data"
    },
    {
     "data": {
      "text/html": [
       "\n",
       "    <div style=\"\n",
       "        border: 1px solid #856404;\n",
       "        background-color: rgba(255, 193, 7, 0.1);\n",
       "        color: #856404;\n",
       "        padding: 12px 18px;\n",
       "        margin: 10px 0;\n",
       "        border-radius: 5px;\n",
       "        font-family: sans-serif;\n",
       "        font-size: 14px;\n",
       "        animation: fadeIn 0.5s ease-out;\n",
       "        line-height: 1.6;\n",
       "    \">\n",
       "        <span style=\"font-weight: bold; margin-right: 8px;\">⚠️ WARNING:</span>\n",
       "        Skipped kaliua_2834.jpg: 'processed'\n",
       "    </div>\n",
       "    <style>\n",
       "        @keyframes fadeIn {\n",
       "            from { opacity: 0; transform: translateY(-10px); }\n",
       "            to { opacity: 1; transform: translateY(0); }\n",
       "        }\n",
       "    </style>\n",
       "    "
      ],
      "text/plain": [
       "<IPython.core.display.HTML object>"
      ]
     },
     "metadata": {},
     "output_type": "display_data"
    },
    {
     "data": {
      "text/html": [
       "\n",
       "    <div style=\"\n",
       "        border: 1px solid #856404;\n",
       "        background-color: rgba(255, 193, 7, 0.1);\n",
       "        color: #856404;\n",
       "        padding: 12px 18px;\n",
       "        margin: 10px 0;\n",
       "        border-radius: 5px;\n",
       "        font-family: sans-serif;\n",
       "        font-size: 14px;\n",
       "        animation: fadeIn 0.5s ease-out;\n",
       "        line-height: 1.6;\n",
       "    \">\n",
       "        <span style=\"font-weight: bold; margin-right: 8px;\">⚠️ WARNING:</span>\n",
       "        Skipped kaliua_2835.jpg: 'processed'\n",
       "    </div>\n",
       "    <style>\n",
       "        @keyframes fadeIn {\n",
       "            from { opacity: 0; transform: translateY(-10px); }\n",
       "            to { opacity: 1; transform: translateY(0); }\n",
       "        }\n",
       "    </style>\n",
       "    "
      ],
      "text/plain": [
       "<IPython.core.display.HTML object>"
      ]
     },
     "metadata": {},
     "output_type": "display_data"
    },
    {
     "data": {
      "text/html": [
       "\n",
       "    <div style=\"\n",
       "        border: 1px solid #856404;\n",
       "        background-color: rgba(255, 193, 7, 0.1);\n",
       "        color: #856404;\n",
       "        padding: 12px 18px;\n",
       "        margin: 10px 0;\n",
       "        border-radius: 5px;\n",
       "        font-family: sans-serif;\n",
       "        font-size: 14px;\n",
       "        animation: fadeIn 0.5s ease-out;\n",
       "        line-height: 1.6;\n",
       "    \">\n",
       "        <span style=\"font-weight: bold; margin-right: 8px;\">⚠️ WARNING:</span>\n",
       "        Skipped kaliua_2836.jpg: 'processed'\n",
       "    </div>\n",
       "    <style>\n",
       "        @keyframes fadeIn {\n",
       "            from { opacity: 0; transform: translateY(-10px); }\n",
       "            to { opacity: 1; transform: translateY(0); }\n",
       "        }\n",
       "    </style>\n",
       "    "
      ],
      "text/plain": [
       "<IPython.core.display.HTML object>"
      ]
     },
     "metadata": {},
     "output_type": "display_data"
    },
    {
     "data": {
      "text/html": [
       "\n",
       "    <div style=\"\n",
       "        border: 1px solid #856404;\n",
       "        background-color: rgba(255, 193, 7, 0.1);\n",
       "        color: #856404;\n",
       "        padding: 12px 18px;\n",
       "        margin: 10px 0;\n",
       "        border-radius: 5px;\n",
       "        font-family: sans-serif;\n",
       "        font-size: 14px;\n",
       "        animation: fadeIn 0.5s ease-out;\n",
       "        line-height: 1.6;\n",
       "    \">\n",
       "        <span style=\"font-weight: bold; margin-right: 8px;\">⚠️ WARNING:</span>\n",
       "        Skipped kaliua_2837.jpg: 'processed'\n",
       "    </div>\n",
       "    <style>\n",
       "        @keyframes fadeIn {\n",
       "            from { opacity: 0; transform: translateY(-10px); }\n",
       "            to { opacity: 1; transform: translateY(0); }\n",
       "        }\n",
       "    </style>\n",
       "    "
      ],
      "text/plain": [
       "<IPython.core.display.HTML object>"
      ]
     },
     "metadata": {},
     "output_type": "display_data"
    },
    {
     "data": {
      "text/html": [
       "\n",
       "    <div style=\"\n",
       "        border: 1px solid #856404;\n",
       "        background-color: rgba(255, 193, 7, 0.1);\n",
       "        color: #856404;\n",
       "        padding: 12px 18px;\n",
       "        margin: 10px 0;\n",
       "        border-radius: 5px;\n",
       "        font-family: sans-serif;\n",
       "        font-size: 14px;\n",
       "        animation: fadeIn 0.5s ease-out;\n",
       "        line-height: 1.6;\n",
       "    \">\n",
       "        <span style=\"font-weight: bold; margin-right: 8px;\">⚠️ WARNING:</span>\n",
       "        Skipped kaliua_2838.jpg: 'processed'\n",
       "    </div>\n",
       "    <style>\n",
       "        @keyframes fadeIn {\n",
       "            from { opacity: 0; transform: translateY(-10px); }\n",
       "            to { opacity: 1; transform: translateY(0); }\n",
       "        }\n",
       "    </style>\n",
       "    "
      ],
      "text/plain": [
       "<IPython.core.display.HTML object>"
      ]
     },
     "metadata": {},
     "output_type": "display_data"
    },
    {
     "data": {
      "text/html": [
       "\n",
       "    <div style=\"\n",
       "        border: 1px solid #856404;\n",
       "        background-color: rgba(255, 193, 7, 0.1);\n",
       "        color: #856404;\n",
       "        padding: 12px 18px;\n",
       "        margin: 10px 0;\n",
       "        border-radius: 5px;\n",
       "        font-family: sans-serif;\n",
       "        font-size: 14px;\n",
       "        animation: fadeIn 0.5s ease-out;\n",
       "        line-height: 1.6;\n",
       "    \">\n",
       "        <span style=\"font-weight: bold; margin-right: 8px;\">⚠️ WARNING:</span>\n",
       "        Skipped kaliua_2839.jpg: 'processed'\n",
       "    </div>\n",
       "    <style>\n",
       "        @keyframes fadeIn {\n",
       "            from { opacity: 0; transform: translateY(-10px); }\n",
       "            to { opacity: 1; transform: translateY(0); }\n",
       "        }\n",
       "    </style>\n",
       "    "
      ],
      "text/plain": [
       "<IPython.core.display.HTML object>"
      ]
     },
     "metadata": {},
     "output_type": "display_data"
    },
    {
     "data": {
      "text/html": [
       "\n",
       "    <div style=\"\n",
       "        border: 1px solid #856404;\n",
       "        background-color: rgba(255, 193, 7, 0.1);\n",
       "        color: #856404;\n",
       "        padding: 12px 18px;\n",
       "        margin: 10px 0;\n",
       "        border-radius: 5px;\n",
       "        font-family: sans-serif;\n",
       "        font-size: 14px;\n",
       "        animation: fadeIn 0.5s ease-out;\n",
       "        line-height: 1.6;\n",
       "    \">\n",
       "        <span style=\"font-weight: bold; margin-right: 8px;\">⚠️ WARNING:</span>\n",
       "        Skipped kaliua_2840.jpg: 'processed'\n",
       "    </div>\n",
       "    <style>\n",
       "        @keyframes fadeIn {\n",
       "            from { opacity: 0; transform: translateY(-10px); }\n",
       "            to { opacity: 1; transform: translateY(0); }\n",
       "        }\n",
       "    </style>\n",
       "    "
      ],
      "text/plain": [
       "<IPython.core.display.HTML object>"
      ]
     },
     "metadata": {},
     "output_type": "display_data"
    },
    {
     "data": {
      "text/html": [
       "\n",
       "    <div style=\"\n",
       "        border: 1px solid #856404;\n",
       "        background-color: rgba(255, 193, 7, 0.1);\n",
       "        color: #856404;\n",
       "        padding: 12px 18px;\n",
       "        margin: 10px 0;\n",
       "        border-radius: 5px;\n",
       "        font-family: sans-serif;\n",
       "        font-size: 14px;\n",
       "        animation: fadeIn 0.5s ease-out;\n",
       "        line-height: 1.6;\n",
       "    \">\n",
       "        <span style=\"font-weight: bold; margin-right: 8px;\">⚠️ WARNING:</span>\n",
       "        Skipped kaliua_2841.jpg: 'processed'\n",
       "    </div>\n",
       "    <style>\n",
       "        @keyframes fadeIn {\n",
       "            from { opacity: 0; transform: translateY(-10px); }\n",
       "            to { opacity: 1; transform: translateY(0); }\n",
       "        }\n",
       "    </style>\n",
       "    "
      ],
      "text/plain": [
       "<IPython.core.display.HTML object>"
      ]
     },
     "metadata": {},
     "output_type": "display_data"
    },
    {
     "data": {
      "text/html": [
       "\n",
       "    <div style=\"\n",
       "        border: 1px solid #856404;\n",
       "        background-color: rgba(255, 193, 7, 0.1);\n",
       "        color: #856404;\n",
       "        padding: 12px 18px;\n",
       "        margin: 10px 0;\n",
       "        border-radius: 5px;\n",
       "        font-family: sans-serif;\n",
       "        font-size: 14px;\n",
       "        animation: fadeIn 0.5s ease-out;\n",
       "        line-height: 1.6;\n",
       "    \">\n",
       "        <span style=\"font-weight: bold; margin-right: 8px;\">⚠️ WARNING:</span>\n",
       "        Skipped kaliua_2842.jpg: 'processed'\n",
       "    </div>\n",
       "    <style>\n",
       "        @keyframes fadeIn {\n",
       "            from { opacity: 0; transform: translateY(-10px); }\n",
       "            to { opacity: 1; transform: translateY(0); }\n",
       "        }\n",
       "    </style>\n",
       "    "
      ],
      "text/plain": [
       "<IPython.core.display.HTML object>"
      ]
     },
     "metadata": {},
     "output_type": "display_data"
    },
    {
     "name": "stderr",
     "output_type": "stream",
     "text": [
      "\n",
      "KeyboardInterrupt\n",
      "\n"
     ]
    }
   ],
   "source": [
    "enhanced_process_images()"
   ]
  },
  {
   "cell_type": "code",
   "execution_count": 5,
   "id": "af515c3f",
   "metadata": {},
   "outputs": [],
   "source": [
    "from pathlib import Path\n",
    "import joblib\n",
    "import cv2\n",
    "import numpy as np\n",
    "import pandas as pd\n",
    "from tqdm import tqdm\n",
    "from sklearn.decomposition import PCA\n",
    "from sklearn.preprocessing import MinMaxScaler\n",
    "from tensorflow.keras.applications import (\n",
    "    ResNet50, EfficientNetB3, MobileNetV2,\n",
    "    DenseNet121\n",
    ")\n",
    "from tensorflow.keras.applications.resnet50 import preprocess_input as resnet_preprocess\n",
    "from tensorflow.keras.applications.efficientnet import preprocess_input as efficientnet_preprocess\n",
    "from tensorflow.keras.applications.mobilenet_v2 import preprocess_input as mobilenet_preprocess\n",
    "from tensorflow.keras.applications.densenet import preprocess_input as densenet_preprocess\n",
    "from tensorflow.keras.models import Model\n",
    "from tensorflow.keras.layers import GlobalAveragePooling2D\n",
    "\n",
    "class EnhancedFeatureExtractor:\n",
    "    def __init__(self, use_ensemble=True, pca_components=256, target_size=(224, 224), verbose=True):\n",
    "        self.verbose = verbose\n",
    "        self.target_size = target_size\n",
    "        self.input_shape = target_size + (3,)\n",
    "        self.models = {}\n",
    "        self.preprocess_funcs = {}\n",
    "        self.layer_names = {}\n",
    "        self.class_weights = {}\n",
    "\n",
    "        if self.verbose:\n",
    "            self._show_status(f\"Initializing Feature Extractor (Ensemble: {use_ensemble}, PCA: {pca_components})\", 'info')\n",
    "\n",
    "        try:\n",
    "            self._initialize_models(use_ensemble)\n",
    "        except Exception as e:\n",
    "            self._show_status(f\"Error loading base CNN models: {e}\", 'error')\n",
    "            raise\n",
    "\n",
    "        self.feature_models = self._create_feature_models()\n",
    "        self.scaler = MinMaxScaler()\n",
    "        self.is_scaler_fitted = False\n",
    "        self.use_pca = pca_components is not None and pca_components > 0\n",
    "        self.pca = PCA(n_components=pca_components) if self.use_pca else None\n",
    "        self.is_pca_fitted = False\n",
    "\n",
    "    def _initialize_models(self, use_ensemble):\n",
    "        \"\"\"Initialize base CNN models\"\"\"\n",
    "        # ResNet50\n",
    "        self.models['resnet'] = ResNet50(\n",
    "            weights='imagenet', \n",
    "            include_top=False, \n",
    "            input_shape=self.input_shape\n",
    "        )\n",
    "        self.preprocess_funcs['resnet'] = resnet_preprocess\n",
    "        self.layer_names['resnet'] = [\n",
    "            'conv1_relu', 'conv2_block3_out', \n",
    "            'conv3_block4_out', 'conv4_block6_out', 'conv5_block3_out'\n",
    "        ]\n",
    "        self._show_status(\"ResNet50 loaded.\", 'success')\n",
    "\n",
    "        if use_ensemble:\n",
    "            # EfficientNetB3\n",
    "            self.models['efficientnet'] = EfficientNetB3(\n",
    "                weights='imagenet',\n",
    "                include_top=False,\n",
    "                input_shape=self.input_shape\n",
    "            )\n",
    "            self.preprocess_funcs['efficientnet'] = efficientnet_preprocess\n",
    "            self.layer_names['efficientnet'] = [\n",
    "                'block2a_expand_activation', 'block3a_expand_activation',\n",
    "                'block4a_expand_activation', 'block6a_expand_activation', 'top_activation'\n",
    "            ]\n",
    "            self._show_status(\"EfficientNetB3 loaded.\", 'success')\n",
    "\n",
    "            # MobileNetV2\n",
    "            self.models['mobilenet'] = MobileNetV2(\n",
    "                weights='imagenet',\n",
    "                include_top=False,\n",
    "                input_shape=self.input_shape\n",
    "            )\n",
    "            self.preprocess_funcs['mobilenet'] = mobilenet_preprocess\n",
    "            self.layer_names['mobilenet'] = [\n",
    "                'block_1_expand_relu', 'block_3_expand_relu',\n",
    "                'block_6_expand_relu', 'block_13_expand_relu', 'out_relu'\n",
    "            ]\n",
    "            self._show_status(\"MobileNetV2 loaded.\", 'success')\n",
    "\n",
    "            # DenseNet121\n",
    "            self.models['densenet'] = DenseNet121(\n",
    "                weights='imagenet',\n",
    "                include_top=False,\n",
    "                input_shape=self.input_shape\n",
    "            )\n",
    "            self.preprocess_funcs['densenet'] = densenet_preprocess\n",
    "            self.layer_names['densenet'] = [\n",
    "                'conv1/relu', 'pool2_conv', 'pool3_conv', 'pool4_conv', 'relu'\n",
    "            ]\n",
    "            self._show_status(\"DenseNet121 loaded for improved L1 class representation.\", 'success')\n",
    "\n",
    "    def _create_feature_models(self):\n",
    "        \"\"\"Create feature extraction models\"\"\"\n",
    "        feature_models = {}\n",
    "        for name, base_model in self.models.items():\n",
    "            try:\n",
    "                outputs = [base_model.get_layer(layer).output \n",
    "                         for layer in self.layer_names[name]]\n",
    "                feature_models[name] = Model(\n",
    "                    inputs=base_model.input, \n",
    "                    outputs=outputs,\n",
    "                    name=f\"{name}_feature_extractor\"\n",
    "                )\n",
    "                self._show_status(f\"Created feature extractor for {name} with {len(outputs)} layers.\", 'info')\n",
    "            except Exception as e:\n",
    "                self._show_status(f\"Error creating feature model for {name}: {e}\", 'warning')\n",
    "        return feature_models\n",
    "\n",
    "    def _process_layer_output(self, layer_outputs, model_name=None):\n",
    "        \"\"\"Process layer outputs into feature vectors\"\"\"\n",
    "        processed_features = []\n",
    "        layer_outputs = layer_outputs if isinstance(layer_outputs, list) else [layer_outputs]\n",
    "        \n",
    "        for layer_feat in layer_outputs:\n",
    "            if len(layer_feat.shape) == 4:\n",
    "                axis = (1, 2)\n",
    "                stats = [\n",
    "                    np.mean(layer_feat, axis=axis),\n",
    "                    np.max(layer_feat, axis=axis),\n",
    "                    np.std(layer_feat, axis=axis),\n",
    "                    np.ptp(layer_feat, axis=axis),\n",
    "                    np.median(layer_feat, axis=axis)\n",
    "                ]\n",
    "                if model_name == 'densenet':\n",
    "                    stats.extend([\n",
    "                        np.percentile(layer_feat, 25, axis=axis),\n",
    "                        np.percentile(layer_feat, 75, axis=axis)\n",
    "                    ])\n",
    "                processed_features.append(np.concatenate(stats, axis=1))\n",
    "            elif len(layer_feat.shape) == 2:\n",
    "                processed_features.append(layer_feat)\n",
    "                \n",
    "        return np.concatenate(processed_features, axis=1) if processed_features else np.array([[]])\n",
    "\n",
    "    def _load_and_preprocess_image(self, path, model_name):\n",
    "        \"\"\"Load and preprocess an image for specific model\"\"\"\n",
    "        try:\n",
    "            img = cv2.imread(str(path))\n",
    "            if img is None:\n",
    "                raise ValueError(\"Empty image file\")\n",
    "\n",
    "            # Handle different color formats\n",
    "            if len(img.shape) == 2:\n",
    "                img = cv2.cvtColor(img, cv2.COLOR_GRAY2BGR)\n",
    "            elif img.shape[2] == 4:\n",
    "                img = cv2.cvtColor(img, cv2.COLOR_RGBA2BGR)\n",
    "\n",
    "            # Enhanced preprocessing pipeline\n",
    "            img = cv2.cvtColor(img, cv2.COLOR_BGR2RGB)\n",
    "            lab = cv2.cvtColor(img, cv2.COLOR_RGB2LAB)\n",
    "            l, a, b = cv2.split(lab)\n",
    "            \n",
    "            # Adaptive CLAHE\n",
    "            clahe = cv2.createCLAHE(\n",
    "                clipLimit=3.0 if self._is_l1_class(path) else 2.0,\n",
    "                tileGridSize=(10, 10) if self._is_l1_class(path) else (8, 8)\n",
    "            )\n",
    "            l = clahe.apply(l)\n",
    "            img = cv2.cvtColor(cv2.merge((l, a, b)), cv2.COLOR_LAB2RGB)\n",
    "            \n",
    "            # Edge-preserving filter\n",
    "            img = cv2.bilateralFilter(img, d=5, sigmaColor=50, sigmaSpace=50)\n",
    "            \n",
    "            # Class-specific sharpening\n",
    "            if self._is_l1_class(path):\n",
    "                kernel = np.array([[-1,-1,-1], [-1,9,-1], [-1,-1,-1]])\n",
    "                img = cv2.filter2D(img, -1, kernel)\n",
    "            \n",
    "            img = cv2.resize(img, self.target_size, interpolation=cv2.INTER_LANCZOS4)\n",
    "\n",
    "            # Apply model-specific preprocessing\n",
    "            preprocess_func = self.preprocess_funcs.get(model_name)\n",
    "            return preprocess_func(np.expand_dims(img.astype(np.float32), axis=0)) if preprocess_func \\\n",
    "                else np.expand_dims(img.astype(np.float32) / 255.0, axis=0)\n",
    "\n",
    "        except Exception as e:\n",
    "            self._show_status(f\"Error processing {Path(path).name}: {str(e)}\", 'warning')\n",
    "            return None\n",
    "\n",
    "    def _is_l1_class(self, path):\n",
    "        \"\"\"Check if image belongs to L1 class\"\"\"\n",
    "        return str(path) in self.class_weights and self.class_weights[str(path)] == 'L1'\n",
    "\n",
    "    def process_and_save_features(self, image_paths, batch_size=32, fit_processors_on_first_batch=True):\n",
    "        \"\"\"Main feature processing pipeline\"\"\"\n",
    "        all_features = []\n",
    "        valid_paths = []\n",
    "        metadata_df = pd.read_csv(PATHS['metadata'])\n",
    "        image_paths = [Path(p) for p in image_paths]\n",
    "        \n",
    "        if 'label' in metadata_df.columns:\n",
    "            self._initialize_class_weights(metadata_df)\n",
    "\n",
    "        with tqdm(total=len(image_paths), desc=\"Feature Extraction\", disable=not self.verbose) as pbar:\n",
    "            fit_flag = fit_processors_on_first_batch\n",
    "            for i in range(0, len(image_paths), batch_size):\n",
    "                batch_paths = image_paths[i:i+batch_size]\n",
    "                features, paths = self.process_batch(batch_paths, fit_flag)\n",
    "                fit_flag = False\n",
    "                \n",
    "                if features.size > 0:\n",
    "                    all_features.append(features)\n",
    "                    valid_paths.extend([str(p) for p in paths])\n",
    "                pbar.update(len(batch_paths))\n",
    "\n",
    "        if valid_paths:\n",
    "            self._save_final_features(all_features, valid_paths, metadata_df)\n",
    "            return PATHS['features']\n",
    "        self._show_status(\"No features extracted successfully.\", 'error')\n",
    "        return None\n",
    "\n",
    "    def process_batch(self, image_paths, fit_processors=False):\n",
    "        \"\"\"Process a batch of images\"\"\"\n",
    "        batch_features = {name: [] for name in self.models}\n",
    "        valid_paths = []\n",
    "        processed_images = {name: [] for name in self.models}\n",
    "        majority_indices = []\n",
    "\n",
    "        for path in image_paths:\n",
    "            temp_images = {}\n",
    "            is_majority = self._is_l1_class(path)\n",
    "            \n",
    "            try:\n",
    "                for model_name in self.models:\n",
    "                    img = self._load_and_preprocess_image(path, model_name)\n",
    "                    if img is None: \n",
    "                        raise ValueError(\"Invalid image\")\n",
    "                    temp_images[model_name] = img[0]\n",
    "                \n",
    "                valid_paths.append(path)\n",
    "                if is_majority:\n",
    "                    majority_indices.append(len(valid_paths)-1)\n",
    "                for name, img in temp_images.items():\n",
    "                    processed_images[name].append(img)\n",
    "            except:\n",
    "                continue\n",
    "\n",
    "        # Feature extraction\n",
    "        for model_name, model in self.feature_models.items():\n",
    "            imgs = np.array(processed_images.get(model_name, []))\n",
    "            if imgs.size > 0:\n",
    "                features = model.predict(imgs, verbose=0)\n",
    "                batch_features[model_name] = self._process_layer_output(features, model_name)\n",
    "\n",
    "        # Feature processing\n",
    "        combined = self._combine_features(batch_features, majority_indices)\n",
    "        scaled = self._scale_features(combined, fit_processors)\n",
    "        final = self._apply_pca(scaled, fit_processors)\n",
    "        \n",
    "        return final, valid_paths\n",
    "\n",
    "    def _combine_features(self, batch_features, majority_indices):\n",
    "        \"\"\"Combine features from different models\"\"\"\n",
    "        model_features = []\n",
    "        for name, features in batch_features.items():\n",
    "            if features.size > 0:\n",
    "                if name == 'densenet' and majority_indices:\n",
    "                    weighted = features.copy()\n",
    "                    for idx in majority_indices:\n",
    "                        if idx < features.shape[0]:\n",
    "                            weighted[idx] *= 1.5\n",
    "                    model_features.append(weighted)\n",
    "                else:\n",
    "                    model_features.append(features)\n",
    "        return np.concatenate(model_features, axis=1) if model_features else np.array([])\n",
    "\n",
    "    def _scale_features(self, features, fit_flag):\n",
    "        \"\"\"Apply feature scaling\"\"\"\n",
    "        if fit_flag and features.shape[0] > 1:\n",
    "            self.scaler.fit(features)\n",
    "            self.is_scaler_fitted = True\n",
    "        return self.scaler.transform(features) if self.is_scaler_fitted else features\n",
    "\n",
    "    def _apply_pca(self, features, fit_flag):\n",
    "        \"\"\"Apply PCA transformation\"\"\"\n",
    "        if self.use_pca:\n",
    "            if fit_flag and features.shape[0] >= self.pca.n_components:\n",
    "                self.pca.fit(features)\n",
    "                self.is_pca_fitted = True\n",
    "            return self.pca.transform(features) if self.is_pca_fitted else features\n",
    "        return features\n",
    "\n",
    "    def _initialize_class_weights(self, metadata_df):\n",
    "        \"\"\"Initialize class weight mappings\"\"\"\n",
    "        class_counts = metadata_df['label'].value_counts()\n",
    "        self.class_weights = dict(zip(\n",
    "            metadata_df['processed_path'],\n",
    "            metadata_df['label']\n",
    "        ))\n",
    "        self._show_status(\n",
    "            f\"Detected majority class: {class_counts.idxmax()} with {class_counts.max()} samples\", \n",
    "            'info'\n",
    "        )\n",
    "\n",
    "    def _save_final_features(self, all_features, valid_paths, metadata_df):\n",
    "        \"\"\"Save final feature matrix\"\"\"\n",
    "        feature_matrix = np.vstack(all_features)\n",
    "        features_df = pd.DataFrame(\n",
    "            feature_matrix, \n",
    "            columns=[f\"feat_{i}\" for i in range(feature_matrix.shape[1])]\n",
    "        )\n",
    "        features_df['processed_path'] = valid_paths\n",
    "        \n",
    "        final_df = pd.merge(\n",
    "            metadata_df[metadata_df['processed_path'].isin(valid_paths)],\n",
    "            features_df, \n",
    "            on='processed_path', \n",
    "            how='inner'\n",
    "        )\n",
    "\n",
    "        if 'label' in final_df.columns:\n",
    "            final_df = pd.concat([\n",
    "                final_df,\n",
    "                pd.get_dummies(final_df['label'], prefix='class'),\n",
    "                pd.Series(\n",
    "                    (final_df['label'] == final_df['label'].mode()[0]).astype(int),\n",
    "                    name='is_majority_class'\n",
    "                )\n",
    "            ], axis=1)\n",
    "\n",
    "        try:\n",
    "            final_df.to_parquet(PATHS['features'], compression='snappy')\n",
    "            self._show_status(f\"Features saved to {PATHS['features']}\", 'success')\n",
    "        except Exception as e:\n",
    "            self._show_status(f\"Error saving features: {str(e)}\", 'error')\n",
    "\n",
    "    def save_processors(self, save_dir):\n",
    "        \"\"\"Save scaler and PCA objects to disk\"\"\"\n",
    "        save_path = Path(save_dir)\n",
    "        save_path.mkdir(parents=True, exist_ok=True)\n",
    "        \n",
    "        if self.is_scaler_fitted:\n",
    "            joblib.dump(self.scaler, save_path/'feature_scaler.joblib')\n",
    "        if self.use_pca and self.is_pca_fitted:\n",
    "            joblib.dump(self.pca, save_path/'feature_pca.joblib')\n",
    "        self._show_status(f\"Saved processors to {save_path}\", 'success')\n",
    "\n",
    "    def load_processors(self, load_dir):\n",
    "        \"\"\"Load scaler and PCA objects from disk\"\"\"\n",
    "        load_path = Path(load_dir)\n",
    "        \n",
    "        if (load_path/'feature_scaler.joblib').exists():\n",
    "            self.scaler = joblib.load(load_path/'feature_scaler.joblib')\n",
    "            self.is_scaler_fitted = True\n",
    "        if self.use_pca and (load_path/'feature_pca.joblib').exists():\n",
    "            self.pca = joblib.load(load_path/'feature_pca.joblib')\n",
    "            self.is_pca_fitted = True\n",
    "        self._show_status(f\"Loaded processors from {load_path}\", 'success')\n",
    "\n",
    "    def _show_status(self, message, status_type):\n",
    "        \"\"\"Status reporting with emoji indicators\"\"\"\n",
    "        status_symbols = {\n",
    "            'info': 'ℹ️',\n",
    "            'success': '✅',\n",
    "            'warning': '⚠️',\n",
    "            'error': '❌'\n",
    "        }\n",
    "        if self.verbose:\n",
    "            print(f\"{status_symbols.get(status_type, '')} {status_type.upper()}: {message}\")"
   ]
  },
  {
   "cell_type": "code",
   "execution_count": 6,
   "id": "cf7813a1",
   "metadata": {},
   "outputs": [
    {
     "name": "stdout",
     "output_type": "stream",
     "text": [
      "ℹ️ INFO: Initializing Feature Extractor (Ensemble: True, PCA: 200)\n",
      "✅ SUCCESS: ResNet50 loaded.\n",
      "✅ SUCCESS: EfficientNetB3 loaded.\n",
      "✅ SUCCESS: MobileNetV2 loaded.\n",
      "✅ SUCCESS: DenseNet121 loaded for improved L1 class representation.\n",
      "ℹ️ INFO: Created feature extractor for resnet with 5 layers.\n",
      "ℹ️ INFO: Created feature extractor for efficientnet with 5 layers.\n",
      "ℹ️ INFO: Created feature extractor for mobilenet with 5 layers.\n",
      "ℹ️ INFO: Created feature extractor for densenet with 5 layers.\n"
     ]
    }
   ],
   "source": [
    "feature_extractor = EnhancedFeatureExtractor(\n",
    "    use_ensemble=True,\n",
    "    pca_components=200,\n",
    "    target_size=(224, 224)\n",
    ")"
   ]
  },
  {
   "cell_type": "code",
   "execution_count": 7,
   "id": "9b1aa172",
   "metadata": {},
   "outputs": [],
   "source": [
    "metadata = pd.read_csv(PATHS['metadata'])\n",
    "valid_image_paths = metadata['processed_path'].dropna().tolist()\n"
   ]
  },
  {
   "cell_type": "code",
   "execution_count": 8,
   "id": "ff469ad4",
   "metadata": {},
   "outputs": [
    {
     "name": "stdout",
     "output_type": "stream",
     "text": [
      "ℹ️ INFO: Detected majority class: L1 with 1999 samples\n"
     ]
    },
    {
     "name": "stderr",
     "output_type": "stream",
     "text": [
      "Feature Extraction: 100%|██████████| 4226/4226 [1:23:15<00:00,  1.18s/it]\n"
     ]
    },
    {
     "name": "stdout",
     "output_type": "stream",
     "text": [
      "✅ SUCCESS: Features saved to tobacco_grading\\data\\processed\\full_features.parquet\n"
     ]
    },
    {
     "data": {
      "text/plain": [
       "WindowsPath('tobacco_grading/data/processed/full_features.parquet')"
      ]
     },
     "execution_count": 8,
     "metadata": {},
     "output_type": "execute_result"
    }
   ],
   "source": [
    "feature_extractor.process_and_save_features(\n",
    "    valid_image_paths,\n",
    "    batch_size=16,\n",
    "    fit_processors_on_first_batch=True)  # Crucial for PCA/scaler"
   ]
  },
  {
   "cell_type": "code",
   "execution_count": 9,
   "id": "4c843c51",
   "metadata": {},
   "outputs": [],
   "source": [
    "def train_custom_cnn(X_train, y_train, X_val, y_val, classes, input_shape=(224, 224, 3)):\n",
    "    num_classes = len(classes)\n",
    "    show_status(f\"Setting up custom CNN for {num_classes} classes.\", \"info\")\n",
    "\n",
    "    if len(X_train.shape) != 4 or X_train.shape[1:] != input_shape:\n",
    "        msg = f\"Input X_train shape {X_train.shape} is not suitable for CNN input {input_shape}.\"\n",
    "        show_status(msg, \"error\")\n",
    "        raise ValueError(msg)\n",
    "    if len(X_val.shape) != 4 or X_val.shape[1:] != input_shape:\n",
    "        msg = f\"Input X_val shape {X_val.shape} is not suitable for CNN input {input_shape}.\"\n",
    "        show_status(msg, \"error\")\n",
    "        raise ValueError(msg)\n",
    "\n",
    "    base_model = ResNet50(\n",
    "        include_top=False,\n",
    "        weights='imagenet',\n",
    "        input_shape=input_shape,\n",
    "        pooling='avg'\n",
    "    )\n",
    "\n",
    "    for layer in base_model.layers[:-30]:\n",
    "        layer.trainable = False\n",
    "\n",
    "    model = Sequential([\n",
    "        base_model,\n",
    "        Dense(512, use_bias=False),\n",
    "        BatchNormalization(),\n",
    "        Activation('relu'),\n",
    "        Dropout(0.4),\n",
    "        Dense(256, use_bias=False),\n",
    "        BatchNormalization(),\n",
    "        Activation('relu'),\n",
    "        Dropout(0.3),\n",
    "        Dense(num_classes, activation='softmax')\n",
    "    ], name=\"Custom_ResNet_FineTuned\")\n",
    "\n",
    "    optimizer = Adam(learning_rate=0.0001)\n",
    "    model.compile(\n",
    "        optimizer=optimizer,\n",
    "        loss='categorical_crossentropy',\n",
    "        metrics=['accuracy']\n",
    "    )\n",
    "    model.summary()\n",
    "\n",
    "    callbacks = [\n",
    "        EarlyStopping(monitor='val_loss', patience=10, verbose=1, restore_best_weights=True),\n",
    "        ReduceLROnPlateau(monitor='val_loss', factor=0.5, patience=5, min_lr=1e-6, verbose=1)\n",
    "    ]\n",
    "\n",
    "    class_map = {label: i for i, label in enumerate(classes)}\n",
    "    y_train_mapped = np.array([class_map[label] for label in y_train])\n",
    "    y_val_mapped = np.array([class_map[label] for label in y_val])\n",
    "\n",
    "    y_train_cat = to_categorical(y_train_mapped, num_classes=num_classes)\n",
    "    y_val_cat = to_categorical(y_val_mapped, num_classes=num_classes)\n",
    "\n",
    "    show_status(\"Starting CNN training...\", \"info\")\n",
    "    history = model.fit(\n",
    "        X_train, y_train_cat,\n",
    "        epochs=50,\n",
    "        batch_size=32,\n",
    "        validation_data=(X_val, y_val_cat),\n",
    "        callbacks=callbacks,\n",
    "        verbose=1\n",
    "    )\n",
    "    show_status(\"CNN training finished.\", \"success\")\n",
    "\n",
    "    return model, history\n",
    "\n",
    "def create_knn_classifier(X_train, y_train):\n",
    "    show_status(\"Creating and training KNN classifier...\", 'info')\n",
    "\n",
    "    knn = KNeighborsClassifier(\n",
    "        n_neighbors=7,\n",
    "        weights='distance',\n",
    "        metric='cosine',\n",
    "        n_jobs=-1\n",
    "    )\n",
    "\n",
    "    try:\n",
    "        knn.fit(X_train, y_train)\n",
    "        show_status(\"KNN training complete.\", 'success')\n",
    "        return knn\n",
    "    except Exception as e:\n",
    "        show_status(f\"Error during KNN training: {e}\", 'error')\n",
    "        raise\n",
    "\n",
    "def perform_feature_augmentation(X, y, strategy='smote', random_state=42):\n",
    "    show_status(f\"Applying data augmentation/balancing strategy: {strategy}\", 'info')\n",
    "    original_counts = pd.Series(y).value_counts()\n",
    "    show_status(f\"Original class distribution:\\n{original_counts.to_string()}\", 'info')\n",
    "\n",
    "    try:\n",
    "        if strategy == 'smote':\n",
    "            # Get majority class count\n",
    "            majority_count = original_counts.max()\n",
    "            \n",
    "            # Create sampling strategy to make ALL classes match majority count\n",
    "            sampling_strategy = {\n",
    "                cls: majority_count \n",
    "                for cls in original_counts.index\n",
    "            }\n",
    "\n",
    "            # Check neighbor safety\n",
    "            min_samples = original_counts.min()\n",
    "            safe_neighbors = min(5, min_samples - 1) if min_samples > 1 else 1\n",
    "            \n",
    "            smote = SMOTE(\n",
    "                random_state=random_state,\n",
    "                k_neighbors=safe_neighbors,\n",
    "                sampling_strategy=sampling_strategy  # Key change here\n",
    "            )\n",
    "            X_resampled, y_resampled = smote.fit_resample(X, y)\n",
    "\n",
    "            final_counts = pd.Series(y_resampled).value_counts()\n",
    "            show_status(f\"Resampled class distribution:\\n{final_counts.to_string()}\", 'success')\n",
    "            return X_resampled, y_resampled\n",
    "\n",
    "        else:\n",
    "            show_status(f\"Unknown augmentation strategy: {strategy}. Returning original data.\", 'warning')\n",
    "            return X, y\n",
    "\n",
    "    except Exception as e:\n",
    "        show_status(f\"Error during data augmentation ({strategy}): {e}\", 'error')\n",
    "        return X, y\n",
    "\n",
    "def create_hybrid_model(cnn_model_path, X_train_images, y_train, X_val_images, y_val, classes):\n",
    "    show_status(f\"Creating hybrid model using CNN from: {cnn_model_path}\", 'info')\n",
    "\n",
    "    try:\n",
    "        cnn_model = tf.keras.models.load_model(cnn_model_path)\n",
    "        show_status(\"Loaded pre-trained CNN model.\", 'success')\n",
    "    except Exception as e:\n",
    "        show_status(f\"Error loading CNN model: {e}\", 'error')\n",
    "        raise\n",
    "\n",
    "    feature_layer_index = -2\n",
    "    try:\n",
    "        feature_extractor = Model(\n",
    "            inputs=cnn_model.input,\n",
    "            outputs=cnn_model.layers[feature_layer_index].output,\n",
    "            name=\"CNN_Feature_Extractor\"\n",
    "        )\n",
    "        show_status(f\"Using layer '{cnn_model.layers[feature_layer_index].name}' for feature extraction.\", 'info')\n",
    "    except Exception as e:\n",
    "        show_status(f\"Could not automatically determine feature layer at index {feature_layer_index}. Error: {e}\", 'error')\n",
    "        raise ValueError(\"Failed to create feature extractor from CNN.\")\n",
    "\n",
    "    show_status(\"Extracting deep features using the CNN...\", 'info')\n",
    "    X_train_deep = feature_extractor.predict(X_train_images, batch_size=32, verbose=1)\n",
    "    X_val_deep = feature_extractor.predict(X_val_images, batch_size=32, verbose=1)\n",
    "\n",
    "    show_status(\"Scaling deep features...\", 'info')\n",
    "    scaler = StandardScaler()\n",
    "    X_train_deep_scaled = scaler.fit_transform(X_train_deep)\n",
    "    X_val_deep_scaled = scaler.transform(X_val_deep)\n",
    "\n",
    "    show_status(\"Training KNN classifier on deep features...\", 'info')\n",
    "    knn = KNeighborsClassifier(\n",
    "        n_neighbors=7,\n",
    "        weights='distance',\n",
    "        metric='cosine',\n",
    "        n_jobs=-1\n",
    "    )\n",
    "    knn.fit(X_train_deep_scaled, y_train)\n",
    "    show_status(\"KNN trained successfully on deep features.\", 'success')\n",
    "\n",
    "    val_accuracy = knn.score(X_val_deep_scaled, y_val)\n",
    "    show_status(f\"Hybrid KNN validation accuracy: {val_accuracy:.4f}\", 'info')\n",
    "\n",
    "    return {\n",
    "        'feature_extractor': feature_extractor,\n",
    "        'scaler': scaler,\n",
    "        'knn': knn\n",
    "    }\n",
    "\n",
    "def predict_with_hybrid_model(hybrid_components, X_images):\n",
    "    feature_extractor = hybrid_components['feature_extractor']\n",
    "    scaler = hybrid_components['scaler']\n",
    "    knn = hybrid_components['knn']\n",
    "\n",
    "    X_deep = feature_extractor.predict(X_images, batch_size=32, verbose=0)\n",
    "    X_deep_scaled = scaler.transform(X_deep)\n",
    "    predictions = knn.predict(X_deep_scaled)\n",
    "    probabilities = knn.predict_proba(X_deep_scaled)\n",
    "\n",
    "    return predictions, probabilities"
   ]
  },
  {
   "cell_type": "code",
   "execution_count": 15,
   "id": "89acd05f",
   "metadata": {},
   "outputs": [],
   "source": [
    "def enhanced_train_and_evaluate_knn_with_pca(n_components_pca=100):\n",
    "    clear_output(wait=True)\n",
    "    show_status(\"Starting KNN Training and Evaluation Process with PCA...\", 'info')\n",
    "    progress = FloatProgress(min=0, max=9, description='Initializing...', bar_style='info')\n",
    "    display(progress)\n",
    "\n",
    "    try:\n",
    "        progress.value += 1\n",
    "        progress.description = \"Loading Features...\"\n",
    "        feature_path = PATHS['features']\n",
    "\n",
    "        if not feature_path.exists():\n",
    "            raise FileNotFoundError(f\"Feature file not found at {feature_path}\")\n",
    "        df = pd.read_parquet(feature_path)\n",
    "\n",
    "        # Data validation\n",
    "        if df.empty or 'label' not in df.columns or df.isnull().sum().sum() > 0:\n",
    "            raise ValueError(\"Invalid feature file structure\")\n",
    "\n",
    "        X = df.filter(like='feat_').values\n",
    "        y = df['label'].values\n",
    "        classes, class_counts = np.unique(y, return_counts=True)\n",
    "        \n",
    "        # Class validation\n",
    "        min_samples = 20\n",
    "        if np.any(class_counts < min_samples):\n",
    "            raise ValueError(f\"Classes need at least {min_samples} samples\")\n",
    "\n",
    "        # Find the majority class (L1 based on data)\n",
    "        majority_class = classes[np.argmax(class_counts)]\n",
    "        show_status(f\"Majority class is {majority_class} with {np.max(class_counts)} samples\", 'info')\n",
    "        \n",
    "        # Extract indices for the majority class to process them separately\n",
    "        majority_indices = np.where(y == majority_class)[0]\n",
    "        majority_features = X[majority_indices]\n",
    "        \n",
    "        # Apply feature enhancement specifically for majority class\n",
    "        progress.value += 1\n",
    "        progress.description = \"Enhancing Majority Class Features...\"\n",
    "        \n",
    "        # Create clusters within the majority class to better represent its diversity\n",
    "        n_clusters = min(8, len(majority_indices) // 50)  # Avoid too many clusters\n",
    "        from sklearn.cluster import KMeans\n",
    "        \n",
    "        kmeans = KMeans(n_clusters=n_clusters, random_state=42, n_init=10)\n",
    "        cluster_labels = kmeans.fit_predict(majority_features)\n",
    "        \n",
    "        # Create a new feature column for cluster information\n",
    "        majority_cluster_features = np.zeros((len(majority_indices), 1), dtype=int)\n",
    "        for i in range(len(majority_indices)):\n",
    "            majority_cluster_features[i] = cluster_labels[i] * 10  # Scale for emphasis\n",
    "            \n",
    "        # Add this cluster information back to original data\n",
    "        X_enhanced = X.copy()\n",
    "        \n",
    "        # Add cluster information as a new feature only for majority class\n",
    "        progress.value += 1\n",
    "        progress.description = f\"Applying PCA ({n_components_pca})...\"\n",
    "        pca = PCA(n_components=n_components_pca, random_state=42)\n",
    "        X_pca = pca.fit_transform(X_enhanced)\n",
    "        \n",
    "        # Add cluster information after PCA for majority class\n",
    "        X_pca_enhanced = np.column_stack((X_pca, np.zeros(X_pca.shape[0])))\n",
    "        X_pca_enhanced[majority_indices, -1] = cluster_labels\n",
    "\n",
    "        progress.value += 1\n",
    "        progress.description = \"Balancing Data...\"\n",
    "        \n",
    "        # Equal resampling configuration\n",
    "        try:\n",
    "            # Set target count to match the majority class\n",
    "            target_count = np.max(class_counts)\n",
    "            \n",
    "            # Create equal sampling strategy for all classes\n",
    "            sampling_strategy = {cls: target_count for cls in classes}\n",
    "            \n",
    "            # Apply SMOTE with equal strategy\n",
    "            smote = SMOTE(\n",
    "                random_state=42,\n",
    "                k_neighbors=min(5, np.min(class_counts)-1),  # Auto-adjust k_neighbors\n",
    "                sampling_strategy=sampling_strategy\n",
    "            )\n",
    "            X_balanced, y_balanced = smote.fit_resample(X_pca_enhanced, y)\n",
    "            \n",
    "            final_counts = pd.Series(y_balanced).value_counts()\n",
    "            show_status(f\"Equal resampled distribution:\\n{final_counts.to_string()}\", 'success')\n",
    "        except Exception as e:\n",
    "            show_status(f\"SMOTE failed: {e}, using original data\", 'warning')\n",
    "            X_balanced, y_balanced = X_pca_enhanced.copy(), y.copy()\n",
    "\n",
    "        progress.value += 1\n",
    "        progress.description = \"Splitting Data...\"\n",
    "        test_size = 0.2 if len(y_balanced) > 1000 else 0.15\n",
    "        X_train, X_test, y_train, y_test = train_test_split(\n",
    "            X_balanced, y_balanced,\n",
    "            test_size=test_size,\n",
    "            stratify=y_balanced,\n",
    "            random_state=42\n",
    "        )\n",
    "\n",
    "        progress.value += 1\n",
    "        progress.description = \"Tuning Model...\"\n",
    "        \n",
    "        # Updated parameter grid\n",
    "        param_grid = {\n",
    "            'n_neighbors': [3, 5, 7, 9, 11] if len(y_train) < 500 else [3, 5, 7, 9, 11, 13, 15],\n",
    "            'weights': ['distance', 'uniform'],\n",
    "            'metric': ['euclidean', 'manhattan', 'cosine'],\n",
    "            'p': [1, 2]\n",
    "        }\n",
    "        \n",
    "        # Balanced scoring metric\n",
    "        from sklearn.metrics import make_scorer, f1_score\n",
    "        balanced_f1_scorer = make_scorer(f1_score, average='weighted')\n",
    "        \n",
    "        grid_search = GridSearchCV(\n",
    "            KNeighborsClassifier(),\n",
    "            param_grid,\n",
    "            cv=StratifiedKFold(n_splits=5, shuffle=True),\n",
    "            scoring=balanced_f1_scorer,\n",
    "            n_jobs=-1,\n",
    "            verbose=0\n",
    "        )\n",
    "        grid_search.fit(X_train, y_train)\n",
    "        best_knn = grid_search.best_estimator_\n",
    "\n",
    "        progress.value += 1\n",
    "        progress.description = \"Evaluating...\"\n",
    "        y_pred = best_knn.predict(X_test)\n",
    "        test_accuracy = accuracy_score(y_test, y_pred)\n",
    "        \n",
    "        # Calculate balanced metrics\n",
    "        from sklearn.metrics import balanced_accuracy_score\n",
    "        bal_accuracy = balanced_accuracy_score(y_test, y_pred)\n",
    "        show_status(f\"Balanced Accuracy: {bal_accuracy:.2%}\", 'info')\n",
    "\n",
    "        progress.value += 1\n",
    "        progress.description = \"Saving Model...\"\n",
    "        model_path = PATHS['model'] / 'best_knn_model_pca_balanced.pkl'\n",
    "        joblib.dump({\n",
    "            'model': best_knn,\n",
    "            'metadata': {\n",
    "                'pca_components': n_components_pca,\n",
    "                'test_accuracy': test_accuracy,\n",
    "                'balanced_accuracy': bal_accuracy,\n",
    "                'class_distribution': dict(zip(classes, class_counts)),\n",
    "                'resampling_target': target_count\n",
    "            }\n",
    "        }, model_path)\n",
    "\n",
    "        progress.value += 1\n",
    "        progress.description = \"Generating Report...\"\n",
    "        \n",
    "        # Enhanced evaluation report\n",
    "        def enhanced_evaluation_report(y_test, y_pred, classes, test_accuracy, grid_search):\n",
    "            from IPython.display import display, HTML\n",
    "            import seaborn as sns\n",
    "\n",
    "            report = classification_report(y_test, y_pred, target_names=classes, output_dict=True)\n",
    "            report_df = pd.DataFrame(report).transpose().reset_index()\n",
    "            report_df.columns = ['Class', 'Precision', 'Recall', 'F1-Score', 'Support']\n",
    "\n",
    "            styled_html = report_df.to_html(\n",
    "                index=False,\n",
    "                formatters={\n",
    "                    'Precision': '{:.2%}'.format,\n",
    "                    'Recall': '{:.2%}'.format,\n",
    "                    'F1-Score': '{:.2%}'.format\n",
    "                },\n",
    "                classes='table table-striped table-hover'\n",
    "            )\n",
    "\n",
    "            cm = confusion_matrix(y_test, y_pred, labels=classes)\n",
    "            plt.figure(figsize=(10, 8))\n",
    "            sns.heatmap(cm, annot=True, fmt='d', cmap='Blues', \n",
    "                        xticklabels=classes, yticklabels=classes)\n",
    "            plt.title('Confusion Matrix', pad=20)\n",
    "            plt.xlabel('Predicted Label')\n",
    "            plt.ylabel('True Label')\n",
    "\n",
    "            html = f\"\"\"\n",
    "            <div style=\"\n",
    "                border: 1px solid #e0e0e0;\n",
    "                border-radius: 8px;\n",
    "                padding: 20px;\n",
    "                margin: 20px 0;\n",
    "                background: white;\n",
    "            \">\n",
    "                <h2 style=\"color: #2c3e50; margin-top: 0\">Classification Report</h2>\n",
    "\n",
    "                <div style=\"display: grid; grid-template-columns: 1fr 1fr; gap: 30px\">\n",
    "                    <div>\n",
    "                        <h3 style=\"color: #3498db\">Key Metrics</h3>\n",
    "                        <ul style=\"list-style: none; padding-left: 0\">\n",
    "                            <li>🏆 Test Accuracy: <strong>{test_accuracy:.2%}</strong></li>\n",
    "                            <li>⚖️ Balanced Accuracy: <strong>{bal_accuracy:.2%}</strong></li>\n",
    "                            <li>📊 Best Parameters: {grid_search.best_params_}</li>\n",
    "                            <li>📈 Best Weighted F1: {grid_search.best_score_:.2%}</li>\n",
    "                        </ul>\n",
    "                    </div>\n",
    "\n",
    "                    <div>\n",
    "                        <h3 style=\"color: #3498db\">Data Distribution</h3>\n",
    "                        <div style=\"background: #f8f9fa; padding: 10px; border-radius: 4px\">\n",
    "                            📦 Resampling Target: {target_count} samples/class<br>\n",
    "                            🧪 Test Samples: {len(y_test)}<br>\n",
    "                            🏷️ Classes: {len(classes)}\n",
    "                        </div>\n",
    "                    </div>\n",
    "                </div>\n",
    "\n",
    "                <h3 style=\"color: #3498db; margin-top: 20px\">Detailed Metrics</h3>\n",
    "                {styled_html}\n",
    "\n",
    "                <h3 style=\"color: #3498db; margin-top: 20px\">Confusion Matrix</h3>\n",
    "            </div>\n",
    "            \"\"\"\n",
    "\n",
    "            display(HTML(html))\n",
    "            plt.show()\n",
    "            plt.close()\n",
    "        \n",
    "        enhanced_evaluation_report(y_test, y_pred, classes, test_accuracy, grid_search)\n",
    "\n",
    "        show_status(\n",
    "            f\"✅ Training complete!\\n\"\n",
    "            f\"🔍 PCA Components: {n_components_pca}\\n\"\n",
    "            f\"🏆 Test Accuracy: {test_accuracy:.2%}\\n\"\n",
    "            f\"⚖️ Balanced Accuracy: {bal_accuracy:.2%}\",\n",
    "            'success'\n",
    "        )\n",
    "\n",
    "        return best_knn, None, grid_search\n",
    "\n",
    "    except Exception as e:\n",
    "        show_status(f\"❌ Training failed: {str(e)}\", 'error')\n",
    "        import traceback\n",
    "        traceback.print_exc()\n",
    "        return None, None, None"
   ]
  },
  {
   "cell_type": "code",
   "execution_count": 16,
   "id": "dea39f99",
   "metadata": {
    "scrolled": false
   },
   "outputs": [
    {
     "data": {
      "text/html": [
       "\n",
       "    <div style=\"\n",
       "        border: 1px solid #004085;\n",
       "        background-color: rgba(0, 64, 133, 0.1);\n",
       "        color: #004085;\n",
       "        padding: 12px 18px;\n",
       "        margin: 10px 0;\n",
       "        border-radius: 5px;\n",
       "        font-family: sans-serif;\n",
       "        font-size: 14px;\n",
       "        animation: fadeIn 0.5s ease-out;\n",
       "        line-height: 1.6;\n",
       "    \">\n",
       "        <span style=\"font-weight: bold; margin-right: 8px;\">ℹ️ INFO:</span>\n",
       "        Starting KNN Training and Evaluation Process with PCA...\n",
       "    </div>\n",
       "    <style>\n",
       "        @keyframes fadeIn {\n",
       "            from { opacity: 0; transform: translateY(-10px); }\n",
       "            to { opacity: 1; transform: translateY(0); }\n",
       "        }\n",
       "    </style>\n",
       "    "
      ],
      "text/plain": [
       "<IPython.core.display.HTML object>"
      ]
     },
     "metadata": {},
     "output_type": "display_data"
    },
    {
     "data": {
      "application/vnd.jupyter.widget-view+json": {
       "model_id": "6c71759650354f9f80b277a3cc31b845",
       "version_major": 2,
       "version_minor": 0
      },
      "text/plain": [
       "FloatProgress(value=0.0, bar_style='info', description='Initializing...', max=9.0)"
      ]
     },
     "metadata": {},
     "output_type": "display_data"
    },
    {
     "data": {
      "text/html": [
       "\n",
       "    <div style=\"\n",
       "        border: 1px solid #004085;\n",
       "        background-color: rgba(0, 64, 133, 0.1);\n",
       "        color: #004085;\n",
       "        padding: 12px 18px;\n",
       "        margin: 10px 0;\n",
       "        border-radius: 5px;\n",
       "        font-family: sans-serif;\n",
       "        font-size: 14px;\n",
       "        animation: fadeIn 0.5s ease-out;\n",
       "        line-height: 1.6;\n",
       "    \">\n",
       "        <span style=\"font-weight: bold; margin-right: 8px;\">ℹ️ INFO:</span>\n",
       "        Majority class is L1 with 1999 samples\n",
       "    </div>\n",
       "    <style>\n",
       "        @keyframes fadeIn {\n",
       "            from { opacity: 0; transform: translateY(-10px); }\n",
       "            to { opacity: 1; transform: translateY(0); }\n",
       "        }\n",
       "    </style>\n",
       "    "
      ],
      "text/plain": [
       "<IPython.core.display.HTML object>"
      ]
     },
     "metadata": {},
     "output_type": "display_data"
    },
    {
     "data": {
      "text/html": [
       "\n",
       "    <div style=\"\n",
       "        border: 1px solid #155724;\n",
       "        background-color: rgba(40, 167, 69, 0.1);\n",
       "        color: #155724;\n",
       "        padding: 12px 18px;\n",
       "        margin: 10px 0;\n",
       "        border-radius: 5px;\n",
       "        font-family: sans-serif;\n",
       "        font-size: 14px;\n",
       "        animation: fadeIn 0.5s ease-out;\n",
       "        line-height: 1.6;\n",
       "    \">\n",
       "        <span style=\"font-weight: bold; margin-right: 8px;\">✅ SUCCESS:</span>\n",
       "        Equal resampled distribution:<br>L1     1999<br>LND    1999<br>L4     1999<br>LOV    1999<br>L3     1999<br>L5     1999<br>L2     1999<br>LG     1999<br>LK     1999<br>LLV    1999\n",
       "    </div>\n",
       "    <style>\n",
       "        @keyframes fadeIn {\n",
       "            from { opacity: 0; transform: translateY(-10px); }\n",
       "            to { opacity: 1; transform: translateY(0); }\n",
       "        }\n",
       "    </style>\n",
       "    "
      ],
      "text/plain": [
       "<IPython.core.display.HTML object>"
      ]
     },
     "metadata": {},
     "output_type": "display_data"
    },
    {
     "data": {
      "text/html": [
       "\n",
       "    <div style=\"\n",
       "        border: 1px solid #004085;\n",
       "        background-color: rgba(0, 64, 133, 0.1);\n",
       "        color: #004085;\n",
       "        padding: 12px 18px;\n",
       "        margin: 10px 0;\n",
       "        border-radius: 5px;\n",
       "        font-family: sans-serif;\n",
       "        font-size: 14px;\n",
       "        animation: fadeIn 0.5s ease-out;\n",
       "        line-height: 1.6;\n",
       "    \">\n",
       "        <span style=\"font-weight: bold; margin-right: 8px;\">ℹ️ INFO:</span>\n",
       "        Balanced Accuracy: 99.72%\n",
       "    </div>\n",
       "    <style>\n",
       "        @keyframes fadeIn {\n",
       "            from { opacity: 0; transform: translateY(-10px); }\n",
       "            to { opacity: 1; transform: translateY(0); }\n",
       "        }\n",
       "    </style>\n",
       "    "
      ],
      "text/plain": [
       "<IPython.core.display.HTML object>"
      ]
     },
     "metadata": {},
     "output_type": "display_data"
    },
    {
     "data": {
      "text/html": [
       "\n",
       "            <div style=\"\n",
       "                border: 1px solid #e0e0e0;\n",
       "                border-radius: 8px;\n",
       "                padding: 20px;\n",
       "                margin: 20px 0;\n",
       "                background: white;\n",
       "            \">\n",
       "                <h2 style=\"color: #2c3e50; margin-top: 0\">Classification Report</h2>\n",
       "\n",
       "                <div style=\"display: grid; grid-template-columns: 1fr 1fr; gap: 30px\">\n",
       "                    <div>\n",
       "                        <h3 style=\"color: #3498db\">Key Metrics</h3>\n",
       "                        <ul style=\"list-style: none; padding-left: 0\">\n",
       "                            <li>🏆 Test Accuracy: <strong>99.72%</strong></li>\n",
       "                            <li>⚖️ Balanced Accuracy: <strong>99.72%</strong></li>\n",
       "                            <li>📊 Best Parameters: {'metric': 'manhattan', 'n_neighbors': 3, 'p': 1, 'weights': 'distance'}</li>\n",
       "                            <li>📈 Best Weighted F1: 99.51%</li>\n",
       "                        </ul>\n",
       "                    </div>\n",
       "\n",
       "                    <div>\n",
       "                        <h3 style=\"color: #3498db\">Data Distribution</h3>\n",
       "                        <div style=\"background: #f8f9fa; padding: 10px; border-radius: 4px\">\n",
       "                            📦 Resampling Target: 1999 samples/class<br>\n",
       "                            🧪 Test Samples: 3998<br>\n",
       "                            🏷️ Classes: 10\n",
       "                        </div>\n",
       "                    </div>\n",
       "                </div>\n",
       "\n",
       "                <h3 style=\"color: #3498db; margin-top: 20px\">Detailed Metrics</h3>\n",
       "                <table border=\"1\" class=\"dataframe table table-striped table-hover\">\n",
       "  <thead>\n",
       "    <tr style=\"text-align: right;\">\n",
       "      <th>Class</th>\n",
       "      <th>Precision</th>\n",
       "      <th>Recall</th>\n",
       "      <th>F1-Score</th>\n",
       "      <th>Support</th>\n",
       "    </tr>\n",
       "  </thead>\n",
       "  <tbody>\n",
       "    <tr>\n",
       "      <td>L1</td>\n",
       "      <td>100.00%</td>\n",
       "      <td>100.00%</td>\n",
       "      <td>100.00%</td>\n",
       "      <td>400.000000</td>\n",
       "    </tr>\n",
       "    <tr>\n",
       "      <td>L2</td>\n",
       "      <td>99.74%</td>\n",
       "      <td>97.74%</td>\n",
       "      <td>98.73%</td>\n",
       "      <td>399.000000</td>\n",
       "    </tr>\n",
       "    <tr>\n",
       "      <td>L3</td>\n",
       "      <td>98.76%</td>\n",
       "      <td>99.75%</td>\n",
       "      <td>99.25%</td>\n",
       "      <td>400.000000</td>\n",
       "    </tr>\n",
       "    <tr>\n",
       "      <td>L4</td>\n",
       "      <td>99.75%</td>\n",
       "      <td>100.00%</td>\n",
       "      <td>99.88%</td>\n",
       "      <td>400.000000</td>\n",
       "    </tr>\n",
       "    <tr>\n",
       "      <td>L5</td>\n",
       "      <td>99.75%</td>\n",
       "      <td>100.00%</td>\n",
       "      <td>99.88%</td>\n",
       "      <td>400.000000</td>\n",
       "    </tr>\n",
       "    <tr>\n",
       "      <td>LG</td>\n",
       "      <td>100.00%</td>\n",
       "      <td>100.00%</td>\n",
       "      <td>100.00%</td>\n",
       "      <td>400.000000</td>\n",
       "    </tr>\n",
       "    <tr>\n",
       "      <td>LK</td>\n",
       "      <td>99.26%</td>\n",
       "      <td>100.00%</td>\n",
       "      <td>99.63%</td>\n",
       "      <td>400.000000</td>\n",
       "    </tr>\n",
       "    <tr>\n",
       "      <td>LLV</td>\n",
       "      <td>100.00%</td>\n",
       "      <td>99.75%</td>\n",
       "      <td>99.87%</td>\n",
       "      <td>400.000000</td>\n",
       "    </tr>\n",
       "    <tr>\n",
       "      <td>LND</td>\n",
       "      <td>100.00%</td>\n",
       "      <td>100.00%</td>\n",
       "      <td>100.00%</td>\n",
       "      <td>399.000000</td>\n",
       "    </tr>\n",
       "    <tr>\n",
       "      <td>LOV</td>\n",
       "      <td>100.00%</td>\n",
       "      <td>100.00%</td>\n",
       "      <td>100.00%</td>\n",
       "      <td>400.000000</td>\n",
       "    </tr>\n",
       "    <tr>\n",
       "      <td>accuracy</td>\n",
       "      <td>99.72%</td>\n",
       "      <td>99.72%</td>\n",
       "      <td>99.72%</td>\n",
       "      <td>0.997249</td>\n",
       "    </tr>\n",
       "    <tr>\n",
       "      <td>macro avg</td>\n",
       "      <td>99.73%</td>\n",
       "      <td>99.72%</td>\n",
       "      <td>99.72%</td>\n",
       "      <td>3998.000000</td>\n",
       "    </tr>\n",
       "    <tr>\n",
       "      <td>weighted avg</td>\n",
       "      <td>99.73%</td>\n",
       "      <td>99.72%</td>\n",
       "      <td>99.72%</td>\n",
       "      <td>3998.000000</td>\n",
       "    </tr>\n",
       "  </tbody>\n",
       "</table>\n",
       "\n",
       "                <h3 style=\"color: #3498db; margin-top: 20px\">Confusion Matrix</h3>\n",
       "            </div>\n",
       "            "
      ],
      "text/plain": [
       "<IPython.core.display.HTML object>"
      ]
     },
     "metadata": {},
     "output_type": "display_data"
    },
    {
     "data": {
      "image/png": "[encoded data removed]",
      "text/plain": [
       "<Figure size 720x576 with 2 Axes>"
      ]
     },
     "metadata": {
      "needs_background": "light"
     },
     "output_type": "display_data"
    },
    {
     "data": {
      "text/html": [
       "\n",
       "    <div style=\"\n",
       "        border: 1px solid #155724;\n",
       "        background-color: rgba(40, 167, 69, 0.1);\n",
       "        color: #155724;\n",
       "        padding: 12px 18px;\n",
       "        margin: 10px 0;\n",
       "        border-radius: 5px;\n",
       "        font-family: sans-serif;\n",
       "        font-size: 14px;\n",
       "        animation: fadeIn 0.5s ease-out;\n",
       "        line-height: 1.6;\n",
       "    \">\n",
       "        <span style=\"font-weight: bold; margin-right: 8px;\">✅ SUCCESS:</span>\n",
       "        ✅ Training complete!<br>🔍 PCA Components: 200<br>🏆 Test Accuracy: 99.72%<br>⚖️ Balanced Accuracy: 99.72%\n",
       "    </div>\n",
       "    <style>\n",
       "        @keyframes fadeIn {\n",
       "            from { opacity: 0; transform: translateY(-10px); }\n",
       "            to { opacity: 1; transform: translateY(0); }\n",
       "        }\n",
       "    </style>\n",
       "    "
      ],
      "text/plain": [
       "<IPython.core.display.HTML object>"
      ]
     },
     "metadata": {},
     "output_type": "display_data"
    },
    {
     "data": {
      "text/html": [
       "\n",
       "    <div style=\"\n",
       "        border: 1px solid #155724;\n",
       "        background-color: rgba(40, 167, 69, 0.1);\n",
       "        color: #155724;\n",
       "        padding: 12px 18px;\n",
       "        margin: 10px 0;\n",
       "        border-radius: 5px;\n",
       "        font-family: sans-serif;\n",
       "        font-size: 14px;\n",
       "        animation: fadeIn 0.5s ease-out;\n",
       "        line-height: 1.6;\n",
       "    \">\n",
       "        <span style=\"font-weight: bold; margin-right: 8px;\">✅ SUCCESS:</span>\n",
       "        Model successfully saved!\n",
       "    </div>\n",
       "    <style>\n",
       "        @keyframes fadeIn {\n",
       "            from { opacity: 0; transform: translateY(-10px); }\n",
       "            to { opacity: 1; transform: translateY(0); }\n",
       "        }\n",
       "    </style>\n",
       "    "
      ],
      "text/plain": [
       "<IPython.core.display.HTML object>"
      ]
     },
     "metadata": {},
     "output_type": "display_data"
    }
   ],
   "source": [
    "# 1. Run training and capture results\n",
    "best_knn, _, grid_search = enhanced_train_and_evaluate_knn_with_pca(n_components_pca=200)\n",
    "\n",
    "# 2. Now save the model (this should come AFTER the training call)\n",
    "if best_knn is not None:\n",
    "    # Initialize feature extractor if needed\n",
    "    if 'feature_extractor' not in globals():\n",
    "        feature_extractor = EnhancedFeatureExtractor(verbose=False)\n",
    "    \n",
    "    # Verify components exist\n",
    "    if not hasattr(feature_extractor, 'pca') or not hasattr(feature_extractor, 'scaler'):\n",
    "        show_status(\"Missing preprocessing components - run feature extraction first\", 'error')\n",
    "    else:\n",
    "        joblib.dump({\n",
    "            'model': best_knn,\n",
    "            'pca': feature_extractor.pca,\n",
    "            'scaler': feature_extractor.scaler,\n",
    "            'classes': best_knn.classes_\n",
    "        }, 'tobacco_model_v1.joblib')\n",
    "        show_status(\"Model successfully saved!\", 'success')\n",
    "else:\n",
    "    show_status(\"Cannot save model - training failed\", 'error')"
   ]
  },
  {
   "cell_type": "code",
   "execution_count": null,
   "id": "2373fdd7",
   "metadata": {},
   "outputs": [],
   "source": []
  }
 ],
 "metadata": {
  "kernelspec": {
   "display_name": "Python 3",
   "language": "python",
   "name": "python3"
  },
  "language_info": {
   "codemirror_mode": {
    "name": "ipython",
    "version": 3
   },
   "file_extension": ".py",
   "mimetype": "text/x-python",
   "name": "python",
   "nbconvert_exporter": "python",
   "pygments_lexer": "ipython3",
   "version": "3.6.13"
  }
 },
 "nbformat": 4,
 "nbformat_minor": 5
}
